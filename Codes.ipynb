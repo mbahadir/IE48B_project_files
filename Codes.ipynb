{
 "cells": [
  {
   "cell_type": "markdown",
   "id": "91384ee2",
   "metadata": {},
   "source": [
    "# Codes\n",
    "\n",
    "Repository of Project: https://github.com/mbahadir/IE48B_project_files\n",
    "\n",
    "Breakdown Data Notebook: https://github.com/mbahadir/IE48B_project_files/blob/main/Breakdown_Data.ipynb <br>\n",
    "Breakdown Data R File: https://github.com/mbahadir/IE48B_project_files/blob/main/Breakdown_Data.r\n",
    "\n",
    "Data Control in Python Notebook: https://github.com/mbahadir/IE48B_project_files/blob/main/Data%20Control%20in%20Python.ipynb <br>\n",
    "Data Control in Python File: https://github.com/mbahadir/IE48B_project_files/blob/main/Data%20Control%20in%20Python.py\n",
    "\n",
    "Data Control in R Notebook: https://github.com/mbahadir/IE48B_project_files/blob/main/Data%20Control%20in%20R.ipynb <br>\n",
    "Data Control in R File: https://github.com/mbahadir/IE48B_project_files/blob/main/Data%20Control%20in%20R.r\n",
    "\n",
    "KNN Files Notebook: https://github.com/mbahadir/IE48B_project_files/blob/main/KNN%20Files.ipynb <br>\n",
    "KNN Files R File: https://github.com/mbahadir/IE48B_project_files/blob/main/KNN%20Files.r\n",
    "\n",
    "Sax Representation with KNN Notebook: https://github.com/mbahadir/IE48B_project_files/blob/main/Sax%20Representation%20with%20KNN.ipynb <br>\n",
    "Sax Representation with KNN R File: https://github.com/mbahadir/IE48B_project_files/blob/main/Sax%20Representation%20with%20KNN.r\n",
    "\n",
    "Linear Regression Final Notebook: https://github.com/mbahadir/IE48B_project_files/blob/main/Linear%20Regression%20Final.ipynb <br>\n",
    "Linear Regression Final R File: https://github.com/mbahadir/IE48B_project_files/blob/main/Linear%20Regression%20Final.r\n",
    "\n",
    "Decision Tree - Final Notebook: https://github.com/mbahadir/IE48B_project_files/blob/main/Decision%20Tree%20-%20Final.ipynb <br>\n",
    "Decision Tree - Final R File: https://github.com/mbahadir/IE48B_project_files/blob/main/Decision%20Tree%20-%20Final.r\n",
    "\n",
    "Weather Data Set Notebook: https://github.com/mbahadir/IE48B_project_files/blob/main/Weather%20Data%20Set.ipynb <br>\n",
    "Weather Data Set R File: https://github.com/mbahadir/IE48B_project_files/blob/main/Weather%20Data%20Set.r"
   ]
  },
  {
   "cell_type": "code",
   "execution_count": null,
   "id": "5ccd58d3",
   "metadata": {},
   "outputs": [],
   "source": []
  }
 ],
 "metadata": {
  "kernelspec": {
   "display_name": "R",
   "language": "R",
   "name": "ir"
  },
  "language_info": {
   "codemirror_mode": "r",
   "file_extension": ".r",
   "mimetype": "text/x-r-source",
   "name": "R",
   "pygments_lexer": "r",
   "version": "3.6.1"
  }
 },
 "nbformat": 4,
 "nbformat_minor": 5
}
