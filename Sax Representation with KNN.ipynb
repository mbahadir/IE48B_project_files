{
 "cells": [
  {
   "cell_type": "code",
   "execution_count": 2,
   "id": "8ca950f5",
   "metadata": {},
   "outputs": [],
   "source": [
    "require(caret)\n",
    "require(ggplot2)\n",
    "require(data.table)\n",
    "require(caTools)\n",
    "library(parallel)\n",
    "library(doParallel)\n",
    "library(randomForest)\n",
    "library(lubridate)"
   ]
  },
  {
   "cell_type": "markdown",
   "id": "d87e9fb5",
   "metadata": {},
   "source": [
    "## Data Manipulation"
   ]
  },
  {
   "cell_type": "code",
   "execution_count": 2,
   "id": "2b251de9",
   "metadata": {},
   "outputs": [],
   "source": [
    "options(repr.matrix.max.cols=50, repr.matrix.max.rows=100)"
   ]
  },
  {
   "cell_type": "code",
   "execution_count": 3,
   "id": "f328de04",
   "metadata": {},
   "outputs": [
    {
     "data": {
      "text/html": [
       "<table>\n",
       "<thead><tr><th scope=col>date</th><th scope=col>hour</th><th scope=col>net</th><th scope=col>upRegulationZeroCoded</th><th scope=col>upRegulationOneCoded</th><th scope=col>upRegulationTwoCoded</th><th scope=col>downRegulationZeroCoded</th><th scope=col>downRegulationOneCoded</th><th scope=col>downRegulationTwoCoded</th><th scope=col>upRegulationDelivered</th><th scope=col>downRegulationDelivered</th><th scope=col>system_direction</th><th scope=col>ID</th></tr></thead>\n",
       "<tbody>\n",
       "\t<tr><td>2019-01-01</td><td>0         </td><td>-1934.795 </td><td>0         </td><td>0         </td><td>0         </td><td>2288.567  </td><td> 0        </td><td>0         </td><td>0         </td><td>-1934.795 </td><td>Negative  </td><td>1         </td></tr>\n",
       "\t<tr><td>2019-01-01</td><td>1         </td><td> -750.866 </td><td>0         </td><td>0         </td><td>0         </td><td> 808.083  </td><td> 0        </td><td>0         </td><td>0         </td><td> -750.866 </td><td>Negative  </td><td>2         </td></tr>\n",
       "\t<tr><td>2019-01-01</td><td>2         </td><td> -982.767 </td><td>0         </td><td>0         </td><td>0         </td><td>1060.750  </td><td> 0        </td><td>0         </td><td>0         </td><td> -982.767 </td><td>Negative  </td><td>3         </td></tr>\n",
       "\t<tr><td>2019-01-01</td><td>3         </td><td> -764.620 </td><td>0         </td><td>0         </td><td>0         </td><td>1120.483  </td><td> 0        </td><td>0         </td><td>0         </td><td> -764.620 </td><td>Negative  </td><td>4         </td></tr>\n",
       "\t<tr><td>2019-01-01</td><td>4         </td><td>-1233.289 </td><td>0         </td><td>0         </td><td>0         </td><td>1874.633  </td><td>56        </td><td>0         </td><td>0         </td><td>-1233.289 </td><td>Negative  </td><td>5         </td></tr>\n",
       "\t<tr><td>2019-01-01</td><td>5         </td><td>-1469.061 </td><td>0         </td><td>0         </td><td>0         </td><td>2125.000  </td><td>56        </td><td>0         </td><td>0         </td><td>-1469.061 </td><td>Negative  </td><td>6         </td></tr>\n",
       "</tbody>\n",
       "</table>\n"
      ],
      "text/latex": [
       "\\begin{tabular}{r|lllllllllllll}\n",
       " date & hour & net & upRegulationZeroCoded & upRegulationOneCoded & upRegulationTwoCoded & downRegulationZeroCoded & downRegulationOneCoded & downRegulationTwoCoded & upRegulationDelivered & downRegulationDelivered & system\\_direction & ID\\\\\n",
       "\\hline\n",
       "\t 2019-01-01 & 0          & -1934.795  & 0          & 0          & 0          & 2288.567   &  0         & 0          & 0          & -1934.795  & Negative   & 1         \\\\\n",
       "\t 2019-01-01 & 1          &  -750.866  & 0          & 0          & 0          &  808.083   &  0         & 0          & 0          &  -750.866  & Negative   & 2         \\\\\n",
       "\t 2019-01-01 & 2          &  -982.767  & 0          & 0          & 0          & 1060.750   &  0         & 0          & 0          &  -982.767  & Negative   & 3         \\\\\n",
       "\t 2019-01-01 & 3          &  -764.620  & 0          & 0          & 0          & 1120.483   &  0         & 0          & 0          &  -764.620  & Negative   & 4         \\\\\n",
       "\t 2019-01-01 & 4          & -1233.289  & 0          & 0          & 0          & 1874.633   & 56         & 0          & 0          & -1233.289  & Negative   & 5         \\\\\n",
       "\t 2019-01-01 & 5          & -1469.061  & 0          & 0          & 0          & 2125.000   & 56         & 0          & 0          & -1469.061  & Negative   & 6         \\\\\n",
       "\\end{tabular}\n"
      ],
      "text/markdown": [
       "\n",
       "| date | hour | net | upRegulationZeroCoded | upRegulationOneCoded | upRegulationTwoCoded | downRegulationZeroCoded | downRegulationOneCoded | downRegulationTwoCoded | upRegulationDelivered | downRegulationDelivered | system_direction | ID |\n",
       "|---|---|---|---|---|---|---|---|---|---|---|---|---|\n",
       "| 2019-01-01 | 0          | -1934.795  | 0          | 0          | 0          | 2288.567   |  0         | 0          | 0          | -1934.795  | Negative   | 1          |\n",
       "| 2019-01-01 | 1          |  -750.866  | 0          | 0          | 0          |  808.083   |  0         | 0          | 0          |  -750.866  | Negative   | 2          |\n",
       "| 2019-01-01 | 2          |  -982.767  | 0          | 0          | 0          | 1060.750   |  0         | 0          | 0          |  -982.767  | Negative   | 3          |\n",
       "| 2019-01-01 | 3          |  -764.620  | 0          | 0          | 0          | 1120.483   |  0         | 0          | 0          |  -764.620  | Negative   | 4          |\n",
       "| 2019-01-01 | 4          | -1233.289  | 0          | 0          | 0          | 1874.633   | 56         | 0          | 0          | -1233.289  | Negative   | 5          |\n",
       "| 2019-01-01 | 5          | -1469.061  | 0          | 0          | 0          | 2125.000   | 56         | 0          | 0          | -1469.061  | Negative   | 6          |\n",
       "\n"
      ],
      "text/plain": [
       "  date       hour net       upRegulationZeroCoded upRegulationOneCoded\n",
       "1 2019-01-01 0    -1934.795 0                     0                   \n",
       "2 2019-01-01 1     -750.866 0                     0                   \n",
       "3 2019-01-01 2     -982.767 0                     0                   \n",
       "4 2019-01-01 3     -764.620 0                     0                   \n",
       "5 2019-01-01 4    -1233.289 0                     0                   \n",
       "6 2019-01-01 5    -1469.061 0                     0                   \n",
       "  upRegulationTwoCoded downRegulationZeroCoded downRegulationOneCoded\n",
       "1 0                    2288.567                 0                    \n",
       "2 0                     808.083                 0                    \n",
       "3 0                    1060.750                 0                    \n",
       "4 0                    1120.483                 0                    \n",
       "5 0                    1874.633                56                    \n",
       "6 0                    2125.000                56                    \n",
       "  downRegulationTwoCoded upRegulationDelivered downRegulationDelivered\n",
       "1 0                      0                     -1934.795              \n",
       "2 0                      0                      -750.866              \n",
       "3 0                      0                      -982.767              \n",
       "4 0                      0                      -764.620              \n",
       "5 0                      0                     -1233.289              \n",
       "6 0                      0                     -1469.061              \n",
       "  system_direction ID\n",
       "1 Negative         1 \n",
       "2 Negative         2 \n",
       "3 Negative         3 \n",
       "4 Negative         4 \n",
       "5 Negative         5 \n",
       "6 Negative         6 "
      ]
     },
     "metadata": {},
     "output_type": "display_data"
    }
   ],
   "source": [
    "path=\"C:/Users/bahad/R Notebooks/\"\n",
    "bulk_imbalance = fread(sprintf(\"%sbulk_imbalance.csv\", path))\n",
    "data = bulk_imbalance\n",
    "data = data[order(date,hour)]\n",
    "data[,ID := 1:.N]\n",
    "head(data)"
   ]
  },
  {
   "cell_type": "code",
   "execution_count": 4,
   "id": "ee094f39",
   "metadata": {},
   "outputs": [
    {
     "data": {
      "text/html": [
       "<table>\n",
       "<thead><tr><th scope=col>date</th><th scope=col>hour</th><th scope=col>DSWRF_surface_36.5_32.5</th><th scope=col>DSWRF_surface_37_35.5</th><th scope=col>DSWRF_surface_38_32.5</th><th scope=col>DSWRF_surface_38.5_27</th><th scope=col>DSWRF_surface_39.75_30.5</th><th scope=col>DSWRF_surface_40_33</th><th scope=col>DSWRF_surface_41_28.75</th><th scope=col>RH_2.m.above.ground_36.5_32.5</th><th scope=col>RH_2.m.above.ground_37_35.5</th><th scope=col>RH_2.m.above.ground_38_32.5</th><th scope=col>RH_2.m.above.ground_38.5_27</th><th scope=col>RH_2.m.above.ground_39.75_30.5</th><th scope=col>RH_2.m.above.ground_40_33</th><th scope=col>RH_2.m.above.ground_41_28.75</th><th scope=col>TCDC_low.cloud.layer_36.5_32.5</th><th scope=col>TCDC_low.cloud.layer_37_35.5</th><th scope=col>TCDC_low.cloud.layer_38_32.5</th><th scope=col>TCDC_low.cloud.layer_38.5_27</th><th scope=col>TCDC_low.cloud.layer_39.75_30.5</th><th scope=col>TCDC_low.cloud.layer_40_33</th><th scope=col>TCDC_low.cloud.layer_41_28.75</th><th scope=col>TMP_2.m.above.ground_36.5_32.5</th><th scope=col>TMP_2.m.above.ground_37_35.5</th><th scope=col>TMP_2.m.above.ground_38_32.5</th><th scope=col>TMP_2.m.above.ground_38.5_27</th><th scope=col>TMP_2.m.above.ground_39.75_30.5</th><th scope=col>TMP_2.m.above.ground_40_33</th><th scope=col>TMP_2.m.above.ground_41_28.75</th><th scope=col>wdir_10m_36.5_32.5</th><th scope=col>wdir_10m_37_35.5</th><th scope=col>wdir_10m_38_32.5</th><th scope=col>wdir_10m_38.5_27</th><th scope=col>wdir_10m_39.75_30.5</th><th scope=col>wdir_10m_40_33</th><th scope=col>wdir_10m_41_28.75</th><th scope=col>ws_10m_36.5_32.5</th><th scope=col>ws_10m_37_35.5</th><th scope=col>ws_10m_38_32.5</th><th scope=col>ws_10m_38.5_27</th><th scope=col>ws_10m_39.75_30.5</th><th scope=col>ws_10m_40_33</th><th scope=col>ws_10m_41_28.75</th></tr></thead>\n",
       "<tbody>\n",
       "\t<tr><td>2022-01-27</td><td>18        </td><td>NA        </td><td>NA        </td><td>NA        </td><td>NA        </td><td>NA        </td><td>NA        </td><td>NA        </td><td>NA        </td><td>NA        </td><td>NA        </td><td>NA        </td><td>NA        </td><td>NA        </td><td>NA        </td><td>NA        </td><td>NA        </td><td>NA        </td><td>NA        </td><td>NA        </td><td>NA        </td><td>NA        </td><td>NA        </td><td>NA        </td><td>NA        </td><td>NA        </td><td>NA        </td><td>NA        </td><td>NA        </td><td>NA        </td><td>NA        </td><td>NA        </td><td>NA        </td><td>NA        </td><td>NA        </td><td>NA        </td><td>NA        </td><td>NA        </td><td>NA        </td><td>NA        </td><td>NA        </td><td>NA        </td><td>NA        </td></tr>\n",
       "\t<tr><td>2022-01-27</td><td>19        </td><td>NA        </td><td>NA        </td><td>NA        </td><td>NA        </td><td>NA        </td><td>NA        </td><td>NA        </td><td>NA        </td><td>NA        </td><td>NA        </td><td>NA        </td><td>NA        </td><td>NA        </td><td>NA        </td><td>NA        </td><td>NA        </td><td>NA        </td><td>NA        </td><td>NA        </td><td>NA        </td><td>NA        </td><td>NA        </td><td>NA        </td><td>NA        </td><td>NA        </td><td>NA        </td><td>NA        </td><td>NA        </td><td>NA        </td><td>NA        </td><td>NA        </td><td>NA        </td><td>NA        </td><td>NA        </td><td>NA        </td><td>NA        </td><td>NA        </td><td>NA        </td><td>NA        </td><td>NA        </td><td>NA        </td><td>NA        </td></tr>\n",
       "\t<tr><td>2022-01-27</td><td>20        </td><td>NA        </td><td>NA        </td><td>NA        </td><td>NA        </td><td>NA        </td><td>NA        </td><td>NA        </td><td>NA        </td><td>NA        </td><td>NA        </td><td>NA        </td><td>NA        </td><td>NA        </td><td>NA        </td><td>NA        </td><td>NA        </td><td>NA        </td><td>NA        </td><td>NA        </td><td>NA        </td><td>NA        </td><td>NA        </td><td>NA        </td><td>NA        </td><td>NA        </td><td>NA        </td><td>NA        </td><td>NA        </td><td>NA        </td><td>NA        </td><td>NA        </td><td>NA        </td><td>NA        </td><td>NA        </td><td>NA        </td><td>NA        </td><td>NA        </td><td>NA        </td><td>NA        </td><td>NA        </td><td>NA        </td><td>NA        </td></tr>\n",
       "\t<tr><td>2022-01-27</td><td>21        </td><td>NA        </td><td>NA        </td><td>NA        </td><td>NA        </td><td>NA        </td><td>NA        </td><td>NA        </td><td>NA        </td><td>NA        </td><td>NA        </td><td>NA        </td><td>NA        </td><td>NA        </td><td>NA        </td><td>NA        </td><td>NA        </td><td>NA        </td><td>NA        </td><td>NA        </td><td>NA        </td><td>NA        </td><td>NA        </td><td>NA        </td><td>NA        </td><td>NA        </td><td>NA        </td><td>NA        </td><td>NA        </td><td>NA        </td><td>NA        </td><td>NA        </td><td>NA        </td><td>NA        </td><td>NA        </td><td>NA        </td><td>NA        </td><td>NA        </td><td>NA        </td><td>NA        </td><td>NA        </td><td>NA        </td><td>NA        </td></tr>\n",
       "\t<tr><td>2022-01-27</td><td>22        </td><td>NA        </td><td>NA        </td><td>NA        </td><td>NA        </td><td>NA        </td><td>NA        </td><td>NA        </td><td>NA        </td><td>NA        </td><td>NA        </td><td>NA        </td><td>NA        </td><td>NA        </td><td>NA        </td><td>NA        </td><td>NA        </td><td>NA        </td><td>NA        </td><td>NA        </td><td>NA        </td><td>NA        </td><td>NA        </td><td>NA        </td><td>NA        </td><td>NA        </td><td>NA        </td><td>NA        </td><td>NA        </td><td>NA        </td><td>NA        </td><td>NA        </td><td>NA        </td><td>NA        </td><td>NA        </td><td>NA        </td><td>NA        </td><td>NA        </td><td>NA        </td><td>NA        </td><td>NA        </td><td>NA        </td><td>NA        </td></tr>\n",
       "\t<tr><td>2022-01-27</td><td>23        </td><td>NA        </td><td>NA        </td><td>NA        </td><td>NA        </td><td>NA        </td><td>NA        </td><td>NA        </td><td>NA        </td><td>NA        </td><td>NA        </td><td>NA        </td><td>NA        </td><td>NA        </td><td>NA        </td><td>NA        </td><td>NA        </td><td>NA        </td><td>NA        </td><td>NA        </td><td>NA        </td><td>NA        </td><td>NA        </td><td>NA        </td><td>NA        </td><td>NA        </td><td>NA        </td><td>NA        </td><td>NA        </td><td>NA        </td><td>NA        </td><td>NA        </td><td>NA        </td><td>NA        </td><td>NA        </td><td>NA        </td><td>NA        </td><td>NA        </td><td>NA        </td><td>NA        </td><td>NA        </td><td>NA        </td><td>NA        </td></tr>\n",
       "</tbody>\n",
       "</table>\n"
      ],
      "text/latex": [
       "\\begin{tabular}{r|llllllllllllllllllllllllllllllllllllllllllll}\n",
       " date & hour & DSWRF\\_surface\\_36.5\\_32.5 & DSWRF\\_surface\\_37\\_35.5 & DSWRF\\_surface\\_38\\_32.5 & DSWRF\\_surface\\_38.5\\_27 & DSWRF\\_surface\\_39.75\\_30.5 & DSWRF\\_surface\\_40\\_33 & DSWRF\\_surface\\_41\\_28.75 & RH\\_2.m.above.ground\\_36.5\\_32.5 & RH\\_2.m.above.ground\\_37\\_35.5 & RH\\_2.m.above.ground\\_38\\_32.5 & RH\\_2.m.above.ground\\_38.5\\_27 & RH\\_2.m.above.ground\\_39.75\\_30.5 & RH\\_2.m.above.ground\\_40\\_33 & RH\\_2.m.above.ground\\_41\\_28.75 & TCDC\\_low.cloud.layer\\_36.5\\_32.5 & TCDC\\_low.cloud.layer\\_37\\_35.5 & TCDC\\_low.cloud.layer\\_38\\_32.5 & TCDC\\_low.cloud.layer\\_38.5\\_27 & TCDC\\_low.cloud.layer\\_39.75\\_30.5 & TCDC\\_low.cloud.layer\\_40\\_33 & TCDC\\_low.cloud.layer\\_41\\_28.75 & TMP\\_2.m.above.ground\\_36.5\\_32.5 & TMP\\_2.m.above.ground\\_37\\_35.5 & TMP\\_2.m.above.ground\\_38\\_32.5 & TMP\\_2.m.above.ground\\_38.5\\_27 & TMP\\_2.m.above.ground\\_39.75\\_30.5 & TMP\\_2.m.above.ground\\_40\\_33 & TMP\\_2.m.above.ground\\_41\\_28.75 & wdir\\_10m\\_36.5\\_32.5 & wdir\\_10m\\_37\\_35.5 & wdir\\_10m\\_38\\_32.5 & wdir\\_10m\\_38.5\\_27 & wdir\\_10m\\_39.75\\_30.5 & wdir\\_10m\\_40\\_33 & wdir\\_10m\\_41\\_28.75 & ws\\_10m\\_36.5\\_32.5 & ws\\_10m\\_37\\_35.5 & ws\\_10m\\_38\\_32.5 & ws\\_10m\\_38.5\\_27 & ws\\_10m\\_39.75\\_30.5 & ws\\_10m\\_40\\_33 & ws\\_10m\\_41\\_28.75\\\\\n",
       "\\hline\n",
       "\t 2022-01-27 & 18         & NA         & NA         & NA         & NA         & NA         & NA         & NA         & NA         & NA         & NA         & NA         & NA         & NA         & NA         & NA         & NA         & NA         & NA         & NA         & NA         & NA         & NA         & NA         & NA         & NA         & NA         & NA         & NA         & NA         & NA         & NA         & NA         & NA         & NA         & NA         & NA         & NA         & NA         & NA         & NA         & NA         & NA        \\\\\n",
       "\t 2022-01-27 & 19         & NA         & NA         & NA         & NA         & NA         & NA         & NA         & NA         & NA         & NA         & NA         & NA         & NA         & NA         & NA         & NA         & NA         & NA         & NA         & NA         & NA         & NA         & NA         & NA         & NA         & NA         & NA         & NA         & NA         & NA         & NA         & NA         & NA         & NA         & NA         & NA         & NA         & NA         & NA         & NA         & NA         & NA        \\\\\n",
       "\t 2022-01-27 & 20         & NA         & NA         & NA         & NA         & NA         & NA         & NA         & NA         & NA         & NA         & NA         & NA         & NA         & NA         & NA         & NA         & NA         & NA         & NA         & NA         & NA         & NA         & NA         & NA         & NA         & NA         & NA         & NA         & NA         & NA         & NA         & NA         & NA         & NA         & NA         & NA         & NA         & NA         & NA         & NA         & NA         & NA        \\\\\n",
       "\t 2022-01-27 & 21         & NA         & NA         & NA         & NA         & NA         & NA         & NA         & NA         & NA         & NA         & NA         & NA         & NA         & NA         & NA         & NA         & NA         & NA         & NA         & NA         & NA         & NA         & NA         & NA         & NA         & NA         & NA         & NA         & NA         & NA         & NA         & NA         & NA         & NA         & NA         & NA         & NA         & NA         & NA         & NA         & NA         & NA        \\\\\n",
       "\t 2022-01-27 & 22         & NA         & NA         & NA         & NA         & NA         & NA         & NA         & NA         & NA         & NA         & NA         & NA         & NA         & NA         & NA         & NA         & NA         & NA         & NA         & NA         & NA         & NA         & NA         & NA         & NA         & NA         & NA         & NA         & NA         & NA         & NA         & NA         & NA         & NA         & NA         & NA         & NA         & NA         & NA         & NA         & NA         & NA        \\\\\n",
       "\t 2022-01-27 & 23         & NA         & NA         & NA         & NA         & NA         & NA         & NA         & NA         & NA         & NA         & NA         & NA         & NA         & NA         & NA         & NA         & NA         & NA         & NA         & NA         & NA         & NA         & NA         & NA         & NA         & NA         & NA         & NA         & NA         & NA         & NA         & NA         & NA         & NA         & NA         & NA         & NA         & NA         & NA         & NA         & NA         & NA        \\\\\n",
       "\\end{tabular}\n"
      ],
      "text/markdown": [
       "\n",
       "| date | hour | DSWRF_surface_36.5_32.5 | DSWRF_surface_37_35.5 | DSWRF_surface_38_32.5 | DSWRF_surface_38.5_27 | DSWRF_surface_39.75_30.5 | DSWRF_surface_40_33 | DSWRF_surface_41_28.75 | RH_2.m.above.ground_36.5_32.5 | RH_2.m.above.ground_37_35.5 | RH_2.m.above.ground_38_32.5 | RH_2.m.above.ground_38.5_27 | RH_2.m.above.ground_39.75_30.5 | RH_2.m.above.ground_40_33 | RH_2.m.above.ground_41_28.75 | TCDC_low.cloud.layer_36.5_32.5 | TCDC_low.cloud.layer_37_35.5 | TCDC_low.cloud.layer_38_32.5 | TCDC_low.cloud.layer_38.5_27 | TCDC_low.cloud.layer_39.75_30.5 | TCDC_low.cloud.layer_40_33 | TCDC_low.cloud.layer_41_28.75 | TMP_2.m.above.ground_36.5_32.5 | TMP_2.m.above.ground_37_35.5 | TMP_2.m.above.ground_38_32.5 | TMP_2.m.above.ground_38.5_27 | TMP_2.m.above.ground_39.75_30.5 | TMP_2.m.above.ground_40_33 | TMP_2.m.above.ground_41_28.75 | wdir_10m_36.5_32.5 | wdir_10m_37_35.5 | wdir_10m_38_32.5 | wdir_10m_38.5_27 | wdir_10m_39.75_30.5 | wdir_10m_40_33 | wdir_10m_41_28.75 | ws_10m_36.5_32.5 | ws_10m_37_35.5 | ws_10m_38_32.5 | ws_10m_38.5_27 | ws_10m_39.75_30.5 | ws_10m_40_33 | ws_10m_41_28.75 |\n",
       "|---|---|---|---|---|---|---|---|---|---|---|---|---|---|---|---|---|---|---|---|---|---|---|---|---|---|---|---|---|---|---|---|---|---|---|---|---|---|---|---|---|---|---|---|\n",
       "| 2022-01-27 | 18         | NA         | NA         | NA         | NA         | NA         | NA         | NA         | NA         | NA         | NA         | NA         | NA         | NA         | NA         | NA         | NA         | NA         | NA         | NA         | NA         | NA         | NA         | NA         | NA         | NA         | NA         | NA         | NA         | NA         | NA         | NA         | NA         | NA         | NA         | NA         | NA         | NA         | NA         | NA         | NA         | NA         | NA         |\n",
       "| 2022-01-27 | 19         | NA         | NA         | NA         | NA         | NA         | NA         | NA         | NA         | NA         | NA         | NA         | NA         | NA         | NA         | NA         | NA         | NA         | NA         | NA         | NA         | NA         | NA         | NA         | NA         | NA         | NA         | NA         | NA         | NA         | NA         | NA         | NA         | NA         | NA         | NA         | NA         | NA         | NA         | NA         | NA         | NA         | NA         |\n",
       "| 2022-01-27 | 20         | NA         | NA         | NA         | NA         | NA         | NA         | NA         | NA         | NA         | NA         | NA         | NA         | NA         | NA         | NA         | NA         | NA         | NA         | NA         | NA         | NA         | NA         | NA         | NA         | NA         | NA         | NA         | NA         | NA         | NA         | NA         | NA         | NA         | NA         | NA         | NA         | NA         | NA         | NA         | NA         | NA         | NA         |\n",
       "| 2022-01-27 | 21         | NA         | NA         | NA         | NA         | NA         | NA         | NA         | NA         | NA         | NA         | NA         | NA         | NA         | NA         | NA         | NA         | NA         | NA         | NA         | NA         | NA         | NA         | NA         | NA         | NA         | NA         | NA         | NA         | NA         | NA         | NA         | NA         | NA         | NA         | NA         | NA         | NA         | NA         | NA         | NA         | NA         | NA         |\n",
       "| 2022-01-27 | 22         | NA         | NA         | NA         | NA         | NA         | NA         | NA         | NA         | NA         | NA         | NA         | NA         | NA         | NA         | NA         | NA         | NA         | NA         | NA         | NA         | NA         | NA         | NA         | NA         | NA         | NA         | NA         | NA         | NA         | NA         | NA         | NA         | NA         | NA         | NA         | NA         | NA         | NA         | NA         | NA         | NA         | NA         |\n",
       "| 2022-01-27 | 23         | NA         | NA         | NA         | NA         | NA         | NA         | NA         | NA         | NA         | NA         | NA         | NA         | NA         | NA         | NA         | NA         | NA         | NA         | NA         | NA         | NA         | NA         | NA         | NA         | NA         | NA         | NA         | NA         | NA         | NA         | NA         | NA         | NA         | NA         | NA         | NA         | NA         | NA         | NA         | NA         | NA         | NA         |\n",
       "\n"
      ],
      "text/plain": [
       "  date       hour DSWRF_surface_36.5_32.5 DSWRF_surface_37_35.5\n",
       "1 2022-01-27 18   NA                      NA                   \n",
       "2 2022-01-27 19   NA                      NA                   \n",
       "3 2022-01-27 20   NA                      NA                   \n",
       "4 2022-01-27 21   NA                      NA                   \n",
       "5 2022-01-27 22   NA                      NA                   \n",
       "6 2022-01-27 23   NA                      NA                   \n",
       "  DSWRF_surface_38_32.5 DSWRF_surface_38.5_27 DSWRF_surface_39.75_30.5\n",
       "1 NA                    NA                    NA                      \n",
       "2 NA                    NA                    NA                      \n",
       "3 NA                    NA                    NA                      \n",
       "4 NA                    NA                    NA                      \n",
       "5 NA                    NA                    NA                      \n",
       "6 NA                    NA                    NA                      \n",
       "  DSWRF_surface_40_33 DSWRF_surface_41_28.75 RH_2.m.above.ground_36.5_32.5\n",
       "1 NA                  NA                     NA                           \n",
       "2 NA                  NA                     NA                           \n",
       "3 NA                  NA                     NA                           \n",
       "4 NA                  NA                     NA                           \n",
       "5 NA                  NA                     NA                           \n",
       "6 NA                  NA                     NA                           \n",
       "  RH_2.m.above.ground_37_35.5 RH_2.m.above.ground_38_32.5\n",
       "1 NA                          NA                         \n",
       "2 NA                          NA                         \n",
       "3 NA                          NA                         \n",
       "4 NA                          NA                         \n",
       "5 NA                          NA                         \n",
       "6 NA                          NA                         \n",
       "  RH_2.m.above.ground_38.5_27 RH_2.m.above.ground_39.75_30.5\n",
       "1 NA                          NA                            \n",
       "2 NA                          NA                            \n",
       "3 NA                          NA                            \n",
       "4 NA                          NA                            \n",
       "5 NA                          NA                            \n",
       "6 NA                          NA                            \n",
       "  RH_2.m.above.ground_40_33 RH_2.m.above.ground_41_28.75\n",
       "1 NA                        NA                          \n",
       "2 NA                        NA                          \n",
       "3 NA                        NA                          \n",
       "4 NA                        NA                          \n",
       "5 NA                        NA                          \n",
       "6 NA                        NA                          \n",
       "  TCDC_low.cloud.layer_36.5_32.5 TCDC_low.cloud.layer_37_35.5\n",
       "1 NA                             NA                          \n",
       "2 NA                             NA                          \n",
       "3 NA                             NA                          \n",
       "4 NA                             NA                          \n",
       "5 NA                             NA                          \n",
       "6 NA                             NA                          \n",
       "  TCDC_low.cloud.layer_38_32.5 TCDC_low.cloud.layer_38.5_27\n",
       "1 NA                           NA                          \n",
       "2 NA                           NA                          \n",
       "3 NA                           NA                          \n",
       "4 NA                           NA                          \n",
       "5 NA                           NA                          \n",
       "6 NA                           NA                          \n",
       "  TCDC_low.cloud.layer_39.75_30.5 TCDC_low.cloud.layer_40_33\n",
       "1 NA                              NA                        \n",
       "2 NA                              NA                        \n",
       "3 NA                              NA                        \n",
       "4 NA                              NA                        \n",
       "5 NA                              NA                        \n",
       "6 NA                              NA                        \n",
       "  TCDC_low.cloud.layer_41_28.75 TMP_2.m.above.ground_36.5_32.5\n",
       "1 NA                            NA                            \n",
       "2 NA                            NA                            \n",
       "3 NA                            NA                            \n",
       "4 NA                            NA                            \n",
       "5 NA                            NA                            \n",
       "6 NA                            NA                            \n",
       "  TMP_2.m.above.ground_37_35.5 TMP_2.m.above.ground_38_32.5\n",
       "1 NA                           NA                          \n",
       "2 NA                           NA                          \n",
       "3 NA                           NA                          \n",
       "4 NA                           NA                          \n",
       "5 NA                           NA                          \n",
       "6 NA                           NA                          \n",
       "  TMP_2.m.above.ground_38.5_27 TMP_2.m.above.ground_39.75_30.5\n",
       "1 NA                           NA                             \n",
       "2 NA                           NA                             \n",
       "3 NA                           NA                             \n",
       "4 NA                           NA                             \n",
       "5 NA                           NA                             \n",
       "6 NA                           NA                             \n",
       "  TMP_2.m.above.ground_40_33 TMP_2.m.above.ground_41_28.75 wdir_10m_36.5_32.5\n",
       "1 NA                         NA                            NA                \n",
       "2 NA                         NA                            NA                \n",
       "3 NA                         NA                            NA                \n",
       "4 NA                         NA                            NA                \n",
       "5 NA                         NA                            NA                \n",
       "6 NA                         NA                            NA                \n",
       "  wdir_10m_37_35.5 wdir_10m_38_32.5 wdir_10m_38.5_27 wdir_10m_39.75_30.5\n",
       "1 NA               NA               NA               NA                 \n",
       "2 NA               NA               NA               NA                 \n",
       "3 NA               NA               NA               NA                 \n",
       "4 NA               NA               NA               NA                 \n",
       "5 NA               NA               NA               NA                 \n",
       "6 NA               NA               NA               NA                 \n",
       "  wdir_10m_40_33 wdir_10m_41_28.75 ws_10m_36.5_32.5 ws_10m_37_35.5\n",
       "1 NA             NA                NA               NA            \n",
       "2 NA             NA                NA               NA            \n",
       "3 NA             NA                NA               NA            \n",
       "4 NA             NA                NA               NA            \n",
       "5 NA             NA                NA               NA            \n",
       "6 NA             NA                NA               NA            \n",
       "  ws_10m_38_32.5 ws_10m_38.5_27 ws_10m_39.75_30.5 ws_10m_40_33 ws_10m_41_28.75\n",
       "1 NA             NA             NA                NA           NA             \n",
       "2 NA             NA             NA                NA           NA             \n",
       "3 NA             NA             NA                NA           NA             \n",
       "4 NA             NA             NA                NA           NA             \n",
       "5 NA             NA             NA                NA           NA             \n",
       "6 NA             NA             NA                NA           NA             "
      ]
     },
     "metadata": {},
     "output_type": "display_data"
    }
   ],
   "source": [
    "current_date=\"2022-01-22\"\n",
    "\n",
    "features=fread(sprintf(\"%s%s_weather/%s_weather.csv\",path, current_date, current_date))\n",
    "\n",
    "wide_feat = dcast(features, date + hour ~ variable+ lat + lon , value.var=\"value\")\n",
    "\n",
    "tail(wide_feat)"
   ]
  },
  {
   "cell_type": "markdown",
   "id": "4842c4a8",
   "metadata": {},
   "source": [
    "### Feature Adding"
   ]
  },
  {
   "cell_type": "code",
   "execution_count": 5,
   "id": "99d9d9c0",
   "metadata": {},
   "outputs": [],
   "source": [
    "data[, lag_24:=shift(net, 24)]\n",
    "data[, lag_168:=shift(net, 168)]\n",
    "# data[, lag_6:=shift(net, 6)]\n",
    "# data[, lag_7:=shift(net, 7)]\n",
    "# data[, lag_8:=shift(net, 8)]\n",
    "data <- data[seq(-168,-1),]\n",
    "\n",
    "data$weekday=wday(data$date)\n",
    "data[, is_monday:=ifelse(weekday==2, 1, 0)]\n",
    "data[, is_wday:=ifelse(weekday%in%c(3,4,5), 1, 0)]\n",
    "data[, is_friday:=ifelse(weekday==6, 1, 0)]\n",
    "data[, is_saturday:=ifelse(weekday==7, 1, 0)]\n",
    "data[, is_sunday:=ifelse(weekday==1, 1, 0)]\n",
    "\n",
    "data[, is_over:=ifelse(hour%in% c(17,18,19,20) , 1, 0)]\n",
    "data[, is_12:=ifelse(hour==12 , 1, 0)]\n",
    "data[, is_13:=ifelse(hour==13 , 1, 0)]\n",
    "data[, is_22:=ifelse(hour==22 , 1, 0)]\n",
    "data[, is_23:=ifelse(hour==23 , 1, 0)]"
   ]
  },
  {
   "cell_type": "code",
   "execution_count": 6,
   "id": "3d72fb03",
   "metadata": {},
   "outputs": [
    {
     "data": {
      "text/html": [
       "<table>\n",
       "<thead><tr><th scope=col>date</th><th scope=col>hour</th><th scope=col>net</th><th scope=col>upRegulationZeroCoded</th><th scope=col>upRegulationOneCoded</th><th scope=col>upRegulationTwoCoded</th><th scope=col>downRegulationZeroCoded</th><th scope=col>downRegulationOneCoded</th><th scope=col>downRegulationTwoCoded</th><th scope=col>upRegulationDelivered</th><th scope=col>downRegulationDelivered</th><th scope=col>system_direction</th><th scope=col>ID</th><th scope=col>lag_24</th><th scope=col>lag_168</th><th scope=col>weekday</th><th scope=col>is_monday</th><th scope=col>is_wday</th><th scope=col>is_friday</th><th scope=col>is_saturday</th><th scope=col>is_sunday</th><th scope=col>is_over</th><th scope=col>is_12</th><th scope=col>is_13</th><th scope=col>is_22</th><th scope=col>is_23</th></tr></thead>\n",
       "<tbody>\n",
       "\t<tr><td>2019-01-08</td><td>0         </td><td>-464.400  </td><td>  0.000   </td><td>0         </td><td>0         </td><td>761.616   </td><td>0         </td><td>0         </td><td>  0.000   </td><td>-464.400  </td><td>Negative  </td><td>169       </td><td>-1176.657 </td><td>-1934.795 </td><td>3         </td><td>0         </td><td>1         </td><td>0         </td><td>0         </td><td>0         </td><td>0         </td><td>0         </td><td>0         </td><td>0         </td><td>0         </td></tr>\n",
       "\t<tr><td>2019-01-08</td><td>1         </td><td>  -8.662  </td><td>245.833   </td><td>0         </td><td>0         </td><td>259.067   </td><td>0         </td><td>0         </td><td>206.833   </td><td>-215.495  </td><td>Neutral   </td><td>170       </td><td> -406.941 </td><td> -750.866 </td><td>3         </td><td>0         </td><td>1         </td><td>0         </td><td>0         </td><td>0         </td><td>0         </td><td>0         </td><td>0         </td><td>0         </td><td>0         </td></tr>\n",
       "\t<tr><td>2019-01-08</td><td>2         </td><td>  70.445  </td><td>274.748   </td><td>0         </td><td>0         </td><td> 17.100   </td><td>0         </td><td>0         </td><td> 85.145   </td><td> -14.700  </td><td>Positive  </td><td>171       </td><td> -403.687 </td><td> -982.767 </td><td>3         </td><td>0         </td><td>1         </td><td>0         </td><td>0         </td><td>0         </td><td>0         </td><td>0         </td><td>0         </td><td>0         </td><td>0         </td></tr>\n",
       "\t<tr><td>2019-01-08</td><td>3         </td><td>  60.549  </td><td>352.000   </td><td>0         </td><td>0         </td><td>  0.000   </td><td>0         </td><td>0         </td><td> 60.549   </td><td>   0.000  </td><td>Positive  </td><td>172       </td><td> -579.674 </td><td> -764.620 </td><td>3         </td><td>0         </td><td>1         </td><td>0         </td><td>0         </td><td>0         </td><td>0         </td><td>0         </td><td>0         </td><td>0         </td><td>0         </td></tr>\n",
       "\t<tr><td>2019-01-08</td><td>4         </td><td>  43.140  </td><td>352.000   </td><td>0         </td><td>0         </td><td>  0.000   </td><td>0         </td><td>0         </td><td> 43.140   </td><td>   0.000  </td><td>Neutral   </td><td>173       </td><td>  467.443 </td><td>-1233.289 </td><td>3         </td><td>0         </td><td>1         </td><td>0         </td><td>0         </td><td>0         </td><td>0         </td><td>0         </td><td>0         </td><td>0         </td><td>0         </td></tr>\n",
       "\t<tr><td>2019-01-08</td><td>5         </td><td>  25.490  </td><td>212.000   </td><td>0         </td><td>0         </td><td>  0.000   </td><td>0         </td><td>0         </td><td> 25.490   </td><td>   0.000  </td><td>Neutral   </td><td>174       </td><td>  391.953 </td><td>-1469.061 </td><td>3         </td><td>0         </td><td>1         </td><td>0         </td><td>0         </td><td>0         </td><td>0         </td><td>0         </td><td>0         </td><td>0         </td><td>0         </td></tr>\n",
       "</tbody>\n",
       "</table>\n"
      ],
      "text/latex": [
       "\\begin{tabular}{r|llllllllllllllllllllllllll}\n",
       " date & hour & net & upRegulationZeroCoded & upRegulationOneCoded & upRegulationTwoCoded & downRegulationZeroCoded & downRegulationOneCoded & downRegulationTwoCoded & upRegulationDelivered & downRegulationDelivered & system\\_direction & ID & lag\\_24 & lag\\_168 & weekday & is\\_monday & is\\_wday & is\\_friday & is\\_saturday & is\\_sunday & is\\_over & is\\_12 & is\\_13 & is\\_22 & is\\_23\\\\\n",
       "\\hline\n",
       "\t 2019-01-08 & 0          & -464.400   &   0.000    & 0          & 0          & 761.616    & 0          & 0          &   0.000    & -464.400   & Negative   & 169        & -1176.657  & -1934.795  & 3          & 0          & 1          & 0          & 0          & 0          & 0          & 0          & 0          & 0          & 0         \\\\\n",
       "\t 2019-01-08 & 1          &   -8.662   & 245.833    & 0          & 0          & 259.067    & 0          & 0          & 206.833    & -215.495   & Neutral    & 170        &  -406.941  &  -750.866  & 3          & 0          & 1          & 0          & 0          & 0          & 0          & 0          & 0          & 0          & 0         \\\\\n",
       "\t 2019-01-08 & 2          &   70.445   & 274.748    & 0          & 0          &  17.100    & 0          & 0          &  85.145    &  -14.700   & Positive   & 171        &  -403.687  &  -982.767  & 3          & 0          & 1          & 0          & 0          & 0          & 0          & 0          & 0          & 0          & 0         \\\\\n",
       "\t 2019-01-08 & 3          &   60.549   & 352.000    & 0          & 0          &   0.000    & 0          & 0          &  60.549    &    0.000   & Positive   & 172        &  -579.674  &  -764.620  & 3          & 0          & 1          & 0          & 0          & 0          & 0          & 0          & 0          & 0          & 0         \\\\\n",
       "\t 2019-01-08 & 4          &   43.140   & 352.000    & 0          & 0          &   0.000    & 0          & 0          &  43.140    &    0.000   & Neutral    & 173        &   467.443  & -1233.289  & 3          & 0          & 1          & 0          & 0          & 0          & 0          & 0          & 0          & 0          & 0         \\\\\n",
       "\t 2019-01-08 & 5          &   25.490   & 212.000    & 0          & 0          &   0.000    & 0          & 0          &  25.490    &    0.000   & Neutral    & 174        &   391.953  & -1469.061  & 3          & 0          & 1          & 0          & 0          & 0          & 0          & 0          & 0          & 0          & 0         \\\\\n",
       "\\end{tabular}\n"
      ],
      "text/markdown": [
       "\n",
       "| date | hour | net | upRegulationZeroCoded | upRegulationOneCoded | upRegulationTwoCoded | downRegulationZeroCoded | downRegulationOneCoded | downRegulationTwoCoded | upRegulationDelivered | downRegulationDelivered | system_direction | ID | lag_24 | lag_168 | weekday | is_monday | is_wday | is_friday | is_saturday | is_sunday | is_over | is_12 | is_13 | is_22 | is_23 |\n",
       "|---|---|---|---|---|---|---|---|---|---|---|---|---|---|---|---|---|---|---|---|---|---|---|---|---|---|\n",
       "| 2019-01-08 | 0          | -464.400   |   0.000    | 0          | 0          | 761.616    | 0          | 0          |   0.000    | -464.400   | Negative   | 169        | -1176.657  | -1934.795  | 3          | 0          | 1          | 0          | 0          | 0          | 0          | 0          | 0          | 0          | 0          |\n",
       "| 2019-01-08 | 1          |   -8.662   | 245.833    | 0          | 0          | 259.067    | 0          | 0          | 206.833    | -215.495   | Neutral    | 170        |  -406.941  |  -750.866  | 3          | 0          | 1          | 0          | 0          | 0          | 0          | 0          | 0          | 0          | 0          |\n",
       "| 2019-01-08 | 2          |   70.445   | 274.748    | 0          | 0          |  17.100    | 0          | 0          |  85.145    |  -14.700   | Positive   | 171        |  -403.687  |  -982.767  | 3          | 0          | 1          | 0          | 0          | 0          | 0          | 0          | 0          | 0          | 0          |\n",
       "| 2019-01-08 | 3          |   60.549   | 352.000    | 0          | 0          |   0.000    | 0          | 0          |  60.549    |    0.000   | Positive   | 172        |  -579.674  |  -764.620  | 3          | 0          | 1          | 0          | 0          | 0          | 0          | 0          | 0          | 0          | 0          |\n",
       "| 2019-01-08 | 4          |   43.140   | 352.000    | 0          | 0          |   0.000    | 0          | 0          |  43.140    |    0.000   | Neutral    | 173        |   467.443  | -1233.289  | 3          | 0          | 1          | 0          | 0          | 0          | 0          | 0          | 0          | 0          | 0          |\n",
       "| 2019-01-08 | 5          |   25.490   | 212.000    | 0          | 0          |   0.000    | 0          | 0          |  25.490    |    0.000   | Neutral    | 174        |   391.953  | -1469.061  | 3          | 0          | 1          | 0          | 0          | 0          | 0          | 0          | 0          | 0          | 0          |\n",
       "\n"
      ],
      "text/plain": [
       "  date       hour net      upRegulationZeroCoded upRegulationOneCoded\n",
       "1 2019-01-08 0    -464.400   0.000               0                   \n",
       "2 2019-01-08 1      -8.662 245.833               0                   \n",
       "3 2019-01-08 2      70.445 274.748               0                   \n",
       "4 2019-01-08 3      60.549 352.000               0                   \n",
       "5 2019-01-08 4      43.140 352.000               0                   \n",
       "6 2019-01-08 5      25.490 212.000               0                   \n",
       "  upRegulationTwoCoded downRegulationZeroCoded downRegulationOneCoded\n",
       "1 0                    761.616                 0                     \n",
       "2 0                    259.067                 0                     \n",
       "3 0                     17.100                 0                     \n",
       "4 0                      0.000                 0                     \n",
       "5 0                      0.000                 0                     \n",
       "6 0                      0.000                 0                     \n",
       "  downRegulationTwoCoded upRegulationDelivered downRegulationDelivered\n",
       "1 0                        0.000               -464.400               \n",
       "2 0                      206.833               -215.495               \n",
       "3 0                       85.145                -14.700               \n",
       "4 0                       60.549                  0.000               \n",
       "5 0                       43.140                  0.000               \n",
       "6 0                       25.490                  0.000               \n",
       "  system_direction ID  lag_24    lag_168   weekday is_monday is_wday is_friday\n",
       "1 Negative         169 -1176.657 -1934.795 3       0         1       0        \n",
       "2 Neutral          170  -406.941  -750.866 3       0         1       0        \n",
       "3 Positive         171  -403.687  -982.767 3       0         1       0        \n",
       "4 Positive         172  -579.674  -764.620 3       0         1       0        \n",
       "5 Neutral          173   467.443 -1233.289 3       0         1       0        \n",
       "6 Neutral          174   391.953 -1469.061 3       0         1       0        \n",
       "  is_saturday is_sunday is_over is_12 is_13 is_22 is_23\n",
       "1 0           0         0       0     0     0     0    \n",
       "2 0           0         0       0     0     0     0    \n",
       "3 0           0         0       0     0     0     0    \n",
       "4 0           0         0       0     0     0     0    \n",
       "5 0           0         0       0     0     0     0    \n",
       "6 0           0         0       0     0     0     0    "
      ]
     },
     "metadata": {},
     "output_type": "display_data"
    }
   ],
   "source": [
    "head(data)"
   ]
  },
  {
   "cell_type": "markdown",
   "id": "51592d1d",
   "metadata": {},
   "source": [
    "### Selecting Available Features"
   ]
  },
  {
   "cell_type": "code",
   "execution_count": 7,
   "id": "8409448d",
   "metadata": {},
   "outputs": [
    {
     "name": "stderr",
     "output_type": "stream",
     "text": [
      "Warning message in `[.data.table`(data, , !c(\"V1\", \"upRegulationZeroCoded\", \"upRegulationOneCoded\", :\n",
      "\"column(s) not removed because not found: [V1]\""
     ]
    },
    {
     "name": "stdout",
     "output_type": "stream",
     "text": [
      "Classes 'data.table' and 'data.frame':\t26496 obs. of  18 variables:\n",
      " $ date            : IDate, format: \"2019-01-08\" \"2019-01-08\" ...\n",
      " $ hour            : int  0 1 2 3 4 5 6 7 8 9 ...\n",
      " $ net             : num  -464.4 -8.66 70.44 60.55 43.14 ...\n",
      " $ system_direction: chr  \"Negative\" \"Neutral\" \"Positive\" \"Positive\" ...\n",
      " $ ID              : int  169 170 171 172 173 174 175 176 177 178 ...\n",
      " $ lag_24          : num  -1177 -407 -404 -580 467 ...\n",
      " $ lag_168         : num  -1935 -751 -983 -765 -1233 ...\n",
      " $ weekday         : num  3 3 3 3 3 3 3 3 3 3 ...\n",
      " $ is_monday       : num  0 0 0 0 0 0 0 0 0 0 ...\n",
      " $ is_wday         : num  1 1 1 1 1 1 1 1 1 1 ...\n",
      " $ is_friday       : num  0 0 0 0 0 0 0 0 0 0 ...\n",
      " $ is_saturday     : num  0 0 0 0 0 0 0 0 0 0 ...\n",
      " $ is_sunday       : num  0 0 0 0 0 0 0 0 0 0 ...\n",
      " $ is_over         : num  0 0 0 0 0 0 0 0 0 0 ...\n",
      " $ is_12           : num  0 0 0 0 0 0 0 0 0 0 ...\n",
      " $ is_13           : num  0 0 0 0 0 0 0 0 0 0 ...\n",
      " $ is_22           : num  0 0 0 0 0 0 0 0 0 0 ...\n",
      " $ is_23           : num  0 0 0 0 0 0 0 0 0 0 ...\n",
      " - attr(*, \".internal.selfref\")=<externalptr> \n"
     ]
    }
   ],
   "source": [
    "data = data[,!c(\"V1\",\"upRegulationZeroCoded\",\"upRegulationOneCoded\",\"upRegulationTwoCoded\",\n",
    "                \"downRegulationZeroCoded\",\"downRegulationOneCoded\",\"downRegulationTwoCoded\",\n",
    "                 \"upRegulationDelivered\",\"downRegulationDelivered\")] \n",
    "str(data)"
   ]
  },
  {
   "cell_type": "markdown",
   "id": "d9de2bb4",
   "metadata": {},
   "source": [
    "# Sax Represenation with Cut Function"
   ]
  },
  {
   "cell_type": "code",
   "execution_count": 8,
   "id": "9081d5db",
   "metadata": {},
   "outputs": [],
   "source": [
    "test_start=\"2021-12-01\"\n",
    "test_finish=\"2021-12-14\""
   ]
  },
  {
   "cell_type": "code",
   "execution_count": 9,
   "id": "491d4145",
   "metadata": {},
   "outputs": [],
   "source": [
    "data <- data[date<=test_finish,]"
   ]
  },
  {
   "cell_type": "markdown",
   "id": "ebdd852c",
   "metadata": {},
   "source": [
    "## Labels"
   ]
  },
  {
   "cell_type": "code",
   "execution_count": 10,
   "id": "e60e8c1f",
   "metadata": {},
   "outputs": [
    {
     "data": {
      "text/plain": [
       "      date                 hour            net          system_direction  \n",
       " Min.   :2019-01-08   Min.   : 0.00   Min.   :-5229.3   Length:25728      \n",
       " 1st Qu.:2019-10-02   1st Qu.: 5.75   1st Qu.: -290.5   Class :character  \n",
       " Median :2020-06-26   Median :11.50   Median :  175.5   Mode  :character  \n",
       " Mean   :2020-06-26   Mean   :11.50   Mean   :  274.2                     \n",
       " 3rd Qu.:2021-03-21   3rd Qu.:17.25   3rd Qu.:  782.5                     \n",
       " Max.   :2021-12-14   Max.   :23.00   Max.   : 9609.1                     \n",
       "       ID            lag_24           lag_168           weekday     \n",
       " Min.   :  169   Min.   :-5229.3   Min.   :-5229.3   Min.   :1.000  \n",
       " 1st Qu.: 6601   1st Qu.: -291.2   1st Qu.: -302.5   1st Qu.:2.000  \n",
       " Median :13032   Median :  175.5   Median :  169.1   Median :4.000  \n",
       " Mean   :13032   Mean   :  274.6   Mean   :  267.6   Mean   :3.999  \n",
       " 3rd Qu.:19464   3rd Qu.:  782.7   3rd Qu.:  778.9   3rd Qu.:6.000  \n",
       " Max.   :25896   Max.   : 9609.1   Max.   : 9609.1   Max.   :7.000  \n",
       "   is_monday         is_wday         is_friday       is_saturday    \n",
       " Min.   :0.0000   Min.   :0.0000   Min.   :0.0000   Min.   :0.0000  \n",
       " 1st Qu.:0.0000   1st Qu.:0.0000   1st Qu.:0.0000   1st Qu.:0.0000  \n",
       " Median :0.0000   Median :0.0000   Median :0.0000   Median :0.0000  \n",
       " Mean   :0.1427   Mean   :0.4291   Mean   :0.1427   Mean   :0.1427  \n",
       " 3rd Qu.:0.0000   3rd Qu.:1.0000   3rd Qu.:0.0000   3rd Qu.:0.0000  \n",
       " Max.   :1.0000   Max.   :1.0000   Max.   :1.0000   Max.   :1.0000  \n",
       "   is_sunday         is_over           is_12             is_13        \n",
       " Min.   :0.0000   Min.   :0.0000   Min.   :0.00000   Min.   :0.00000  \n",
       " 1st Qu.:0.0000   1st Qu.:0.0000   1st Qu.:0.00000   1st Qu.:0.00000  \n",
       " Median :0.0000   Median :0.0000   Median :0.00000   Median :0.00000  \n",
       " Mean   :0.1427   Mean   :0.1667   Mean   :0.04167   Mean   :0.04167  \n",
       " 3rd Qu.:0.0000   3rd Qu.:0.0000   3rd Qu.:0.00000   3rd Qu.:0.00000  \n",
       " Max.   :1.0000   Max.   :1.0000   Max.   :1.00000   Max.   :1.00000  \n",
       "     is_22             is_23            net_new      \n",
       " Min.   :0.00000   Min.   :0.00000   Min.   : 1.000  \n",
       " 1st Qu.:0.00000   1st Qu.:0.00000   1st Qu.: 3.000  \n",
       " Median :0.00000   Median :0.00000   Median : 5.500  \n",
       " Mean   :0.04167   Mean   :0.04167   Mean   : 5.478  \n",
       " 3rd Qu.:0.00000   3rd Qu.:0.00000   3rd Qu.: 8.000  \n",
       " Max.   :1.00000   Max.   :1.00000   Max.   :10.000  "
      ]
     },
     "metadata": {},
     "output_type": "display_data"
    }
   ],
   "source": [
    "alphabet_size=10\n",
    "\n",
    "data[,net_new := cut(net, quantile(net, probs = 0:alphabet_size/alphabet_size),\n",
    "                              labels = FALSE, include.lowest = TRUE)]\n",
    "summary(data)"
   ]
  },
  {
   "cell_type": "markdown",
   "id": "132bef4c",
   "metadata": {},
   "source": [
    "## Label Update by considering actual Class Information"
   ]
  },
  {
   "cell_type": "code",
   "execution_count": 11,
   "id": "a0243808",
   "metadata": {},
   "outputs": [],
   "source": [
    "data$system_direction <- as.factor(data$system_direction) \n",
    "\n",
    "data$net_new <- as.factor(data$net_new) \n",
    "\n",
    "data[(net>(-50))& (net<50), ]$net_new=4\n",
    "\n",
    "data$net_new <- as.factor(data$net_new) "
   ]
  },
  {
   "cell_type": "markdown",
   "id": "5e2540a1",
   "metadata": {},
   "source": [
    "{1,2,3} represents Negative sets, {4} is selected for 0, and {5,6,7,8,9,10} are used to show positive cases. 1 & 10 includes outliers in the dataset. "
   ]
  },
  {
   "cell_type": "code",
   "execution_count": 12,
   "id": "bf9c6c4c",
   "metadata": {},
   "outputs": [
    {
     "data": {
      "text/html": [
       "<table>\n",
       "<thead><tr><th scope=col>date</th><th scope=col>hour</th><th scope=col>net</th><th scope=col>system_direction</th><th scope=col>ID</th><th scope=col>lag_24</th><th scope=col>lag_168</th><th scope=col>weekday</th><th scope=col>is_monday</th><th scope=col>is_wday</th><th scope=col>is_friday</th><th scope=col>is_saturday</th><th scope=col>is_sunday</th><th scope=col>is_over</th><th scope=col>is_12</th><th scope=col>is_13</th><th scope=col>is_22</th><th scope=col>is_23</th><th scope=col>net_new</th></tr></thead>\n",
       "<tbody>\n",
       "\t<tr><td>2019-01-08</td><td>0         </td><td>-464.400  </td><td>Negative  </td><td>169       </td><td>-1176.657 </td><td>-1934.795 </td><td>3         </td><td>0         </td><td>1         </td><td>0         </td><td>0         </td><td>0         </td><td>0         </td><td>0         </td><td>0         </td><td>0         </td><td>0         </td><td>2         </td></tr>\n",
       "\t<tr><td>2019-01-08</td><td>1         </td><td>  -8.662  </td><td>Neutral   </td><td>170       </td><td> -406.941 </td><td> -750.866 </td><td>3         </td><td>0         </td><td>1         </td><td>0         </td><td>0         </td><td>0         </td><td>0         </td><td>0         </td><td>0         </td><td>0         </td><td>0         </td><td>4         </td></tr>\n",
       "\t<tr><td>2019-01-08</td><td>2         </td><td>  70.445  </td><td>Positive  </td><td>171       </td><td> -403.687 </td><td> -982.767 </td><td>3         </td><td>0         </td><td>1         </td><td>0         </td><td>0         </td><td>0         </td><td>0         </td><td>0         </td><td>0         </td><td>0         </td><td>0         </td><td>5         </td></tr>\n",
       "\t<tr><td>2019-01-08</td><td>3         </td><td>  60.549  </td><td>Positive  </td><td>172       </td><td> -579.674 </td><td> -764.620 </td><td>3         </td><td>0         </td><td>1         </td><td>0         </td><td>0         </td><td>0         </td><td>0         </td><td>0         </td><td>0         </td><td>0         </td><td>0         </td><td>5         </td></tr>\n",
       "\t<tr><td>2019-01-08</td><td>4         </td><td>  43.140  </td><td>Neutral   </td><td>173       </td><td>  467.443 </td><td>-1233.289 </td><td>3         </td><td>0         </td><td>1         </td><td>0         </td><td>0         </td><td>0         </td><td>0         </td><td>0         </td><td>0         </td><td>0         </td><td>0         </td><td>4         </td></tr>\n",
       "\t<tr><td>2019-01-08</td><td>5         </td><td>  25.490  </td><td>Neutral   </td><td>174       </td><td>  391.953 </td><td>-1469.061 </td><td>3         </td><td>0         </td><td>1         </td><td>0         </td><td>0         </td><td>0         </td><td>0         </td><td>0         </td><td>0         </td><td>0         </td><td>0         </td><td>4         </td></tr>\n",
       "</tbody>\n",
       "</table>\n"
      ],
      "text/latex": [
       "\\begin{tabular}{r|lllllllllllllllllll}\n",
       " date & hour & net & system\\_direction & ID & lag\\_24 & lag\\_168 & weekday & is\\_monday & is\\_wday & is\\_friday & is\\_saturday & is\\_sunday & is\\_over & is\\_12 & is\\_13 & is\\_22 & is\\_23 & net\\_new\\\\\n",
       "\\hline\n",
       "\t 2019-01-08 & 0          & -464.400   & Negative   & 169        & -1176.657  & -1934.795  & 3          & 0          & 1          & 0          & 0          & 0          & 0          & 0          & 0          & 0          & 0          & 2         \\\\\n",
       "\t 2019-01-08 & 1          &   -8.662   & Neutral    & 170        &  -406.941  &  -750.866  & 3          & 0          & 1          & 0          & 0          & 0          & 0          & 0          & 0          & 0          & 0          & 4         \\\\\n",
       "\t 2019-01-08 & 2          &   70.445   & Positive   & 171        &  -403.687  &  -982.767  & 3          & 0          & 1          & 0          & 0          & 0          & 0          & 0          & 0          & 0          & 0          & 5         \\\\\n",
       "\t 2019-01-08 & 3          &   60.549   & Positive   & 172        &  -579.674  &  -764.620  & 3          & 0          & 1          & 0          & 0          & 0          & 0          & 0          & 0          & 0          & 0          & 5         \\\\\n",
       "\t 2019-01-08 & 4          &   43.140   & Neutral    & 173        &   467.443  & -1233.289  & 3          & 0          & 1          & 0          & 0          & 0          & 0          & 0          & 0          & 0          & 0          & 4         \\\\\n",
       "\t 2019-01-08 & 5          &   25.490   & Neutral    & 174        &   391.953  & -1469.061  & 3          & 0          & 1          & 0          & 0          & 0          & 0          & 0          & 0          & 0          & 0          & 4         \\\\\n",
       "\\end{tabular}\n"
      ],
      "text/markdown": [
       "\n",
       "| date | hour | net | system_direction | ID | lag_24 | lag_168 | weekday | is_monday | is_wday | is_friday | is_saturday | is_sunday | is_over | is_12 | is_13 | is_22 | is_23 | net_new |\n",
       "|---|---|---|---|---|---|---|---|---|---|---|---|---|---|---|---|---|---|---|\n",
       "| 2019-01-08 | 0          | -464.400   | Negative   | 169        | -1176.657  | -1934.795  | 3          | 0          | 1          | 0          | 0          | 0          | 0          | 0          | 0          | 0          | 0          | 2          |\n",
       "| 2019-01-08 | 1          |   -8.662   | Neutral    | 170        |  -406.941  |  -750.866  | 3          | 0          | 1          | 0          | 0          | 0          | 0          | 0          | 0          | 0          | 0          | 4          |\n",
       "| 2019-01-08 | 2          |   70.445   | Positive   | 171        |  -403.687  |  -982.767  | 3          | 0          | 1          | 0          | 0          | 0          | 0          | 0          | 0          | 0          | 0          | 5          |\n",
       "| 2019-01-08 | 3          |   60.549   | Positive   | 172        |  -579.674  |  -764.620  | 3          | 0          | 1          | 0          | 0          | 0          | 0          | 0          | 0          | 0          | 0          | 5          |\n",
       "| 2019-01-08 | 4          |   43.140   | Neutral    | 173        |   467.443  | -1233.289  | 3          | 0          | 1          | 0          | 0          | 0          | 0          | 0          | 0          | 0          | 0          | 4          |\n",
       "| 2019-01-08 | 5          |   25.490   | Neutral    | 174        |   391.953  | -1469.061  | 3          | 0          | 1          | 0          | 0          | 0          | 0          | 0          | 0          | 0          | 0          | 4          |\n",
       "\n"
      ],
      "text/plain": [
       "  date       hour net      system_direction ID  lag_24    lag_168   weekday\n",
       "1 2019-01-08 0    -464.400 Negative         169 -1176.657 -1934.795 3      \n",
       "2 2019-01-08 1      -8.662 Neutral          170  -406.941  -750.866 3      \n",
       "3 2019-01-08 2      70.445 Positive         171  -403.687  -982.767 3      \n",
       "4 2019-01-08 3      60.549 Positive         172  -579.674  -764.620 3      \n",
       "5 2019-01-08 4      43.140 Neutral          173   467.443 -1233.289 3      \n",
       "6 2019-01-08 5      25.490 Neutral          174   391.953 -1469.061 3      \n",
       "  is_monday is_wday is_friday is_saturday is_sunday is_over is_12 is_13 is_22\n",
       "1 0         1       0         0           0         0       0     0     0    \n",
       "2 0         1       0         0           0         0       0     0     0    \n",
       "3 0         1       0         0           0         0       0     0     0    \n",
       "4 0         1       0         0           0         0       0     0     0    \n",
       "5 0         1       0         0           0         0       0     0     0    \n",
       "6 0         1       0         0           0         0       0     0     0    \n",
       "  is_23 net_new\n",
       "1 0     2      \n",
       "2 0     4      \n",
       "3 0     5      \n",
       "4 0     5      \n",
       "5 0     4      \n",
       "6 0     4      "
      ]
     },
     "metadata": {},
     "output_type": "display_data"
    }
   ],
   "source": [
    "head(data)"
   ]
  },
  {
   "cell_type": "markdown",
   "id": "119c25fb",
   "metadata": {},
   "source": [
    "## Feature Adding"
   ]
  },
  {
   "cell_type": "code",
   "execution_count": 13,
   "id": "dfd5bdeb",
   "metadata": {},
   "outputs": [],
   "source": [
    "feat=fread(\"2022-01-22_weather.csv\")"
   ]
  },
  {
   "cell_type": "code",
   "execution_count": null,
   "id": "64655381",
   "metadata": {},
   "outputs": [],
   "source": []
  },
  {
   "cell_type": "code",
   "execution_count": 14,
   "id": "f2c7460c",
   "metadata": {},
   "outputs": [],
   "source": [
    "wide_feat=dcast(feat, date + hour ~ variable+ lat + lon , value.var=\"value\")\n",
    "wide_feat=wide_feat[date<Sys.Date(),]"
   ]
  },
  {
   "cell_type": "code",
   "execution_count": 15,
   "id": "c020baea",
   "metadata": {},
   "outputs": [
    {
     "name": "stdout",
     "output_type": "stream",
     "text": [
      "Classes 'data.table' and 'data.frame':\t26880 obs. of  44 variables:\n",
      " $ date                           : IDate, format: \"2018-12-31\" \"2018-12-31\" ...\n",
      " $ hour                           : int  0 1 2 3 4 5 6 7 8 9 ...\n",
      " $ DSWRF_surface_36.5_32.5        : num  0 0 0 0 0 ...\n",
      " $ DSWRF_surface_37_35.5          : num  0 0 0 0 0 ...\n",
      " $ DSWRF_surface_38_32.5          : num  0 0 0 0 0 ...\n",
      " $ DSWRF_surface_38.5_27          : num  0 0 0 0 0 0 0 0 0 0 ...\n",
      " $ DSWRF_surface_39.75_30.5       : num  0 0 0 0 0 0 0 0 0 0 ...\n",
      " $ DSWRF_surface_40_33            : num  0 0 0 0 0 0 0 0 0 0 ...\n",
      " $ DSWRF_surface_41_28.75         : num  0 0 0 0 0 0 0 0 0 0 ...\n",
      " $ RH_2.m.above.ground_36.5_32.5  : num  83.3 82 80.7 79.4 78.8 ...\n",
      " $ RH_2.m.above.ground_37_35.5    : num  76.1 74.6 73.1 71.6 71.3 71 70.7 70.9 71.1 71.3 ...\n",
      " $ RH_2.m.above.ground_38_32.5    : num  93.2 92.9 92.7 92.4 92.1 ...\n",
      " $ RH_2.m.above.ground_38.5_27    : num  75.2 76 76.9 77.7 77.6 ...\n",
      " $ RH_2.m.above.ground_39.75_30.5 : num  88.7 88.5 88.4 88.2 87.5 ...\n",
      " $ RH_2.m.above.ground_40_33      : num  94.2 94.1 94 93.9 93.6 ...\n",
      " $ RH_2.m.above.ground_41_28.75   : num  76.2 75.5 74.9 74.2 73.4 ...\n",
      " $ TCDC_low.cloud.layer_36.5_32.5 : num  0 1 2 3 5 ...\n",
      " $ TCDC_low.cloud.layer_37_35.5   : num  66 59.7 53.3 47 31.7 ...\n",
      " $ TCDC_low.cloud.layer_38_32.5   : num  95 89 83 77 54 31 8 7 6 5 ...\n",
      " $ TCDC_low.cloud.layer_38.5_27   : num  0 0 0 0 0 0 0 0 0 0 ...\n",
      " $ TCDC_low.cloud.layer_39.75_30.5: num  2 1.333 0.667 0 0 ...\n",
      " $ TCDC_low.cloud.layer_40_33     : num  11 12 13 14 10.7 ...\n",
      " $ TCDC_low.cloud.layer_41_28.75  : num  83 76.3 69.7 63 57.7 ...\n",
      " $ TMP_2.m.above.ground_36.5_32.5 : num  -8.28 -8.1 -7.93 -7.75 -8 ...\n",
      " $ TMP_2.m.above.ground_37_35.5   : num  4.4 3.97 3.55 3.12 3.11 ...\n",
      " $ TMP_2.m.above.ground_38_32.5   : num  -4.68 -4.88 -5.09 -5.29 -6 ...\n",
      " $ TMP_2.m.above.ground_38.5_27   : num  5.03 4.73 4.44 4.14 4.06 ...\n",
      " $ TMP_2.m.above.ground_39.75_30.5: num  -3.17 -3.29 -3.42 -3.54 -3.88 ...\n",
      " $ TMP_2.m.above.ground_40_33     : num  -6.87 -7.02 -7.17 -7.32 -7.55 ...\n",
      " $ TMP_2.m.above.ground_41_28.75  : num  6.89 6.81 6.73 6.65 6.55 ...\n",
      " $ wdir_10m_36.5_32.5             : num  219 218 217 215 216 ...\n",
      " $ wdir_10m_37_35.5               : num  179 182 185 187 187 ...\n",
      " $ wdir_10m_38_32.5               : num  232 245 258 272 218 ...\n",
      " $ wdir_10m_38.5_27               : num  254 258 261 265 266 ...\n",
      " $ wdir_10m_39.75_30.5            : num  337 342 347 352 350 ...\n",
      " $ wdir_10m_40_33                 : num  93.5 90.3 87.1 83.9 93.9 ...\n",
      " $ wdir_10m_41_28.75              : num  288 297 305 314 309 ...\n",
      " $ ws_10m_36.5_32.5               : num  2.79 2.73 2.66 2.6 2.55 ...\n",
      " $ ws_10m_37_35.5                 : num  2.36 2.31 2.26 2.22 2.21 ...\n",
      " $ ws_10m_38_32.5                 : num  0.801 0.651 0.5 0.35 0.38 ...\n",
      " $ ws_10m_38.5_27                 : num  2.68 2.67 2.66 2.65 2.64 ...\n",
      " $ ws_10m_39.75_30.5              : num  0.779 1.001 1.222 1.444 1.55 ...\n",
      " $ ws_10m_40_33                   : num  0.912 0.893 0.874 0.855 0.765 ...\n",
      " $ ws_10m_41_28.75                : num  3.15 3.12 3.09 3.06 2.92 ...\n",
      " - attr(*, \".internal.selfref\")=<externalptr> \n",
      " - attr(*, \"sorted\")= chr  \"date\" \"hour\"\n"
     ]
    }
   ],
   "source": [
    "str(wide_feat)"
   ]
  },
  {
   "cell_type": "markdown",
   "id": "93ef3926",
   "metadata": {},
   "source": [
    "# PCA"
   ]
  },
  {
   "cell_type": "markdown",
   "id": "037fe4d2",
   "metadata": {},
   "source": [
    "### DSWRF"
   ]
  },
  {
   "cell_type": "code",
   "execution_count": 16,
   "id": "b0a7f344",
   "metadata": {},
   "outputs": [
    {
     "name": "stdout",
     "output_type": "stream",
     "text": [
      "Classes 'data.table' and 'data.frame':\t26880 obs. of  44 variables:\n",
      " $ date                           : IDate, format: \"2018-12-31\" \"2018-12-31\" ...\n",
      " $ hour                           : int  0 1 2 3 4 5 6 7 8 9 ...\n",
      " $ DSWRF_surface_36.5_32.5        : num  0 0 0 0 0 ...\n",
      " $ DSWRF_surface_37_35.5          : num  0 0 0 0 0 ...\n",
      " $ DSWRF_surface_38_32.5          : num  0 0 0 0 0 ...\n",
      " $ DSWRF_surface_38.5_27          : num  0 0 0 0 0 0 0 0 0 0 ...\n",
      " $ DSWRF_surface_39.75_30.5       : num  0 0 0 0 0 0 0 0 0 0 ...\n",
      " $ DSWRF_surface_40_33            : num  0 0 0 0 0 0 0 0 0 0 ...\n",
      " $ DSWRF_surface_41_28.75         : num  0 0 0 0 0 0 0 0 0 0 ...\n",
      " $ RH_2.m.above.ground_36.5_32.5  : num  83.3 82 80.7 79.4 78.8 ...\n",
      " $ RH_2.m.above.ground_37_35.5    : num  76.1 74.6 73.1 71.6 71.3 71 70.7 70.9 71.1 71.3 ...\n",
      " $ RH_2.m.above.ground_38_32.5    : num  93.2 92.9 92.7 92.4 92.1 ...\n",
      " $ RH_2.m.above.ground_38.5_27    : num  75.2 76 76.9 77.7 77.6 ...\n",
      " $ RH_2.m.above.ground_39.75_30.5 : num  88.7 88.5 88.4 88.2 87.5 ...\n",
      " $ RH_2.m.above.ground_40_33      : num  94.2 94.1 94 93.9 93.6 ...\n",
      " $ RH_2.m.above.ground_41_28.75   : num  76.2 75.5 74.9 74.2 73.4 ...\n",
      " $ TCDC_low.cloud.layer_36.5_32.5 : num  0 1 2 3 5 ...\n",
      " $ TCDC_low.cloud.layer_37_35.5   : num  66 59.7 53.3 47 31.7 ...\n",
      " $ TCDC_low.cloud.layer_38_32.5   : num  95 89 83 77 54 31 8 7 6 5 ...\n",
      " $ TCDC_low.cloud.layer_38.5_27   : num  0 0 0 0 0 0 0 0 0 0 ...\n",
      " $ TCDC_low.cloud.layer_39.75_30.5: num  2 1.333 0.667 0 0 ...\n",
      " $ TCDC_low.cloud.layer_40_33     : num  11 12 13 14 10.7 ...\n",
      " $ TCDC_low.cloud.layer_41_28.75  : num  83 76.3 69.7 63 57.7 ...\n",
      " $ TMP_2.m.above.ground_36.5_32.5 : num  -8.28 -8.1 -7.93 -7.75 -8 ...\n",
      " $ TMP_2.m.above.ground_37_35.5   : num  4.4 3.97 3.55 3.12 3.11 ...\n",
      " $ TMP_2.m.above.ground_38_32.5   : num  -4.68 -4.88 -5.09 -5.29 -6 ...\n",
      " $ TMP_2.m.above.ground_38.5_27   : num  5.03 4.73 4.44 4.14 4.06 ...\n",
      " $ TMP_2.m.above.ground_39.75_30.5: num  -3.17 -3.29 -3.42 -3.54 -3.88 ...\n",
      " $ TMP_2.m.above.ground_40_33     : num  -6.87 -7.02 -7.17 -7.32 -7.55 ...\n",
      " $ TMP_2.m.above.ground_41_28.75  : num  6.89 6.81 6.73 6.65 6.55 ...\n",
      " $ wdir_10m_36.5_32.5             : num  219 218 217 215 216 ...\n",
      " $ wdir_10m_37_35.5               : num  179 182 185 187 187 ...\n",
      " $ wdir_10m_38_32.5               : num  232 245 258 272 218 ...\n",
      " $ wdir_10m_38.5_27               : num  254 258 261 265 266 ...\n",
      " $ wdir_10m_39.75_30.5            : num  337 342 347 352 350 ...\n",
      " $ wdir_10m_40_33                 : num  93.5 90.3 87.1 83.9 93.9 ...\n",
      " $ wdir_10m_41_28.75              : num  288 297 305 314 309 ...\n",
      " $ ws_10m_36.5_32.5               : num  2.79 2.73 2.66 2.6 2.55 ...\n",
      " $ ws_10m_37_35.5                 : num  2.36 2.31 2.26 2.22 2.21 ...\n",
      " $ ws_10m_38_32.5                 : num  0.801 0.651 0.5 0.35 0.38 ...\n",
      " $ ws_10m_38.5_27                 : num  2.68 2.67 2.66 2.65 2.64 ...\n",
      " $ ws_10m_39.75_30.5              : num  0.779 1.001 1.222 1.444 1.55 ...\n",
      " $ ws_10m_40_33                   : num  0.912 0.893 0.874 0.855 0.765 ...\n",
      " $ ws_10m_41_28.75                : num  3.15 3.12 3.09 3.06 2.92 ...\n",
      " - attr(*, \".internal.selfref\")=<externalptr> \n",
      " - attr(*, \"sorted\")= chr  \"date\" \"hour\"\n"
     ]
    }
   ],
   "source": [
    "str(wide_feat)"
   ]
  },
  {
   "cell_type": "code",
   "execution_count": 17,
   "id": "b409fc0c",
   "metadata": {
    "scrolled": true
   },
   "outputs": [
    {
     "data": {
      "text/plain": [
       "Importance of components:\n",
       "                            Comp.1     Comp.2       Comp.3       Comp.4\n",
       "Standard deviation     698.6375896 91.9068787 70.626832627 56.342454516\n",
       "Proportion of Variance   0.9529455  0.0164915  0.009738759  0.006197773\n",
       "Cumulative Proportion    0.9529455  0.9694370  0.979175749  0.985373523\n",
       "                             Comp.5       Comp.6       Comp.7\n",
       "Standard deviation     51.822317537 50.568720451 47.422244122\n",
       "Proportion of Variance  0.005243217  0.004992615  0.004390645\n",
       "Cumulative Proportion   0.990616739  0.995609355  1.000000000\n",
       "\n",
       "Loadings:\n",
       "                         Comp.1 Comp.2 Comp.3 Comp.4 Comp.5 Comp.6 Comp.7\n",
       "DSWRF_surface_36.5_32.5   0.403  0.385  0.426  0.131  0.234  0.648  0.123\n",
       "DSWRF_surface_37_35.5     0.379  0.390  0.280 -0.601 -0.253 -0.446       \n",
       "DSWRF_surface_38_32.5     0.389  0.291 -0.221  0.557  0.372 -0.516       \n",
       "DSWRF_surface_38.5_27     0.378 -0.389  0.345  0.415 -0.586        -0.263\n",
       "DSWRF_surface_39.75_30.5  0.370 -0.253 -0.371        -0.200         0.781\n",
       "DSWRF_surface_40_33       0.373  0.113 -0.641 -0.197 -0.141  0.314 -0.530\n",
       "DSWRF_surface_41_28.75    0.351 -0.622  0.155 -0.314  0.583        -0.152"
      ]
     },
     "metadata": {},
     "output_type": "display_data"
    }
   ],
   "source": [
    "pca_DSWRF=princomp(wide_feat[,seq(1:7)+2,with=F])\n",
    "summary(pca_DSWRF,loadings=T)"
   ]
  },
  {
   "cell_type": "markdown",
   "id": "e6c5247b",
   "metadata": {},
   "source": [
    "### RH_2.m.above"
   ]
  },
  {
   "cell_type": "code",
   "execution_count": 18,
   "id": "33151f61",
   "metadata": {},
   "outputs": [
    {
     "data": {
      "text/plain": [
       "Importance of components:\n",
       "                           Comp.1     Comp.2      Comp.3      Comp.4     Comp.5\n",
       "Standard deviation     44.5869745 17.3207688 15.80892988 13.08547168 9.34503795\n",
       "Proportion of Variance  0.6820781  0.1029325  0.08574782  0.05874851 0.02996265\n",
       "Cumulative Proportion   0.6820781  0.7850106  0.87075843  0.92950694 0.95946959\n",
       "                           Comp.6     Comp.7\n",
       "Standard deviation     7.86807903 7.49826985\n",
       "Proportion of Variance 0.02124005 0.01929036\n",
       "Cumulative Proportion  0.98070964 1.00000000\n",
       "\n",
       "Loadings:\n",
       "                               Comp.1 Comp.2 Comp.3 Comp.4 Comp.5 Comp.6 Comp.7\n",
       "RH_2.m.above.ground_36.5_32.5   0.418         0.779  0.284  0.345         0.128\n",
       "RH_2.m.above.ground_37_35.5     0.359  0.892        -0.172 -0.193              \n",
       "RH_2.m.above.ground_38_32.5     0.420 -0.333  0.211 -0.265 -0.539        -0.545\n",
       "RH_2.m.above.ground_38.5_27     0.350        -0.306  0.675 -0.240 -0.515       \n",
       "RH_2.m.above.ground_39.75_30.5  0.429 -0.109 -0.383 -0.242  0.689 -0.110 -0.336\n",
       "RH_2.m.above.ground_40_33       0.430 -0.272 -0.152 -0.352 -0.143         0.757\n",
       "RH_2.m.above.ground_41_28.75    0.170        -0.280  0.426         0.842       "
      ]
     },
     "metadata": {},
     "output_type": "display_data"
    }
   ],
   "source": [
    "pca_RH=princomp(wide_feat[,seq(1:7)+9,with=F])\n",
    "summary(pca_RH,loadings=T)"
   ]
  },
  {
   "cell_type": "markdown",
   "id": "1cbf3370",
   "metadata": {},
   "source": [
    "### TCDC_low"
   ]
  },
  {
   "cell_type": "code",
   "execution_count": 19,
   "id": "54f2bbe6",
   "metadata": {},
   "outputs": [
    {
     "data": {
      "text/plain": [
       "Importance of components:\n",
       "                           Comp.1     Comp.2     Comp.3      Comp.4      Comp.5\n",
       "Standard deviation     58.1096267 32.3675786 27.1512582 22.73640511 21.70951712\n",
       "Proportion of Variance  0.4883719  0.1515217  0.1066189  0.07476495  0.06816396\n",
       "Cumulative Proportion   0.4883719  0.6398936  0.7465125  0.82127750  0.88944145\n",
       "                            Comp.6      Comp.7\n",
       "Standard deviation     20.50490703 18.54667120\n",
       "Proportion of Variance  0.06080931  0.04974924\n",
       "Cumulative Proportion   0.95025076  1.00000000\n",
       "\n",
       "Loadings:\n",
       "                                Comp.1 Comp.2 Comp.3 Comp.4 Comp.5 Comp.6\n",
       "TCDC_low.cloud.layer_36.5_32.5   0.392  0.377  0.342  0.332  0.321       \n",
       "TCDC_low.cloud.layer_37_35.5     0.290  0.459  0.425 -0.430 -0.545 -0.111\n",
       "TCDC_low.cloud.layer_38_32.5     0.346  0.322 -0.176 -0.148  0.564  0.269\n",
       "TCDC_low.cloud.layer_38.5_27     0.224 -0.166  0.236  0.732 -0.317  0.203\n",
       "TCDC_low.cloud.layer_39.75_30.5  0.451 -0.167 -0.478 -0.162 -0.351  0.558\n",
       "TCDC_low.cloud.layer_40_33       0.430        -0.487  0.196        -0.726\n",
       "TCDC_low.cloud.layer_41_28.75    0.452 -0.694  0.388 -0.287  0.226 -0.171\n",
       "                                Comp.7\n",
       "TCDC_low.cloud.layer_36.5_32.5   0.607\n",
       "TCDC_low.cloud.layer_37_35.5    -0.174\n",
       "TCDC_low.cloud.layer_38_32.5    -0.577\n",
       "TCDC_low.cloud.layer_38.5_27    -0.434\n",
       "TCDC_low.cloud.layer_39.75_30.5  0.283\n",
       "TCDC_low.cloud.layer_40_33            \n",
       "TCDC_low.cloud.layer_41_28.75         "
      ]
     },
     "metadata": {},
     "output_type": "display_data"
    }
   ],
   "source": [
    "pca_TCDC=princomp(wide_feat[,seq(1:7)+16,with=F])\n",
    "summary(pca_TCDC,loadings=T)"
   ]
  },
  {
   "cell_type": "markdown",
   "id": "83959232",
   "metadata": {},
   "source": [
    "### TMP_2.m.above.ground"
   ]
  },
  {
   "cell_type": "code",
   "execution_count": 20,
   "id": "929500b5",
   "metadata": {},
   "outputs": [
    {
     "data": {
      "text/plain": [
       "Importance of components:\n",
       "                           Comp.1     Comp.2     Comp.3     Comp.4     Comp.5\n",
       "Standard deviation     22.4644769 2.96560779 2.50402491 2.11736945 1.68558070\n",
       "Proportion of Variance  0.9520682 0.01659216 0.01182913 0.00845802 0.00536012\n",
       "Cumulative Proportion   0.9520682 0.96866036 0.98048949 0.98894751 0.99430763\n",
       "                            Comp.6      Comp.7\n",
       "Standard deviation     1.373985149 1.062760528\n",
       "Proportion of Variance 0.003561554 0.002130818\n",
       "Cumulative Proportion  0.997869182 1.000000000\n",
       "\n",
       "Loadings:\n",
       "                                Comp.1 Comp.2 Comp.3 Comp.4 Comp.5 Comp.6\n",
       "TMP_2.m.above.ground_36.5_32.5   0.383  0.393  0.171  0.168  0.627  0.488\n",
       "TMP_2.m.above.ground_37_35.5     0.384  0.608  0.370        -0.554 -0.179\n",
       "TMP_2.m.above.ground_38_32.5     0.403        -0.439  0.293  0.224 -0.466\n",
       "TMP_2.m.above.ground_38.5_27     0.369 -0.296  0.335 -0.661  0.313 -0.355\n",
       "TMP_2.m.above.ground_39.75_30.5  0.391 -0.251 -0.296 -0.333 -0.331  0.607\n",
       "TMP_2.m.above.ground_40_33       0.404        -0.458        -0.142 -0.123\n",
       "TMP_2.m.above.ground_41_28.75    0.303 -0.567  0.482  0.574 -0.150       \n",
       "                                Comp.7\n",
       "TMP_2.m.above.ground_36.5_32.5   0.103\n",
       "TMP_2.m.above.ground_37_35.5          \n",
       "TMP_2.m.above.ground_38_32.5    -0.540\n",
       "TMP_2.m.above.ground_38.5_27          \n",
       "TMP_2.m.above.ground_39.75_30.5 -0.328\n",
       "TMP_2.m.above.ground_40_33       0.763\n",
       "TMP_2.m.above.ground_41_28.75         "
      ]
     },
     "metadata": {},
     "output_type": "display_data"
    }
   ],
   "source": [
    "pca_TMP=princomp(wide_feat[,seq(1:7)+23,with=F])\n",
    "summary(pca_TMP,loadings=T)"
   ]
  },
  {
   "cell_type": "markdown",
   "id": "50e2d3d0",
   "metadata": {},
   "source": [
    "### w Values"
   ]
  },
  {
   "cell_type": "code",
   "execution_count": 21,
   "id": "999f979b",
   "metadata": {},
   "outputs": [
    {
     "data": {
      "text/plain": [
       "Importance of components:\n",
       "                            Comp.1      Comp.2     Comp.3     Comp.4     Comp.5\n",
       "Standard deviation     129.5758022 111.7800382 92.1862191 85.4215184 81.9200746\n",
       "Proportion of Variance   0.2695446   0.2005909  0.1364315  0.1171433  0.1077367\n",
       "Cumulative Proportion    0.2695446   0.4701355  0.6065671  0.7237104  0.8314470\n",
       "                            Comp.6      Comp.7       Comp.8       Comp.9\n",
       "Standard deviation     75.63668587 68.93272795 3.4434155012 2.184001e+00\n",
       "Proportion of Variance  0.09184336  0.07628405 0.0001903538 7.657529e-05\n",
       "Cumulative Proportion   0.92329037  0.99957442 0.9997647738 9.998413e-01\n",
       "                            Comp.10      Comp.11      Comp.12      Comp.13\n",
       "Standard deviation     1.670075e+00 1.622508e+00 1.402831e+00 1.137171e+00\n",
       "Proportion of Variance 4.477695e-05 4.226265e-05 3.159321e-05 2.076034e-05\n",
       "Cumulative Proportion  9.998861e-01 9.999284e-01 9.999600e-01 9.999807e-01\n",
       "                            Comp.14\n",
       "Standard deviation     1.095244e+00\n",
       "Proportion of Variance 1.925771e-05\n",
       "Cumulative Proportion  1.000000e+00\n",
       "\n",
       "Loadings:\n",
       "                    Comp.1 Comp.2 Comp.3 Comp.4 Comp.5 Comp.6 Comp.7 Comp.8\n",
       "wdir_10m_36.5_32.5   0.505  0.184  0.221  0.453  0.564  0.370              \n",
       "wdir_10m_37_35.5     0.480  0.399 -0.642  0.143 -0.399         0.129       \n",
       "wdir_10m_38_32.5           -0.619 -0.639         0.378        -0.241       \n",
       "wdir_10m_38.5_27     0.342  0.263        -0.555  0.388 -0.492 -0.336       \n",
       "wdir_10m_39.75_30.5  0.306 -0.321        -0.470         0.118  0.750       \n",
       "wdir_10m_40_33       0.486 -0.368  0.259 -0.173 -0.455  0.315 -0.474       \n",
       "wdir_10m_41_28.75    0.260 -0.342  0.249  0.457 -0.129 -0.711  0.153       \n",
       "ws_10m_36.5_32.5                                                      0.222\n",
       "ws_10m_37_35.5                                                        0.213\n",
       "ws_10m_38_32.5                                                        0.446\n",
       "ws_10m_38.5_27                                                        0.510\n",
       "ws_10m_39.75_30.5                                                     0.407\n",
       "ws_10m_40_33                                                          0.353\n",
       "ws_10m_41_28.75                                                       0.395\n",
       "                    Comp.9 Comp.10 Comp.11 Comp.12 Comp.13 Comp.14\n",
       "wdir_10m_36.5_32.5                                                \n",
       "wdir_10m_37_35.5                                                  \n",
       "wdir_10m_38_32.5                                                  \n",
       "wdir_10m_38.5_27                                                  \n",
       "wdir_10m_39.75_30.5                                               \n",
       "wdir_10m_40_33                                                    \n",
       "wdir_10m_41_28.75                                                 \n",
       "ws_10m_36.5_32.5    -0.292 -0.518  -0.141  -0.250   0.680  -0.230 \n",
       "ws_10m_37_35.5      -0.203 -0.569   0.612   0.334  -0.310         \n",
       "ws_10m_38_32.5      -0.322 -0.110  -0.500  -0.293  -0.590         \n",
       "ws_10m_38.5_27              0.409   0.518  -0.514   0.118   0.164 \n",
       "ws_10m_39.75_30.5   -0.105  0.363           0.512          -0.652 \n",
       "ws_10m_40_33        -0.128  0.122  -0.268   0.463   0.273   0.696 \n",
       "ws_10m_41_28.75      0.862 -0.288  -0.127                         "
      ]
     },
     "metadata": {},
     "output_type": "display_data"
    }
   ],
   "source": [
    "pca_w=princomp(wide_feat[,seq(1:14)+30,with=F])\n",
    "summary(pca_w,loadings=T)"
   ]
  },
  {
   "cell_type": "markdown",
   "id": "25d2adbe",
   "metadata": {},
   "source": [
    "## New Feature Dataset"
   ]
  },
  {
   "cell_type": "code",
   "execution_count": 22,
   "id": "b1939a63",
   "metadata": {},
   "outputs": [],
   "source": [
    "new_feat=data.table(date=wide_feat$date, hour=wide_feat$hour, DSWRF=pca_DSWRF$scores[,1], RH=pca_RH$scores[,1],\n",
    "                    TCDC1 = pca_TCDC$scores[,1], TCDC2 = pca_TCDC$scores[, 2], TMP = pca_TMP$scores[, 1], w1 = pca_w$scores[,1],\n",
    "                    w2 = pca_w$scores[,2], w3 = pca_w$scores[,3])"
   ]
  },
  {
   "cell_type": "code",
   "execution_count": 23,
   "id": "9d53cdc0",
   "metadata": {},
   "outputs": [
    {
     "data": {
      "text/html": [
       "<table>\n",
       "<thead><tr><th scope=col>date</th><th scope=col>hour</th><th scope=col>DSWRF</th><th scope=col>RH</th><th scope=col>TCDC1</th><th scope=col>TCDC2</th><th scope=col>TMP</th><th scope=col>w1</th><th scope=col>w2</th><th scope=col>w3</th></tr></thead>\n",
       "<tbody>\n",
       "\t<tr><td>2018-12-31</td><td>0         </td><td>-569.9611 </td><td>64.35230  </td><td>48.643230 </td><td>  6.501146</td><td>-40.09289 </td><td>81.52956  </td><td> -73.72133</td><td>-23.73527 </td></tr>\n",
       "\t<tr><td>2018-12-31</td><td>1         </td><td>-569.9611 </td><td>63.22281  </td><td>42.236239 </td><td>  6.855581</td><td>-40.50658 </td><td>85.82155  </td><td> -83.52298</td><td>-32.70480 </td></tr>\n",
       "\t<tr><td>2018-12-31</td><td>2         </td><td>-569.9611 </td><td>62.09332  </td><td>35.829249 </td><td>  7.210017</td><td>-40.92027 </td><td>90.11354  </td><td> -93.32463</td><td>-41.67434 </td></tr>\n",
       "\t<tr><td>2018-12-31</td><td>3         </td><td>-569.9611 </td><td>60.96383  </td><td>29.422258 </td><td>  7.564453</td><td>-41.33397 </td><td>94.40553  </td><td>-103.12628</td><td>-50.64387 </td></tr>\n",
       "\t<tr><td>2018-12-31</td><td>4         </td><td>-569.9611 </td><td>59.88503  </td><td>13.947211 </td><td> -2.686073</td><td>-42.00791 </td><td>97.00861  </td><td> -70.70537</td><td>-14.21063 </td></tr>\n",
       "\t<tr><td>2018-12-31</td><td>5         </td><td>-569.9611 </td><td>58.80623  </td><td>-1.527836 </td><td>-12.936599</td><td>-42.68185 </td><td>99.61169  </td><td> -38.28447</td><td> 22.22261 </td></tr>\n",
       "</tbody>\n",
       "</table>\n"
      ],
      "text/latex": [
       "\\begin{tabular}{r|llllllllll}\n",
       " date & hour & DSWRF & RH & TCDC1 & TCDC2 & TMP & w1 & w2 & w3\\\\\n",
       "\\hline\n",
       "\t 2018-12-31 & 0          & -569.9611  & 64.35230   & 48.643230  &   6.501146 & -40.09289  & 81.52956   &  -73.72133 & -23.73527 \\\\\n",
       "\t 2018-12-31 & 1          & -569.9611  & 63.22281   & 42.236239  &   6.855581 & -40.50658  & 85.82155   &  -83.52298 & -32.70480 \\\\\n",
       "\t 2018-12-31 & 2          & -569.9611  & 62.09332   & 35.829249  &   7.210017 & -40.92027  & 90.11354   &  -93.32463 & -41.67434 \\\\\n",
       "\t 2018-12-31 & 3          & -569.9611  & 60.96383   & 29.422258  &   7.564453 & -41.33397  & 94.40553   & -103.12628 & -50.64387 \\\\\n",
       "\t 2018-12-31 & 4          & -569.9611  & 59.88503   & 13.947211  &  -2.686073 & -42.00791  & 97.00861   &  -70.70537 & -14.21063 \\\\\n",
       "\t 2018-12-31 & 5          & -569.9611  & 58.80623   & -1.527836  & -12.936599 & -42.68185  & 99.61169   &  -38.28447 &  22.22261 \\\\\n",
       "\\end{tabular}\n"
      ],
      "text/markdown": [
       "\n",
       "| date | hour | DSWRF | RH | TCDC1 | TCDC2 | TMP | w1 | w2 | w3 |\n",
       "|---|---|---|---|---|---|---|---|---|---|\n",
       "| 2018-12-31 | 0          | -569.9611  | 64.35230   | 48.643230  |   6.501146 | -40.09289  | 81.52956   |  -73.72133 | -23.73527  |\n",
       "| 2018-12-31 | 1          | -569.9611  | 63.22281   | 42.236239  |   6.855581 | -40.50658  | 85.82155   |  -83.52298 | -32.70480  |\n",
       "| 2018-12-31 | 2          | -569.9611  | 62.09332   | 35.829249  |   7.210017 | -40.92027  | 90.11354   |  -93.32463 | -41.67434  |\n",
       "| 2018-12-31 | 3          | -569.9611  | 60.96383   | 29.422258  |   7.564453 | -41.33397  | 94.40553   | -103.12628 | -50.64387  |\n",
       "| 2018-12-31 | 4          | -569.9611  | 59.88503   | 13.947211  |  -2.686073 | -42.00791  | 97.00861   |  -70.70537 | -14.21063  |\n",
       "| 2018-12-31 | 5          | -569.9611  | 58.80623   | -1.527836  | -12.936599 | -42.68185  | 99.61169   |  -38.28447 |  22.22261  |\n",
       "\n"
      ],
      "text/plain": [
       "  date       hour DSWRF     RH       TCDC1     TCDC2      TMP       w1      \n",
       "1 2018-12-31 0    -569.9611 64.35230 48.643230   6.501146 -40.09289 81.52956\n",
       "2 2018-12-31 1    -569.9611 63.22281 42.236239   6.855581 -40.50658 85.82155\n",
       "3 2018-12-31 2    -569.9611 62.09332 35.829249   7.210017 -40.92027 90.11354\n",
       "4 2018-12-31 3    -569.9611 60.96383 29.422258   7.564453 -41.33397 94.40553\n",
       "5 2018-12-31 4    -569.9611 59.88503 13.947211  -2.686073 -42.00791 97.00861\n",
       "6 2018-12-31 5    -569.9611 58.80623 -1.527836 -12.936599 -42.68185 99.61169\n",
       "  w2         w3       \n",
       "1  -73.72133 -23.73527\n",
       "2  -83.52298 -32.70480\n",
       "3  -93.32463 -41.67434\n",
       "4 -103.12628 -50.64387\n",
       "5  -70.70537 -14.21063\n",
       "6  -38.28447  22.22261"
      ]
     },
     "metadata": {},
     "output_type": "display_data"
    }
   ],
   "source": [
    "head(new_feat)"
   ]
  },
  {
   "cell_type": "code",
   "execution_count": 24,
   "id": "3eb58d75",
   "metadata": {},
   "outputs": [],
   "source": [
    "all_dt=merge(x = data, y=new_feat, by=c(\"date\", \"hour\"), all.x=TRUE)"
   ]
  },
  {
   "cell_type": "code",
   "execution_count": 25,
   "id": "1bf9cf02",
   "metadata": {},
   "outputs": [
    {
     "data": {
      "text/html": [
       "<table>\n",
       "<thead><tr><th scope=col>date</th><th scope=col>hour</th><th scope=col>net</th><th scope=col>system_direction</th><th scope=col>ID</th><th scope=col>lag_24</th><th scope=col>lag_168</th><th scope=col>weekday</th><th scope=col>is_monday</th><th scope=col>is_wday</th><th scope=col>is_friday</th><th scope=col>is_saturday</th><th scope=col>is_sunday</th><th scope=col>is_over</th><th scope=col>is_12</th><th scope=col>is_13</th><th scope=col>is_22</th><th scope=col>is_23</th><th scope=col>net_new</th><th scope=col>DSWRF</th><th scope=col>RH</th><th scope=col>TCDC1</th><th scope=col>TCDC2</th><th scope=col>TMP</th><th scope=col>w1</th><th scope=col>w2</th><th scope=col>w3</th></tr></thead>\n",
       "<tbody>\n",
       "\t<tr><td>2019-01-08 </td><td>0          </td><td>-464.400   </td><td>Negative   </td><td>169        </td><td>-1176.657  </td><td>-1934.795  </td><td>3          </td><td>0          </td><td>1          </td><td>0          </td><td>0          </td><td>0          </td><td>0          </td><td>0          </td><td>0          </td><td>0          </td><td>0          </td><td>2          </td><td>-569.9611  </td><td>61.86299   </td><td>98.70077   </td><td>30.45218   </td><td>-42.44280  </td><td>-19.35854  </td><td>-126.337284</td><td>-125.995139</td></tr>\n",
       "\t<tr><td>2019-01-08 </td><td>1          </td><td>  -8.662   </td><td>Neutral    </td><td>170        </td><td> -406.941  </td><td> -750.866  </td><td>3          </td><td>0          </td><td>1          </td><td>0          </td><td>0          </td><td>0          </td><td>0          </td><td>0          </td><td>0          </td><td>0          </td><td>0          </td><td>4          </td><td>-569.9611  </td><td>62.38798   </td><td>95.00830   </td><td>31.00809   </td><td>-42.51784  </td><td>-26.14478  </td><td> -69.761402</td><td> -65.321967</td></tr>\n",
       "\t<tr><td>2019-01-08 </td><td>2          </td><td>  70.445   </td><td>Positive   </td><td>171        </td><td> -403.687  </td><td> -982.767  </td><td>3          </td><td>0          </td><td>1          </td><td>0          </td><td>0          </td><td>0          </td><td>0          </td><td>0          </td><td>0          </td><td>0          </td><td>0          </td><td>5          </td><td>-569.9611  </td><td>62.91296   </td><td>91.31583   </td><td>31.56401   </td><td>-42.59289  </td><td>-32.93102  </td><td> -13.185520</td><td>  -4.648795</td></tr>\n",
       "\t<tr><td>2019-01-08 </td><td>3          </td><td>  60.549   </td><td>Positive   </td><td>172        </td><td> -579.674  </td><td> -764.620  </td><td>3          </td><td>0          </td><td>1          </td><td>0          </td><td>0          </td><td>0          </td><td>0          </td><td>0          </td><td>0          </td><td>0          </td><td>0          </td><td>5          </td><td>-569.9611  </td><td>63.43795   </td><td>87.62336   </td><td>32.11992   </td><td>-42.66794  </td><td>-39.71726  </td><td>  43.390362</td><td>  56.024377</td></tr>\n",
       "\t<tr><td>2019-01-08 </td><td>4          </td><td>  43.140   </td><td>Neutral    </td><td>173        </td><td>  467.443  </td><td>-1233.289  </td><td>3          </td><td>0          </td><td>1          </td><td>0          </td><td>0          </td><td>0          </td><td>0          </td><td>0          </td><td>0          </td><td>0          </td><td>0          </td><td>4          </td><td>-569.9611  </td><td>67.10149   </td><td>86.17535   </td><td>23.69623   </td><td>-42.78473  </td><td>-48.66498  </td><td>  20.914823</td><td>  19.575963</td></tr>\n",
       "\t<tr><td>2019-01-08 </td><td>5          </td><td>  25.490   </td><td>Neutral    </td><td>174        </td><td>  391.953  </td><td>-1469.061  </td><td>3          </td><td>0          </td><td>1          </td><td>0          </td><td>0          </td><td>0          </td><td>0          </td><td>0          </td><td>0          </td><td>0          </td><td>0          </td><td>4          </td><td>-569.9611  </td><td>70.76503   </td><td>84.72734   </td><td>15.27253   </td><td>-42.90151  </td><td>-57.61271  </td><td>  -1.560716</td><td> -16.872452</td></tr>\n",
       "</tbody>\n",
       "</table>\n"
      ],
      "text/latex": [
       "\\begin{tabular}{r|lllllllllllllllllllllllllll}\n",
       " date & hour & net & system\\_direction & ID & lag\\_24 & lag\\_168 & weekday & is\\_monday & is\\_wday & is\\_friday & is\\_saturday & is\\_sunday & is\\_over & is\\_12 & is\\_13 & is\\_22 & is\\_23 & net\\_new & DSWRF & RH & TCDC1 & TCDC2 & TMP & w1 & w2 & w3\\\\\n",
       "\\hline\n",
       "\t 2019-01-08  & 0           & -464.400    & Negative    & 169         & -1176.657   & -1934.795   & 3           & 0           & 1           & 0           & 0           & 0           & 0           & 0           & 0           & 0           & 0           & 2           & -569.9611   & 61.86299    & 98.70077    & 30.45218    & -42.44280   & -19.35854   & -126.337284 & -125.995139\\\\\n",
       "\t 2019-01-08  & 1           &   -8.662    & Neutral     & 170         &  -406.941   &  -750.866   & 3           & 0           & 1           & 0           & 0           & 0           & 0           & 0           & 0           & 0           & 0           & 4           & -569.9611   & 62.38798    & 95.00830    & 31.00809    & -42.51784   & -26.14478   &  -69.761402 &  -65.321967\\\\\n",
       "\t 2019-01-08  & 2           &   70.445    & Positive    & 171         &  -403.687   &  -982.767   & 3           & 0           & 1           & 0           & 0           & 0           & 0           & 0           & 0           & 0           & 0           & 5           & -569.9611   & 62.91296    & 91.31583    & 31.56401    & -42.59289   & -32.93102   &  -13.185520 &   -4.648795\\\\\n",
       "\t 2019-01-08  & 3           &   60.549    & Positive    & 172         &  -579.674   &  -764.620   & 3           & 0           & 1           & 0           & 0           & 0           & 0           & 0           & 0           & 0           & 0           & 5           & -569.9611   & 63.43795    & 87.62336    & 32.11992    & -42.66794   & -39.71726   &   43.390362 &   56.024377\\\\\n",
       "\t 2019-01-08  & 4           &   43.140    & Neutral     & 173         &   467.443   & -1233.289   & 3           & 0           & 1           & 0           & 0           & 0           & 0           & 0           & 0           & 0           & 0           & 4           & -569.9611   & 67.10149    & 86.17535    & 23.69623    & -42.78473   & -48.66498   &   20.914823 &   19.575963\\\\\n",
       "\t 2019-01-08  & 5           &   25.490    & Neutral     & 174         &   391.953   & -1469.061   & 3           & 0           & 1           & 0           & 0           & 0           & 0           & 0           & 0           & 0           & 0           & 4           & -569.9611   & 70.76503    & 84.72734    & 15.27253    & -42.90151   & -57.61271   &   -1.560716 &  -16.872452\\\\\n",
       "\\end{tabular}\n"
      ],
      "text/markdown": [
       "\n",
       "| date | hour | net | system_direction | ID | lag_24 | lag_168 | weekday | is_monday | is_wday | is_friday | is_saturday | is_sunday | is_over | is_12 | is_13 | is_22 | is_23 | net_new | DSWRF | RH | TCDC1 | TCDC2 | TMP | w1 | w2 | w3 |\n",
       "|---|---|---|---|---|---|---|---|---|---|---|---|---|---|---|---|---|---|---|---|---|---|---|---|---|---|---|\n",
       "| 2019-01-08  | 0           | -464.400    | Negative    | 169         | -1176.657   | -1934.795   | 3           | 0           | 1           | 0           | 0           | 0           | 0           | 0           | 0           | 0           | 0           | 2           | -569.9611   | 61.86299    | 98.70077    | 30.45218    | -42.44280   | -19.35854   | -126.337284 | -125.995139 |\n",
       "| 2019-01-08  | 1           |   -8.662    | Neutral     | 170         |  -406.941   |  -750.866   | 3           | 0           | 1           | 0           | 0           | 0           | 0           | 0           | 0           | 0           | 0           | 4           | -569.9611   | 62.38798    | 95.00830    | 31.00809    | -42.51784   | -26.14478   |  -69.761402 |  -65.321967 |\n",
       "| 2019-01-08  | 2           |   70.445    | Positive    | 171         |  -403.687   |  -982.767   | 3           | 0           | 1           | 0           | 0           | 0           | 0           | 0           | 0           | 0           | 0           | 5           | -569.9611   | 62.91296    | 91.31583    | 31.56401    | -42.59289   | -32.93102   |  -13.185520 |   -4.648795 |\n",
       "| 2019-01-08  | 3           |   60.549    | Positive    | 172         |  -579.674   |  -764.620   | 3           | 0           | 1           | 0           | 0           | 0           | 0           | 0           | 0           | 0           | 0           | 5           | -569.9611   | 63.43795    | 87.62336    | 32.11992    | -42.66794   | -39.71726   |   43.390362 |   56.024377 |\n",
       "| 2019-01-08  | 4           |   43.140    | Neutral     | 173         |   467.443   | -1233.289   | 3           | 0           | 1           | 0           | 0           | 0           | 0           | 0           | 0           | 0           | 0           | 4           | -569.9611   | 67.10149    | 86.17535    | 23.69623    | -42.78473   | -48.66498   |   20.914823 |   19.575963 |\n",
       "| 2019-01-08  | 5           |   25.490    | Neutral     | 174         |   391.953   | -1469.061   | 3           | 0           | 1           | 0           | 0           | 0           | 0           | 0           | 0           | 0           | 0           | 4           | -569.9611   | 70.76503    | 84.72734    | 15.27253    | -42.90151   | -57.61271   |   -1.560716 |  -16.872452 |\n",
       "\n"
      ],
      "text/plain": [
       "  date       hour net      system_direction ID  lag_24    lag_168   weekday\n",
       "1 2019-01-08 0    -464.400 Negative         169 -1176.657 -1934.795 3      \n",
       "2 2019-01-08 1      -8.662 Neutral          170  -406.941  -750.866 3      \n",
       "3 2019-01-08 2      70.445 Positive         171  -403.687  -982.767 3      \n",
       "4 2019-01-08 3      60.549 Positive         172  -579.674  -764.620 3      \n",
       "5 2019-01-08 4      43.140 Neutral          173   467.443 -1233.289 3      \n",
       "6 2019-01-08 5      25.490 Neutral          174   391.953 -1469.061 3      \n",
       "  is_monday is_wday is_friday is_saturday is_sunday is_over is_12 is_13 is_22\n",
       "1 0         1       0         0           0         0       0     0     0    \n",
       "2 0         1       0         0           0         0       0     0     0    \n",
       "3 0         1       0         0           0         0       0     0     0    \n",
       "4 0         1       0         0           0         0       0     0     0    \n",
       "5 0         1       0         0           0         0       0     0     0    \n",
       "6 0         1       0         0           0         0       0     0     0    \n",
       "  is_23 net_new DSWRF     RH       TCDC1    TCDC2    TMP       w1       \n",
       "1 0     2       -569.9611 61.86299 98.70077 30.45218 -42.44280 -19.35854\n",
       "2 0     4       -569.9611 62.38798 95.00830 31.00809 -42.51784 -26.14478\n",
       "3 0     5       -569.9611 62.91296 91.31583 31.56401 -42.59289 -32.93102\n",
       "4 0     5       -569.9611 63.43795 87.62336 32.11992 -42.66794 -39.71726\n",
       "5 0     4       -569.9611 67.10149 86.17535 23.69623 -42.78473 -48.66498\n",
       "6 0     4       -569.9611 70.76503 84.72734 15.27253 -42.90151 -57.61271\n",
       "  w2          w3         \n",
       "1 -126.337284 -125.995139\n",
       "2  -69.761402  -65.321967\n",
       "3  -13.185520   -4.648795\n",
       "4   43.390362   56.024377\n",
       "5   20.914823   19.575963\n",
       "6   -1.560716  -16.872452"
      ]
     },
     "metadata": {},
     "output_type": "display_data"
    }
   ],
   "source": [
    "head(all_dt)"
   ]
  },
  {
   "cell_type": "code",
   "execution_count": null,
   "id": "ef37497b",
   "metadata": {},
   "outputs": [],
   "source": []
  },
  {
   "cell_type": "code",
   "execution_count": null,
   "id": "2e044b74",
   "metadata": {},
   "outputs": [],
   "source": []
  },
  {
   "cell_type": "markdown",
   "id": "55e8b439",
   "metadata": {},
   "source": [
    "# Model"
   ]
  },
  {
   "cell_type": "code",
   "execution_count": 26,
   "id": "aafeab55",
   "metadata": {},
   "outputs": [],
   "source": [
    "test_date_start=\"2021-12-01\"\n",
    "test_date_end=\"2021-12-14\""
   ]
  },
  {
   "cell_type": "code",
   "execution_count": 27,
   "id": "b7132d4b",
   "metadata": {},
   "outputs": [],
   "source": [
    "train=all_dt[date<test_date_start,]\n",
    "test=all_dt[(date>=test_date_start) & (date<=test_date_end),]"
   ]
  },
  {
   "cell_type": "code",
   "execution_count": 28,
   "id": "7c10564d",
   "metadata": {},
   "outputs": [],
   "source": [
    "train=train[,-c(\"date\", \"net\", \"system_direction\", \"ID\", \"is_over\")]\n",
    "test=test[,-c(\"date\", \"net\", \"system_direction\", \"ID\", \"is_over\")]"
   ]
  },
  {
   "cell_type": "code",
   "execution_count": null,
   "id": "ea4db9f9",
   "metadata": {},
   "outputs": [],
   "source": []
  },
  {
   "cell_type": "markdown",
   "id": "9fc17642",
   "metadata": {},
   "source": [
    "## KNN Calculation"
   ]
  },
  {
   "cell_type": "code",
   "execution_count": 29,
   "id": "8db5e934",
   "metadata": {},
   "outputs": [],
   "source": [
    "library(caret)"
   ]
  },
  {
   "cell_type": "markdown",
   "id": "eb443d06",
   "metadata": {},
   "source": [
    "### Data Preparation"
   ]
  },
  {
   "cell_type": "code",
   "execution_count": 30,
   "id": "9adcd12a",
   "metadata": {},
   "outputs": [],
   "source": [
    "trainclass=train$net_new\n",
    "traindata=as.matrix(train[, -c(14),with=F])\n",
    "\n",
    "traindata=scale(traindata)\n",
    "train=data.table(cl=trainclass,traindata)"
   ]
  },
  {
   "cell_type": "markdown",
   "id": "62036b51",
   "metadata": {},
   "source": [
    "### KNN Model"
   ]
  },
  {
   "cell_type": "code",
   "execution_count": 31,
   "id": "bc0ce89e",
   "metadata": {},
   "outputs": [],
   "source": [
    "ctrl = trainControl(method=\"repeatedcv\",repeats = 3,number=10) \n",
    "knnFit=train(cl ~ ., data = train, method = \"knn\", \n",
    "                trControl = ctrl, \n",
    "                tuneLength = 10)"
   ]
  },
  {
   "cell_type": "code",
   "execution_count": 32,
   "id": "866564ae",
   "metadata": {},
   "outputs": [
    {
     "data": {
      "text/plain": [
       "k-Nearest Neighbors \n",
       "\n",
       "25392 samples\n",
       "   21 predictor\n",
       "   10 classes: '1', '2', '3', '4', '5', '6', '7', '8', '9', '10' \n",
       "\n",
       "No pre-processing\n",
       "Resampling: Cross-Validated (10 fold, repeated 3 times) \n",
       "Summary of sample sizes: 22853, 22854, 22855, 22853, 22852, 22853, ... \n",
       "Resampling results across tuning parameters:\n",
       "\n",
       "  k   Accuracy   Kappa    \n",
       "   5  0.2854041  0.2005847\n",
       "   7  0.2758344  0.1894282\n",
       "   9  0.2671039  0.1789953\n",
       "  11  0.2600412  0.1706082\n",
       "  13  0.2534774  0.1628068\n",
       "  15  0.2489754  0.1573194\n",
       "  17  0.2454577  0.1530646\n",
       "  19  0.2438570  0.1509137\n",
       "  21  0.2386575  0.1448077\n",
       "  23  0.2374632  0.1431923\n",
       "\n",
       "Accuracy was used to select the optimal model using the largest value.\n",
       "The final value used for the model was k = 5."
      ]
     },
     "metadata": {},
     "output_type": "display_data"
    }
   ],
   "source": [
    "knnFit"
   ]
  },
  {
   "cell_type": "code",
   "execution_count": 33,
   "id": "979bff40",
   "metadata": {},
   "outputs": [
    {
     "data": {
      "image/png": "[encoded data removed]",
      "text/plain": [
       "plot without title"
      ]
     },
     "metadata": {},
     "output_type": "display_data"
    }
   ],
   "source": [
    "plot(knnFit)"
   ]
  },
  {
   "cell_type": "markdown",
   "id": "5a162fc3",
   "metadata": {},
   "source": [
    "# Predictions"
   ]
  },
  {
   "cell_type": "code",
   "execution_count": 34,
   "id": "7cfed094",
   "metadata": {},
   "outputs": [],
   "source": [
    "testclass=test$net_new\n",
    "testdata=as.matrix(test[, -c(14),with=F])\n",
    "\n",
    "testdata=scale(testdata)\n",
    "test=data.table(cl=testclass,testdata)"
   ]
  },
  {
   "cell_type": "code",
   "execution_count": 35,
   "id": "b20f1b1e",
   "metadata": {},
   "outputs": [
    {
     "data": {
      "text/plain": [
       "      predicted\n",
       "actual  1  2  3  4  5  6  7  8  9 10\n",
       "    1   0  3  0  1  0  0  1  1  2  1\n",
       "    2   3  4  1  4  0  0  1  2  1  0\n",
       "    3   3  5  1  8  1  3  0  0  4  2\n",
       "    4   8  3  5  8  4  6  7  4  2  0\n",
       "    5   3  3  8  2  1  1  2  4  0  1\n",
       "    6   5  6  5  5  2  6  3  1  2  2\n",
       "    7   1  2  9  6  2  6  2  2  3  2\n",
       "    8   7  8  9  9  2  4  4  2  2  4\n",
       "    9   5  5  5 12  2  5  5  5  4  3\n",
       "    10  0  0  2  6  1  1  9  5  6  8"
      ]
     },
     "metadata": {},
     "output_type": "display_data"
    }
   ],
   "source": [
    "pred=predict(knnFit, test)\n",
    "\n",
    "res_dt=data.table(actual=all_dt[(date>=test_date_start) & (date<=test_date_end),]$net_new, \n",
    "                  actual_req=all_dt[(date>=test_date_start) & (date<=test_date_end),]$system_direction, predicted=pred)\n",
    "\n",
    "table(actual=res_dt$actual,  predicted=res_dt$predicted)"
   ]
  },
  {
   "cell_type": "markdown",
   "id": "f28ec047",
   "metadata": {},
   "source": [
    "## Class Predictions"
   ]
  },
  {
   "cell_type": "code",
   "execution_count": 36,
   "id": "47e11b4b",
   "metadata": {
    "scrolled": true
   },
   "outputs": [
    {
     "data": {
      "text/plain": [
       "          predicted\n",
       "actual     Negative Neutral Positive\n",
       "  Negative       28      15       27\n",
       "  Neutral         8       6       15\n",
       "  Positive       83      40      114"
      ]
     },
     "metadata": {},
     "output_type": "display_data"
    }
   ],
   "source": [
    "res_dt[, converted_pred:=ifelse(predicted %in% c(\"1\",\"2\", \"3\"), \"Negative\", \n",
    "                         ifelse(predicted %in% c(\"5\",\"6\",\"7\",\"8\",\"9\",\"10\"), \"Positive\", \"Neutral\"))]\n",
    "\n",
    "table(actual=res_dt$actual_req,  predicted=res_dt$converted_pred)"
   ]
  },
  {
   "cell_type": "code",
   "execution_count": 37,
   "id": "e3ceca05",
   "metadata": {},
   "outputs": [
    {
     "data": {
      "text/plain": [
       "Confusion Matrix and Statistics\n",
       "\n",
       "          Reference\n",
       "Prediction Negative Neutral Positive\n",
       "  Negative       28       8       83\n",
       "  Neutral        15       6       40\n",
       "  Positive       27      15      114\n",
       "\n",
       "Overall Statistics\n",
       "                                          \n",
       "               Accuracy : 0.4405          \n",
       "                 95% CI : (0.3866, 0.4954)\n",
       "    No Information Rate : 0.7054          \n",
       "    P-Value [Acc > NIR] : 1               \n",
       "                                          \n",
       "                  Kappa : 0.0404          \n",
       "                                          \n",
       " Mcnemar's Test P-Value : 4.006e-09       \n",
       "\n",
       "Statistics by Class:\n",
       "\n",
       "                     Class: Negative Class: Neutral Class: Positive\n",
       "Precision                    0.23529        0.09836          0.7308\n",
       "Recall                       0.40000        0.20690          0.4810\n",
       "F1                           0.29630        0.13333          0.5802\n",
       "Prevalence                   0.20833        0.08631          0.7054\n",
       "Detection Rate               0.08333        0.01786          0.3393\n",
       "Detection Prevalence         0.35417        0.18155          0.4643\n",
       "Balanced Accuracy            0.52895        0.51387          0.5284"
      ]
     },
     "metadata": {},
     "output_type": "display_data"
    }
   ],
   "source": [
    "confusionMatrix(data = as.factor(res_dt$converted_pred), reference = as.factor(res_dt$actual_req), mode = \"prec_recall\")"
   ]
  },
  {
   "cell_type": "code",
   "execution_count": null,
   "id": "3a633499",
   "metadata": {},
   "outputs": [],
   "source": []
  }
 ],
 "metadata": {
  "kernelspec": {
   "display_name": "R",
   "language": "R",
   "name": "ir"
  },
  "language_info": {
   "codemirror_mode": "r",
   "file_extension": ".r",
   "mimetype": "text/x-r-source",
   "name": "R",
   "pygments_lexer": "r",
   "version": "3.6.1"
  }
 },
 "nbformat": 4,
 "nbformat_minor": 5
}
