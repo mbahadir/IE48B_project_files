{
 "cells": [
  {
   "cell_type": "code",
   "execution_count": 142,
   "id": "7af0d1b7",
   "metadata": {},
   "outputs": [],
   "source": [
    "library(data.table)\n",
    "library(ggplot2)\n",
    "library(TSrepr)\n",
    "library(TSdist)\n",
    "library(dtw)"
   ]
  },
  {
   "cell_type": "code",
   "execution_count": 143,
   "id": "c675189e",
   "metadata": {},
   "outputs": [],
   "source": [
    "current_folder=\"D:/Datasets/IE48B_project\"\n",
    "\n",
    "dist_path=sprintf('%s/distances/project',current_folder)"
   ]
  },
  {
   "cell_type": "markdown",
   "id": "9bae83cf",
   "metadata": {},
   "source": [
    "# Dataset"
   ]
  },
  {
   "cell_type": "code",
   "execution_count": 144,
   "id": "1c3ae3fd",
   "metadata": {},
   "outputs": [],
   "source": [
    "data=fread(\"bulk_imbalance.csv\")"
   ]
  },
  {
   "cell_type": "markdown",
   "id": "1289ca30",
   "metadata": {},
   "source": [
    "## Feature Adding"
   ]
  },
  {
   "cell_type": "code",
   "execution_count": 145,
   "id": "4230841e",
   "metadata": {},
   "outputs": [],
   "source": [
    "data[, lag_24:=shift(net, 24)]\n",
    "data[, lag_168:=shift(net, 168)]\n",
    "data <- data[seq(-168,-1),]\n",
    "\n",
    "data$weekday=wday(data$date)\n",
    "data[, is_wday:=ifelse(weekday%in%c(2,3,4,5,6), 1, 0)]\n",
    "data[, is_weekend:=ifelse(weekday%in%c(1,7), 1, 0)]\n",
    "data$weekday=NULL"
   ]
  },
  {
   "cell_type": "code",
   "execution_count": 146,
   "id": "af285b3c",
   "metadata": {},
   "outputs": [],
   "source": [
    "feat=fread(\"2022-01-22_weather.csv\")"
   ]
  },
  {
   "cell_type": "code",
   "execution_count": 147,
   "id": "181488c8",
   "metadata": {},
   "outputs": [],
   "source": [
    "wide_feat=dcast(feat, date + hour ~ variable+ lat + lon , value.var=\"value\")\n",
    "wide_feat=wide_feat[date<Sys.Date(),]"
   ]
  },
  {
   "cell_type": "code",
   "execution_count": 148,
   "id": "dfcb2827",
   "metadata": {},
   "outputs": [
    {
     "name": "stdout",
     "output_type": "stream",
     "text": [
      "Classes 'data.table' and 'data.frame':\t26880 obs. of  44 variables:\n",
      " $ date                           : IDate, format: \"2018-12-31\" \"2018-12-31\" ...\n",
      " $ hour                           : int  0 1 2 3 4 5 6 7 8 9 ...\n",
      " $ DSWRF_surface_36.5_32.5        : num  0 0 0 0 0 ...\n",
      " $ DSWRF_surface_37_35.5          : num  0 0 0 0 0 ...\n",
      " $ DSWRF_surface_38_32.5          : num  0 0 0 0 0 ...\n",
      " $ DSWRF_surface_38.5_27          : num  0 0 0 0 0 0 0 0 0 0 ...\n",
      " $ DSWRF_surface_39.75_30.5       : num  0 0 0 0 0 0 0 0 0 0 ...\n",
      " $ DSWRF_surface_40_33            : num  0 0 0 0 0 0 0 0 0 0 ...\n",
      " $ DSWRF_surface_41_28.75         : num  0 0 0 0 0 0 0 0 0 0 ...\n",
      " $ RH_2.m.above.ground_36.5_32.5  : num  83.3 82 80.7 79.4 78.8 ...\n",
      " $ RH_2.m.above.ground_37_35.5    : num  76.1 74.6 73.1 71.6 71.3 71 70.7 70.9 71.1 71.3 ...\n",
      " $ RH_2.m.above.ground_38_32.5    : num  93.2 92.9 92.7 92.4 92.1 ...\n",
      " $ RH_2.m.above.ground_38.5_27    : num  75.2 76 76.9 77.7 77.6 ...\n",
      " $ RH_2.m.above.ground_39.75_30.5 : num  88.7 88.5 88.4 88.2 87.5 ...\n",
      " $ RH_2.m.above.ground_40_33      : num  94.2 94.1 94 93.9 93.6 ...\n",
      " $ RH_2.m.above.ground_41_28.75   : num  76.2 75.5 74.9 74.2 73.4 ...\n",
      " $ TCDC_low.cloud.layer_36.5_32.5 : num  0 1 2 3 5 ...\n",
      " $ TCDC_low.cloud.layer_37_35.5   : num  66 59.7 53.3 47 31.7 ...\n",
      " $ TCDC_low.cloud.layer_38_32.5   : num  95 89 83 77 54 31 8 7 6 5 ...\n",
      " $ TCDC_low.cloud.layer_38.5_27   : num  0 0 0 0 0 0 0 0 0 0 ...\n",
      " $ TCDC_low.cloud.layer_39.75_30.5: num  2 1.333 0.667 0 0 ...\n",
      " $ TCDC_low.cloud.layer_40_33     : num  11 12 13 14 10.7 ...\n",
      " $ TCDC_low.cloud.layer_41_28.75  : num  83 76.3 69.7 63 57.7 ...\n",
      " $ TMP_2.m.above.ground_36.5_32.5 : num  -8.28 -8.1 -7.93 -7.75 -8 ...\n",
      " $ TMP_2.m.above.ground_37_35.5   : num  4.4 3.97 3.55 3.12 3.11 ...\n",
      " $ TMP_2.m.above.ground_38_32.5   : num  -4.68 -4.88 -5.09 -5.29 -6 ...\n",
      " $ TMP_2.m.above.ground_38.5_27   : num  5.03 4.73 4.44 4.14 4.06 ...\n",
      " $ TMP_2.m.above.ground_39.75_30.5: num  -3.17 -3.29 -3.42 -3.54 -3.88 ...\n",
      " $ TMP_2.m.above.ground_40_33     : num  -6.87 -7.02 -7.17 -7.32 -7.55 ...\n",
      " $ TMP_2.m.above.ground_41_28.75  : num  6.89 6.81 6.73 6.65 6.55 ...\n",
      " $ wdir_10m_36.5_32.5             : num  219 218 217 215 216 ...\n",
      " $ wdir_10m_37_35.5               : num  179 182 185 187 187 ...\n",
      " $ wdir_10m_38_32.5               : num  232 245 258 272 218 ...\n",
      " $ wdir_10m_38.5_27               : num  254 258 261 265 266 ...\n",
      " $ wdir_10m_39.75_30.5            : num  337 342 347 352 350 ...\n",
      " $ wdir_10m_40_33                 : num  93.5 90.3 87.1 83.9 93.9 ...\n",
      " $ wdir_10m_41_28.75              : num  288 297 305 314 309 ...\n",
      " $ ws_10m_36.5_32.5               : num  2.79 2.73 2.66 2.6 2.55 ...\n",
      " $ ws_10m_37_35.5                 : num  2.36 2.31 2.26 2.22 2.21 ...\n",
      " $ ws_10m_38_32.5                 : num  0.801 0.651 0.5 0.35 0.38 ...\n",
      " $ ws_10m_38.5_27                 : num  2.68 2.67 2.66 2.65 2.64 ...\n",
      " $ ws_10m_39.75_30.5              : num  0.779 1.001 1.222 1.444 1.55 ...\n",
      " $ ws_10m_40_33                   : num  0.912 0.893 0.874 0.855 0.765 ...\n",
      " $ ws_10m_41_28.75                : num  3.15 3.12 3.09 3.06 2.92 ...\n",
      " - attr(*, \".internal.selfref\")=<externalptr> \n",
      " - attr(*, \"sorted\")= chr  \"date\" \"hour\"\n"
     ]
    }
   ],
   "source": [
    "str(wide_feat)"
   ]
  },
  {
   "cell_type": "markdown",
   "id": "8f7d1f38",
   "metadata": {},
   "source": [
    "# PCA"
   ]
  },
  {
   "cell_type": "markdown",
   "id": "1c11eb7c",
   "metadata": {},
   "source": [
    "### DSWRF"
   ]
  },
  {
   "cell_type": "code",
   "execution_count": 149,
   "id": "7e035fa4",
   "metadata": {},
   "outputs": [
    {
     "name": "stdout",
     "output_type": "stream",
     "text": [
      "Classes 'data.table' and 'data.frame':\t26880 obs. of  44 variables:\n",
      " $ date                           : IDate, format: \"2018-12-31\" \"2018-12-31\" ...\n",
      " $ hour                           : int  0 1 2 3 4 5 6 7 8 9 ...\n",
      " $ DSWRF_surface_36.5_32.5        : num  0 0 0 0 0 ...\n",
      " $ DSWRF_surface_37_35.5          : num  0 0 0 0 0 ...\n",
      " $ DSWRF_surface_38_32.5          : num  0 0 0 0 0 ...\n",
      " $ DSWRF_surface_38.5_27          : num  0 0 0 0 0 0 0 0 0 0 ...\n",
      " $ DSWRF_surface_39.75_30.5       : num  0 0 0 0 0 0 0 0 0 0 ...\n",
      " $ DSWRF_surface_40_33            : num  0 0 0 0 0 0 0 0 0 0 ...\n",
      " $ DSWRF_surface_41_28.75         : num  0 0 0 0 0 0 0 0 0 0 ...\n",
      " $ RH_2.m.above.ground_36.5_32.5  : num  83.3 82 80.7 79.4 78.8 ...\n",
      " $ RH_2.m.above.ground_37_35.5    : num  76.1 74.6 73.1 71.6 71.3 71 70.7 70.9 71.1 71.3 ...\n",
      " $ RH_2.m.above.ground_38_32.5    : num  93.2 92.9 92.7 92.4 92.1 ...\n",
      " $ RH_2.m.above.ground_38.5_27    : num  75.2 76 76.9 77.7 77.6 ...\n",
      " $ RH_2.m.above.ground_39.75_30.5 : num  88.7 88.5 88.4 88.2 87.5 ...\n",
      " $ RH_2.m.above.ground_40_33      : num  94.2 94.1 94 93.9 93.6 ...\n",
      " $ RH_2.m.above.ground_41_28.75   : num  76.2 75.5 74.9 74.2 73.4 ...\n",
      " $ TCDC_low.cloud.layer_36.5_32.5 : num  0 1 2 3 5 ...\n",
      " $ TCDC_low.cloud.layer_37_35.5   : num  66 59.7 53.3 47 31.7 ...\n",
      " $ TCDC_low.cloud.layer_38_32.5   : num  95 89 83 77 54 31 8 7 6 5 ...\n",
      " $ TCDC_low.cloud.layer_38.5_27   : num  0 0 0 0 0 0 0 0 0 0 ...\n",
      " $ TCDC_low.cloud.layer_39.75_30.5: num  2 1.333 0.667 0 0 ...\n",
      " $ TCDC_low.cloud.layer_40_33     : num  11 12 13 14 10.7 ...\n",
      " $ TCDC_low.cloud.layer_41_28.75  : num  83 76.3 69.7 63 57.7 ...\n",
      " $ TMP_2.m.above.ground_36.5_32.5 : num  -8.28 -8.1 -7.93 -7.75 -8 ...\n",
      " $ TMP_2.m.above.ground_37_35.5   : num  4.4 3.97 3.55 3.12 3.11 ...\n",
      " $ TMP_2.m.above.ground_38_32.5   : num  -4.68 -4.88 -5.09 -5.29 -6 ...\n",
      " $ TMP_2.m.above.ground_38.5_27   : num  5.03 4.73 4.44 4.14 4.06 ...\n",
      " $ TMP_2.m.above.ground_39.75_30.5: num  -3.17 -3.29 -3.42 -3.54 -3.88 ...\n",
      " $ TMP_2.m.above.ground_40_33     : num  -6.87 -7.02 -7.17 -7.32 -7.55 ...\n",
      " $ TMP_2.m.above.ground_41_28.75  : num  6.89 6.81 6.73 6.65 6.55 ...\n",
      " $ wdir_10m_36.5_32.5             : num  219 218 217 215 216 ...\n",
      " $ wdir_10m_37_35.5               : num  179 182 185 187 187 ...\n",
      " $ wdir_10m_38_32.5               : num  232 245 258 272 218 ...\n",
      " $ wdir_10m_38.5_27               : num  254 258 261 265 266 ...\n",
      " $ wdir_10m_39.75_30.5            : num  337 342 347 352 350 ...\n",
      " $ wdir_10m_40_33                 : num  93.5 90.3 87.1 83.9 93.9 ...\n",
      " $ wdir_10m_41_28.75              : num  288 297 305 314 309 ...\n",
      " $ ws_10m_36.5_32.5               : num  2.79 2.73 2.66 2.6 2.55 ...\n",
      " $ ws_10m_37_35.5                 : num  2.36 2.31 2.26 2.22 2.21 ...\n",
      " $ ws_10m_38_32.5                 : num  0.801 0.651 0.5 0.35 0.38 ...\n",
      " $ ws_10m_38.5_27                 : num  2.68 2.67 2.66 2.65 2.64 ...\n",
      " $ ws_10m_39.75_30.5              : num  0.779 1.001 1.222 1.444 1.55 ...\n",
      " $ ws_10m_40_33                   : num  0.912 0.893 0.874 0.855 0.765 ...\n",
      " $ ws_10m_41_28.75                : num  3.15 3.12 3.09 3.06 2.92 ...\n",
      " - attr(*, \".internal.selfref\")=<externalptr> \n",
      " - attr(*, \"sorted\")= chr  \"date\" \"hour\"\n"
     ]
    }
   ],
   "source": [
    "str(wide_feat)"
   ]
  },
  {
   "cell_type": "code",
   "execution_count": 150,
   "id": "67d1a8e2",
   "metadata": {
    "scrolled": true
   },
   "outputs": [
    {
     "data": {
      "text/plain": [
       "Importance of components:\n",
       "                            Comp.1     Comp.2       Comp.3       Comp.4\n",
       "Standard deviation     698.6375896 91.9068787 70.626832627 56.342454516\n",
       "Proportion of Variance   0.9529455  0.0164915  0.009738759  0.006197773\n",
       "Cumulative Proportion    0.9529455  0.9694370  0.979175749  0.985373523\n",
       "                             Comp.5       Comp.6       Comp.7\n",
       "Standard deviation     51.822317537 50.568720451 47.422244122\n",
       "Proportion of Variance  0.005243217  0.004992615  0.004390645\n",
       "Cumulative Proportion   0.990616739  0.995609355  1.000000000\n",
       "\n",
       "Loadings:\n",
       "                         Comp.1 Comp.2 Comp.3 Comp.4 Comp.5 Comp.6 Comp.7\n",
       "DSWRF_surface_36.5_32.5   0.403  0.385  0.426  0.131  0.234  0.648  0.123\n",
       "DSWRF_surface_37_35.5     0.379  0.390  0.280 -0.601 -0.253 -0.446       \n",
       "DSWRF_surface_38_32.5     0.389  0.291 -0.221  0.557  0.372 -0.516       \n",
       "DSWRF_surface_38.5_27     0.378 -0.389  0.345  0.415 -0.586        -0.263\n",
       "DSWRF_surface_39.75_30.5  0.370 -0.253 -0.371        -0.200         0.781\n",
       "DSWRF_surface_40_33       0.373  0.113 -0.641 -0.197 -0.141  0.314 -0.530\n",
       "DSWRF_surface_41_28.75    0.351 -0.622  0.155 -0.314  0.583        -0.152"
      ]
     },
     "metadata": {},
     "output_type": "display_data"
    }
   ],
   "source": [
    "pca_DSWRF=princomp(wide_feat[,seq(1:7)+2,with=F])\n",
    "summary(pca_DSWRF,loadings=T)"
   ]
  },
  {
   "cell_type": "markdown",
   "id": "2181b8fd",
   "metadata": {},
   "source": [
    "### RH_2.m.above"
   ]
  },
  {
   "cell_type": "code",
   "execution_count": 151,
   "id": "0e8b8be6",
   "metadata": {},
   "outputs": [
    {
     "data": {
      "text/plain": [
       "Importance of components:\n",
       "                           Comp.1     Comp.2      Comp.3      Comp.4     Comp.5\n",
       "Standard deviation     44.5869745 17.3207688 15.80892988 13.08547168 9.34503795\n",
       "Proportion of Variance  0.6820781  0.1029325  0.08574782  0.05874851 0.02996265\n",
       "Cumulative Proportion   0.6820781  0.7850106  0.87075843  0.92950694 0.95946959\n",
       "                           Comp.6     Comp.7\n",
       "Standard deviation     7.86807903 7.49826985\n",
       "Proportion of Variance 0.02124005 0.01929036\n",
       "Cumulative Proportion  0.98070964 1.00000000\n",
       "\n",
       "Loadings:\n",
       "                               Comp.1 Comp.2 Comp.3 Comp.4 Comp.5 Comp.6 Comp.7\n",
       "RH_2.m.above.ground_36.5_32.5   0.418         0.779  0.284  0.345         0.128\n",
       "RH_2.m.above.ground_37_35.5     0.359  0.892        -0.172 -0.193              \n",
       "RH_2.m.above.ground_38_32.5     0.420 -0.333  0.211 -0.265 -0.539        -0.545\n",
       "RH_2.m.above.ground_38.5_27     0.350        -0.306  0.675 -0.240 -0.515       \n",
       "RH_2.m.above.ground_39.75_30.5  0.429 -0.109 -0.383 -0.242  0.689 -0.110 -0.336\n",
       "RH_2.m.above.ground_40_33       0.430 -0.272 -0.152 -0.352 -0.143         0.757\n",
       "RH_2.m.above.ground_41_28.75    0.170        -0.280  0.426         0.842       "
      ]
     },
     "metadata": {},
     "output_type": "display_data"
    }
   ],
   "source": [
    "pca_RH=princomp(wide_feat[,seq(1:7)+9,with=F])\n",
    "summary(pca_RH,loadings=T)"
   ]
  },
  {
   "cell_type": "markdown",
   "id": "1970a223",
   "metadata": {},
   "source": [
    "### TCDC_low"
   ]
  },
  {
   "cell_type": "code",
   "execution_count": 152,
   "id": "2d63e721",
   "metadata": {},
   "outputs": [
    {
     "data": {
      "text/plain": [
       "Importance of components:\n",
       "                           Comp.1     Comp.2     Comp.3      Comp.4      Comp.5\n",
       "Standard deviation     58.1096267 32.3675786 27.1512582 22.73640511 21.70951712\n",
       "Proportion of Variance  0.4883719  0.1515217  0.1066189  0.07476495  0.06816396\n",
       "Cumulative Proportion   0.4883719  0.6398936  0.7465125  0.82127750  0.88944145\n",
       "                            Comp.6      Comp.7\n",
       "Standard deviation     20.50490703 18.54667120\n",
       "Proportion of Variance  0.06080931  0.04974924\n",
       "Cumulative Proportion   0.95025076  1.00000000\n",
       "\n",
       "Loadings:\n",
       "                                Comp.1 Comp.2 Comp.3 Comp.4 Comp.5 Comp.6\n",
       "TCDC_low.cloud.layer_36.5_32.5   0.392  0.377  0.342  0.332  0.321       \n",
       "TCDC_low.cloud.layer_37_35.5     0.290  0.459  0.425 -0.430 -0.545 -0.111\n",
       "TCDC_low.cloud.layer_38_32.5     0.346  0.322 -0.176 -0.148  0.564  0.269\n",
       "TCDC_low.cloud.layer_38.5_27     0.224 -0.166  0.236  0.732 -0.317  0.203\n",
       "TCDC_low.cloud.layer_39.75_30.5  0.451 -0.167 -0.478 -0.162 -0.351  0.558\n",
       "TCDC_low.cloud.layer_40_33       0.430        -0.487  0.196        -0.726\n",
       "TCDC_low.cloud.layer_41_28.75    0.452 -0.694  0.388 -0.287  0.226 -0.171\n",
       "                                Comp.7\n",
       "TCDC_low.cloud.layer_36.5_32.5   0.607\n",
       "TCDC_low.cloud.layer_37_35.5    -0.174\n",
       "TCDC_low.cloud.layer_38_32.5    -0.577\n",
       "TCDC_low.cloud.layer_38.5_27    -0.434\n",
       "TCDC_low.cloud.layer_39.75_30.5  0.283\n",
       "TCDC_low.cloud.layer_40_33            \n",
       "TCDC_low.cloud.layer_41_28.75         "
      ]
     },
     "metadata": {},
     "output_type": "display_data"
    }
   ],
   "source": [
    "pca_TCDC=princomp(wide_feat[,seq(1:7)+16,with=F])\n",
    "summary(pca_TCDC,loadings=T)"
   ]
  },
  {
   "cell_type": "markdown",
   "id": "223279aa",
   "metadata": {},
   "source": [
    "### TMP_2.m.above.ground"
   ]
  },
  {
   "cell_type": "code",
   "execution_count": 153,
   "id": "aa5b4908",
   "metadata": {},
   "outputs": [
    {
     "data": {
      "text/plain": [
       "Importance of components:\n",
       "                           Comp.1     Comp.2     Comp.3     Comp.4     Comp.5\n",
       "Standard deviation     22.4644769 2.96560779 2.50402491 2.11736945 1.68558070\n",
       "Proportion of Variance  0.9520682 0.01659216 0.01182913 0.00845802 0.00536012\n",
       "Cumulative Proportion   0.9520682 0.96866036 0.98048949 0.98894751 0.99430763\n",
       "                            Comp.6      Comp.7\n",
       "Standard deviation     1.373985149 1.062760528\n",
       "Proportion of Variance 0.003561554 0.002130818\n",
       "Cumulative Proportion  0.997869182 1.000000000\n",
       "\n",
       "Loadings:\n",
       "                                Comp.1 Comp.2 Comp.3 Comp.4 Comp.5 Comp.6\n",
       "TMP_2.m.above.ground_36.5_32.5   0.383  0.393  0.171  0.168  0.627  0.488\n",
       "TMP_2.m.above.ground_37_35.5     0.384  0.608  0.370        -0.554 -0.179\n",
       "TMP_2.m.above.ground_38_32.5     0.403        -0.439  0.293  0.224 -0.466\n",
       "TMP_2.m.above.ground_38.5_27     0.369 -0.296  0.335 -0.661  0.313 -0.355\n",
       "TMP_2.m.above.ground_39.75_30.5  0.391 -0.251 -0.296 -0.333 -0.331  0.607\n",
       "TMP_2.m.above.ground_40_33       0.404        -0.458        -0.142 -0.123\n",
       "TMP_2.m.above.ground_41_28.75    0.303 -0.567  0.482  0.574 -0.150       \n",
       "                                Comp.7\n",
       "TMP_2.m.above.ground_36.5_32.5   0.103\n",
       "TMP_2.m.above.ground_37_35.5          \n",
       "TMP_2.m.above.ground_38_32.5    -0.540\n",
       "TMP_2.m.above.ground_38.5_27          \n",
       "TMP_2.m.above.ground_39.75_30.5 -0.328\n",
       "TMP_2.m.above.ground_40_33       0.763\n",
       "TMP_2.m.above.ground_41_28.75         "
      ]
     },
     "metadata": {},
     "output_type": "display_data"
    }
   ],
   "source": [
    "pca_TMP=princomp(wide_feat[,seq(1:7)+23,with=F])\n",
    "summary(pca_TMP,loadings=T)"
   ]
  },
  {
   "cell_type": "markdown",
   "id": "33de8a80",
   "metadata": {},
   "source": [
    "### w Values"
   ]
  },
  {
   "cell_type": "code",
   "execution_count": 154,
   "id": "f650bb2e",
   "metadata": {},
   "outputs": [
    {
     "data": {
      "text/plain": [
       "Importance of components:\n",
       "                            Comp.1      Comp.2     Comp.3     Comp.4     Comp.5\n",
       "Standard deviation     129.5758022 111.7800382 92.1862191 85.4215184 81.9200746\n",
       "Proportion of Variance   0.2695446   0.2005909  0.1364315  0.1171433  0.1077367\n",
       "Cumulative Proportion    0.2695446   0.4701355  0.6065671  0.7237104  0.8314470\n",
       "                            Comp.6      Comp.7       Comp.8       Comp.9\n",
       "Standard deviation     75.63668587 68.93272795 3.4434155012 2.184001e+00\n",
       "Proportion of Variance  0.09184336  0.07628405 0.0001903538 7.657529e-05\n",
       "Cumulative Proportion   0.92329037  0.99957442 0.9997647738 9.998413e-01\n",
       "                            Comp.10      Comp.11      Comp.12      Comp.13\n",
       "Standard deviation     1.670075e+00 1.622508e+00 1.402831e+00 1.137171e+00\n",
       "Proportion of Variance 4.477695e-05 4.226265e-05 3.159321e-05 2.076034e-05\n",
       "Cumulative Proportion  9.998861e-01 9.999284e-01 9.999600e-01 9.999807e-01\n",
       "                            Comp.14\n",
       "Standard deviation     1.095244e+00\n",
       "Proportion of Variance 1.925771e-05\n",
       "Cumulative Proportion  1.000000e+00\n",
       "\n",
       "Loadings:\n",
       "                    Comp.1 Comp.2 Comp.3 Comp.4 Comp.5 Comp.6 Comp.7 Comp.8\n",
       "wdir_10m_36.5_32.5   0.505  0.184  0.221  0.453  0.564  0.370              \n",
       "wdir_10m_37_35.5     0.480  0.399 -0.642  0.143 -0.399         0.129       \n",
       "wdir_10m_38_32.5           -0.619 -0.639         0.378        -0.241       \n",
       "wdir_10m_38.5_27     0.342  0.263        -0.555  0.388 -0.492 -0.336       \n",
       "wdir_10m_39.75_30.5  0.306 -0.321        -0.470         0.118  0.750       \n",
       "wdir_10m_40_33       0.486 -0.368  0.259 -0.173 -0.455  0.315 -0.474       \n",
       "wdir_10m_41_28.75    0.260 -0.342  0.249  0.457 -0.129 -0.711  0.153       \n",
       "ws_10m_36.5_32.5                                                      0.222\n",
       "ws_10m_37_35.5                                                        0.213\n",
       "ws_10m_38_32.5                                                        0.446\n",
       "ws_10m_38.5_27                                                        0.510\n",
       "ws_10m_39.75_30.5                                                     0.407\n",
       "ws_10m_40_33                                                          0.353\n",
       "ws_10m_41_28.75                                                       0.395\n",
       "                    Comp.9 Comp.10 Comp.11 Comp.12 Comp.13 Comp.14\n",
       "wdir_10m_36.5_32.5                                                \n",
       "wdir_10m_37_35.5                                                  \n",
       "wdir_10m_38_32.5                                                  \n",
       "wdir_10m_38.5_27                                                  \n",
       "wdir_10m_39.75_30.5                                               \n",
       "wdir_10m_40_33                                                    \n",
       "wdir_10m_41_28.75                                                 \n",
       "ws_10m_36.5_32.5    -0.292 -0.518  -0.141  -0.250   0.680  -0.230 \n",
       "ws_10m_37_35.5      -0.203 -0.569   0.612   0.334  -0.310         \n",
       "ws_10m_38_32.5      -0.322 -0.110  -0.500  -0.293  -0.590         \n",
       "ws_10m_38.5_27              0.409   0.518  -0.514   0.118   0.164 \n",
       "ws_10m_39.75_30.5   -0.105  0.363           0.512          -0.652 \n",
       "ws_10m_40_33        -0.128  0.122  -0.268   0.463   0.273   0.696 \n",
       "ws_10m_41_28.75      0.862 -0.288  -0.127                         "
      ]
     },
     "metadata": {},
     "output_type": "display_data"
    }
   ],
   "source": [
    "pca_w=princomp(wide_feat[,seq(1:14)+30,with=F])\n",
    "summary(pca_w,loadings=T)"
   ]
  },
  {
   "cell_type": "markdown",
   "id": "892a42b9",
   "metadata": {},
   "source": [
    "## New Feature Dataset"
   ]
  },
  {
   "cell_type": "code",
   "execution_count": 155,
   "id": "61f6661b",
   "metadata": {},
   "outputs": [],
   "source": [
    "new_feat=data.table(date=wide_feat$date, hour=wide_feat$hour, DSWRF=pca_DSWRF$scores[,1], RH=pca_RH$scores[,1],\n",
    "                    TCDC1 = pca_TCDC$scores[,1], TCDC2 = pca_TCDC$scores[, 2], TMP = pca_TMP$scores[, 1], w1 = pca_w$scores[,1],\n",
    "                    w2 = pca_w$scores[,2], w3 = pca_w$scores[,3])"
   ]
  },
  {
   "cell_type": "code",
   "execution_count": 156,
   "id": "3c60341c",
   "metadata": {},
   "outputs": [
    {
     "data": {
      "text/html": [
       "<table>\n",
       "<thead><tr><th scope=col>date</th><th scope=col>hour</th><th scope=col>DSWRF</th><th scope=col>RH</th><th scope=col>TCDC1</th><th scope=col>TCDC2</th><th scope=col>TMP</th><th scope=col>w1</th><th scope=col>w2</th><th scope=col>w3</th></tr></thead>\n",
       "<tbody>\n",
       "\t<tr><td>2018-12-31</td><td>0         </td><td>-569.9611 </td><td>64.35230  </td><td>48.643230 </td><td>  6.501146</td><td>-40.09289 </td><td>81.52956  </td><td> -73.72133</td><td>-23.73527 </td></tr>\n",
       "\t<tr><td>2018-12-31</td><td>1         </td><td>-569.9611 </td><td>63.22281  </td><td>42.236239 </td><td>  6.855581</td><td>-40.50658 </td><td>85.82155  </td><td> -83.52298</td><td>-32.70480 </td></tr>\n",
       "\t<tr><td>2018-12-31</td><td>2         </td><td>-569.9611 </td><td>62.09332  </td><td>35.829249 </td><td>  7.210017</td><td>-40.92027 </td><td>90.11354  </td><td> -93.32463</td><td>-41.67434 </td></tr>\n",
       "\t<tr><td>2018-12-31</td><td>3         </td><td>-569.9611 </td><td>60.96383  </td><td>29.422258 </td><td>  7.564453</td><td>-41.33397 </td><td>94.40553  </td><td>-103.12628</td><td>-50.64387 </td></tr>\n",
       "\t<tr><td>2018-12-31</td><td>4         </td><td>-569.9611 </td><td>59.88503  </td><td>13.947211 </td><td> -2.686073</td><td>-42.00791 </td><td>97.00861  </td><td> -70.70537</td><td>-14.21063 </td></tr>\n",
       "\t<tr><td>2018-12-31</td><td>5         </td><td>-569.9611 </td><td>58.80623  </td><td>-1.527836 </td><td>-12.936599</td><td>-42.68185 </td><td>99.61169  </td><td> -38.28447</td><td> 22.22261 </td></tr>\n",
       "</tbody>\n",
       "</table>\n"
      ],
      "text/latex": [
       "\\begin{tabular}{r|llllllllll}\n",
       " date & hour & DSWRF & RH & TCDC1 & TCDC2 & TMP & w1 & w2 & w3\\\\\n",
       "\\hline\n",
       "\t 2018-12-31 & 0          & -569.9611  & 64.35230   & 48.643230  &   6.501146 & -40.09289  & 81.52956   &  -73.72133 & -23.73527 \\\\\n",
       "\t 2018-12-31 & 1          & -569.9611  & 63.22281   & 42.236239  &   6.855581 & -40.50658  & 85.82155   &  -83.52298 & -32.70480 \\\\\n",
       "\t 2018-12-31 & 2          & -569.9611  & 62.09332   & 35.829249  &   7.210017 & -40.92027  & 90.11354   &  -93.32463 & -41.67434 \\\\\n",
       "\t 2018-12-31 & 3          & -569.9611  & 60.96383   & 29.422258  &   7.564453 & -41.33397  & 94.40553   & -103.12628 & -50.64387 \\\\\n",
       "\t 2018-12-31 & 4          & -569.9611  & 59.88503   & 13.947211  &  -2.686073 & -42.00791  & 97.00861   &  -70.70537 & -14.21063 \\\\\n",
       "\t 2018-12-31 & 5          & -569.9611  & 58.80623   & -1.527836  & -12.936599 & -42.68185  & 99.61169   &  -38.28447 &  22.22261 \\\\\n",
       "\\end{tabular}\n"
      ],
      "text/markdown": [
       "\n",
       "| date | hour | DSWRF | RH | TCDC1 | TCDC2 | TMP | w1 | w2 | w3 |\n",
       "|---|---|---|---|---|---|---|---|---|---|\n",
       "| 2018-12-31 | 0          | -569.9611  | 64.35230   | 48.643230  |   6.501146 | -40.09289  | 81.52956   |  -73.72133 | -23.73527  |\n",
       "| 2018-12-31 | 1          | -569.9611  | 63.22281   | 42.236239  |   6.855581 | -40.50658  | 85.82155   |  -83.52298 | -32.70480  |\n",
       "| 2018-12-31 | 2          | -569.9611  | 62.09332   | 35.829249  |   7.210017 | -40.92027  | 90.11354   |  -93.32463 | -41.67434  |\n",
       "| 2018-12-31 | 3          | -569.9611  | 60.96383   | 29.422258  |   7.564453 | -41.33397  | 94.40553   | -103.12628 | -50.64387  |\n",
       "| 2018-12-31 | 4          | -569.9611  | 59.88503   | 13.947211  |  -2.686073 | -42.00791  | 97.00861   |  -70.70537 | -14.21063  |\n",
       "| 2018-12-31 | 5          | -569.9611  | 58.80623   | -1.527836  | -12.936599 | -42.68185  | 99.61169   |  -38.28447 |  22.22261  |\n",
       "\n"
      ],
      "text/plain": [
       "  date       hour DSWRF     RH       TCDC1     TCDC2      TMP       w1      \n",
       "1 2018-12-31 0    -569.9611 64.35230 48.643230   6.501146 -40.09289 81.52956\n",
       "2 2018-12-31 1    -569.9611 63.22281 42.236239   6.855581 -40.50658 85.82155\n",
       "3 2018-12-31 2    -569.9611 62.09332 35.829249   7.210017 -40.92027 90.11354\n",
       "4 2018-12-31 3    -569.9611 60.96383 29.422258   7.564453 -41.33397 94.40553\n",
       "5 2018-12-31 4    -569.9611 59.88503 13.947211  -2.686073 -42.00791 97.00861\n",
       "6 2018-12-31 5    -569.9611 58.80623 -1.527836 -12.936599 -42.68185 99.61169\n",
       "  w2         w3       \n",
       "1  -73.72133 -23.73527\n",
       "2  -83.52298 -32.70480\n",
       "3  -93.32463 -41.67434\n",
       "4 -103.12628 -50.64387\n",
       "5  -70.70537 -14.21063\n",
       "6  -38.28447  22.22261"
      ]
     },
     "metadata": {},
     "output_type": "display_data"
    }
   ],
   "source": [
    "head(new_feat)"
   ]
  },
  {
   "cell_type": "code",
   "execution_count": 157,
   "id": "6458a89e",
   "metadata": {},
   "outputs": [],
   "source": [
    "all_dt=merge(x = data, y=new_feat, by=c(\"date\", \"hour\"), all.x=TRUE)"
   ]
  },
  {
   "cell_type": "code",
   "execution_count": 158,
   "id": "1e90eae5",
   "metadata": {},
   "outputs": [
    {
     "data": {
      "text/html": [
       "<table>\n",
       "<thead><tr><th scope=col>date</th><th scope=col>hour</th><th scope=col>net</th><th scope=col>upRegulationZeroCoded</th><th scope=col>upRegulationOneCoded</th><th scope=col>upRegulationTwoCoded</th><th scope=col>downRegulationZeroCoded</th><th scope=col>downRegulationOneCoded</th><th scope=col>downRegulationTwoCoded</th><th scope=col>upRegulationDelivered</th><th scope=col>...</th><th scope=col>is_wday</th><th scope=col>is_weekend</th><th scope=col>DSWRF</th><th scope=col>RH</th><th scope=col>TCDC1</th><th scope=col>TCDC2</th><th scope=col>TMP</th><th scope=col>w1</th><th scope=col>w2</th><th scope=col>w3</th></tr></thead>\n",
       "<tbody>\n",
       "\t<tr><td>2019-01-08 </td><td>0          </td><td>-464.400   </td><td>  0.000    </td><td>0          </td><td>0          </td><td>761.616    </td><td>0          </td><td>0          </td><td>  0.000    </td><td>...        </td><td>1          </td><td>0          </td><td>-569.9611  </td><td>61.86299   </td><td>98.70077   </td><td>30.45218   </td><td>-42.44280  </td><td>-19.35854  </td><td>-126.337284</td><td>-125.995139</td></tr>\n",
       "\t<tr><td>2019-01-08 </td><td>1          </td><td>  -8.662   </td><td>245.833    </td><td>0          </td><td>0          </td><td>259.067    </td><td>0          </td><td>0          </td><td>206.833    </td><td>...        </td><td>1          </td><td>0          </td><td>-569.9611  </td><td>62.38798   </td><td>95.00830   </td><td>31.00809   </td><td>-42.51784  </td><td>-26.14478  </td><td> -69.761402</td><td> -65.321967</td></tr>\n",
       "\t<tr><td>2019-01-08 </td><td>2          </td><td>  70.445   </td><td>274.748    </td><td>0          </td><td>0          </td><td> 17.100    </td><td>0          </td><td>0          </td><td> 85.145    </td><td>...        </td><td>1          </td><td>0          </td><td>-569.9611  </td><td>62.91296   </td><td>91.31583   </td><td>31.56401   </td><td>-42.59289  </td><td>-32.93102  </td><td> -13.185520</td><td>  -4.648795</td></tr>\n",
       "\t<tr><td>2019-01-08 </td><td>3          </td><td>  60.549   </td><td>352.000    </td><td>0          </td><td>0          </td><td>  0.000    </td><td>0          </td><td>0          </td><td> 60.549    </td><td>...        </td><td>1          </td><td>0          </td><td>-569.9611  </td><td>63.43795   </td><td>87.62336   </td><td>32.11992   </td><td>-42.66794  </td><td>-39.71726  </td><td>  43.390362</td><td>  56.024377</td></tr>\n",
       "\t<tr><td>2019-01-08 </td><td>4          </td><td>  43.140   </td><td>352.000    </td><td>0          </td><td>0          </td><td>  0.000    </td><td>0          </td><td>0          </td><td> 43.140    </td><td>...        </td><td>1          </td><td>0          </td><td>-569.9611  </td><td>67.10149   </td><td>86.17535   </td><td>23.69623   </td><td>-42.78473  </td><td>-48.66498  </td><td>  20.914823</td><td>  19.575963</td></tr>\n",
       "\t<tr><td>2019-01-08 </td><td>5          </td><td>  25.490   </td><td>212.000    </td><td>0          </td><td>0          </td><td>  0.000    </td><td>0          </td><td>0          </td><td> 25.490    </td><td>...        </td><td>1          </td><td>0          </td><td>-569.9611  </td><td>70.76503   </td><td>84.72734   </td><td>15.27253   </td><td>-42.90151  </td><td>-57.61271  </td><td>  -1.560716</td><td> -16.872452</td></tr>\n",
       "</tbody>\n",
       "</table>\n"
      ],
      "text/latex": [
       "\\begin{tabular}{r|llllllllllllllllllllllll}\n",
       " date & hour & net & upRegulationZeroCoded & upRegulationOneCoded & upRegulationTwoCoded & downRegulationZeroCoded & downRegulationOneCoded & downRegulationTwoCoded & upRegulationDelivered & ... & is\\_wday & is\\_weekend & DSWRF & RH & TCDC1 & TCDC2 & TMP & w1 & w2 & w3\\\\\n",
       "\\hline\n",
       "\t 2019-01-08  & 0           & -464.400    &   0.000     & 0           & 0           & 761.616     & 0           & 0           &   0.000     & ...         & 1           & 0           & -569.9611   & 61.86299    & 98.70077    & 30.45218    & -42.44280   & -19.35854   & -126.337284 & -125.995139\\\\\n",
       "\t 2019-01-08  & 1           &   -8.662    & 245.833     & 0           & 0           & 259.067     & 0           & 0           & 206.833     & ...         & 1           & 0           & -569.9611   & 62.38798    & 95.00830    & 31.00809    & -42.51784   & -26.14478   &  -69.761402 &  -65.321967\\\\\n",
       "\t 2019-01-08  & 2           &   70.445    & 274.748     & 0           & 0           &  17.100     & 0           & 0           &  85.145     & ...         & 1           & 0           & -569.9611   & 62.91296    & 91.31583    & 31.56401    & -42.59289   & -32.93102   &  -13.185520 &   -4.648795\\\\\n",
       "\t 2019-01-08  & 3           &   60.549    & 352.000     & 0           & 0           &   0.000     & 0           & 0           &  60.549     & ...         & 1           & 0           & -569.9611   & 63.43795    & 87.62336    & 32.11992    & -42.66794   & -39.71726   &   43.390362 &   56.024377\\\\\n",
       "\t 2019-01-08  & 4           &   43.140    & 352.000     & 0           & 0           &   0.000     & 0           & 0           &  43.140     & ...         & 1           & 0           & -569.9611   & 67.10149    & 86.17535    & 23.69623    & -42.78473   & -48.66498   &   20.914823 &   19.575963\\\\\n",
       "\t 2019-01-08  & 5           &   25.490    & 212.000     & 0           & 0           &   0.000     & 0           & 0           &  25.490     & ...         & 1           & 0           & -569.9611   & 70.76503    & 84.72734    & 15.27253    & -42.90151   & -57.61271   &   -1.560716 &  -16.872452\\\\\n",
       "\\end{tabular}\n"
      ],
      "text/markdown": [
       "\n",
       "| date | hour | net | upRegulationZeroCoded | upRegulationOneCoded | upRegulationTwoCoded | downRegulationZeroCoded | downRegulationOneCoded | downRegulationTwoCoded | upRegulationDelivered | ... | is_wday | is_weekend | DSWRF | RH | TCDC1 | TCDC2 | TMP | w1 | w2 | w3 |\n",
       "|---|---|---|---|---|---|---|---|---|---|---|---|---|---|---|---|---|---|---|---|---|\n",
       "| 2019-01-08  | 0           | -464.400    |   0.000     | 0           | 0           | 761.616     | 0           | 0           |   0.000     | ...         | 1           | 0           | -569.9611   | 61.86299    | 98.70077    | 30.45218    | -42.44280   | -19.35854   | -126.337284 | -125.995139 |\n",
       "| 2019-01-08  | 1           |   -8.662    | 245.833     | 0           | 0           | 259.067     | 0           | 0           | 206.833     | ...         | 1           | 0           | -569.9611   | 62.38798    | 95.00830    | 31.00809    | -42.51784   | -26.14478   |  -69.761402 |  -65.321967 |\n",
       "| 2019-01-08  | 2           |   70.445    | 274.748     | 0           | 0           |  17.100     | 0           | 0           |  85.145     | ...         | 1           | 0           | -569.9611   | 62.91296    | 91.31583    | 31.56401    | -42.59289   | -32.93102   |  -13.185520 |   -4.648795 |\n",
       "| 2019-01-08  | 3           |   60.549    | 352.000     | 0           | 0           |   0.000     | 0           | 0           |  60.549     | ...         | 1           | 0           | -569.9611   | 63.43795    | 87.62336    | 32.11992    | -42.66794   | -39.71726   |   43.390362 |   56.024377 |\n",
       "| 2019-01-08  | 4           |   43.140    | 352.000     | 0           | 0           |   0.000     | 0           | 0           |  43.140     | ...         | 1           | 0           | -569.9611   | 67.10149    | 86.17535    | 23.69623    | -42.78473   | -48.66498   |   20.914823 |   19.575963 |\n",
       "| 2019-01-08  | 5           |   25.490    | 212.000     | 0           | 0           |   0.000     | 0           | 0           |  25.490     | ...         | 1           | 0           | -569.9611   | 70.76503    | 84.72734    | 15.27253    | -42.90151   | -57.61271   |   -1.560716 |  -16.872452 |\n",
       "\n"
      ],
      "text/plain": [
       "  date       hour net      upRegulationZeroCoded upRegulationOneCoded\n",
       "1 2019-01-08 0    -464.400   0.000               0                   \n",
       "2 2019-01-08 1      -8.662 245.833               0                   \n",
       "3 2019-01-08 2      70.445 274.748               0                   \n",
       "4 2019-01-08 3      60.549 352.000               0                   \n",
       "5 2019-01-08 4      43.140 352.000               0                   \n",
       "6 2019-01-08 5      25.490 212.000               0                   \n",
       "  upRegulationTwoCoded downRegulationZeroCoded downRegulationOneCoded\n",
       "1 0                    761.616                 0                     \n",
       "2 0                    259.067                 0                     \n",
       "3 0                     17.100                 0                     \n",
       "4 0                      0.000                 0                     \n",
       "5 0                      0.000                 0                     \n",
       "6 0                      0.000                 0                     \n",
       "  downRegulationTwoCoded upRegulationDelivered ... is_wday is_weekend DSWRF    \n",
       "1 0                        0.000               ... 1       0          -569.9611\n",
       "2 0                      206.833               ... 1       0          -569.9611\n",
       "3 0                       85.145               ... 1       0          -569.9611\n",
       "4 0                       60.549               ... 1       0          -569.9611\n",
       "5 0                       43.140               ... 1       0          -569.9611\n",
       "6 0                       25.490               ... 1       0          -569.9611\n",
       "  RH       TCDC1    TCDC2    TMP       w1        w2          w3         \n",
       "1 61.86299 98.70077 30.45218 -42.44280 -19.35854 -126.337284 -125.995139\n",
       "2 62.38798 95.00830 31.00809 -42.51784 -26.14478  -69.761402  -65.321967\n",
       "3 62.91296 91.31583 31.56401 -42.59289 -32.93102  -13.185520   -4.648795\n",
       "4 63.43795 87.62336 32.11992 -42.66794 -39.71726   43.390362   56.024377\n",
       "5 67.10149 86.17535 23.69623 -42.78473 -48.66498   20.914823   19.575963\n",
       "6 70.76503 84.72734 15.27253 -42.90151 -57.61271   -1.560716  -16.872452"
      ]
     },
     "metadata": {},
     "output_type": "display_data"
    }
   ],
   "source": [
    "head(all_dt)"
   ]
  },
  {
   "cell_type": "code",
   "execution_count": null,
   "id": "5a49363b",
   "metadata": {},
   "outputs": [],
   "source": []
  },
  {
   "cell_type": "markdown",
   "id": "e57ac7da",
   "metadata": {},
   "source": [
    "## Splitting Dataset"
   ]
  },
  {
   "cell_type": "code",
   "execution_count": 168,
   "id": "024e6d3b",
   "metadata": {},
   "outputs": [],
   "source": [
    "train_start_date=\"2021-11-15\""
   ]
  },
  {
   "cell_type": "code",
   "execution_count": 169,
   "id": "396babae",
   "metadata": {},
   "outputs": [],
   "source": [
    "test_date_start=\"2021-12-01\"\n",
    "test_date_end=\"2021-12-14\""
   ]
  },
  {
   "cell_type": "code",
   "execution_count": 170,
   "id": "7cff4e4c",
   "metadata": {},
   "outputs": [],
   "source": [
    "train=all_dt[(date>=train_start_date) & (date<test_date_start),]\n",
    "test=all_dt[(date>=test_date_start) & (date<=test_date_end),]"
   ]
  },
  {
   "cell_type": "code",
   "execution_count": 171,
   "id": "e940c4a6",
   "metadata": {},
   "outputs": [],
   "source": [
    "train=train[,-c(\"date\", 'net', 'upRegulationZeroCoded', 'upRegulationOneCoded', 'upRegulationTwoCoded',\n",
    "                'downRegulationZeroCoded', 'downRegulationOneCoded', 'downRegulationTwoCoded', 'upRegulationDelivered',\n",
    "                'downRegulationDelivered')]\n",
    "test=test[,-c(\"date\", 'net', 'upRegulationZeroCoded', 'upRegulationOneCoded', 'upRegulationTwoCoded',\n",
    "                'downRegulationZeroCoded', 'downRegulationOneCoded', 'downRegulationTwoCoded', 'upRegulationDelivered',\n",
    "                'downRegulationDelivered')]"
   ]
  },
  {
   "cell_type": "code",
   "execution_count": 172,
   "id": "bb2c6466",
   "metadata": {},
   "outputs": [
    {
     "name": "stdout",
     "output_type": "stream",
     "text": [
      "Classes 'data.table' and 'data.frame':\t384 obs. of  14 variables:\n",
      " $ hour            : int  0 1 2 3 4 5 6 7 8 9 ...\n",
      " $ system_direction: chr  \"Negative\" \"Positive\" \"Positive\" \"Positive\" ...\n",
      " $ lag_24          : num  864 757 163 505 623 ...\n",
      " $ lag_168         : num  188 491 300 0 0 ...\n",
      " $ is_wday         : num  1 1 1 1 1 1 1 1 1 1 ...\n",
      " $ is_weekend      : num  0 0 0 0 0 0 0 0 0 0 ...\n",
      " $ DSWRF           : num  -570 -570 -570 -570 -570 ...\n",
      " $ RH              : num  -35.5 -33.8 -33.9 -32 -30.6 ...\n",
      " $ TCDC1           : num  -46.5 -46.5 -46.5 -46.5 -46.5 ...\n",
      " $ TCDC2           : num  2.7 2.7 2.7 2.7 2.77 ...\n",
      " $ TMP             : num  -10.1 -11.1 -11.3 -12.2 -12.5 ...\n",
      " $ w1              : num  75 77.7 76.3 46.4 52.4 ...\n",
      " $ w2              : num  93.1 94.2 107.8 59.4 14.2 ...\n",
      " $ w3              : num  50.776 58.044 52.624 22.2 0.197 ...\n",
      " - attr(*, \".internal.selfref\")=<externalptr> \n"
     ]
    }
   ],
   "source": [
    "str(train)"
   ]
  },
  {
   "cell_type": "markdown",
   "id": "735c0938",
   "metadata": {},
   "source": [
    "### Train "
   ]
  },
  {
   "cell_type": "code",
   "execution_count": 173,
   "id": "342d05aa",
   "metadata": {},
   "outputs": [],
   "source": [
    "trainclass=train$system_direction\n",
    "traindata=as.matrix(train[, -c(2),with=F])\n",
    "\n",
    "traindata=scale(traindata)"
   ]
  },
  {
   "cell_type": "markdown",
   "id": "59baacf5",
   "metadata": {},
   "source": [
    "### Test"
   ]
  },
  {
   "cell_type": "code",
   "execution_count": 174,
   "id": "bd5b04d8",
   "metadata": {},
   "outputs": [],
   "source": [
    "testclass=test$system_direction\n",
    "testdata=as.matrix(test[, -c(2),with=F])\n",
    "\n",
    "testdata=scale(testdata)"
   ]
  },
  {
   "cell_type": "markdown",
   "id": "dcad2201",
   "metadata": {},
   "source": [
    "### Dataset Specs"
   ]
  },
  {
   "cell_type": "code",
   "execution_count": 175,
   "id": "c7d7e2cc",
   "metadata": {},
   "outputs": [],
   "source": [
    "tlength=ncol(traindata)\n",
    "n_series_train=nrow(traindata)\n",
    "n_series_test=nrow(testdata)"
   ]
  },
  {
   "cell_type": "code",
   "execution_count": 27,
   "id": "e359d9a9",
   "metadata": {},
   "outputs": [
    {
     "name": "stderr",
     "output_type": "stream",
     "text": [
      "x being coerced from class: matrix to data.table\n",
      "x being coerced from class: matrix to data.table\n",
      "x being coerced from class: matrix to data.table\n",
      "x being coerced from class: matrix to data.table\n"
     ]
    }
   ],
   "source": [
    "## Alternative strategies\n",
    "# knn k=1 Euclidean distance\n",
    "# knn k=5 Euclidean distance\n",
    "# knn k=1 DTW distance + no window\n",
    "# knn k=5 DTW distance + no window\n",
    "# knn k=1 DTW distance + window.type='sakoechiba' + window.size=10\n",
    "# knn k=1 DTW distance + window.type='sakoechiba' + window.size=20\n",
    "# knn k=1 LCSS + epsilon=0.05 + no window\n",
    "# knn k=5 LCSS + epsilon=0.1  + no window \n",
    "# knn k=1 ERP + gap penalty=1 + no window\n",
    "# knn k=1 ERP + gap penalty=0.5 + no window\n",
    "# knn k=5 ERP + gap penalty=0.5 + no window\n",
    "\n",
    "\n",
    "# calculate distances and store them to save time\n",
    "large_number=10000\n",
    "dist_euc=as.matrix(dist(traindata))\n",
    "diag(dist_euc)=large_number\n",
    "fwrite(dist_euc,sprintf('%s_euc_raw_dist.csv',dist_path),col.names=F)\n",
    "\n",
    "dist_dtw=as.matrix(dtwDist(traindata))\n",
    "diag(dist_dtw)=large_number\n",
    "fwrite(dist_dtw,sprintf('%s_dtw_raw_dist.csv',dist_path),col.names=F)\n",
    "\n",
    "dist_dtw1=as.matrix(dtwDist(traindata,window.type='sakoechiba',window.size=10))\n",
    "diag(dist_dtw1)=large_number\n",
    "fwrite(dist_dtw1,sprintf('%s_dtw_raw_dist_sakoe_10.csv',dist_path),col.names=F)\n",
    "\n",
    "dist_dtw2=as.matrix(dtwDist(traindata,window.type='sakoechiba',window.size=20))\n",
    "diag(dist_dtw2)=large_number\n",
    "fwrite(dist_dtw2,sprintf('%s_dtw_raw_dist_sakoe_20.csv',dist_path),col.names=F)  "
   ]
  },
  {
   "cell_type": "code",
   "execution_count": 28,
   "id": "7a892816",
   "metadata": {
    "scrolled": true
   },
   "outputs": [
    {
     "name": "stderr",
     "output_type": "stream",
     "text": [
      "x being coerced from class: matrix to data.table\n",
      "x being coerced from class: matrix to data.table\n",
      "x being coerced from class: matrix to data.table\n",
      "x being coerced from class: matrix to data.table\n"
     ]
    }
   ],
   "source": [
    "# computation of LCSS is from TSdist package\n",
    "dist_lcss=TSDatabaseDistances(traindata,distance='lcss',epsilon=0.05)\n",
    "dist_lcss=as.matrix(dist_lcss)\n",
    "diag(dist_lcss)=large_number\n",
    "fwrite(dist_lcss,sprintf('%s_lcss_raw_epsilon_005.csv',dist_path),col.names=F)  \n",
    "                   \n",
    "dist_lcss=TSDatabaseDistances(traindata,distance='lcss',epsilon=0.1)\n",
    "dist_lcss=as.matrix(dist_lcss)\n",
    "diag(dist_lcss)=large_number\n",
    "fwrite(dist_lcss,sprintf('%s_lcss_raw_epsilon_01.csv',dist_path),col.names=F) \n",
    "\n",
    "# computation of ERP is from TSdist package\n",
    "dist_erp=TSDatabaseDistances(traindata,distance='erp',g=0.5)\n",
    "dist_erp=as.matrix(dist_erp)\n",
    "diag(dist_erp)=large_number\n",
    "fwrite(dist_erp,sprintf('%s_erp_raw_gap_005.csv',dist_path),col.names=F)  \n",
    "                   \n",
    "dist_erp=TSDatabaseDistances(traindata,distance='erp',g=1)\n",
    "dist_erp=as.matrix(dist_erp)\n",
    "diag(dist_erp)=large_number\n",
    "fwrite(dist_erp,sprintf('%s_erp_raw_gap_1.csv',dist_path),col.names=F) "
   ]
  },
  {
   "cell_type": "markdown",
   "id": "8eb052b3",
   "metadata": {},
   "source": [
    "## Main Function"
   ]
  },
  {
   "cell_type": "code",
   "execution_count": 28,
   "id": "e9761a54",
   "metadata": {},
   "outputs": [],
   "source": [
    "nn_classify_cv=function(dist_matrix,train_class,test_indices,k=1){\n",
    "    \n",
    "    test_distances_to_train=dist_matrix[test_indices,]\n",
    "    test_distances_to_train=test_distances_to_train[,-test_indices]\n",
    "    train_class=train_class[-test_indices]\n",
    "    #print(str(test_distances_to_train))\n",
    "    ordered_indices=apply(test_distances_to_train,1,order)\n",
    "    if(k==1){\n",
    "        nearest_class=as.numeric(trainclass[as.numeric(ordered_indices[1,])])\n",
    "        nearest_class=data.table(id=test_indices,nearest_class)\n",
    "    } else {\n",
    "        nearest_class=apply(ordered_indices[1:k,],2,function(x) {trainclass[x]})\n",
    "        nearest_class=data.table(id=test_indices,t(nearest_class))\n",
    "    }\n",
    "    \n",
    "    long_nn_class=melt(nearest_class,'id')\n",
    "\n",
    "    class_counts=long_nn_class[,.N,list(id,value)]\n",
    "    class_counts[,predicted_prob:=N/k]\n",
    "    wide_class_prob_predictions=dcast(class_counts,id~value,value.var='predicted_prob')\n",
    "    wide_class_prob_predictions[is.na(wide_class_prob_predictions)]=0\n",
    "    class_predictions=class_counts[,list(predicted=value[which.max(N)]),by=list(id)]\n",
    "    \n",
    "    \n",
    "    return(list(prediction=class_predictions,prob_estimates=wide_class_prob_predictions))\n",
    "    \n",
    "}"
   ]
  },
  {
   "cell_type": "code",
   "execution_count": 29,
   "id": "eaa50495",
   "metadata": {},
   "outputs": [
    {
     "ename": "ERROR",
     "evalue": "Error in nn_classify_cv(dist_lcss, trainclass, 1:3, k = 5): 'dist_lcss' nesnesi bulunamadı\n",
     "output_type": "error",
     "traceback": [
      "Error in nn_classify_cv(dist_lcss, trainclass, 1:3, k = 5): 'dist_lcss' nesnesi bulunamadı\nTraceback:\n",
      "1. nn_classify_cv(dist_lcss, trainclass, 1:3, k = 5)"
     ]
    }
   ],
   "source": [
    "result=nn_classify_cv(dist_lcss,trainclass,1:3,k=5)\n",
    "str(result)"
   ]
  },
  {
   "cell_type": "code",
   "execution_count": 30,
   "id": "95ed192f",
   "metadata": {
    "scrolled": false
   },
   "outputs": [
    {
     "name": "stderr",
     "output_type": "stream",
     "text": [
      "Loading required package: TunePareto\n"
     ]
    },
    {
     "name": "stdout",
     "output_type": "stream",
     "text": [
      "List of 10\n",
      " $ Run  1 :List of 10\n",
      "  ..$ Fold  1 : int [1:39] 373 268 20 176 151 191 181 353 228 95 ...\n",
      "  ..$ Fold  2 : int [1:39] 169 153 29 184 185 339 46 324 118 183 ...\n",
      "  ..$ Fold  3 : int [1:39] 189 310 372 53 380 382 21 262 200 371 ...\n",
      "  ..$ Fold  4 : int [1:39] 175 366 172 160 7 375 376 128 111 162 ...\n",
      "  ..$ Fold  5 : int [1:38] 279 321 361 182 22 383 149 112 120 304 ...\n",
      "  ..$ Fold  6 : int [1:38] 282 267 381 27 32 269 378 90 218 308 ...\n",
      "  ..$ Fold  7 : int [1:38] 45 271 263 25 264 28 174 329 302 327 ...\n",
      "  ..$ Fold  8 : int [1:38] 332 170 31 24 281 363 1 104 14 296 ...\n",
      "  ..$ Fold  9 : int [1:38] 374 150 30 154 23 379 152 278 257 220 ...\n",
      "  ..$ Fold  10: int [1:38] 365 173 280 270 171 214 377 156 223 130 ...\n",
      " $ Run  2 :List of 10\n",
      "  ..$ Fold  1 : int [1:39] 173 21 365 321 185 281 214 111 183 255 ...\n",
      "  ..$ Fold  2 : int [1:39] 149 264 174 375 150 267 24 148 259 342 ...\n",
      "  ..$ Fold  3 : int [1:39] 377 169 20 171 191 181 184 228 348 71 ...\n",
      "  ..$ Fold  4 : int [1:39] 361 383 23 28 45 282 32 237 217 294 ...\n",
      "  ..$ Fold  5 : int [1:38] 339 172 279 366 30 151 53 33 198 65 ...\n",
      "  ..$ Fold  6 : int [1:38] 378 372 154 22 153 373 381 315 82 164 ...\n",
      "  ..$ Fold  7 : int [1:38] 27 332 46 271 152 7 25 347 302 141 ...\n",
      "  ..$ Fold  8 : int [1:38] 376 269 280 382 160 270 175 350 343 317 ...\n",
      "  ..$ Fold  9 : int [1:38] 1 182 268 380 29 176 263 142 52 306 ...\n",
      "  ..$ Fold  10: int [1:38] 363 31 189 379 170 374 310 229 40 146 ...\n",
      " $ Run  3 :List of 10\n",
      "  ..$ Fold  1 : int [1:39] 377 382 376 181 281 154 27 286 305 301 ...\n",
      "  ..$ Fold  2 : int [1:39] 151 365 176 182 32 28 372 62 58 331 ...\n",
      "  ..$ Fold  3 : int [1:39] 189 279 280 363 172 46 380 220 135 101 ...\n",
      "  ..$ Fold  4 : int [1:39] 269 332 174 22 184 214 379 326 257 131 ...\n",
      "  ..$ Fold  5 : int [1:38] 339 150 23 45 173 268 373 295 275 98 ...\n",
      "  ..$ Fold  6 : int [1:38] 191 185 321 160 282 375 30 177 302 144 ...\n",
      "  ..$ Fold  7 : int [1:38] 271 21 153 383 366 270 53 240 297 309 ...\n",
      "  ..$ Fold  8 : int [1:38] 24 378 149 20 374 263 29 194 319 143 ...\n",
      "  ..$ Fold  9 : int [1:38] 170 175 25 264 152 310 381 9 99 162 ...\n",
      "  ..$ Fold  10: int [1:38] 31 361 1 267 7 171 169 303 312 3 ...\n",
      " $ Run  4 :List of 10\n",
      "  ..$ Fold  1 : int [1:39] 46 25 383 280 1 267 185 57 225 58 ...\n",
      "  ..$ Fold  2 : int [1:39] 152 175 171 31 7 381 268 37 239 356 ...\n",
      "  ..$ Fold  3 : int [1:39] 382 150 363 281 264 24 365 131 351 284 ...\n",
      "  ..$ Fold  4 : int [1:39] 182 263 28 153 174 23 172 142 227 129 ...\n",
      "  ..$ Fold  5 : int [1:38] 29 45 191 189 361 181 22 258 41 112 ...\n",
      "  ..$ Fold  6 : int [1:38] 379 373 32 271 366 173 20 352 106 265 ...\n",
      "  ..$ Fold  7 : int [1:38] 378 170 176 374 149 279 270 371 183 346 ...\n",
      "  ..$ Fold  8 : int [1:38] 376 184 321 375 154 21 282 43 315 370 ...\n",
      "  ..$ Fold  9 : int [1:38] 269 169 53 380 30 151 332 40 334 229 ...\n",
      "  ..$ Fold  10: int [1:38] 27 214 310 377 160 372 339 72 79 162 ...\n",
      " $ Run  5 :List of 10\n",
      "  ..$ Fold  1 : int [1:39] 378 170 27 45 279 153 268 206 105 261 ...\n",
      "  ..$ Fold  2 : int [1:39] 21 191 189 383 381 382 171 226 312 248 ...\n",
      "  ..$ Fold  3 : int [1:39] 375 184 24 185 363 270 149 239 95 335 ...\n",
      "  ..$ Fold  4 : int [1:39] 31 7 176 280 379 214 365 275 92 343 ...\n",
      "  ..$ Fold  5 : int [1:38] 264 1 377 267 154 20 310 347 86 38 ...\n",
      "  ..$ Fold  6 : int [1:38] 372 263 23 271 28 175 269 62 370 130 ...\n",
      "  ..$ Fold  7 : int [1:38] 281 160 32 332 181 172 282 207 294 143 ...\n",
      "  ..$ Fold  8 : int [1:38] 151 321 182 174 380 53 25 315 133 298 ...\n",
      "  ..$ Fold  9 : int [1:38] 30 361 339 173 152 373 22 262 91 4 ...\n",
      "  ..$ Fold  10: int [1:38] 366 29 376 46 169 374 150 318 253 127 ...\n",
      " $ Run  6 :List of 10\n",
      "  ..$ Fold  1 : int [1:39] 339 181 264 189 279 30 282 113 9 335 ...\n",
      "  ..$ Fold  2 : int [1:39] 365 160 378 150 172 191 7 86 16 320 ...\n",
      "  ..$ Fold  3 : int [1:39] 29 267 45 332 1 281 20 64 300 340 ...\n",
      "  ..$ Fold  4 : int [1:39] 382 32 372 363 154 263 21 72 164 237 ...\n",
      "  ..$ Fold  5 : int [1:38] 280 366 379 380 374 152 149 60 228 10 ...\n",
      "  ..$ Fold  6 : int [1:38] 176 310 170 53 185 270 321 265 66 294 ...\n",
      "  ..$ Fold  7 : int [1:38] 376 361 169 46 175 214 174 249 283 135 ...\n",
      "  ..$ Fold  8 : int [1:38] 373 25 383 22 377 151 153 39 242 303 ...\n",
      "  ..$ Fold  9 : int [1:38] 182 271 31 24 375 27 173 299 350 252 ...\n",
      "  ..$ Fold  10: int [1:38] 28 268 381 23 171 184 269 84 138 344 ...\n",
      " $ Run  7 :List of 10\n",
      "  ..$ Fold  1 : int [1:39] 24 332 366 372 7 32 149 273 368 235 ...\n",
      "  ..$ Fold  2 : int [1:39] 171 263 46 382 27 22 267 221 58 8 ...\n",
      "  ..$ Fold  3 : int [1:39] 154 374 182 379 271 365 23 360 240 145 ...\n",
      "  ..$ Fold  4 : int [1:39] 383 268 373 321 377 176 339 246 346 342 ...\n",
      "  ..$ Fold  5 : int [1:38] 31 378 30 175 270 282 184 355 71 325 ...\n",
      "  ..$ Fold  6 : int [1:38] 269 214 29 21 160 264 28 36 259 63 ...\n",
      "  ..$ Fold  7 : int [1:38] 280 189 153 361 181 191 380 211 256 247 ...\n",
      "  ..$ Fold  8 : int [1:38] 170 376 279 174 185 310 45 100 199 311 ...\n",
      "  ..$ Fold  9 : int [1:38] 150 375 281 363 173 1 53 348 306 130 ...\n",
      "  ..$ Fold  10: int [1:38] 20 169 381 151 25 152 172 39 141 129 ...\n",
      " $ Run  8 :List of 10\n",
      "  ..$ Fold  1 : int [1:39] 214 279 182 173 268 280 22 109 35 105 ...\n",
      "  ..$ Fold  2 : int [1:39] 269 372 271 31 339 152 45 308 298 42 ...\n",
      "  ..$ Fold  3 : int [1:39] 32 185 363 366 184 170 381 239 200 212 ...\n",
      "  ..$ Fold  4 : int [1:39] 53 153 29 263 25 150 267 342 201 259 ...\n",
      "  ..$ Fold  5 : int [1:38] 365 380 1 171 282 383 361 166 351 327 ...\n",
      "  ..$ Fold  6 : int [1:38] 189 375 264 151 321 24 379 293 273 116 ...\n",
      "  ..$ Fold  7 : int [1:38] 382 181 378 376 270 23 175 283 80 198 ...\n",
      "  ..$ Fold  8 : int [1:38] 30 191 160 28 169 154 27 315 344 357 ...\n",
      "  ..$ Fold  9 : int [1:38] 377 172 21 174 149 46 176 8 142 106 ...\n",
      "  ..$ Fold  10: int [1:38] 20 373 7 310 281 374 332 330 162 306 ...\n",
      " $ Run  9 :List of 10\n",
      "  ..$ Fold  1 : int [1:39] 28 150 383 27 376 375 214 354 305 228 ...\n",
      "  ..$ Fold  2 : int [1:39] 378 22 182 379 372 149 25 224 12 207 ...\n",
      "  ..$ Fold  3 : int [1:39] 279 281 174 185 21 264 184 342 163 265 ...\n",
      "  ..$ Fold  4 : int [1:39] 1 282 280 31 45 24 23 234 34 210 ...\n",
      "  ..$ Fold  5 : int [1:38] 332 189 365 160 382 173 377 107 209 74 ...\n",
      "  ..$ Fold  6 : int [1:38] 270 153 268 321 263 32 380 199 285 219 ...\n",
      "  ..$ Fold  7 : int [1:38] 53 373 172 29 374 152 171 200 312 323 ...\n",
      "  ..$ Fold  8 : int [1:38] 175 381 176 151 170 267 269 106 217 221 ...\n",
      "  ..$ Fold  9 : int [1:38] 339 20 30 181 154 7 363 18 293 251 ...\n",
      "  ..$ Fold  10: int [1:38] 271 169 191 310 366 361 46 180 178 162 ...\n",
      " $ Run  10:List of 10\n",
      "  ..$ Fold  1 : int [1:39] 332 20 30 372 172 280 184 241 108 138 ...\n",
      "  ..$ Fold  2 : int [1:39] 279 214 32 24 361 31 321 16 39 240 ...\n",
      "  ..$ Fold  3 : int [1:39] 378 374 21 366 281 375 339 328 137 249 ...\n",
      "  ..$ Fold  4 : int [1:39] 176 169 53 45 268 377 264 73 148 115 ...\n",
      "  ..$ Fold  5 : int [1:38] 379 23 373 269 171 25 267 113 313 51 ...\n",
      "  ..$ Fold  6 : int [1:38] 149 170 282 271 185 46 27 9 167 229 ...\n",
      "  ..$ Fold  7 : int [1:38] 189 174 175 153 363 152 154 157 299 61 ...\n",
      "  ..$ Fold  8 : int [1:38] 7 173 383 151 376 29 182 207 290 309 ...\n",
      "  ..$ Fold  9 : int [1:38] 181 150 28 365 380 263 310 129 359 117 ...\n",
      "  ..$ Fold  10: int [1:38] 191 160 22 270 382 381 1 89 222 104 ...\n"
     ]
    }
   ],
   "source": [
    "# cv indices start here\n",
    "require(TunePareto)\n",
    "\n",
    "set.seed(13429)\n",
    "nof_rep=10\n",
    "n_fold=10\n",
    "cv_indices=generateCVRuns(trainclass, ntimes =nof_rep, nfold = n_fold, \n",
    "                          leaveOneOut = FALSE, stratified = TRUE)\n",
    "\n",
    "str(cv_indices)\n",
    "\n",
    "dist_folder=sprintf('%s/distances/',current_folder)\n",
    "dist_files=list.files(dist_folder, full.names=T)\n"
   ]
  },
  {
   "cell_type": "code",
   "execution_count": 31,
   "id": "0eb77388",
   "metadata": {},
   "outputs": [
    {
     "data": {
      "text/html": [
       "<ol class=list-inline>\n",
       "\t<li>'project_dtw_raw_dist.csv'</li>\n",
       "\t<li>'project_dtw_raw_dist_sakoe_10.csv'</li>\n",
       "\t<li>'project_dtw_raw_dist_sakoe_20.csv'</li>\n",
       "\t<li>'project_erp_raw_gap_005.csv'</li>\n",
       "\t<li>'project_erp_raw_gap_1.csv'</li>\n",
       "\t<li>'project_euc_raw_dist.csv'</li>\n",
       "\t<li>'project_lcss_raw_epsilon_005.csv'</li>\n",
       "\t<li>'project_lcss_raw_epsilon_01.csv'</li>\n",
       "</ol>\n"
      ],
      "text/latex": [
       "\\begin{enumerate*}\n",
       "\\item 'project\\_dtw\\_raw\\_dist.csv'\n",
       "\\item 'project\\_dtw\\_raw\\_dist\\_sakoe\\_10.csv'\n",
       "\\item 'project\\_dtw\\_raw\\_dist\\_sakoe\\_20.csv'\n",
       "\\item 'project\\_erp\\_raw\\_gap\\_005.csv'\n",
       "\\item 'project\\_erp\\_raw\\_gap\\_1.csv'\n",
       "\\item 'project\\_euc\\_raw\\_dist.csv'\n",
       "\\item 'project\\_lcss\\_raw\\_epsilon\\_005.csv'\n",
       "\\item 'project\\_lcss\\_raw\\_epsilon\\_01.csv'\n",
       "\\end{enumerate*}\n"
      ],
      "text/markdown": [
       "1. 'project_dtw_raw_dist.csv'\n",
       "2. 'project_dtw_raw_dist_sakoe_10.csv'\n",
       "3. 'project_dtw_raw_dist_sakoe_20.csv'\n",
       "4. 'project_erp_raw_gap_005.csv'\n",
       "5. 'project_erp_raw_gap_1.csv'\n",
       "6. 'project_euc_raw_dist.csv'\n",
       "7. 'project_lcss_raw_epsilon_005.csv'\n",
       "8. 'project_lcss_raw_epsilon_01.csv'\n",
       "\n",
       "\n"
      ],
      "text/plain": [
       "[1] \"project_dtw_raw_dist.csv\"          \"project_dtw_raw_dist_sakoe_10.csv\"\n",
       "[3] \"project_dtw_raw_dist_sakoe_20.csv\" \"project_erp_raw_gap_005.csv\"      \n",
       "[5] \"project_erp_raw_gap_1.csv\"         \"project_euc_raw_dist.csv\"         \n",
       "[7] \"project_lcss_raw_epsilon_005.csv\"  \"project_lcss_raw_epsilon_01.csv\"  "
      ]
     },
     "metadata": {},
     "output_type": "display_data"
    }
   ],
   "source": [
    "list.files(dist_folder)"
   ]
  },
  {
   "cell_type": "code",
   "execution_count": 32,
   "id": "803349dc",
   "metadata": {},
   "outputs": [
    {
     "name": "stdout",
     "output_type": "stream",
     "text": [
      "[1] \"D:/Datasets/IE48B_project/distances/project_dtw_raw_dist.csv\"\n",
      "[1] \"D:/Datasets/IE48B_project/distances/project_dtw_raw_dist_sakoe_10.csv\"\n",
      "[1] \"D:/Datasets/IE48B_project/distances/project_dtw_raw_dist_sakoe_20.csv\"\n",
      "[1] \"D:/Datasets/IE48B_project/distances/project_erp_raw_gap_005.csv\"\n",
      "[1] \"D:/Datasets/IE48B_project/distances/project_erp_raw_gap_1.csv\"\n",
      "[1] \"D:/Datasets/IE48B_project/distances/project_euc_raw_dist.csv\"\n",
      "[1] \"D:/Datasets/IE48B_project/distances/project_lcss_raw_epsilon_005.csv\"\n",
      "[1] \"D:/Datasets/IE48B_project/distances/project_lcss_raw_epsilon_01.csv\"\n"
     ]
    }
   ],
   "source": [
    "k_levels=c(2,5,10)\n",
    "approach_file=list.files(dist_folder)\n",
    "result=vector('list',length(dist_files)*nof_rep*n_fold*length(k_levels))\n",
    "iter=1\n",
    "for(m in 1:length(dist_files)){ #\n",
    "    print(dist_files[m])\n",
    "    dist_mat=as.matrix(fread(dist_files[m],header=FALSE))\n",
    "    for(i in 1:nof_rep){\n",
    "        this_fold=cv_indices[[i]]\n",
    "        for(j in 1:n_fold){\n",
    "            test_indices=this_fold[[j]]\n",
    "            for(k in 1:length(k_levels)){\n",
    "                current_k=k_levels[k]\n",
    "                current_fold=nn_classify_cv(dist_mat,trainclass,test_indices,k=current_k)\n",
    "                accuracy=sum(trainclass[test_indices]==current_fold$prediction$predicted)/length(test_indices)\n",
    "                tmp=data.table(approach=approach_file[m],repid=i,foldid=j,\n",
    "                               k=current_k,acc=accuracy)\n",
    "                result[[iter]]=tmp\n",
    "                iter=iter+1\n",
    "                \n",
    "            }\n",
    "            \n",
    "        }\n",
    "    \n",
    "    }   \n",
    "    \n",
    "}\n"
   ]
  },
  {
   "cell_type": "code",
   "execution_count": 33,
   "id": "d642405b",
   "metadata": {},
   "outputs": [
    {
     "data": {
      "text/html": [
       "<table>\n",
       "<thead><tr><th scope=col>approach</th><th scope=col>k</th><th scope=col>avg_acc</th><th scope=col>sdev_acc</th><th scope=col>result_count</th></tr></thead>\n",
       "<tbody>\n",
       "\t<tr><td>project_dtw_raw_dist.csv         </td><td> 2                               </td><td>0.6430769                        </td><td>0.06964976                       </td><td>100                              </td></tr>\n",
       "\t<tr><td>project_dtw_raw_dist.csv         </td><td> 5                               </td><td>0.6802294                        </td><td>0.05341675                       </td><td>100                              </td></tr>\n",
       "\t<tr><td>project_dtw_raw_dist.csv         </td><td>10                               </td><td>0.7200742                        </td><td>0.03903751                       </td><td>100                              </td></tr>\n",
       "\t<tr><td>project_dtw_raw_dist_sakoe_10.csv</td><td> 2                               </td><td>0.6430769                        </td><td>0.06964976                       </td><td>100                              </td></tr>\n",
       "\t<tr><td>project_dtw_raw_dist_sakoe_10.csv</td><td> 5                               </td><td>0.6802294                        </td><td>0.05341675                       </td><td>100                              </td></tr>\n",
       "\t<tr><td>project_dtw_raw_dist_sakoe_10.csv</td><td>10                               </td><td>0.7200742                        </td><td>0.03903751                       </td><td>100                              </td></tr>\n",
       "\t<tr><td>project_dtw_raw_dist_sakoe_20.csv</td><td> 2                               </td><td>0.6430769                        </td><td>0.06964976                       </td><td>100                              </td></tr>\n",
       "\t<tr><td>project_dtw_raw_dist_sakoe_20.csv</td><td> 5                               </td><td>0.6802294                        </td><td>0.05341675                       </td><td>100                              </td></tr>\n",
       "\t<tr><td>project_dtw_raw_dist_sakoe_20.csv</td><td>10                               </td><td>0.7200742                        </td><td>0.03903751                       </td><td>100                              </td></tr>\n",
       "\t<tr><td>project_erp_raw_gap_005.csv      </td><td> 2                               </td><td>0.6399798                        </td><td>0.06650581                       </td><td>100                              </td></tr>\n",
       "\t<tr><td>project_erp_raw_gap_005.csv      </td><td> 5                               </td><td>0.6909312                        </td><td>0.04906949                       </td><td>100                              </td></tr>\n",
       "\t<tr><td>project_erp_raw_gap_005.csv      </td><td>10                               </td><td>0.7182456                        </td><td>0.04072530                       </td><td>100                              </td></tr>\n",
       "\t<tr><td>project_erp_raw_gap_1.csv        </td><td> 2                               </td><td>0.6402227                        </td><td>0.06567888                       </td><td>100                              </td></tr>\n",
       "\t<tr><td>project_erp_raw_gap_1.csv        </td><td> 5                               </td><td>0.6846829                        </td><td>0.04848222                       </td><td>100                              </td></tr>\n",
       "\t<tr><td>project_erp_raw_gap_1.csv        </td><td>10                               </td><td>0.7198178                        </td><td>0.03875830                       </td><td>100                              </td></tr>\n",
       "\t<tr><td>project_euc_raw_dist.csv         </td><td> 2                               </td><td>0.6328745                        </td><td>0.06607764                       </td><td>100                              </td></tr>\n",
       "\t<tr><td>project_euc_raw_dist.csv         </td><td> 5                               </td><td>0.6764035                        </td><td>0.05660061                       </td><td>100                              </td></tr>\n",
       "\t<tr><td>project_euc_raw_dist.csv         </td><td>10                               </td><td>0.7133131                        </td><td>0.04276158                       </td><td>100                              </td></tr>\n",
       "\t<tr><td>project_lcss_raw_epsilon_005.csv </td><td> 2                               </td><td>0.6087045                        </td><td>0.05901520                       </td><td>100                              </td></tr>\n",
       "\t<tr><td>project_lcss_raw_epsilon_005.csv </td><td> 5                               </td><td>0.7085290                        </td><td>0.02832335                       </td><td>100                              </td></tr>\n",
       "\t<tr><td>project_lcss_raw_epsilon_005.csv </td><td>10                               </td><td>0.7319771                        </td><td>0.01909082                       </td><td>100                              </td></tr>\n",
       "\t<tr><td>project_lcss_raw_epsilon_01.csv  </td><td> 2                               </td><td>0.6241430                        </td><td>0.05959275                       </td><td>100                              </td></tr>\n",
       "\t<tr><td>project_lcss_raw_epsilon_01.csv  </td><td> 5                               </td><td>0.7114440                        </td><td>0.03103907                       </td><td>100                              </td></tr>\n",
       "\t<tr><td>project_lcss_raw_epsilon_01.csv  </td><td>10                               </td><td>0.7333198                        </td><td>0.01551811                       </td><td>100                              </td></tr>\n",
       "</tbody>\n",
       "</table>\n"
      ],
      "text/latex": [
       "\\begin{tabular}{r|lllll}\n",
       " approach & k & avg\\_acc & sdev\\_acc & result\\_count\\\\\n",
       "\\hline\n",
       "\t project\\_dtw\\_raw\\_dist.csv          &  2                                      & 0.6430769                               & 0.06964976                              & 100                                    \\\\\n",
       "\t project\\_dtw\\_raw\\_dist.csv          &  5                                      & 0.6802294                               & 0.05341675                              & 100                                    \\\\\n",
       "\t project\\_dtw\\_raw\\_dist.csv          & 10                                      & 0.7200742                               & 0.03903751                              & 100                                    \\\\\n",
       "\t project\\_dtw\\_raw\\_dist\\_sakoe\\_10.csv &  2                                          & 0.6430769                                   & 0.06964976                                  & 100                                        \\\\\n",
       "\t project\\_dtw\\_raw\\_dist\\_sakoe\\_10.csv &  5                                          & 0.6802294                                   & 0.05341675                                  & 100                                        \\\\\n",
       "\t project\\_dtw\\_raw\\_dist\\_sakoe\\_10.csv & 10                                          & 0.7200742                                   & 0.03903751                                  & 100                                        \\\\\n",
       "\t project\\_dtw\\_raw\\_dist\\_sakoe\\_20.csv &  2                                          & 0.6430769                                   & 0.06964976                                  & 100                                        \\\\\n",
       "\t project\\_dtw\\_raw\\_dist\\_sakoe\\_20.csv &  5                                          & 0.6802294                                   & 0.05341675                                  & 100                                        \\\\\n",
       "\t project\\_dtw\\_raw\\_dist\\_sakoe\\_20.csv & 10                                          & 0.7200742                                   & 0.03903751                                  & 100                                        \\\\\n",
       "\t project\\_erp\\_raw\\_gap\\_005.csv       &  2                                        & 0.6399798                                 & 0.06650581                                & 100                                      \\\\\n",
       "\t project\\_erp\\_raw\\_gap\\_005.csv       &  5                                        & 0.6909312                                 & 0.04906949                                & 100                                      \\\\\n",
       "\t project\\_erp\\_raw\\_gap\\_005.csv       & 10                                        & 0.7182456                                 & 0.04072530                                & 100                                      \\\\\n",
       "\t project\\_erp\\_raw\\_gap\\_1.csv         &  2                                        & 0.6402227                                 & 0.06567888                                & 100                                      \\\\\n",
       "\t project\\_erp\\_raw\\_gap\\_1.csv         &  5                                        & 0.6846829                                 & 0.04848222                                & 100                                      \\\\\n",
       "\t project\\_erp\\_raw\\_gap\\_1.csv         & 10                                        & 0.7198178                                 & 0.03875830                                & 100                                      \\\\\n",
       "\t project\\_euc\\_raw\\_dist.csv          &  2                                      & 0.6328745                               & 0.06607764                              & 100                                    \\\\\n",
       "\t project\\_euc\\_raw\\_dist.csv          &  5                                      & 0.6764035                               & 0.05660061                              & 100                                    \\\\\n",
       "\t project\\_euc\\_raw\\_dist.csv          & 10                                      & 0.7133131                               & 0.04276158                              & 100                                    \\\\\n",
       "\t project\\_lcss\\_raw\\_epsilon\\_005.csv  &  2                                        & 0.6087045                                 & 0.05901520                                & 100                                      \\\\\n",
       "\t project\\_lcss\\_raw\\_epsilon\\_005.csv  &  5                                        & 0.7085290                                 & 0.02832335                                & 100                                      \\\\\n",
       "\t project\\_lcss\\_raw\\_epsilon\\_005.csv  & 10                                        & 0.7319771                                 & 0.01909082                                & 100                                      \\\\\n",
       "\t project\\_lcss\\_raw\\_epsilon\\_01.csv   &  2                                        & 0.6241430                                 & 0.05959275                                & 100                                      \\\\\n",
       "\t project\\_lcss\\_raw\\_epsilon\\_01.csv   &  5                                        & 0.7114440                                 & 0.03103907                                & 100                                      \\\\\n",
       "\t project\\_lcss\\_raw\\_epsilon\\_01.csv   & 10                                        & 0.7333198                                 & 0.01551811                                & 100                                      \\\\\n",
       "\\end{tabular}\n"
      ],
      "text/markdown": [
       "\n",
       "| approach | k | avg_acc | sdev_acc | result_count |\n",
       "|---|---|---|---|---|\n",
       "| project_dtw_raw_dist.csv          |  2                                | 0.6430769                         | 0.06964976                        | 100                               |\n",
       "| project_dtw_raw_dist.csv          |  5                                | 0.6802294                         | 0.05341675                        | 100                               |\n",
       "| project_dtw_raw_dist.csv          | 10                                | 0.7200742                         | 0.03903751                        | 100                               |\n",
       "| project_dtw_raw_dist_sakoe_10.csv |  2                                | 0.6430769                         | 0.06964976                        | 100                               |\n",
       "| project_dtw_raw_dist_sakoe_10.csv |  5                                | 0.6802294                         | 0.05341675                        | 100                               |\n",
       "| project_dtw_raw_dist_sakoe_10.csv | 10                                | 0.7200742                         | 0.03903751                        | 100                               |\n",
       "| project_dtw_raw_dist_sakoe_20.csv |  2                                | 0.6430769                         | 0.06964976                        | 100                               |\n",
       "| project_dtw_raw_dist_sakoe_20.csv |  5                                | 0.6802294                         | 0.05341675                        | 100                               |\n",
       "| project_dtw_raw_dist_sakoe_20.csv | 10                                | 0.7200742                         | 0.03903751                        | 100                               |\n",
       "| project_erp_raw_gap_005.csv       |  2                                | 0.6399798                         | 0.06650581                        | 100                               |\n",
       "| project_erp_raw_gap_005.csv       |  5                                | 0.6909312                         | 0.04906949                        | 100                               |\n",
       "| project_erp_raw_gap_005.csv       | 10                                | 0.7182456                         | 0.04072530                        | 100                               |\n",
       "| project_erp_raw_gap_1.csv         |  2                                | 0.6402227                         | 0.06567888                        | 100                               |\n",
       "| project_erp_raw_gap_1.csv         |  5                                | 0.6846829                         | 0.04848222                        | 100                               |\n",
       "| project_erp_raw_gap_1.csv         | 10                                | 0.7198178                         | 0.03875830                        | 100                               |\n",
       "| project_euc_raw_dist.csv          |  2                                | 0.6328745                         | 0.06607764                        | 100                               |\n",
       "| project_euc_raw_dist.csv          |  5                                | 0.6764035                         | 0.05660061                        | 100                               |\n",
       "| project_euc_raw_dist.csv          | 10                                | 0.7133131                         | 0.04276158                        | 100                               |\n",
       "| project_lcss_raw_epsilon_005.csv  |  2                                | 0.6087045                         | 0.05901520                        | 100                               |\n",
       "| project_lcss_raw_epsilon_005.csv  |  5                                | 0.7085290                         | 0.02832335                        | 100                               |\n",
       "| project_lcss_raw_epsilon_005.csv  | 10                                | 0.7319771                         | 0.01909082                        | 100                               |\n",
       "| project_lcss_raw_epsilon_01.csv   |  2                                | 0.6241430                         | 0.05959275                        | 100                               |\n",
       "| project_lcss_raw_epsilon_01.csv   |  5                                | 0.7114440                         | 0.03103907                        | 100                               |\n",
       "| project_lcss_raw_epsilon_01.csv   | 10                                | 0.7333198                         | 0.01551811                        | 100                               |\n",
       "\n"
      ],
      "text/plain": [
       "   approach                          k  avg_acc   sdev_acc   result_count\n",
       "1  project_dtw_raw_dist.csv           2 0.6430769 0.06964976 100         \n",
       "2  project_dtw_raw_dist.csv           5 0.6802294 0.05341675 100         \n",
       "3  project_dtw_raw_dist.csv          10 0.7200742 0.03903751 100         \n",
       "4  project_dtw_raw_dist_sakoe_10.csv  2 0.6430769 0.06964976 100         \n",
       "5  project_dtw_raw_dist_sakoe_10.csv  5 0.6802294 0.05341675 100         \n",
       "6  project_dtw_raw_dist_sakoe_10.csv 10 0.7200742 0.03903751 100         \n",
       "7  project_dtw_raw_dist_sakoe_20.csv  2 0.6430769 0.06964976 100         \n",
       "8  project_dtw_raw_dist_sakoe_20.csv  5 0.6802294 0.05341675 100         \n",
       "9  project_dtw_raw_dist_sakoe_20.csv 10 0.7200742 0.03903751 100         \n",
       "10 project_erp_raw_gap_005.csv        2 0.6399798 0.06650581 100         \n",
       "11 project_erp_raw_gap_005.csv        5 0.6909312 0.04906949 100         \n",
       "12 project_erp_raw_gap_005.csv       10 0.7182456 0.04072530 100         \n",
       "13 project_erp_raw_gap_1.csv          2 0.6402227 0.06567888 100         \n",
       "14 project_erp_raw_gap_1.csv          5 0.6846829 0.04848222 100         \n",
       "15 project_erp_raw_gap_1.csv         10 0.7198178 0.03875830 100         \n",
       "16 project_euc_raw_dist.csv           2 0.6328745 0.06607764 100         \n",
       "17 project_euc_raw_dist.csv           5 0.6764035 0.05660061 100         \n",
       "18 project_euc_raw_dist.csv          10 0.7133131 0.04276158 100         \n",
       "19 project_lcss_raw_epsilon_005.csv   2 0.6087045 0.05901520 100         \n",
       "20 project_lcss_raw_epsilon_005.csv   5 0.7085290 0.02832335 100         \n",
       "21 project_lcss_raw_epsilon_005.csv  10 0.7319771 0.01909082 100         \n",
       "22 project_lcss_raw_epsilon_01.csv    2 0.6241430 0.05959275 100         \n",
       "23 project_lcss_raw_epsilon_01.csv    5 0.7114440 0.03103907 100         \n",
       "24 project_lcss_raw_epsilon_01.csv   10 0.7333198 0.01551811 100         "
      ]
     },
     "metadata": {},
     "output_type": "display_data"
    }
   ],
   "source": [
    "overall_results=rbindlist(result)\n",
    "overall_results[,list(avg_acc=mean(acc),sdev_acc=sd(acc),result_count=.N),by=list(approach,k)]"
   ]
  },
  {
   "cell_type": "code",
   "execution_count": 69,
   "id": "30a82f3d",
   "metadata": {},
   "outputs": [
    {
     "data": {
      "text/html": [
       "<table>\n",
       "<thead><tr><th scope=col>approach</th><th scope=col>k</th><th scope=col>avg_acc</th><th scope=col>sdev_acc</th><th scope=col>result_count</th></tr></thead>\n",
       "<tbody>\n",
       "\t<tr><td>project_lcss_raw_epsilon_01.csv  </td><td>10                               </td><td>0.7333198                        </td><td>0.01551811                       </td><td>100                              </td></tr>\n",
       "\t<tr><td>project_lcss_raw_epsilon_005.csv </td><td>10                               </td><td>0.7319771                        </td><td>0.01909082                       </td><td>100                              </td></tr>\n",
       "\t<tr><td>project_dtw_raw_dist.csv         </td><td>10                               </td><td>0.7200742                        </td><td>0.03903751                       </td><td>100                              </td></tr>\n",
       "\t<tr><td>project_dtw_raw_dist_sakoe_10.csv</td><td>10                               </td><td>0.7200742                        </td><td>0.03903751                       </td><td>100                              </td></tr>\n",
       "\t<tr><td>project_dtw_raw_dist_sakoe_20.csv</td><td>10                               </td><td>0.7200742                        </td><td>0.03903751                       </td><td>100                              </td></tr>\n",
       "\t<tr><td>project_erp_raw_gap_1.csv        </td><td>10                               </td><td>0.7198178                        </td><td>0.03875830                       </td><td>100                              </td></tr>\n",
       "\t<tr><td>project_erp_raw_gap_005.csv      </td><td>10                               </td><td>0.7182456                        </td><td>0.04072530                       </td><td>100                              </td></tr>\n",
       "\t<tr><td>project_euc_raw_dist.csv         </td><td>10                               </td><td>0.7133131                        </td><td>0.04276158                       </td><td>100                              </td></tr>\n",
       "</tbody>\n",
       "</table>\n"
      ],
      "text/latex": [
       "\\begin{tabular}{r|lllll}\n",
       " approach & k & avg\\_acc & sdev\\_acc & result\\_count\\\\\n",
       "\\hline\n",
       "\t project\\_lcss\\_raw\\_epsilon\\_01.csv   & 10                                        & 0.7333198                                 & 0.01551811                                & 100                                      \\\\\n",
       "\t project\\_lcss\\_raw\\_epsilon\\_005.csv  & 10                                        & 0.7319771                                 & 0.01909082                                & 100                                      \\\\\n",
       "\t project\\_dtw\\_raw\\_dist.csv          & 10                                      & 0.7200742                               & 0.03903751                              & 100                                    \\\\\n",
       "\t project\\_dtw\\_raw\\_dist\\_sakoe\\_10.csv & 10                                          & 0.7200742                                   & 0.03903751                                  & 100                                        \\\\\n",
       "\t project\\_dtw\\_raw\\_dist\\_sakoe\\_20.csv & 10                                          & 0.7200742                                   & 0.03903751                                  & 100                                        \\\\\n",
       "\t project\\_erp\\_raw\\_gap\\_1.csv         & 10                                        & 0.7198178                                 & 0.03875830                                & 100                                      \\\\\n",
       "\t project\\_erp\\_raw\\_gap\\_005.csv       & 10                                        & 0.7182456                                 & 0.04072530                                & 100                                      \\\\\n",
       "\t project\\_euc\\_raw\\_dist.csv          & 10                                      & 0.7133131                               & 0.04276158                              & 100                                    \\\\\n",
       "\\end{tabular}\n"
      ],
      "text/markdown": [
       "\n",
       "| approach | k | avg_acc | sdev_acc | result_count |\n",
       "|---|---|---|---|---|\n",
       "| project_lcss_raw_epsilon_01.csv   | 10                                | 0.7333198                         | 0.01551811                        | 100                               |\n",
       "| project_lcss_raw_epsilon_005.csv  | 10                                | 0.7319771                         | 0.01909082                        | 100                               |\n",
       "| project_dtw_raw_dist.csv          | 10                                | 0.7200742                         | 0.03903751                        | 100                               |\n",
       "| project_dtw_raw_dist_sakoe_10.csv | 10                                | 0.7200742                         | 0.03903751                        | 100                               |\n",
       "| project_dtw_raw_dist_sakoe_20.csv | 10                                | 0.7200742                         | 0.03903751                        | 100                               |\n",
       "| project_erp_raw_gap_1.csv         | 10                                | 0.7198178                         | 0.03875830                        | 100                               |\n",
       "| project_erp_raw_gap_005.csv       | 10                                | 0.7182456                         | 0.04072530                        | 100                               |\n",
       "| project_euc_raw_dist.csv          | 10                                | 0.7133131                         | 0.04276158                        | 100                               |\n",
       "\n"
      ],
      "text/plain": [
       "  approach                          k  avg_acc   sdev_acc   result_count\n",
       "1 project_lcss_raw_epsilon_01.csv   10 0.7333198 0.01551811 100         \n",
       "2 project_lcss_raw_epsilon_005.csv  10 0.7319771 0.01909082 100         \n",
       "3 project_dtw_raw_dist.csv          10 0.7200742 0.03903751 100         \n",
       "4 project_dtw_raw_dist_sakoe_10.csv 10 0.7200742 0.03903751 100         \n",
       "5 project_dtw_raw_dist_sakoe_20.csv 10 0.7200742 0.03903751 100         \n",
       "6 project_erp_raw_gap_1.csv         10 0.7198178 0.03875830 100         \n",
       "7 project_erp_raw_gap_005.csv       10 0.7182456 0.04072530 100         \n",
       "8 project_euc_raw_dist.csv          10 0.7133131 0.04276158 100         "
      ]
     },
     "metadata": {},
     "output_type": "display_data"
    }
   ],
   "source": [
    "head(res_dt[order(avg_acc,decreasing = TRUE)], 8)"
   ]
  },
  {
   "cell_type": "code",
   "execution_count": null,
   "id": "43b1049f",
   "metadata": {},
   "outputs": [],
   "source": [
    "require(ggplot2)\n",
    "ggplot(overall_results,aes(x=paste0(approach,'_when k:',k), y=acc)) +\n",
    "geom_boxplot()+ xlab(\"Models\")+ylab(\"Box Plot of Accuracy\")+\n",
    "coord_flip()"
   ]
  },
  {
   "cell_type": "markdown",
   "id": "b2b4067e",
   "metadata": {},
   "source": [
    "## Prediction Part"
   ]
  },
  {
   "cell_type": "code",
   "execution_count": 176,
   "id": "9a8a62ad",
   "metadata": {},
   "outputs": [],
   "source": [
    "all_dt=all_dt[(date<=\"2021-12-14\")& (date>=\"2021-01-01\"),]"
   ]
  },
  {
   "cell_type": "code",
   "execution_count": 177,
   "id": "64ced284",
   "metadata": {},
   "outputs": [],
   "source": [
    "all_dt=all_dt[,-c(\"date\", 'net', 'upRegulationZeroCoded', 'upRegulationOneCoded', 'upRegulationTwoCoded',\n",
    "                'downRegulationZeroCoded', 'downRegulationOneCoded', 'downRegulationTwoCoded', 'upRegulationDelivered',\n",
    "                'downRegulationDelivered')]"
   ]
  },
  {
   "cell_type": "code",
   "execution_count": 178,
   "id": "0bd1f15c",
   "metadata": {},
   "outputs": [],
   "source": [
    "allclass=all_dt$system_direction\n",
    "alldata=as.matrix(all_dt[, -c(2),with=F])\n",
    "\n",
    "alldata=scale(alldata)"
   ]
  },
  {
   "cell_type": "markdown",
   "id": "732fd891",
   "metadata": {},
   "source": [
    "### Distance Matrix"
   ]
  },
  {
   "cell_type": "code",
   "execution_count": 179,
   "id": "b75e7273",
   "metadata": {},
   "outputs": [],
   "source": [
    "large_number=10000\n",
    "dist_euc_all=as.matrix(dist(alldata))\n",
    "diag(dist_euc_all)=large_number"
   ]
  },
  {
   "cell_type": "code",
   "execution_count": 180,
   "id": "ee4fe1b3",
   "metadata": {
    "scrolled": true
   },
   "outputs": [],
   "source": [
    "test_indices=(nrow(alldata)-335):nrow(alldata)# 2 weeks \n",
    "k=10 \n",
    "dist_matrix_all=dist_euc_all\n",
    "test_distances_all=dist_matrix_all[test_indices,]"
   ]
  },
  {
   "cell_type": "code",
   "execution_count": 181,
   "id": "0435aec9",
   "metadata": {},
   "outputs": [],
   "source": [
    "ordered_indices=apply(test_distances_all,1,order)\n",
    "nearest_class=apply(ordered_indices[1:k,],2,function(x) {allclass[x]})\n",
    "nearest_class=data.table(id=test_indices,t(nearest_class))\n",
    "\n",
    "#nearest_class\n",
    "long_nn_class=melt(nearest_class,'id')"
   ]
  },
  {
   "cell_type": "code",
   "execution_count": 182,
   "id": "a6ec8c23",
   "metadata": {},
   "outputs": [],
   "source": [
    "class_counts=long_nn_class[,.N,list(id,value)]\n",
    "class_counts[,predicted_prob:=N/k]\n",
    "wide_class_prob_predictions=dcast(class_counts,id~value,value.var='predicted_prob')"
   ]
  },
  {
   "cell_type": "code",
   "execution_count": 183,
   "id": "d28c1dab",
   "metadata": {},
   "outputs": [],
   "source": [
    "wide_class_prob_predictions[is.na(wide_class_prob_predictions)]=0\n",
    "\n",
    "\n",
    "class_predictions=class_counts[,list(predicted=value[which.max(N)]),by=list(id)]"
   ]
  },
  {
   "cell_type": "markdown",
   "id": "ee02e670",
   "metadata": {},
   "source": [
    "## Obtained Performance"
   ]
  },
  {
   "cell_type": "code",
   "execution_count": 188,
   "id": "4ab258a8",
   "metadata": {},
   "outputs": [],
   "source": [
    "library(caret)"
   ]
  },
  {
   "cell_type": "code",
   "execution_count": 190,
   "id": "491f9844",
   "metadata": {},
   "outputs": [
    {
     "data": {
      "text/plain": [
       "Confusion Matrix and Statistics\n",
       "\n",
       "          Reference\n",
       "Prediction Negative Neutral Positive\n",
       "  Negative       40       7       30\n",
       "  Neutral         2       5        2\n",
       "  Positive       28      17      205\n",
       "\n",
       "Overall Statistics\n",
       "                                          \n",
       "               Accuracy : 0.744           \n",
       "                 95% CI : (0.6939, 0.7899)\n",
       "    No Information Rate : 0.7054          \n",
       "    P-Value [Acc > NIR] : 0.065910        \n",
       "                                          \n",
       "                  Kappa : 0.3979          \n",
       "                                          \n",
       " Mcnemar's Test P-Value : 0.002103        \n",
       "\n",
       "Statistics by Class:\n",
       "\n",
       "                     Class: Negative Class: Neutral Class: Positive\n",
       "Precision                     0.5195        0.55556          0.8200\n",
       "Recall                        0.5714        0.17241          0.8650\n",
       "F1                            0.5442        0.26316          0.8419\n",
       "Prevalence                    0.2083        0.08631          0.7054\n",
       "Detection Rate                0.1190        0.01488          0.6101\n",
       "Detection Prevalence          0.2292        0.02679          0.7440\n",
       "Balanced Accuracy             0.7162        0.57969          0.7052"
      ]
     },
     "metadata": {},
     "output_type": "display_data"
    }
   ],
   "source": [
    "confusionMatrix(data = as.factor(class_predictions$predicted), reference = as.factor(all_dt[(nrow(all_dt)-335):nrow(all_dt)]$system_direction), mode = \"prec_recall\")"
   ]
  },
  {
   "cell_type": "code",
   "execution_count": null,
   "id": "c257fdfb",
   "metadata": {},
   "outputs": [],
   "source": []
  }
 ],
 "metadata": {
  "kernelspec": {
   "display_name": "R",
   "language": "R",
   "name": "ir"
  },
  "language_info": {
   "codemirror_mode": "r",
   "file_extension": ".r",
   "mimetype": "text/x-r-source",
   "name": "R",
   "pygments_lexer": "r",
   "version": "3.6.1"
  }
 },
 "nbformat": 4,
 "nbformat_minor": 5
}
