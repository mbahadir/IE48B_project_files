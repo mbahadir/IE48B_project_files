{
 "cells": [
  {
   "cell_type": "markdown",
   "id": "56959eef",
   "metadata": {},
   "source": [
    "# References\n",
    "\n",
    "Breakdown Data Notebook: https://github.com/mbahadir/IE48B_project_files/blob/main/Breakdown_Data.ipynb\n",
    "Breakdown Data R File: https://github.com/mbahadir/IE48B_project_files/blob/main/Breakdown_Data.r\n",
    "\n",
    "Data Control in Python Notebook: https://github.com/mbahadir/IE48B_project_files/blob/main/Data%20Control%20in%20Python.ipynb\n",
    "Data Control in Python File: https://github.com/mbahadir/IE48B_project_files/blob/main/Data%20Control%20in%20Python.py\n",
    "\n",
    "Data Control in R Notebook: https://github.com/mbahadir/IE48B_project_files/blob/main/Data%20Control%20in%20R.ipynb\n",
    "Data Control in R File: https://github.com/mbahadir/IE48B_project_files/blob/main/Data%20Control%20in%20R.r\n",
    "\n",
    "KNN Files Notebook: https://github.com/mbahadir/IE48B_project_files/blob/main/KNN%20Files.ipynb\n",
    "KNN Files R File: https://github.com/mbahadir/IE48B_project_files/blob/main/KNN%20Files.r\n",
    "\n",
    "Sax Representation with KNN Notebook: https://github.com/mbahadir/IE48B_project_files/blob/main/Sax%20Representation%20with%20KNN.ipynb\n",
    "Sax Representation with KNN R File: https://github.com/mbahadir/IE48B_project_files/blob/main/Sax%20Representation%20with%20KNN.r\n",
    "\n"
   ]
  }
 ],
 "metadata": {
  "kernelspec": {
   "display_name": "R",
   "language": "R",
   "name": "ir"
  },
  "language_info": {
   "codemirror_mode": "r",
   "file_extension": ".r",
   "mimetype": "text/x-r-source",
   "name": "R",
   "pygments_lexer": "r",
   "version": "3.6.1"
  }
 },
 "nbformat": 4,
 "nbformat_minor": 5
}
