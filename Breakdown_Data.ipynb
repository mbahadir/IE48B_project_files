{
 "cells": [
  {
   "cell_type": "markdown",
   "id": "1deb2f00",
   "metadata": {},
   "source": [
    "# \"Arıza Datası\" "
   ]
  },
  {
   "cell_type": "markdown",
   "id": "f293bedb",
   "metadata": {},
   "source": [
    "To predict deviation from balance of energy production and consumption, we have found a dataset which consists of unexpected malfunctions of energy facilities when we were looking at \"EPDK Şeffaflık\" website. We have thought that these unexpected malfunctions can cause decreasing in productions and thereby system_direction can deviate from predictions. Such deviations can give us an idea to increase prediction model accuracy. "
   ]
  },
  {
   "cell_type": "markdown",
   "id": "bba094dd",
   "metadata": {},
   "source": [
    "Firstly, we took this data as an interval between 01/01/2019 and 01/01/2021 from **EPDK Seffaflık/Piyasa Mesaj Sistemi**.  "
   ]
  },
  {
   "cell_type": "code",
   "execution_count": 113,
   "id": "fe4f1fc1",
   "metadata": {},
   "outputs": [
    {
     "data": {
      "text/html": [
       "<table class=\"dataframe\">\n",
       "<caption>A data.table: 6 × 8</caption>\n",
       "<thead>\n",
       "\t<tr><th scope=col>Organizasyon Adý</th><th scope=col>Santral Ýsmi</th><th scope=col>UEVÇB</th><th scope=col>Olay Baþlangýç Tarihi</th><th scope=col>Olay Bitiþ Tarihi</th><th scope=col>Ýþletmedeki Kurulu Güç</th><th scope=col>Olay Sýrasýnda Kapasite</th><th scope=col>Gerekçe</th></tr>\n",
       "\t<tr><th scope=col>&lt;chr&gt;</th><th scope=col>&lt;chr&gt;</th><th scope=col>&lt;chr&gt;</th><th scope=col>&lt;chr&gt;</th><th scope=col>&lt;chr&gt;</th><th scope=col>&lt;chr&gt;</th><th scope=col>&lt;chr&gt;</th><th scope=col>&lt;chr&gt;</th></tr>\n",
       "</thead>\n",
       "<tbody>\n",
       "\t<tr><td>ÇELÝKLER ORHANELÝ TUNÇBÝLEK ELEKTRÝK ÜRETÝM A.Þ.</td><td>ORHANELÝ tes                          </td><td>ORHANELÝ 154                                  </td><td>28/12/2021 00:57</td><td>28/12/2021 23:59</td><td>210,00</td><td>0,00 </td><td>KAZA N BORU PATLAÐI    </td></tr>\n",
       "\t<tr><td>ABK ENERJÝ ELEKTRÝK ÜRETÝM A.Þ.                 </td><td>Söke-Çatalbük Rüzgar Elektrik Santrali</td><td>SÖKE ÇATALBÜK                                 </td><td>26/06/2021 00:00</td><td>26/06/2021 23:59</td><td>30,00 </td><td>28,00</td><td>Türbin arýzasý         </td></tr>\n",
       "\t<tr><td>DOÐAL ENERJÝ HÝZMETLERÝ SAN. VE TÝC. A.Þ.       </td><td>DOÐAL ENR.BÝYOKÜTLE ENR.SANT.         </td><td>DOÐAL ENERJÝ BES                              </td><td>06/03/2020 00:17</td><td>06/03/2020 00:59</td><td>5,20  </td><td>0,00 </td><td>yakýt besleme          </td></tr>\n",
       "\t<tr><td>ELEKTRÝK ÜRETÝM A.Þ.                            </td><td>ELBÝSTAN-A TS                         </td><td>AFÞÝN A 1                                     </td><td>27/07/2019 00:00</td><td>27/07/2019 23:59</td><td>340,00</td><td>0,00 </td><td>ÜNÝTE TRÝP             </td></tr>\n",
       "\t<tr><td>BAKIR ENERJÝ ELEKTRÝK ÜRETÝM A.Þ.               </td><td>KÜREKDAÐI RES                         </td><td>KÜREKDAÐI RES                                 </td><td>08/12/2019 14:27</td><td>08/12/2019 15:25</td><td>32,50 </td><td>0,00 </td><td>türbin arýzasý         </td></tr>\n",
       "\t<tr><td>YENÝ ELEKTRÝK ÜRETÝM A.Þ.                       </td><td>Yeni  Doðalgaz Kombine Çevrim Santrali</td><td>Yeni Elektrik Doðalgaz Kombine Çevrim Santrali</td><td>09/01/2022 00:00</td><td>09/01/2022 23:59</td><td>865,00</td><td>0,00 </td><td>KONTROL SÝSTEMÝ ARIZASI</td></tr>\n",
       "</tbody>\n",
       "</table>\n"
      ],
      "text/latex": [
       "A data.table: 6 × 8\n",
       "\\begin{tabular}{llllllll}\n",
       " Organizasyon Adý & Santral Ýsmi & UEVÇB & Olay Baþlangýç Tarihi & Olay Bitiþ Tarihi & Ýþletmedeki Kurulu Güç & Olay Sýrasýnda Kapasite & Gerekçe\\\\\n",
       " <chr> & <chr> & <chr> & <chr> & <chr> & <chr> & <chr> & <chr>\\\\\n",
       "\\hline\n",
       "\t ÇELÝKLER ORHANELÝ TUNÇBÝLEK ELEKTRÝK ÜRETÝM A.Þ. & ORHANELÝ tes                           & ORHANELÝ 154                                   & 28/12/2021 00:57 & 28/12/2021 23:59 & 210,00 & 0,00  & KAZA N BORU PATLAÐI    \\\\\n",
       "\t ABK ENERJÝ ELEKTRÝK ÜRETÝM A.Þ.                  & Söke-Çatalbük Rüzgar Elektrik Santrali & SÖKE ÇATALBÜK                                  & 26/06/2021 00:00 & 26/06/2021 23:59 & 30,00  & 28,00 & Türbin arýzasý         \\\\\n",
       "\t DOÐAL ENERJÝ HÝZMETLERÝ SAN. VE TÝC. A.Þ.        & DOÐAL ENR.BÝYOKÜTLE ENR.SANT.          & DOÐAL ENERJÝ BES                               & 06/03/2020 00:17 & 06/03/2020 00:59 & 5,20   & 0,00  & yakýt besleme          \\\\\n",
       "\t ELEKTRÝK ÜRETÝM A.Þ.                             & ELBÝSTAN-A TS                          & AFÞÝN A 1                                      & 27/07/2019 00:00 & 27/07/2019 23:59 & 340,00 & 0,00  & ÜNÝTE TRÝP             \\\\\n",
       "\t BAKIR ENERJÝ ELEKTRÝK ÜRETÝM A.Þ.                & KÜREKDAÐI RES                          & KÜREKDAÐI RES                                  & 08/12/2019 14:27 & 08/12/2019 15:25 & 32,50  & 0,00  & türbin arýzasý         \\\\\n",
       "\t YENÝ ELEKTRÝK ÜRETÝM A.Þ.                        & Yeni  Doðalgaz Kombine Çevrim Santrali & Yeni Elektrik Doðalgaz Kombine Çevrim Santrali & 09/01/2022 00:00 & 09/01/2022 23:59 & 865,00 & 0,00  & KONTROL SÝSTEMÝ ARIZASI\\\\\n",
       "\\end{tabular}\n"
      ],
      "text/markdown": [
       "\n",
       "A data.table: 6 × 8\n",
       "\n",
       "| Organizasyon Adý &lt;chr&gt; | Santral Ýsmi &lt;chr&gt; | UEVÇB &lt;chr&gt; | Olay Baþlangýç Tarihi &lt;chr&gt; | Olay Bitiþ Tarihi &lt;chr&gt; | Ýþletmedeki Kurulu Güç &lt;chr&gt; | Olay Sýrasýnda Kapasite &lt;chr&gt; | Gerekçe &lt;chr&gt; |\n",
       "|---|---|---|---|---|---|---|---|\n",
       "| ÇELÝKLER ORHANELÝ TUNÇBÝLEK ELEKTRÝK ÜRETÝM A.Þ. | ORHANELÝ tes                           | ORHANELÝ 154                                   | 28/12/2021 00:57 | 28/12/2021 23:59 | 210,00 | 0,00  | KAZA N BORU PATLAÐI     |\n",
       "| ABK ENERJÝ ELEKTRÝK ÜRETÝM A.Þ.                  | Söke-Çatalbük Rüzgar Elektrik Santrali | SÖKE ÇATALBÜK                                  | 26/06/2021 00:00 | 26/06/2021 23:59 | 30,00  | 28,00 | Türbin arýzasý          |\n",
       "| DOÐAL ENERJÝ HÝZMETLERÝ SAN. VE TÝC. A.Þ.        | DOÐAL ENR.BÝYOKÜTLE ENR.SANT.          | DOÐAL ENERJÝ BES                               | 06/03/2020 00:17 | 06/03/2020 00:59 | 5,20   | 0,00  | yakýt besleme           |\n",
       "| ELEKTRÝK ÜRETÝM A.Þ.                             | ELBÝSTAN-A TS                          | AFÞÝN A 1                                      | 27/07/2019 00:00 | 27/07/2019 23:59 | 340,00 | 0,00  | ÜNÝTE TRÝP              |\n",
       "| BAKIR ENERJÝ ELEKTRÝK ÜRETÝM A.Þ.                | KÜREKDAÐI RES                          | KÜREKDAÐI RES                                  | 08/12/2019 14:27 | 08/12/2019 15:25 | 32,50  | 0,00  | türbin arýzasý          |\n",
       "| YENÝ ELEKTRÝK ÜRETÝM A.Þ.                        | Yeni  Doðalgaz Kombine Çevrim Santrali | Yeni Elektrik Doðalgaz Kombine Çevrim Santrali | 09/01/2022 00:00 | 09/01/2022 23:59 | 865,00 | 0,00  | KONTROL SÝSTEMÝ ARIZASI |\n",
       "\n"
      ],
      "text/plain": [
       "  Organizasyon Adý                                \n",
       "1 ÇELÝKLER ORHANELÝ TUNÇBÝLEK ELEKTRÝK ÜRETÝM A.Þ.\n",
       "2 ABK ENERJÝ ELEKTRÝK ÜRETÝM A.Þ.                 \n",
       "3 DOÐAL ENERJÝ HÝZMETLERÝ SAN. VE TÝC. A.Þ.       \n",
       "4 ELEKTRÝK ÜRETÝM A.Þ.                            \n",
       "5 BAKIR ENERJÝ ELEKTRÝK ÜRETÝM A.Þ.               \n",
       "6 YENÝ ELEKTRÝK ÜRETÝM A.Þ.                       \n",
       "  Santral Ýsmi                          \n",
       "1 ORHANELÝ tes                          \n",
       "2 Söke-Çatalbük Rüzgar Elektrik Santrali\n",
       "3 DOÐAL ENR.BÝYOKÜTLE ENR.SANT.         \n",
       "4 ELBÝSTAN-A TS                         \n",
       "5 KÜREKDAÐI RES                         \n",
       "6 Yeni  Doðalgaz Kombine Çevrim Santrali\n",
       "  UEVÇB                                          Olay Baþlangýç Tarihi\n",
       "1 ORHANELÝ 154                                   28/12/2021 00:57     \n",
       "2 SÖKE ÇATALBÜK                                  26/06/2021 00:00     \n",
       "3 DOÐAL ENERJÝ BES                               06/03/2020 00:17     \n",
       "4 AFÞÝN A 1                                      27/07/2019 00:00     \n",
       "5 KÜREKDAÐI RES                                  08/12/2019 14:27     \n",
       "6 Yeni Elektrik Doðalgaz Kombine Çevrim Santrali 09/01/2022 00:00     \n",
       "  Olay Bitiþ Tarihi Ýþletmedeki Kurulu Güç Olay Sýrasýnda Kapasite\n",
       "1 28/12/2021 23:59  210,00                 0,00                   \n",
       "2 26/06/2021 23:59  30,00                  28,00                  \n",
       "3 06/03/2020 00:59  5,20                   0,00                   \n",
       "4 27/07/2019 23:59  340,00                 0,00                   \n",
       "5 08/12/2019 15:25  32,50                  0,00                   \n",
       "6 09/01/2022 23:59  865,00                 0,00                   \n",
       "  Gerekçe                \n",
       "1 KAZA N BORU PATLAÐI    \n",
       "2 Türbin arýzasý         \n",
       "3 yakýt besleme          \n",
       "4 ÜNÝTE TRÝP             \n",
       "5 türbin arýzasý         \n",
       "6 KONTROL SÝSTEMÝ ARIZASI"
      ]
     },
     "metadata": {},
     "output_type": "display_data"
    }
   ],
   "source": [
    "require(data.table)\n",
    "require(lubridate)\n",
    "require(ggplot2)\n",
    "require(tidyr)\n",
    "\n",
    "directory = setwd(\"C:/Users/Burak/Documents/kitaplar/IE48B/project_files/ariza_bakim/\")\n",
    "\n",
    "folderpath = sprintf('%s', directory)\n",
    "datasetname = 'ArizaBakim-01012019-11012022.csv' \n",
    "datapath = sprintf('%s/%s', folderpath,datasetname) \n",
    "dat = fread(datapath)\n",
    "head(dat)"
   ]
  },
  {
   "cell_type": "markdown",
   "id": "5fdbe4ec",
   "metadata": {},
   "source": [
    "We can see from the table above, this data set contains name of facilities, start and finish time of breakdown, nominal power, capacity at t\n",
    "ime of breakdown and reason"
   ]
  },
  {
   "cell_type": "markdown",
   "id": "edb2a2c8",
   "metadata": {},
   "source": [
    "Since name of facilities and reasons are unnecessary, these were discarded from the dataset and column names were arranged."
   ]
  },
  {
   "cell_type": "code",
   "execution_count": 114,
   "id": "d48cbd30",
   "metadata": {},
   "outputs": [
    {
     "data": {
      "text/html": [
       "<table class=\"dataframe\">\n",
       "<caption>A data.table: 6 × 4</caption>\n",
       "<thead>\n",
       "\t<tr><th scope=col>Start_Time</th><th scope=col>Finish_Time</th><th scope=col>Nominal_power</th><th scope=col>capacity_on_working</th></tr>\n",
       "\t<tr><th scope=col>&lt;chr&gt;</th><th scope=col>&lt;chr&gt;</th><th scope=col>&lt;chr&gt;</th><th scope=col>&lt;chr&gt;</th></tr>\n",
       "</thead>\n",
       "<tbody>\n",
       "\t<tr><td>28/12/2021 00:57</td><td>28/12/2021 23:59</td><td>210,00</td><td>0,00 </td></tr>\n",
       "\t<tr><td>26/06/2021 00:00</td><td>26/06/2021 23:59</td><td>30,00 </td><td>28,00</td></tr>\n",
       "\t<tr><td>06/03/2020 00:17</td><td>06/03/2020 00:59</td><td>5,20  </td><td>0,00 </td></tr>\n",
       "\t<tr><td>27/07/2019 00:00</td><td>27/07/2019 23:59</td><td>340,00</td><td>0,00 </td></tr>\n",
       "\t<tr><td>08/12/2019 14:27</td><td>08/12/2019 15:25</td><td>32,50 </td><td>0,00 </td></tr>\n",
       "\t<tr><td>09/01/2022 00:00</td><td>09/01/2022 23:59</td><td>865,00</td><td>0,00 </td></tr>\n",
       "</tbody>\n",
       "</table>\n"
      ],
      "text/latex": [
       "A data.table: 6 × 4\n",
       "\\begin{tabular}{llll}\n",
       " Start\\_Time & Finish\\_Time & Nominal\\_power & capacity\\_on\\_working\\\\\n",
       " <chr> & <chr> & <chr> & <chr>\\\\\n",
       "\\hline\n",
       "\t 28/12/2021 00:57 & 28/12/2021 23:59 & 210,00 & 0,00 \\\\\n",
       "\t 26/06/2021 00:00 & 26/06/2021 23:59 & 30,00  & 28,00\\\\\n",
       "\t 06/03/2020 00:17 & 06/03/2020 00:59 & 5,20   & 0,00 \\\\\n",
       "\t 27/07/2019 00:00 & 27/07/2019 23:59 & 340,00 & 0,00 \\\\\n",
       "\t 08/12/2019 14:27 & 08/12/2019 15:25 & 32,50  & 0,00 \\\\\n",
       "\t 09/01/2022 00:00 & 09/01/2022 23:59 & 865,00 & 0,00 \\\\\n",
       "\\end{tabular}\n"
      ],
      "text/markdown": [
       "\n",
       "A data.table: 6 × 4\n",
       "\n",
       "| Start_Time &lt;chr&gt; | Finish_Time &lt;chr&gt; | Nominal_power &lt;chr&gt; | capacity_on_working &lt;chr&gt; |\n",
       "|---|---|---|---|\n",
       "| 28/12/2021 00:57 | 28/12/2021 23:59 | 210,00 | 0,00  |\n",
       "| 26/06/2021 00:00 | 26/06/2021 23:59 | 30,00  | 28,00 |\n",
       "| 06/03/2020 00:17 | 06/03/2020 00:59 | 5,20   | 0,00  |\n",
       "| 27/07/2019 00:00 | 27/07/2019 23:59 | 340,00 | 0,00  |\n",
       "| 08/12/2019 14:27 | 08/12/2019 15:25 | 32,50  | 0,00  |\n",
       "| 09/01/2022 00:00 | 09/01/2022 23:59 | 865,00 | 0,00  |\n",
       "\n"
      ],
      "text/plain": [
       "  Start_Time       Finish_Time      Nominal_power capacity_on_working\n",
       "1 28/12/2021 00:57 28/12/2021 23:59 210,00        0,00               \n",
       "2 26/06/2021 00:00 26/06/2021 23:59 30,00         28,00              \n",
       "3 06/03/2020 00:17 06/03/2020 00:59 5,20          0,00               \n",
       "4 27/07/2019 00:00 27/07/2019 23:59 340,00        0,00               \n",
       "5 08/12/2019 14:27 08/12/2019 15:25 32,50         0,00               \n",
       "6 09/01/2022 00:00 09/01/2022 23:59 865,00        0,00               "
      ]
     },
     "metadata": {},
     "output_type": "display_data"
    }
   ],
   "source": [
    "dat = dat[,4:7]\n",
    "setnames(dat, names(dat), c('Start_Time','Finish_Time','Nominal_power','capacity_on_working'))\n",
    "head(dat)"
   ]
  },
  {
   "cell_type": "markdown",
   "id": "6dc0abe2",
   "metadata": {},
   "source": [
    "Since we will add these features to main dataset, we need to reshape this data like main dataset,which has hour and date features explicitly and there are not any \"NA\" values."
   ]
  },
  {
   "cell_type": "markdown",
   "id": "ef011d66",
   "metadata": {},
   "source": [
    "Let's start with time feature. Converge characters to date data type to make manipulations on them."
   ]
  },
  {
   "cell_type": "code",
   "execution_count": 115,
   "id": "a5000d58",
   "metadata": {},
   "outputs": [
    {
     "data": {
      "text/html": [
       "<table class=\"dataframe\">\n",
       "<caption>A data.table: 6 × 4</caption>\n",
       "<thead>\n",
       "\t<tr><th scope=col>Start_Time</th><th scope=col>Finish_Time</th><th scope=col>Nominal_power</th><th scope=col>capacity_on_working</th></tr>\n",
       "\t<tr><th scope=col>&lt;dttm&gt;</th><th scope=col>&lt;dttm&gt;</th><th scope=col>&lt;chr&gt;</th><th scope=col>&lt;chr&gt;</th></tr>\n",
       "</thead>\n",
       "<tbody>\n",
       "\t<tr><td>2021-12-28 00:57:00</td><td>2021-12-28 23:59:00</td><td>210,00</td><td>0,00 </td></tr>\n",
       "\t<tr><td>2021-06-26 00:00:00</td><td>2021-06-26 23:59:00</td><td>30,00 </td><td>28,00</td></tr>\n",
       "\t<tr><td>2020-03-06 00:17:00</td><td>2020-03-06 00:59:00</td><td>5,20  </td><td>0,00 </td></tr>\n",
       "\t<tr><td>2019-07-27 00:00:00</td><td>2019-07-27 23:59:00</td><td>340,00</td><td>0,00 </td></tr>\n",
       "\t<tr><td>2019-12-08 14:27:00</td><td>2019-12-08 15:25:00</td><td>32,50 </td><td>0,00 </td></tr>\n",
       "\t<tr><td>2022-01-09 00:00:00</td><td>2022-01-09 23:59:00</td><td>865,00</td><td>0,00 </td></tr>\n",
       "</tbody>\n",
       "</table>\n"
      ],
      "text/latex": [
       "A data.table: 6 × 4\n",
       "\\begin{tabular}{llll}\n",
       " Start\\_Time & Finish\\_Time & Nominal\\_power & capacity\\_on\\_working\\\\\n",
       " <dttm> & <dttm> & <chr> & <chr>\\\\\n",
       "\\hline\n",
       "\t 2021-12-28 00:57:00 & 2021-12-28 23:59:00 & 210,00 & 0,00 \\\\\n",
       "\t 2021-06-26 00:00:00 & 2021-06-26 23:59:00 & 30,00  & 28,00\\\\\n",
       "\t 2020-03-06 00:17:00 & 2020-03-06 00:59:00 & 5,20   & 0,00 \\\\\n",
       "\t 2019-07-27 00:00:00 & 2019-07-27 23:59:00 & 340,00 & 0,00 \\\\\n",
       "\t 2019-12-08 14:27:00 & 2019-12-08 15:25:00 & 32,50  & 0,00 \\\\\n",
       "\t 2022-01-09 00:00:00 & 2022-01-09 23:59:00 & 865,00 & 0,00 \\\\\n",
       "\\end{tabular}\n"
      ],
      "text/markdown": [
       "\n",
       "A data.table: 6 × 4\n",
       "\n",
       "| Start_Time &lt;dttm&gt; | Finish_Time &lt;dttm&gt; | Nominal_power &lt;chr&gt; | capacity_on_working &lt;chr&gt; |\n",
       "|---|---|---|---|\n",
       "| 2021-12-28 00:57:00 | 2021-12-28 23:59:00 | 210,00 | 0,00  |\n",
       "| 2021-06-26 00:00:00 | 2021-06-26 23:59:00 | 30,00  | 28,00 |\n",
       "| 2020-03-06 00:17:00 | 2020-03-06 00:59:00 | 5,20   | 0,00  |\n",
       "| 2019-07-27 00:00:00 | 2019-07-27 23:59:00 | 340,00 | 0,00  |\n",
       "| 2019-12-08 14:27:00 | 2019-12-08 15:25:00 | 32,50  | 0,00  |\n",
       "| 2022-01-09 00:00:00 | 2022-01-09 23:59:00 | 865,00 | 0,00  |\n",
       "\n"
      ],
      "text/plain": [
       "  Start_Time          Finish_Time         Nominal_power capacity_on_working\n",
       "1 2021-12-28 00:57:00 2021-12-28 23:59:00 210,00        0,00               \n",
       "2 2021-06-26 00:00:00 2021-06-26 23:59:00 30,00         28,00              \n",
       "3 2020-03-06 00:17:00 2020-03-06 00:59:00 5,20          0,00               \n",
       "4 2019-07-27 00:00:00 2019-07-27 23:59:00 340,00        0,00               \n",
       "5 2019-12-08 14:27:00 2019-12-08 15:25:00 32,50         0,00               \n",
       "6 2022-01-09 00:00:00 2022-01-09 23:59:00 865,00        0,00               "
      ]
     },
     "metadata": {},
     "output_type": "display_data"
    }
   ],
   "source": [
    "dat = dat [,Start_Time := dmy_hm(Start_Time)]\n",
    "dat = dat[,Finish_Time := dmy_hm(Finish_Time)]\n",
    "head(dat)"
   ]
  },
  {
   "cell_type": "markdown",
   "id": "60cdee91",
   "metadata": {},
   "source": [
    "Checking date difference that there is not any failure which lasts more than 1 day. Returns 0 means that there is not any failure which lasts more than 1 day."
   ]
  },
  {
   "cell_type": "code",
   "execution_count": 116,
   "id": "658c97ce",
   "metadata": {},
   "outputs": [
    {
     "data": {
      "text/plain": [
       "Time difference of 0 days"
      ]
     },
     "metadata": {},
     "output_type": "display_data"
    }
   ],
   "source": [
    "dat = dat[, check := date(Finish_Time)-date(Start_Time)] #check all of them starts and finishes at same day\n",
    "sum(dat$check) #returns 0, means there is not any failure which lasts more than 1 day\n",
    "dat$check <- NULL"
   ]
  },
  {
   "cell_type": "markdown",
   "id": "d3f818d8",
   "metadata": {},
   "source": [
    "Calculating elapsed time during breakdown, and multiplying by capacity on working to find how much energy will be deviated from expected production, thus we can figure out unbalanced system direction."
   ]
  },
  {
   "cell_type": "code",
   "execution_count": 117,
   "id": "42aee451",
   "metadata": {},
   "outputs": [
    {
     "data": {
      "text/html": [
       "<table class=\"dataframe\">\n",
       "<caption>A data.table: 6 × 7</caption>\n",
       "<thead>\n",
       "\t<tr><th scope=col>Start_Time</th><th scope=col>Finish_Time</th><th scope=col>Nominal_power</th><th scope=col>capacity_on_working</th><th scope=col>duration</th><th scope=col>hours_passed</th><th scope=col>hours_duration</th></tr>\n",
       "\t<tr><th scope=col>&lt;dttm&gt;</th><th scope=col>&lt;dttm&gt;</th><th scope=col>&lt;chr&gt;</th><th scope=col>&lt;chr&gt;</th><th scope=col>&lt;dbl&gt;</th><th scope=col>&lt;dbl&gt;</th><th scope=col>&lt;dbl&gt;</th></tr>\n",
       "</thead>\n",
       "<tbody>\n",
       "\t<tr><td>2019-01-01 00:00:00</td><td>2019-01-01 00:59:00</td><td>32,00 </td><td>0,00</td><td>  59</td><td> 0.9833333</td><td> 1</td></tr>\n",
       "\t<tr><td>2019-01-01 00:00:00</td><td>2019-01-01 09:59:00</td><td>155,00</td><td>0,00</td><td> 599</td><td> 9.9833333</td><td>10</td></tr>\n",
       "\t<tr><td>2019-01-01 00:00:00</td><td>2019-01-01 23:59:00</td><td>853,00</td><td>0,00</td><td>1439</td><td>23.9833333</td><td>24</td></tr>\n",
       "\t<tr><td>2019-01-01 00:00:00</td><td>2019-01-01 23:59:00</td><td>32,00 </td><td>0,00</td><td>1439</td><td>23.9833333</td><td>24</td></tr>\n",
       "\t<tr><td>2019-01-01 00:04:00</td><td>2019-01-01 23:59:00</td><td>157,34</td><td>0,00</td><td>1435</td><td>23.9166667</td><td>24</td></tr>\n",
       "\t<tr><td>2019-01-01 00:05:00</td><td>2019-01-01 23:59:00</td><td>157,34</td><td>0,00</td><td>1434</td><td>23.9000000</td><td>24</td></tr>\n",
       "</tbody>\n",
       "</table>\n"
      ],
      "text/latex": [
       "A data.table: 6 × 7\n",
       "\\begin{tabular}{lllllll}\n",
       " Start\\_Time & Finish\\_Time & Nominal\\_power & capacity\\_on\\_working & duration & hours\\_passed & hours\\_duration\\\\\n",
       " <dttm> & <dttm> & <chr> & <chr> & <dbl> & <dbl> & <dbl>\\\\\n",
       "\\hline\n",
       "\t 2019-01-01 00:00:00 & 2019-01-01 00:59:00 & 32,00  & 0,00 &   59 &  0.9833333 &  1\\\\\n",
       "\t 2019-01-01 00:00:00 & 2019-01-01 09:59:00 & 155,00 & 0,00 &  599 &  9.9833333 & 10\\\\\n",
       "\t 2019-01-01 00:00:00 & 2019-01-01 23:59:00 & 853,00 & 0,00 & 1439 & 23.9833333 & 24\\\\\n",
       "\t 2019-01-01 00:00:00 & 2019-01-01 23:59:00 & 32,00  & 0,00 & 1439 & 23.9833333 & 24\\\\\n",
       "\t 2019-01-01 00:04:00 & 2019-01-01 23:59:00 & 157,34 & 0,00 & 1435 & 23.9166667 & 24\\\\\n",
       "\t 2019-01-01 00:05:00 & 2019-01-01 23:59:00 & 157,34 & 0,00 & 1434 & 23.9000000 & 24\\\\\n",
       "\\end{tabular}\n"
      ],
      "text/markdown": [
       "\n",
       "A data.table: 6 × 7\n",
       "\n",
       "| Start_Time &lt;dttm&gt; | Finish_Time &lt;dttm&gt; | Nominal_power &lt;chr&gt; | capacity_on_working &lt;chr&gt; | duration &lt;dbl&gt; | hours_passed &lt;dbl&gt; | hours_duration &lt;dbl&gt; |\n",
       "|---|---|---|---|---|---|---|\n",
       "| 2019-01-01 00:00:00 | 2019-01-01 00:59:00 | 32,00  | 0,00 |   59 |  0.9833333 |  1 |\n",
       "| 2019-01-01 00:00:00 | 2019-01-01 09:59:00 | 155,00 | 0,00 |  599 |  9.9833333 | 10 |\n",
       "| 2019-01-01 00:00:00 | 2019-01-01 23:59:00 | 853,00 | 0,00 | 1439 | 23.9833333 | 24 |\n",
       "| 2019-01-01 00:00:00 | 2019-01-01 23:59:00 | 32,00  | 0,00 | 1439 | 23.9833333 | 24 |\n",
       "| 2019-01-01 00:04:00 | 2019-01-01 23:59:00 | 157,34 | 0,00 | 1435 | 23.9166667 | 24 |\n",
       "| 2019-01-01 00:05:00 | 2019-01-01 23:59:00 | 157,34 | 0,00 | 1434 | 23.9000000 | 24 |\n",
       "\n"
      ],
      "text/plain": [
       "  Start_Time          Finish_Time         Nominal_power capacity_on_working\n",
       "1 2019-01-01 00:00:00 2019-01-01 00:59:00 32,00         0,00               \n",
       "2 2019-01-01 00:00:00 2019-01-01 09:59:00 155,00        0,00               \n",
       "3 2019-01-01 00:00:00 2019-01-01 23:59:00 853,00        0,00               \n",
       "4 2019-01-01 00:00:00 2019-01-01 23:59:00 32,00         0,00               \n",
       "5 2019-01-01 00:04:00 2019-01-01 23:59:00 157,34        0,00               \n",
       "6 2019-01-01 00:05:00 2019-01-01 23:59:00 157,34        0,00               \n",
       "  duration hours_passed hours_duration\n",
       "1   59      0.9833333    1            \n",
       "2  599      9.9833333   10            \n",
       "3 1439     23.9833333   24            \n",
       "4 1439     23.9833333   24            \n",
       "5 1435     23.9166667   24            \n",
       "6 1434     23.9000000   24            "
      ]
     },
     "metadata": {},
     "output_type": "display_data"
    }
   ],
   "source": [
    "dat = dat[order(Start_Time)]\n",
    "dat = dat[, duration:= difftime(Finish_Time,Start_Time,units = \"min\")]\n",
    "dat$duration <- as.numeric(dat$duration)\n",
    "dat[,hours_passed := duration/60]\n",
    "dat[,hours_duration := ceiling(hours_passed)]\n",
    "head(dat)"
   ]
  },
  {
   "cell_type": "markdown",
   "id": "5039c509",
   "metadata": {},
   "source": [
    "Seperate time into date and hour, and store them two different columns. Also add ID information."
   ]
  },
  {
   "cell_type": "code",
   "execution_count": 118,
   "id": "c1ca5cf0",
   "metadata": {},
   "outputs": [
    {
     "data": {
      "text/html": [
       "<table class=\"dataframe\">\n",
       "<caption>A data.table: 6 × 11</caption>\n",
       "<thead>\n",
       "\t<tr><th scope=col>Start_Time</th><th scope=col>Finish_Time</th><th scope=col>Nominal_power</th><th scope=col>capacity_on_working</th><th scope=col>duration</th><th scope=col>hours_passed</th><th scope=col>hours_duration</th><th scope=col>Start_Hour</th><th scope=col>Finish_Hour</th><th scope=col>Day</th><th scope=col>Breakdown_ID</th></tr>\n",
       "\t<tr><th scope=col>&lt;dttm&gt;</th><th scope=col>&lt;dttm&gt;</th><th scope=col>&lt;chr&gt;</th><th scope=col>&lt;chr&gt;</th><th scope=col>&lt;dbl&gt;</th><th scope=col>&lt;dbl&gt;</th><th scope=col>&lt;dbl&gt;</th><th scope=col>&lt;int&gt;</th><th scope=col>&lt;int&gt;</th><th scope=col>&lt;date&gt;</th><th scope=col>&lt;int&gt;</th></tr>\n",
       "</thead>\n",
       "<tbody>\n",
       "\t<tr><td>2019-01-01 00:00:00</td><td>2019-01-01 00:59:00</td><td>32,00 </td><td>0,00</td><td>  59</td><td> 0.9833333</td><td> 1</td><td>0</td><td> 0</td><td>2019-01-01</td><td>1</td></tr>\n",
       "\t<tr><td>2019-01-01 00:00:00</td><td>2019-01-01 09:59:00</td><td>155,00</td><td>0,00</td><td> 599</td><td> 9.9833333</td><td>10</td><td>0</td><td> 9</td><td>2019-01-01</td><td>2</td></tr>\n",
       "\t<tr><td>2019-01-01 00:00:00</td><td>2019-01-01 23:59:00</td><td>853,00</td><td>0,00</td><td>1439</td><td>23.9833333</td><td>24</td><td>0</td><td>23</td><td>2019-01-01</td><td>3</td></tr>\n",
       "\t<tr><td>2019-01-01 00:00:00</td><td>2019-01-01 23:59:00</td><td>32,00 </td><td>0,00</td><td>1439</td><td>23.9833333</td><td>24</td><td>0</td><td>23</td><td>2019-01-01</td><td>4</td></tr>\n",
       "\t<tr><td>2019-01-01 00:04:00</td><td>2019-01-01 23:59:00</td><td>157,34</td><td>0,00</td><td>1435</td><td>23.9166667</td><td>24</td><td>0</td><td>23</td><td>2019-01-01</td><td>5</td></tr>\n",
       "\t<tr><td>2019-01-01 00:05:00</td><td>2019-01-01 23:59:00</td><td>157,34</td><td>0,00</td><td>1434</td><td>23.9000000</td><td>24</td><td>0</td><td>23</td><td>2019-01-01</td><td>6</td></tr>\n",
       "</tbody>\n",
       "</table>\n"
      ],
      "text/latex": [
       "A data.table: 6 × 11\n",
       "\\begin{tabular}{lllllllllll}\n",
       " Start\\_Time & Finish\\_Time & Nominal\\_power & capacity\\_on\\_working & duration & hours\\_passed & hours\\_duration & Start\\_Hour & Finish\\_Hour & Day & Breakdown\\_ID\\\\\n",
       " <dttm> & <dttm> & <chr> & <chr> & <dbl> & <dbl> & <dbl> & <int> & <int> & <date> & <int>\\\\\n",
       "\\hline\n",
       "\t 2019-01-01 00:00:00 & 2019-01-01 00:59:00 & 32,00  & 0,00 &   59 &  0.9833333 &  1 & 0 &  0 & 2019-01-01 & 1\\\\\n",
       "\t 2019-01-01 00:00:00 & 2019-01-01 09:59:00 & 155,00 & 0,00 &  599 &  9.9833333 & 10 & 0 &  9 & 2019-01-01 & 2\\\\\n",
       "\t 2019-01-01 00:00:00 & 2019-01-01 23:59:00 & 853,00 & 0,00 & 1439 & 23.9833333 & 24 & 0 & 23 & 2019-01-01 & 3\\\\\n",
       "\t 2019-01-01 00:00:00 & 2019-01-01 23:59:00 & 32,00  & 0,00 & 1439 & 23.9833333 & 24 & 0 & 23 & 2019-01-01 & 4\\\\\n",
       "\t 2019-01-01 00:04:00 & 2019-01-01 23:59:00 & 157,34 & 0,00 & 1435 & 23.9166667 & 24 & 0 & 23 & 2019-01-01 & 5\\\\\n",
       "\t 2019-01-01 00:05:00 & 2019-01-01 23:59:00 & 157,34 & 0,00 & 1434 & 23.9000000 & 24 & 0 & 23 & 2019-01-01 & 6\\\\\n",
       "\\end{tabular}\n"
      ],
      "text/markdown": [
       "\n",
       "A data.table: 6 × 11\n",
       "\n",
       "| Start_Time &lt;dttm&gt; | Finish_Time &lt;dttm&gt; | Nominal_power &lt;chr&gt; | capacity_on_working &lt;chr&gt; | duration &lt;dbl&gt; | hours_passed &lt;dbl&gt; | hours_duration &lt;dbl&gt; | Start_Hour &lt;int&gt; | Finish_Hour &lt;int&gt; | Day &lt;date&gt; | Breakdown_ID &lt;int&gt; |\n",
       "|---|---|---|---|---|---|---|---|---|---|---|\n",
       "| 2019-01-01 00:00:00 | 2019-01-01 00:59:00 | 32,00  | 0,00 |   59 |  0.9833333 |  1 | 0 |  0 | 2019-01-01 | 1 |\n",
       "| 2019-01-01 00:00:00 | 2019-01-01 09:59:00 | 155,00 | 0,00 |  599 |  9.9833333 | 10 | 0 |  9 | 2019-01-01 | 2 |\n",
       "| 2019-01-01 00:00:00 | 2019-01-01 23:59:00 | 853,00 | 0,00 | 1439 | 23.9833333 | 24 | 0 | 23 | 2019-01-01 | 3 |\n",
       "| 2019-01-01 00:00:00 | 2019-01-01 23:59:00 | 32,00  | 0,00 | 1439 | 23.9833333 | 24 | 0 | 23 | 2019-01-01 | 4 |\n",
       "| 2019-01-01 00:04:00 | 2019-01-01 23:59:00 | 157,34 | 0,00 | 1435 | 23.9166667 | 24 | 0 | 23 | 2019-01-01 | 5 |\n",
       "| 2019-01-01 00:05:00 | 2019-01-01 23:59:00 | 157,34 | 0,00 | 1434 | 23.9000000 | 24 | 0 | 23 | 2019-01-01 | 6 |\n",
       "\n"
      ],
      "text/plain": [
       "  Start_Time          Finish_Time         Nominal_power capacity_on_working\n",
       "1 2019-01-01 00:00:00 2019-01-01 00:59:00 32,00         0,00               \n",
       "2 2019-01-01 00:00:00 2019-01-01 09:59:00 155,00        0,00               \n",
       "3 2019-01-01 00:00:00 2019-01-01 23:59:00 853,00        0,00               \n",
       "4 2019-01-01 00:00:00 2019-01-01 23:59:00 32,00         0,00               \n",
       "5 2019-01-01 00:04:00 2019-01-01 23:59:00 157,34        0,00               \n",
       "6 2019-01-01 00:05:00 2019-01-01 23:59:00 157,34        0,00               \n",
       "  duration hours_passed hours_duration Start_Hour Finish_Hour Day       \n",
       "1   59      0.9833333    1             0           0          2019-01-01\n",
       "2  599      9.9833333   10             0           9          2019-01-01\n",
       "3 1439     23.9833333   24             0          23          2019-01-01\n",
       "4 1439     23.9833333   24             0          23          2019-01-01\n",
       "5 1435     23.9166667   24             0          23          2019-01-01\n",
       "6 1434     23.9000000   24             0          23          2019-01-01\n",
       "  Breakdown_ID\n",
       "1 1           \n",
       "2 2           \n",
       "3 3           \n",
       "4 4           \n",
       "5 5           \n",
       "6 6           "
      ]
     },
     "metadata": {},
     "output_type": "display_data"
    }
   ],
   "source": [
    "dat[,Start_Hour := hour(dat$Start_Time)]\n",
    "dat[,Finish_Hour := hour(dat$Finish_Time)]\n",
    "dat[,Day := as.Date(Start_Time)]\n",
    "dat[,Breakdown_ID := 1:.N ]\n",
    "head(dat)"
   ]
  },
  {
   "cell_type": "markdown",
   "id": "d9decc1a",
   "metadata": {},
   "source": [
    "Create new rows for each hour time and date variable in order to liken sample dataset. Created hour and date information for every breakdown case by their duration of time, i.e., 4 hour duration started at time 13.00 then created new rows from starting hour 13 to 16. "
   ]
  },
  {
   "cell_type": "code",
   "execution_count": 119,
   "id": "4e2d1bb8",
   "metadata": {},
   "outputs": [
    {
     "data": {
      "text/html": [
       "<table class=\"dataframe\">\n",
       "<caption>A data.table: 10 × 5</caption>\n",
       "<thead>\n",
       "\t<tr><th scope=col>ID</th><th scope=col>Date</th><th scope=col>Hour</th><th scope=col>NominalPower</th><th scope=col>Capacity</th></tr>\n",
       "\t<tr><th scope=col>&lt;int&gt;</th><th scope=col>&lt;date&gt;</th><th scope=col>&lt;dbl&gt;</th><th scope=col>&lt;dbl&gt;</th><th scope=col>&lt;dbl&gt;</th></tr>\n",
       "</thead>\n",
       "<tbody>\n",
       "\t<tr><td>1</td><td>2019-01-01</td><td>0</td><td> 32</td><td>0</td></tr>\n",
       "\t<tr><td>2</td><td>2019-01-01</td><td>0</td><td>155</td><td>0</td></tr>\n",
       "\t<tr><td>2</td><td>2019-01-01</td><td>1</td><td>155</td><td>0</td></tr>\n",
       "\t<tr><td>2</td><td>2019-01-01</td><td>2</td><td>155</td><td>0</td></tr>\n",
       "\t<tr><td>2</td><td>2019-01-01</td><td>3</td><td>155</td><td>0</td></tr>\n",
       "\t<tr><td>2</td><td>2019-01-01</td><td>4</td><td>155</td><td>0</td></tr>\n",
       "\t<tr><td>2</td><td>2019-01-01</td><td>5</td><td>155</td><td>0</td></tr>\n",
       "\t<tr><td>2</td><td>2019-01-01</td><td>6</td><td>155</td><td>0</td></tr>\n",
       "\t<tr><td>2</td><td>2019-01-01</td><td>7</td><td>155</td><td>0</td></tr>\n",
       "\t<tr><td>2</td><td>2019-01-01</td><td>8</td><td>155</td><td>0</td></tr>\n",
       "</tbody>\n",
       "</table>\n"
      ],
      "text/latex": [
       "A data.table: 10 × 5\n",
       "\\begin{tabular}{lllll}\n",
       " ID & Date & Hour & NominalPower & Capacity\\\\\n",
       " <int> & <date> & <dbl> & <dbl> & <dbl>\\\\\n",
       "\\hline\n",
       "\t 1 & 2019-01-01 & 0 &  32 & 0\\\\\n",
       "\t 2 & 2019-01-01 & 0 & 155 & 0\\\\\n",
       "\t 2 & 2019-01-01 & 1 & 155 & 0\\\\\n",
       "\t 2 & 2019-01-01 & 2 & 155 & 0\\\\\n",
       "\t 2 & 2019-01-01 & 3 & 155 & 0\\\\\n",
       "\t 2 & 2019-01-01 & 4 & 155 & 0\\\\\n",
       "\t 2 & 2019-01-01 & 5 & 155 & 0\\\\\n",
       "\t 2 & 2019-01-01 & 6 & 155 & 0\\\\\n",
       "\t 2 & 2019-01-01 & 7 & 155 & 0\\\\\n",
       "\t 2 & 2019-01-01 & 8 & 155 & 0\\\\\n",
       "\\end{tabular}\n"
      ],
      "text/markdown": [
       "\n",
       "A data.table: 10 × 5\n",
       "\n",
       "| ID &lt;int&gt; | Date &lt;date&gt; | Hour &lt;dbl&gt; | NominalPower &lt;dbl&gt; | Capacity &lt;dbl&gt; |\n",
       "|---|---|---|---|---|\n",
       "| 1 | 2019-01-01 | 0 |  32 | 0 |\n",
       "| 2 | 2019-01-01 | 0 | 155 | 0 |\n",
       "| 2 | 2019-01-01 | 1 | 155 | 0 |\n",
       "| 2 | 2019-01-01 | 2 | 155 | 0 |\n",
       "| 2 | 2019-01-01 | 3 | 155 | 0 |\n",
       "| 2 | 2019-01-01 | 4 | 155 | 0 |\n",
       "| 2 | 2019-01-01 | 5 | 155 | 0 |\n",
       "| 2 | 2019-01-01 | 6 | 155 | 0 |\n",
       "| 2 | 2019-01-01 | 7 | 155 | 0 |\n",
       "| 2 | 2019-01-01 | 8 | 155 | 0 |\n",
       "\n"
      ],
      "text/plain": [
       "   ID Date       Hour NominalPower Capacity\n",
       "1  1  2019-01-01 0     32          0       \n",
       "2  2  2019-01-01 0    155          0       \n",
       "3  2  2019-01-01 1    155          0       \n",
       "4  2  2019-01-01 2    155          0       \n",
       "5  2  2019-01-01 3    155          0       \n",
       "6  2  2019-01-01 4    155          0       \n",
       "7  2  2019-01-01 5    155          0       \n",
       "8  2  2019-01-01 6    155          0       \n",
       "9  2  2019-01-01 7    155          0       \n",
       "10 2  2019-01-01 8    155          0       "
      ]
     },
     "metadata": {},
     "output_type": "display_data"
    }
   ],
   "source": [
    "seqs = mapply(FUN = function(a, b) {seq(from = a, to = b, by = 1)}, a = dat$Start_Hour, b = dat$Finish_Hour)\n",
    "dates = mapply(FUN = function(a, b) {rep(a,times = length(b))}, a = dat$Day, b = seqs)\n",
    "nom_power = mapply(FUN = function(a, b) {rep(a,times = length(b))}, a = dat$Nominal_power, b = seqs)\n",
    "cap = mapply(FUN = function(a, b) {rep(a,times = length(b))}, a = dat$capacity_on_working, b = seqs)\n",
    "ID = mapply(FUN = function(a, b) {rep(a,times = length(b))}, a = dat$Breakdown_ID, b = seqs)\n",
    "breakdown = data.table(ID = unlist(ID), Date = do.call(\"c\", dates), Hour = unlist(seqs), NominalPower = unlist(nom_power),\n",
    "                       Capacity = unlist(cap))\n",
    "breakdown[,NominalPower:=as.numeric(gsub(\",\",\"\",NominalPower))/100]\n",
    "breakdown[,Capacity:=as.numeric(gsub(\",\",\"\",Capacity))/100]\n",
    "head(breakdown,10)"
   ]
  },
  {
   "cell_type": "markdown",
   "id": "ca9a6bda",
   "metadata": {},
   "source": [
    "Aggregate data by date and hour with the function of summation of capacity"
   ]
  },
  {
   "cell_type": "code",
   "execution_count": 120,
   "id": "29bac8b9",
   "metadata": {},
   "outputs": [],
   "source": [
    "breakdown = as.data.table(aggregate(breakdown[,5], by = list(breakdown$Date,breakdown$Hour),FUN=sum))"
   ]
  },
  {
   "cell_type": "code",
   "execution_count": 121,
   "id": "5a4744fe",
   "metadata": {
    "scrolled": true,
    "tags": []
   },
   "outputs": [
    {
     "data": {
      "text/html": [
       "<table class=\"dataframe\">\n",
       "<caption>A data.table: 26568 × 3</caption>\n",
       "<thead>\n",
       "\t<tr><th scope=col>Date</th><th scope=col>Hour</th><th scope=col>Capacity</th></tr>\n",
       "\t<tr><th scope=col>&lt;date&gt;</th><th scope=col>&lt;dbl&gt;</th><th scope=col>&lt;dbl&gt;</th></tr>\n",
       "</thead>\n",
       "<tbody>\n",
       "\t<tr><td>2019-01-01</td><td> 0</td><td> 340</td></tr>\n",
       "\t<tr><td>2019-01-01</td><td> 1</td><td> 351</td></tr>\n",
       "\t<tr><td>2019-01-01</td><td> 2</td><td> 321</td></tr>\n",
       "\t<tr><td>2019-01-01</td><td> 3</td><td> 318</td></tr>\n",
       "\t<tr><td>2019-01-01</td><td> 4</td><td> 327</td></tr>\n",
       "\t<tr><td>2019-01-01</td><td> 5</td><td> 381</td></tr>\n",
       "\t<tr><td>2019-01-01</td><td> 6</td><td> 381</td></tr>\n",
       "\t<tr><td>2019-01-01</td><td> 7</td><td> 381</td></tr>\n",
       "\t<tr><td>2019-01-01</td><td> 8</td><td> 350</td></tr>\n",
       "\t<tr><td>2019-01-01</td><td> 9</td><td> 318</td></tr>\n",
       "\t<tr><td>2019-01-01</td><td>10</td><td> 318</td></tr>\n",
       "\t<tr><td>2019-01-01</td><td>11</td><td>1355</td></tr>\n",
       "\t<tr><td>2019-01-01</td><td>12</td><td>1483</td></tr>\n",
       "\t<tr><td>2019-01-01</td><td>13</td><td>1634</td></tr>\n",
       "\t<tr><td>2019-01-01</td><td>14</td><td>1682</td></tr>\n",
       "\t<tr><td>2019-01-01</td><td>15</td><td>1385</td></tr>\n",
       "\t<tr><td>2019-01-01</td><td>16</td><td>1385</td></tr>\n",
       "\t<tr><td>2019-01-01</td><td>17</td><td>1936</td></tr>\n",
       "\t<tr><td>2019-01-01</td><td>18</td><td>1450</td></tr>\n",
       "\t<tr><td>2019-01-01</td><td>19</td><td>1712</td></tr>\n",
       "\t<tr><td>2019-01-01</td><td>20</td><td>2161</td></tr>\n",
       "\t<tr><td>2019-01-01</td><td>21</td><td>1620</td></tr>\n",
       "\t<tr><td>2019-01-01</td><td>22</td><td>1348</td></tr>\n",
       "\t<tr><td>2019-01-01</td><td>23</td><td>1373</td></tr>\n",
       "\t<tr><td>2019-01-02</td><td> 0</td><td> 494</td></tr>\n",
       "\t<tr><td>2019-01-02</td><td> 1</td><td> 219</td></tr>\n",
       "\t<tr><td>2019-01-02</td><td> 2</td><td>1085</td></tr>\n",
       "\t<tr><td>2019-01-02</td><td> 3</td><td>1014</td></tr>\n",
       "\t<tr><td>2019-01-02</td><td> 4</td><td>1207</td></tr>\n",
       "\t<tr><td>2019-01-02</td><td> 5</td><td>1164</td></tr>\n",
       "\t<tr><td>...</td><td>...</td><td>...</td></tr>\n",
       "\t<tr><td>2022-01-10</td><td>18</td><td> 571</td></tr>\n",
       "\t<tr><td>2022-01-10</td><td>19</td><td> 690</td></tr>\n",
       "\t<tr><td>2022-01-10</td><td>20</td><td> 819</td></tr>\n",
       "\t<tr><td>2022-01-10</td><td>21</td><td> 812</td></tr>\n",
       "\t<tr><td>2022-01-10</td><td>22</td><td> 756</td></tr>\n",
       "\t<tr><td>2022-01-10</td><td>23</td><td> 423</td></tr>\n",
       "\t<tr><td>2022-01-11</td><td> 0</td><td>1750</td></tr>\n",
       "\t<tr><td>2022-01-11</td><td> 1</td><td>1799</td></tr>\n",
       "\t<tr><td>2022-01-11</td><td> 2</td><td>1794</td></tr>\n",
       "\t<tr><td>2022-01-11</td><td> 3</td><td> 874</td></tr>\n",
       "\t<tr><td>2022-01-11</td><td> 4</td><td>1203</td></tr>\n",
       "\t<tr><td>2022-01-11</td><td> 5</td><td>1260</td></tr>\n",
       "\t<tr><td>2022-01-11</td><td> 6</td><td>1259</td></tr>\n",
       "\t<tr><td>2022-01-11</td><td> 7</td><td>1114</td></tr>\n",
       "\t<tr><td>2022-01-11</td><td> 8</td><td>3306</td></tr>\n",
       "\t<tr><td>2022-01-11</td><td> 9</td><td>3396</td></tr>\n",
       "\t<tr><td>2022-01-11</td><td>10</td><td>3415</td></tr>\n",
       "\t<tr><td>2022-01-11</td><td>11</td><td>4043</td></tr>\n",
       "\t<tr><td>2022-01-11</td><td>12</td><td>3123</td></tr>\n",
       "\t<tr><td>2022-01-11</td><td>13</td><td>2674</td></tr>\n",
       "\t<tr><td>2022-01-11</td><td>14</td><td>2965</td></tr>\n",
       "\t<tr><td>2022-01-11</td><td>15</td><td>2743</td></tr>\n",
       "\t<tr><td>2022-01-11</td><td>16</td><td>2644</td></tr>\n",
       "\t<tr><td>2022-01-11</td><td>17</td><td>2341</td></tr>\n",
       "\t<tr><td>2022-01-11</td><td>18</td><td>2230</td></tr>\n",
       "\t<tr><td>2022-01-11</td><td>19</td><td>1948</td></tr>\n",
       "\t<tr><td>2022-01-11</td><td>20</td><td>2079</td></tr>\n",
       "\t<tr><td>2022-01-11</td><td>21</td><td>2052</td></tr>\n",
       "\t<tr><td>2022-01-11</td><td>22</td><td>1551</td></tr>\n",
       "\t<tr><td>2022-01-11</td><td>23</td><td>1237</td></tr>\n",
       "</tbody>\n",
       "</table>\n"
      ],
      "text/latex": [
       "A data.table: 26568 × 3\n",
       "\\begin{tabular}{lll}\n",
       " Date & Hour & Capacity\\\\\n",
       " <date> & <dbl> & <dbl>\\\\\n",
       "\\hline\n",
       "\t 2019-01-01 &  0 &  340\\\\\n",
       "\t 2019-01-01 &  1 &  351\\\\\n",
       "\t 2019-01-01 &  2 &  321\\\\\n",
       "\t 2019-01-01 &  3 &  318\\\\\n",
       "\t 2019-01-01 &  4 &  327\\\\\n",
       "\t 2019-01-01 &  5 &  381\\\\\n",
       "\t 2019-01-01 &  6 &  381\\\\\n",
       "\t 2019-01-01 &  7 &  381\\\\\n",
       "\t 2019-01-01 &  8 &  350\\\\\n",
       "\t 2019-01-01 &  9 &  318\\\\\n",
       "\t 2019-01-01 & 10 &  318\\\\\n",
       "\t 2019-01-01 & 11 & 1355\\\\\n",
       "\t 2019-01-01 & 12 & 1483\\\\\n",
       "\t 2019-01-01 & 13 & 1634\\\\\n",
       "\t 2019-01-01 & 14 & 1682\\\\\n",
       "\t 2019-01-01 & 15 & 1385\\\\\n",
       "\t 2019-01-01 & 16 & 1385\\\\\n",
       "\t 2019-01-01 & 17 & 1936\\\\\n",
       "\t 2019-01-01 & 18 & 1450\\\\\n",
       "\t 2019-01-01 & 19 & 1712\\\\\n",
       "\t 2019-01-01 & 20 & 2161\\\\\n",
       "\t 2019-01-01 & 21 & 1620\\\\\n",
       "\t 2019-01-01 & 22 & 1348\\\\\n",
       "\t 2019-01-01 & 23 & 1373\\\\\n",
       "\t 2019-01-02 &  0 &  494\\\\\n",
       "\t 2019-01-02 &  1 &  219\\\\\n",
       "\t 2019-01-02 &  2 & 1085\\\\\n",
       "\t 2019-01-02 &  3 & 1014\\\\\n",
       "\t 2019-01-02 &  4 & 1207\\\\\n",
       "\t 2019-01-02 &  5 & 1164\\\\\n",
       "\t ... & ... & ...\\\\\n",
       "\t 2022-01-10 & 18 &  571\\\\\n",
       "\t 2022-01-10 & 19 &  690\\\\\n",
       "\t 2022-01-10 & 20 &  819\\\\\n",
       "\t 2022-01-10 & 21 &  812\\\\\n",
       "\t 2022-01-10 & 22 &  756\\\\\n",
       "\t 2022-01-10 & 23 &  423\\\\\n",
       "\t 2022-01-11 &  0 & 1750\\\\\n",
       "\t 2022-01-11 &  1 & 1799\\\\\n",
       "\t 2022-01-11 &  2 & 1794\\\\\n",
       "\t 2022-01-11 &  3 &  874\\\\\n",
       "\t 2022-01-11 &  4 & 1203\\\\\n",
       "\t 2022-01-11 &  5 & 1260\\\\\n",
       "\t 2022-01-11 &  6 & 1259\\\\\n",
       "\t 2022-01-11 &  7 & 1114\\\\\n",
       "\t 2022-01-11 &  8 & 3306\\\\\n",
       "\t 2022-01-11 &  9 & 3396\\\\\n",
       "\t 2022-01-11 & 10 & 3415\\\\\n",
       "\t 2022-01-11 & 11 & 4043\\\\\n",
       "\t 2022-01-11 & 12 & 3123\\\\\n",
       "\t 2022-01-11 & 13 & 2674\\\\\n",
       "\t 2022-01-11 & 14 & 2965\\\\\n",
       "\t 2022-01-11 & 15 & 2743\\\\\n",
       "\t 2022-01-11 & 16 & 2644\\\\\n",
       "\t 2022-01-11 & 17 & 2341\\\\\n",
       "\t 2022-01-11 & 18 & 2230\\\\\n",
       "\t 2022-01-11 & 19 & 1948\\\\\n",
       "\t 2022-01-11 & 20 & 2079\\\\\n",
       "\t 2022-01-11 & 21 & 2052\\\\\n",
       "\t 2022-01-11 & 22 & 1551\\\\\n",
       "\t 2022-01-11 & 23 & 1237\\\\\n",
       "\\end{tabular}\n"
      ],
      "text/markdown": [
       "\n",
       "A data.table: 26568 × 3\n",
       "\n",
       "| Date &lt;date&gt; | Hour &lt;dbl&gt; | Capacity &lt;dbl&gt; |\n",
       "|---|---|---|\n",
       "| 2019-01-01 |  0 |  340 |\n",
       "| 2019-01-01 |  1 |  351 |\n",
       "| 2019-01-01 |  2 |  321 |\n",
       "| 2019-01-01 |  3 |  318 |\n",
       "| 2019-01-01 |  4 |  327 |\n",
       "| 2019-01-01 |  5 |  381 |\n",
       "| 2019-01-01 |  6 |  381 |\n",
       "| 2019-01-01 |  7 |  381 |\n",
       "| 2019-01-01 |  8 |  350 |\n",
       "| 2019-01-01 |  9 |  318 |\n",
       "| 2019-01-01 | 10 |  318 |\n",
       "| 2019-01-01 | 11 | 1355 |\n",
       "| 2019-01-01 | 12 | 1483 |\n",
       "| 2019-01-01 | 13 | 1634 |\n",
       "| 2019-01-01 | 14 | 1682 |\n",
       "| 2019-01-01 | 15 | 1385 |\n",
       "| 2019-01-01 | 16 | 1385 |\n",
       "| 2019-01-01 | 17 | 1936 |\n",
       "| 2019-01-01 | 18 | 1450 |\n",
       "| 2019-01-01 | 19 | 1712 |\n",
       "| 2019-01-01 | 20 | 2161 |\n",
       "| 2019-01-01 | 21 | 1620 |\n",
       "| 2019-01-01 | 22 | 1348 |\n",
       "| 2019-01-01 | 23 | 1373 |\n",
       "| 2019-01-02 |  0 |  494 |\n",
       "| 2019-01-02 |  1 |  219 |\n",
       "| 2019-01-02 |  2 | 1085 |\n",
       "| 2019-01-02 |  3 | 1014 |\n",
       "| 2019-01-02 |  4 | 1207 |\n",
       "| 2019-01-02 |  5 | 1164 |\n",
       "| ... | ... | ... |\n",
       "| 2022-01-10 | 18 |  571 |\n",
       "| 2022-01-10 | 19 |  690 |\n",
       "| 2022-01-10 | 20 |  819 |\n",
       "| 2022-01-10 | 21 |  812 |\n",
       "| 2022-01-10 | 22 |  756 |\n",
       "| 2022-01-10 | 23 |  423 |\n",
       "| 2022-01-11 |  0 | 1750 |\n",
       "| 2022-01-11 |  1 | 1799 |\n",
       "| 2022-01-11 |  2 | 1794 |\n",
       "| 2022-01-11 |  3 |  874 |\n",
       "| 2022-01-11 |  4 | 1203 |\n",
       "| 2022-01-11 |  5 | 1260 |\n",
       "| 2022-01-11 |  6 | 1259 |\n",
       "| 2022-01-11 |  7 | 1114 |\n",
       "| 2022-01-11 |  8 | 3306 |\n",
       "| 2022-01-11 |  9 | 3396 |\n",
       "| 2022-01-11 | 10 | 3415 |\n",
       "| 2022-01-11 | 11 | 4043 |\n",
       "| 2022-01-11 | 12 | 3123 |\n",
       "| 2022-01-11 | 13 | 2674 |\n",
       "| 2022-01-11 | 14 | 2965 |\n",
       "| 2022-01-11 | 15 | 2743 |\n",
       "| 2022-01-11 | 16 | 2644 |\n",
       "| 2022-01-11 | 17 | 2341 |\n",
       "| 2022-01-11 | 18 | 2230 |\n",
       "| 2022-01-11 | 19 | 1948 |\n",
       "| 2022-01-11 | 20 | 2079 |\n",
       "| 2022-01-11 | 21 | 2052 |\n",
       "| 2022-01-11 | 22 | 1551 |\n",
       "| 2022-01-11 | 23 | 1237 |\n",
       "\n"
      ],
      "text/plain": [
       "      Date       Hour Capacity\n",
       "1     2019-01-01  0    340    \n",
       "2     2019-01-01  1    351    \n",
       "3     2019-01-01  2    321    \n",
       "4     2019-01-01  3    318    \n",
       "5     2019-01-01  4    327    \n",
       "6     2019-01-01  5    381    \n",
       "7     2019-01-01  6    381    \n",
       "8     2019-01-01  7    381    \n",
       "9     2019-01-01  8    350    \n",
       "10    2019-01-01  9    318    \n",
       "11    2019-01-01 10    318    \n",
       "12    2019-01-01 11   1355    \n",
       "13    2019-01-01 12   1483    \n",
       "14    2019-01-01 13   1634    \n",
       "15    2019-01-01 14   1682    \n",
       "16    2019-01-01 15   1385    \n",
       "17    2019-01-01 16   1385    \n",
       "18    2019-01-01 17   1936    \n",
       "19    2019-01-01 18   1450    \n",
       "20    2019-01-01 19   1712    \n",
       "21    2019-01-01 20   2161    \n",
       "22    2019-01-01 21   1620    \n",
       "23    2019-01-01 22   1348    \n",
       "24    2019-01-01 23   1373    \n",
       "25    2019-01-02  0    494    \n",
       "26    2019-01-02  1    219    \n",
       "27    2019-01-02  2   1085    \n",
       "28    2019-01-02  3   1014    \n",
       "29    2019-01-02  4   1207    \n",
       "30    2019-01-02  5   1164    \n",
       "...   ...        ...  ...     \n",
       "26539 2022-01-10 18    571    \n",
       "26540 2022-01-10 19    690    \n",
       "26541 2022-01-10 20    819    \n",
       "26542 2022-01-10 21    812    \n",
       "26543 2022-01-10 22    756    \n",
       "26544 2022-01-10 23    423    \n",
       "26545 2022-01-11  0   1750    \n",
       "26546 2022-01-11  1   1799    \n",
       "26547 2022-01-11  2   1794    \n",
       "26548 2022-01-11  3    874    \n",
       "26549 2022-01-11  4   1203    \n",
       "26550 2022-01-11  5   1260    \n",
       "26551 2022-01-11  6   1259    \n",
       "26552 2022-01-11  7   1114    \n",
       "26553 2022-01-11  8   3306    \n",
       "26554 2022-01-11  9   3396    \n",
       "26555 2022-01-11 10   3415    \n",
       "26556 2022-01-11 11   4043    \n",
       "26557 2022-01-11 12   3123    \n",
       "26558 2022-01-11 13   2674    \n",
       "26559 2022-01-11 14   2965    \n",
       "26560 2022-01-11 15   2743    \n",
       "26561 2022-01-11 16   2644    \n",
       "26562 2022-01-11 17   2341    \n",
       "26563 2022-01-11 18   2230    \n",
       "26564 2022-01-11 19   1948    \n",
       "26565 2022-01-11 20   2079    \n",
       "26566 2022-01-11 21   2052    \n",
       "26567 2022-01-11 22   1551    \n",
       "26568 2022-01-11 23   1237    "
      ]
     },
     "metadata": {},
     "output_type": "display_data"
    }
   ],
   "source": [
    "setnames(breakdown, names(breakdown), c('Date','Hour','Capacity'))\n",
    "breakdown[order(Date)]\n",
    "breakdown[,Trend := 1:.N ]"
   ]
  },
  {
   "cell_type": "markdown",
   "id": "88ffd28d",
   "metadata": {},
   "source": [
    "Add trend information to data again and plot "
   ]
  },
  {
   "cell_type": "code",
   "execution_count": 128,
   "id": "a96b2309",
   "metadata": {},
   "outputs": [
    {
     "data": {
      "text/html": [
       "26568"
      ],
      "text/latex": [
       "26568"
      ],
      "text/markdown": [
       "26568"
      ],
      "text/plain": [
       "[1] 26568"
      ]
     },
     "metadata": {},
     "output_type": "display_data"
    }
   ],
   "source": [
    "nrow(breakdown)"
   ]
  },
  {
   "cell_type": "code",
   "execution_count": 125,
   "id": "7649218a",
   "metadata": {},
   "outputs": [
    {
     "data": {
      "image/png": "[encoded data removed]",
      "text/plain": [
       "plot without title"
      ]
     },
     "metadata": {
      "image/png": {
       "height": 420,
       "width": 420
      }
     },
     "output_type": "display_data"
    }
   ],
   "source": [
    "ggplot(breakdown[Date < \"2022-01-01\"], aes(x = Date))  +geom_line(aes(y=Capacity,color='Cap'))"
   ]
  },
  {
   "cell_type": "markdown",
   "id": "b4039d93",
   "metadata": {},
   "source": [
    "### AutoCorrelation Function"
   ]
  },
  {
   "cell_type": "code",
   "execution_count": 155,
   "id": "2c44ccdc",
   "metadata": {},
   "outputs": [
    {
     "data": {
      "image/png": "[encoded data removed]",
      "text/plain": [
       "Plot with title \"Series  breakdown$Capacity\""
      ]
     },
     "metadata": {
      "image/png": {
       "height": 420,
       "width": 420
      }
     },
     "output_type": "display_data"
    }
   ],
   "source": [
    "acf(breakdown$Capacity)"
   ]
  },
  {
   "cell_type": "markdown",
   "id": "32f3eb71",
   "metadata": {},
   "source": [
    "Lag information can give us good feature"
   ]
  },
  {
   "cell_type": "markdown",
   "id": "417e5c54",
   "metadata": {},
   "source": [
    "### Decompose"
   ]
  },
  {
   "cell_type": "code",
   "execution_count": 158,
   "id": "b2a4eeee",
   "metadata": {},
   "outputs": [],
   "source": [
    "require(\"stats\")\n",
    "require(\"tsoutliers\")\n",
    "\n"
   ]
  },
  {
   "cell_type": "code",
   "execution_count": 159,
   "id": "6720fc1f",
   "metadata": {},
   "outputs": [
    {
     "data": {
      "image/png": "[encoded data removed]",
      "text/plain": [
       "plot without title"
      ]
     },
     "metadata": {
      "image/png": {
       "height": 420,
       "width": 420
      }
     },
     "output_type": "display_data"
    }
   ],
   "source": [
    "decomp=decompose(ts(breakdown$Capacity,freq=7),type='add')\n",
    "plot(decomp)"
   ]
  },
  {
   "cell_type": "code",
   "execution_count": 160,
   "id": "79157f8b",
   "metadata": {},
   "outputs": [
    {
     "data": {
      "image/png": "[encoded data removed]",
      "text/plain": [
       "plot without title"
      ]
     },
     "metadata": {
      "image/png": {
       "height": 420,
       "width": 420
      }
     },
     "output_type": "display_data"
    }
   ],
   "source": [
    "decomp=decompose(ts(breakdown$Capacity,freq=168),type='add')\n",
    "plot(decomp)"
   ]
  },
  {
   "cell_type": "code",
   "execution_count": 161,
   "id": "5068155a",
   "metadata": {},
   "outputs": [
    {
     "data": {
      "image/png": "[encoded data removed]",
      "text/plain": [
       "plot without title"
      ]
     },
     "metadata": {
      "image/png": {
       "height": 420,
       "width": 420
      }
     },
     "output_type": "display_data"
    }
   ],
   "source": [
    "decomp=decompose(ts(breakdown$Capacity,freq=720),type='add')\n",
    "plot(decomp)"
   ]
  },
  {
   "cell_type": "markdown",
   "id": "7b6fdb90",
   "metadata": {},
   "source": [
    "### Importing bulk imbalance data and merge them together."
   ]
  },
  {
   "cell_type": "code",
   "execution_count": 129,
   "id": "3e6571dc",
   "metadata": {
    "tags": []
   },
   "outputs": [
    {
     "data": {
      "text/html": [
       "<table class=\"dataframe\">\n",
       "<caption>A data.table: 6 × 13</caption>\n",
       "<thead>\n",
       "\t<tr><th scope=col>date</th><th scope=col>hour</th><th scope=col>net</th><th scope=col>upRegulationZeroCoded</th><th scope=col>upRegulationOneCoded</th><th scope=col>upRegulationTwoCoded</th><th scope=col>downRegulationZeroCoded</th><th scope=col>downRegulationOneCoded</th><th scope=col>downRegulationTwoCoded</th><th scope=col>upRegulationDelivered</th><th scope=col>downRegulationDelivered</th><th scope=col>system_direction</th><th scope=col>ID</th></tr>\n",
       "\t<tr><th scope=col>&lt;date&gt;</th><th scope=col>&lt;int&gt;</th><th scope=col>&lt;dbl&gt;</th><th scope=col>&lt;dbl&gt;</th><th scope=col>&lt;dbl&gt;</th><th scope=col>&lt;int&gt;</th><th scope=col>&lt;dbl&gt;</th><th scope=col>&lt;dbl&gt;</th><th scope=col>&lt;int&gt;</th><th scope=col>&lt;dbl&gt;</th><th scope=col>&lt;dbl&gt;</th><th scope=col>&lt;chr&gt;</th><th scope=col>&lt;int&gt;</th></tr>\n",
       "</thead>\n",
       "<tbody>\n",
       "\t<tr><td>2019-01-01</td><td>0</td><td>-1934.795</td><td>0</td><td>0</td><td>0</td><td>2288.567</td><td> 0</td><td>0</td><td>0</td><td>-1934.795</td><td>Negative</td><td>1</td></tr>\n",
       "\t<tr><td>2019-01-01</td><td>1</td><td> -750.866</td><td>0</td><td>0</td><td>0</td><td> 808.083</td><td> 0</td><td>0</td><td>0</td><td> -750.866</td><td>Negative</td><td>2</td></tr>\n",
       "\t<tr><td>2019-01-01</td><td>2</td><td> -982.767</td><td>0</td><td>0</td><td>0</td><td>1060.750</td><td> 0</td><td>0</td><td>0</td><td> -982.767</td><td>Negative</td><td>3</td></tr>\n",
       "\t<tr><td>2019-01-01</td><td>3</td><td> -764.620</td><td>0</td><td>0</td><td>0</td><td>1120.483</td><td> 0</td><td>0</td><td>0</td><td> -764.620</td><td>Negative</td><td>4</td></tr>\n",
       "\t<tr><td>2019-01-01</td><td>4</td><td>-1233.289</td><td>0</td><td>0</td><td>0</td><td>1874.633</td><td>56</td><td>0</td><td>0</td><td>-1233.289</td><td>Negative</td><td>5</td></tr>\n",
       "\t<tr><td>2019-01-01</td><td>5</td><td>-1469.061</td><td>0</td><td>0</td><td>0</td><td>2125.000</td><td>56</td><td>0</td><td>0</td><td>-1469.061</td><td>Negative</td><td>6</td></tr>\n",
       "</tbody>\n",
       "</table>\n"
      ],
      "text/latex": [
       "A data.table: 6 × 13\n",
       "\\begin{tabular}{lllllllllllll}\n",
       " date & hour & net & upRegulationZeroCoded & upRegulationOneCoded & upRegulationTwoCoded & downRegulationZeroCoded & downRegulationOneCoded & downRegulationTwoCoded & upRegulationDelivered & downRegulationDelivered & system\\_direction & ID\\\\\n",
       " <date> & <int> & <dbl> & <dbl> & <dbl> & <int> & <dbl> & <dbl> & <int> & <dbl> & <dbl> & <chr> & <int>\\\\\n",
       "\\hline\n",
       "\t 2019-01-01 & 0 & -1934.795 & 0 & 0 & 0 & 2288.567 &  0 & 0 & 0 & -1934.795 & Negative & 1\\\\\n",
       "\t 2019-01-01 & 1 &  -750.866 & 0 & 0 & 0 &  808.083 &  0 & 0 & 0 &  -750.866 & Negative & 2\\\\\n",
       "\t 2019-01-01 & 2 &  -982.767 & 0 & 0 & 0 & 1060.750 &  0 & 0 & 0 &  -982.767 & Negative & 3\\\\\n",
       "\t 2019-01-01 & 3 &  -764.620 & 0 & 0 & 0 & 1120.483 &  0 & 0 & 0 &  -764.620 & Negative & 4\\\\\n",
       "\t 2019-01-01 & 4 & -1233.289 & 0 & 0 & 0 & 1874.633 & 56 & 0 & 0 & -1233.289 & Negative & 5\\\\\n",
       "\t 2019-01-01 & 5 & -1469.061 & 0 & 0 & 0 & 2125.000 & 56 & 0 & 0 & -1469.061 & Negative & 6\\\\\n",
       "\\end{tabular}\n"
      ],
      "text/markdown": [
       "\n",
       "A data.table: 6 × 13\n",
       "\n",
       "| date &lt;date&gt; | hour &lt;int&gt; | net &lt;dbl&gt; | upRegulationZeroCoded &lt;dbl&gt; | upRegulationOneCoded &lt;dbl&gt; | upRegulationTwoCoded &lt;int&gt; | downRegulationZeroCoded &lt;dbl&gt; | downRegulationOneCoded &lt;dbl&gt; | downRegulationTwoCoded &lt;int&gt; | upRegulationDelivered &lt;dbl&gt; | downRegulationDelivered &lt;dbl&gt; | system_direction &lt;chr&gt; | ID &lt;int&gt; |\n",
       "|---|---|---|---|---|---|---|---|---|---|---|---|---|\n",
       "| 2019-01-01 | 0 | -1934.795 | 0 | 0 | 0 | 2288.567 |  0 | 0 | 0 | -1934.795 | Negative | 1 |\n",
       "| 2019-01-01 | 1 |  -750.866 | 0 | 0 | 0 |  808.083 |  0 | 0 | 0 |  -750.866 | Negative | 2 |\n",
       "| 2019-01-01 | 2 |  -982.767 | 0 | 0 | 0 | 1060.750 |  0 | 0 | 0 |  -982.767 | Negative | 3 |\n",
       "| 2019-01-01 | 3 |  -764.620 | 0 | 0 | 0 | 1120.483 |  0 | 0 | 0 |  -764.620 | Negative | 4 |\n",
       "| 2019-01-01 | 4 | -1233.289 | 0 | 0 | 0 | 1874.633 | 56 | 0 | 0 | -1233.289 | Negative | 5 |\n",
       "| 2019-01-01 | 5 | -1469.061 | 0 | 0 | 0 | 2125.000 | 56 | 0 | 0 | -1469.061 | Negative | 6 |\n",
       "\n"
      ],
      "text/plain": [
       "  date       hour net       upRegulationZeroCoded upRegulationOneCoded\n",
       "1 2019-01-01 0    -1934.795 0                     0                   \n",
       "2 2019-01-01 1     -750.866 0                     0                   \n",
       "3 2019-01-01 2     -982.767 0                     0                   \n",
       "4 2019-01-01 3     -764.620 0                     0                   \n",
       "5 2019-01-01 4    -1233.289 0                     0                   \n",
       "6 2019-01-01 5    -1469.061 0                     0                   \n",
       "  upRegulationTwoCoded downRegulationZeroCoded downRegulationOneCoded\n",
       "1 0                    2288.567                 0                    \n",
       "2 0                     808.083                 0                    \n",
       "3 0                    1060.750                 0                    \n",
       "4 0                    1120.483                 0                    \n",
       "5 0                    1874.633                56                    \n",
       "6 0                    2125.000                56                    \n",
       "  downRegulationTwoCoded upRegulationDelivered downRegulationDelivered\n",
       "1 0                      0                     -1934.795              \n",
       "2 0                      0                      -750.866              \n",
       "3 0                      0                      -982.767              \n",
       "4 0                      0                      -764.620              \n",
       "5 0                      0                     -1233.289              \n",
       "6 0                      0                     -1469.061              \n",
       "  system_direction ID\n",
       "1 Negative         1 \n",
       "2 Negative         2 \n",
       "3 Negative         3 \n",
       "4 Negative         4 \n",
       "5 Negative         5 \n",
       "6 Negative         6 "
      ]
     },
     "metadata": {},
     "output_type": "display_data"
    }
   ],
   "source": [
    "path=\"C:/Users/Burak/Documents/kitaplar/IE48B/project_files/Random Forest/\"\n",
    "bulk_imbalance = fread(sprintf(\"%sbulk_imbalance.csv\", path))\n",
    "data = bulk_imbalance\n",
    "data = data[order(date,hour)]\n",
    "data[,ID := 1:.N]\n",
    "head(data)"
   ]
  },
  {
   "cell_type": "code",
   "execution_count": 130,
   "id": "0a5e8bdc",
   "metadata": {},
   "outputs": [],
   "source": [
    "combined <- merge(breakdown,data,by.x =c(\"Date\",\"Hour\"), by.y =c(\"date\",\"hour\"))"
   ]
  },
  {
   "cell_type": "code",
   "execution_count": 132,
   "id": "7300930a",
   "metadata": {},
   "outputs": [
    {
     "data": {
      "text/html": [
       "<table class=\"dataframe\">\n",
       "<caption>A data.table: 6 × 15</caption>\n",
       "<thead>\n",
       "\t<tr><th scope=col>Date</th><th scope=col>Hour</th><th scope=col>Capacity</th><th scope=col>Trend</th><th scope=col>net</th><th scope=col>upRegulationZeroCoded</th><th scope=col>upRegulationOneCoded</th><th scope=col>upRegulationTwoCoded</th><th scope=col>downRegulationZeroCoded</th><th scope=col>downRegulationOneCoded</th><th scope=col>downRegulationTwoCoded</th><th scope=col>upRegulationDelivered</th><th scope=col>downRegulationDelivered</th><th scope=col>system_direction</th><th scope=col>ID</th></tr>\n",
       "\t<tr><th scope=col>&lt;date&gt;</th><th scope=col>&lt;int&gt;</th><th scope=col>&lt;dbl&gt;</th><th scope=col>&lt;int&gt;</th><th scope=col>&lt;dbl&gt;</th><th scope=col>&lt;dbl&gt;</th><th scope=col>&lt;dbl&gt;</th><th scope=col>&lt;int&gt;</th><th scope=col>&lt;dbl&gt;</th><th scope=col>&lt;dbl&gt;</th><th scope=col>&lt;int&gt;</th><th scope=col>&lt;dbl&gt;</th><th scope=col>&lt;dbl&gt;</th><th scope=col>&lt;chr&gt;</th><th scope=col>&lt;int&gt;</th></tr>\n",
       "</thead>\n",
       "<tbody>\n",
       "\t<tr><td>2022-01-11</td><td>18</td><td>2230</td><td>21033</td><td>3738.814</td><td>4120.733</td><td>0</td><td>0</td><td>130.00</td><td> 0.0</td><td>0</td><td>3868.814</td><td>-130.00</td><td>Positive</td><td>26563</td></tr>\n",
       "\t<tr><td>2022-01-11</td><td>19</td><td>1948</td><td>22140</td><td>3672.789</td><td>4121.300</td><td>0</td><td>0</td><td> 45.00</td><td> 0.0</td><td>0</td><td>3717.789</td><td> -45.00</td><td>Positive</td><td>26564</td></tr>\n",
       "\t<tr><td>2022-01-11</td><td>20</td><td>2079</td><td>23247</td><td>3814.799</td><td>3965.050</td><td>0</td><td>0</td><td> 13.00</td><td> 0.0</td><td>0</td><td>3827.079</td><td> -12.28</td><td>Positive</td><td>26565</td></tr>\n",
       "\t<tr><td>2022-01-11</td><td>21</td><td>2052</td><td>24354</td><td>3305.544</td><td>3535.868</td><td>0</td><td>0</td><td>  0.00</td><td> 0.0</td><td>0</td><td>3305.544</td><td>   0.00</td><td>Positive</td><td>26566</td></tr>\n",
       "\t<tr><td>2022-01-11</td><td>22</td><td>1551</td><td>25461</td><td>3756.320</td><td>4043.617</td><td>0</td><td>0</td><td> 71.55</td><td> 0.0</td><td>0</td><td>3827.870</td><td> -71.55</td><td>Positive</td><td>26567</td></tr>\n",
       "\t<tr><td>2022-01-11</td><td>23</td><td>1237</td><td>26568</td><td>3087.010</td><td>3798.501</td><td>0</td><td>0</td><td>221.45</td><td>58.5</td><td>0</td><td>3303.960</td><td>-216.95</td><td>Positive</td><td>26568</td></tr>\n",
       "</tbody>\n",
       "</table>\n"
      ],
      "text/latex": [
       "A data.table: 6 × 15\n",
       "\\begin{tabular}{lllllllllllllll}\n",
       " Date & Hour & Capacity & Trend & net & upRegulationZeroCoded & upRegulationOneCoded & upRegulationTwoCoded & downRegulationZeroCoded & downRegulationOneCoded & downRegulationTwoCoded & upRegulationDelivered & downRegulationDelivered & system\\_direction & ID\\\\\n",
       " <date> & <int> & <dbl> & <int> & <dbl> & <dbl> & <dbl> & <int> & <dbl> & <dbl> & <int> & <dbl> & <dbl> & <chr> & <int>\\\\\n",
       "\\hline\n",
       "\t 2022-01-11 & 18 & 2230 & 21033 & 3738.814 & 4120.733 & 0 & 0 & 130.00 &  0.0 & 0 & 3868.814 & -130.00 & Positive & 26563\\\\\n",
       "\t 2022-01-11 & 19 & 1948 & 22140 & 3672.789 & 4121.300 & 0 & 0 &  45.00 &  0.0 & 0 & 3717.789 &  -45.00 & Positive & 26564\\\\\n",
       "\t 2022-01-11 & 20 & 2079 & 23247 & 3814.799 & 3965.050 & 0 & 0 &  13.00 &  0.0 & 0 & 3827.079 &  -12.28 & Positive & 26565\\\\\n",
       "\t 2022-01-11 & 21 & 2052 & 24354 & 3305.544 & 3535.868 & 0 & 0 &   0.00 &  0.0 & 0 & 3305.544 &    0.00 & Positive & 26566\\\\\n",
       "\t 2022-01-11 & 22 & 1551 & 25461 & 3756.320 & 4043.617 & 0 & 0 &  71.55 &  0.0 & 0 & 3827.870 &  -71.55 & Positive & 26567\\\\\n",
       "\t 2022-01-11 & 23 & 1237 & 26568 & 3087.010 & 3798.501 & 0 & 0 & 221.45 & 58.5 & 0 & 3303.960 & -216.95 & Positive & 26568\\\\\n",
       "\\end{tabular}\n"
      ],
      "text/markdown": [
       "\n",
       "A data.table: 6 × 15\n",
       "\n",
       "| Date &lt;date&gt; | Hour &lt;int&gt; | Capacity &lt;dbl&gt; | Trend &lt;int&gt; | net &lt;dbl&gt; | upRegulationZeroCoded &lt;dbl&gt; | upRegulationOneCoded &lt;dbl&gt; | upRegulationTwoCoded &lt;int&gt; | downRegulationZeroCoded &lt;dbl&gt; | downRegulationOneCoded &lt;dbl&gt; | downRegulationTwoCoded &lt;int&gt; | upRegulationDelivered &lt;dbl&gt; | downRegulationDelivered &lt;dbl&gt; | system_direction &lt;chr&gt; | ID &lt;int&gt; |\n",
       "|---|---|---|---|---|---|---|---|---|---|---|---|---|---|---|\n",
       "| 2022-01-11 | 18 | 2230 | 21033 | 3738.814 | 4120.733 | 0 | 0 | 130.00 |  0.0 | 0 | 3868.814 | -130.00 | Positive | 26563 |\n",
       "| 2022-01-11 | 19 | 1948 | 22140 | 3672.789 | 4121.300 | 0 | 0 |  45.00 |  0.0 | 0 | 3717.789 |  -45.00 | Positive | 26564 |\n",
       "| 2022-01-11 | 20 | 2079 | 23247 | 3814.799 | 3965.050 | 0 | 0 |  13.00 |  0.0 | 0 | 3827.079 |  -12.28 | Positive | 26565 |\n",
       "| 2022-01-11 | 21 | 2052 | 24354 | 3305.544 | 3535.868 | 0 | 0 |   0.00 |  0.0 | 0 | 3305.544 |    0.00 | Positive | 26566 |\n",
       "| 2022-01-11 | 22 | 1551 | 25461 | 3756.320 | 4043.617 | 0 | 0 |  71.55 |  0.0 | 0 | 3827.870 |  -71.55 | Positive | 26567 |\n",
       "| 2022-01-11 | 23 | 1237 | 26568 | 3087.010 | 3798.501 | 0 | 0 | 221.45 | 58.5 | 0 | 3303.960 | -216.95 | Positive | 26568 |\n",
       "\n"
      ],
      "text/plain": [
       "  Date       Hour Capacity Trend net      upRegulationZeroCoded\n",
       "1 2022-01-11 18   2230     21033 3738.814 4120.733             \n",
       "2 2022-01-11 19   1948     22140 3672.789 4121.300             \n",
       "3 2022-01-11 20   2079     23247 3814.799 3965.050             \n",
       "4 2022-01-11 21   2052     24354 3305.544 3535.868             \n",
       "5 2022-01-11 22   1551     25461 3756.320 4043.617             \n",
       "6 2022-01-11 23   1237     26568 3087.010 3798.501             \n",
       "  upRegulationOneCoded upRegulationTwoCoded downRegulationZeroCoded\n",
       "1 0                    0                    130.00                 \n",
       "2 0                    0                     45.00                 \n",
       "3 0                    0                     13.00                 \n",
       "4 0                    0                      0.00                 \n",
       "5 0                    0                     71.55                 \n",
       "6 0                    0                    221.45                 \n",
       "  downRegulationOneCoded downRegulationTwoCoded upRegulationDelivered\n",
       "1  0.0                   0                      3868.814             \n",
       "2  0.0                   0                      3717.789             \n",
       "3  0.0                   0                      3827.079             \n",
       "4  0.0                   0                      3305.544             \n",
       "5  0.0                   0                      3827.870             \n",
       "6 58.5                   0                      3303.960             \n",
       "  downRegulationDelivered system_direction ID   \n",
       "1 -130.00                 Positive         26563\n",
       "2  -45.00                 Positive         26564\n",
       "3  -12.28                 Positive         26565\n",
       "4    0.00                 Positive         26566\n",
       "5  -71.55                 Positive         26567\n",
       "6 -216.95                 Positive         26568"
      ]
     },
     "metadata": {},
     "output_type": "display_data"
    }
   ],
   "source": [
    "tail(combined)"
   ]
  },
  {
   "cell_type": "code",
   "execution_count": 145,
   "id": "8480671b",
   "metadata": {},
   "outputs": [
    {
     "data": {
      "image/png": "[encoded data removed]",
      "text/plain": [
       "plot without title"
      ]
     },
     "metadata": {
      "image/png": {
       "height": 420,
       "width": 420
      }
     },
     "output_type": "display_data"
    }
   ],
   "source": [
    "ggplot(combined, aes(x=Date))+ geom_line(aes(y=Capacity,color='Capacity'))+geom_line(aes(y=net,color='net'))"
   ]
  },
  {
   "cell_type": "code",
   "execution_count": 142,
   "id": "a80ef989",
   "metadata": {
    "scrolled": true,
    "tags": []
   },
   "outputs": [
    {
     "name": "stderr",
     "output_type": "stream",
     "text": [
      "Warning message in cor(combined[, list(Capacity, net, upRegulationZeroCoded, upRegulationZeroCoded, :\n",
      "\"the standard deviation is zero\"\n"
     ]
    },
    {
     "data": {
      "text/html": [
       "<table class=\"dataframe\">\n",
       "<caption>A matrix: 10 × 10 of type dbl</caption>\n",
       "<thead>\n",
       "\t<tr><th></th><th scope=col>Capacity</th><th scope=col>net</th><th scope=col>upRegulationZeroCoded</th><th scope=col>upRegulationZeroCoded</th><th scope=col>upRegulationTwoCoded</th><th scope=col>downRegulationZeroCoded</th><th scope=col>downRegulationOneCoded</th><th scope=col>downRegulationTwoCoded</th><th scope=col>upRegulationDelivered</th><th scope=col>downRegulationDelivered</th></tr>\n",
       "</thead>\n",
       "<tbody>\n",
       "\t<tr><th scope=row>Capacity</th><td> 1.00000000</td><td> 0.29835965</td><td> 0.29659189</td><td> 0.29659189</td><td>NA</td><td>-0.1873125</td><td>-0.02852635</td><td>NA</td><td> 0.2144434</td><td> 0.1604714</td></tr>\n",
       "\t<tr><th scope=row>net</th><td> 0.29835965</td><td> 1.00000000</td><td> 0.85669164</td><td> 0.85669164</td><td>NA</td><td>-0.4889831</td><td>-0.09021785</td><td>NA</td><td> 0.7755443</td><td> 0.4578519</td></tr>\n",
       "\t<tr><th scope=row>upRegulationZeroCoded</th><td> 0.29659189</td><td> 0.85669164</td><td> 1.00000000</td><td> 1.00000000</td><td>NA</td><td>-0.3159579</td><td> 0.08737429</td><td>NA</td><td> 0.7806285</td><td> 0.2285606</td></tr>\n",
       "\t<tr><th scope=row>upRegulationZeroCoded</th><td> 0.29659189</td><td> 0.85669164</td><td> 1.00000000</td><td> 1.00000000</td><td>NA</td><td>-0.3159579</td><td> 0.08737429</td><td>NA</td><td> 0.7806285</td><td> 0.2285606</td></tr>\n",
       "\t<tr><th scope=row>upRegulationTwoCoded</th><td>         NA</td><td>         NA</td><td>         NA</td><td>         NA</td><td> 1</td><td>        NA</td><td>         NA</td><td>NA</td><td>        NA</td><td>        NA</td></tr>\n",
       "\t<tr><th scope=row>downRegulationZeroCoded</th><td>-0.18731248</td><td>-0.48898306</td><td>-0.31595787</td><td>-0.31595787</td><td>NA</td><td> 1.0000000</td><td> 0.14530119</td><td>NA</td><td> 0.1031989</td><td>-0.9032670</td></tr>\n",
       "\t<tr><th scope=row>downRegulationOneCoded</th><td>-0.02852635</td><td>-0.09021785</td><td> 0.08737429</td><td> 0.08737429</td><td>NA</td><td> 0.1453012</td><td> 1.00000000</td><td>NA</td><td> 0.2803687</td><td>-0.5346734</td></tr>\n",
       "\t<tr><th scope=row>downRegulationTwoCoded</th><td>         NA</td><td>         NA</td><td>         NA</td><td>         NA</td><td>NA</td><td>        NA</td><td>         NA</td><td> 1</td><td>        NA</td><td>        NA</td></tr>\n",
       "\t<tr><th scope=row>upRegulationDelivered</th><td> 0.21444338</td><td> 0.77554426</td><td> 0.78062845</td><td> 0.78062845</td><td>NA</td><td> 0.1031989</td><td> 0.28036866</td><td>NA</td><td> 1.0000000</td><td>-0.2061532</td></tr>\n",
       "\t<tr><th scope=row>downRegulationDelivered</th><td> 0.16047144</td><td> 0.45785189</td><td> 0.22856058</td><td> 0.22856058</td><td>NA</td><td>-0.9032670</td><td>-0.53467338</td><td>NA</td><td>-0.2061532</td><td> 1.0000000</td></tr>\n",
       "</tbody>\n",
       "</table>\n"
      ],
      "text/latex": [
       "A matrix: 10 × 10 of type dbl\n",
       "\\begin{tabular}{r|llllllllll}\n",
       "  & Capacity & net & upRegulationZeroCoded & upRegulationZeroCoded & upRegulationTwoCoded & downRegulationZeroCoded & downRegulationOneCoded & downRegulationTwoCoded & upRegulationDelivered & downRegulationDelivered\\\\\n",
       "\\hline\n",
       "\tCapacity &  1.00000000 &  0.29835965 &  0.29659189 &  0.29659189 & NA & -0.1873125 & -0.02852635 & NA &  0.2144434 &  0.1604714\\\\\n",
       "\tnet &  0.29835965 &  1.00000000 &  0.85669164 &  0.85669164 & NA & -0.4889831 & -0.09021785 & NA &  0.7755443 &  0.4578519\\\\\n",
       "\tupRegulationZeroCoded &  0.29659189 &  0.85669164 &  1.00000000 &  1.00000000 & NA & -0.3159579 &  0.08737429 & NA &  0.7806285 &  0.2285606\\\\\n",
       "\tupRegulationZeroCoded &  0.29659189 &  0.85669164 &  1.00000000 &  1.00000000 & NA & -0.3159579 &  0.08737429 & NA &  0.7806285 &  0.2285606\\\\\n",
       "\tupRegulationTwoCoded &          NA &          NA &          NA &          NA &  1 &         NA &          NA & NA &         NA &         NA\\\\\n",
       "\tdownRegulationZeroCoded & -0.18731248 & -0.48898306 & -0.31595787 & -0.31595787 & NA &  1.0000000 &  0.14530119 & NA &  0.1031989 & -0.9032670\\\\\n",
       "\tdownRegulationOneCoded & -0.02852635 & -0.09021785 &  0.08737429 &  0.08737429 & NA &  0.1453012 &  1.00000000 & NA &  0.2803687 & -0.5346734\\\\\n",
       "\tdownRegulationTwoCoded &          NA &          NA &          NA &          NA & NA &         NA &          NA &  1 &         NA &         NA\\\\\n",
       "\tupRegulationDelivered &  0.21444338 &  0.77554426 &  0.78062845 &  0.78062845 & NA &  0.1031989 &  0.28036866 & NA &  1.0000000 & -0.2061532\\\\\n",
       "\tdownRegulationDelivered &  0.16047144 &  0.45785189 &  0.22856058 &  0.22856058 & NA & -0.9032670 & -0.53467338 & NA & -0.2061532 &  1.0000000\\\\\n",
       "\\end{tabular}\n"
      ],
      "text/markdown": [
       "\n",
       "A matrix: 10 × 10 of type dbl\n",
       "\n",
       "| <!--/--> | Capacity | net | upRegulationZeroCoded | upRegulationZeroCoded | upRegulationTwoCoded | downRegulationZeroCoded | downRegulationOneCoded | downRegulationTwoCoded | upRegulationDelivered | downRegulationDelivered |\n",
       "|---|---|---|---|---|---|---|---|---|---|---|\n",
       "| Capacity |  1.00000000 |  0.29835965 |  0.29659189 |  0.29659189 | NA | -0.1873125 | -0.02852635 | NA |  0.2144434 |  0.1604714 |\n",
       "| net |  0.29835965 |  1.00000000 |  0.85669164 |  0.85669164 | NA | -0.4889831 | -0.09021785 | NA |  0.7755443 |  0.4578519 |\n",
       "| upRegulationZeroCoded |  0.29659189 |  0.85669164 |  1.00000000 |  1.00000000 | NA | -0.3159579 |  0.08737429 | NA |  0.7806285 |  0.2285606 |\n",
       "| upRegulationZeroCoded |  0.29659189 |  0.85669164 |  1.00000000 |  1.00000000 | NA | -0.3159579 |  0.08737429 | NA |  0.7806285 |  0.2285606 |\n",
       "| upRegulationTwoCoded |          NA |          NA |          NA |          NA |  1 |         NA |          NA | NA |         NA |         NA |\n",
       "| downRegulationZeroCoded | -0.18731248 | -0.48898306 | -0.31595787 | -0.31595787 | NA |  1.0000000 |  0.14530119 | NA |  0.1031989 | -0.9032670 |\n",
       "| downRegulationOneCoded | -0.02852635 | -0.09021785 |  0.08737429 |  0.08737429 | NA |  0.1453012 |  1.00000000 | NA |  0.2803687 | -0.5346734 |\n",
       "| downRegulationTwoCoded |          NA |          NA |          NA |          NA | NA |         NA |          NA |  1 |         NA |         NA |\n",
       "| upRegulationDelivered |  0.21444338 |  0.77554426 |  0.78062845 |  0.78062845 | NA |  0.1031989 |  0.28036866 | NA |  1.0000000 | -0.2061532 |\n",
       "| downRegulationDelivered |  0.16047144 |  0.45785189 |  0.22856058 |  0.22856058 | NA | -0.9032670 | -0.53467338 | NA | -0.2061532 |  1.0000000 |\n",
       "\n"
      ],
      "text/plain": [
       "                        Capacity    net         upRegulationZeroCoded\n",
       "Capacity                 1.00000000  0.29835965  0.29659189          \n",
       "net                      0.29835965  1.00000000  0.85669164          \n",
       "upRegulationZeroCoded    0.29659189  0.85669164  1.00000000          \n",
       "upRegulationZeroCoded    0.29659189  0.85669164  1.00000000          \n",
       "upRegulationTwoCoded             NA          NA          NA          \n",
       "downRegulationZeroCoded -0.18731248 -0.48898306 -0.31595787          \n",
       "downRegulationOneCoded  -0.02852635 -0.09021785  0.08737429          \n",
       "downRegulationTwoCoded           NA          NA          NA          \n",
       "upRegulationDelivered    0.21444338  0.77554426  0.78062845          \n",
       "downRegulationDelivered  0.16047144  0.45785189  0.22856058          \n",
       "                        upRegulationZeroCoded upRegulationTwoCoded\n",
       "Capacity                 0.29659189           NA                  \n",
       "net                      0.85669164           NA                  \n",
       "upRegulationZeroCoded    1.00000000           NA                  \n",
       "upRegulationZeroCoded    1.00000000           NA                  \n",
       "upRegulationTwoCoded             NA            1                  \n",
       "downRegulationZeroCoded -0.31595787           NA                  \n",
       "downRegulationOneCoded   0.08737429           NA                  \n",
       "downRegulationTwoCoded           NA           NA                  \n",
       "upRegulationDelivered    0.78062845           NA                  \n",
       "downRegulationDelivered  0.22856058           NA                  \n",
       "                        downRegulationZeroCoded downRegulationOneCoded\n",
       "Capacity                -0.1873125              -0.02852635           \n",
       "net                     -0.4889831              -0.09021785           \n",
       "upRegulationZeroCoded   -0.3159579               0.08737429           \n",
       "upRegulationZeroCoded   -0.3159579               0.08737429           \n",
       "upRegulationTwoCoded            NA                       NA           \n",
       "downRegulationZeroCoded  1.0000000               0.14530119           \n",
       "downRegulationOneCoded   0.1453012               1.00000000           \n",
       "downRegulationTwoCoded          NA                       NA           \n",
       "upRegulationDelivered    0.1031989               0.28036866           \n",
       "downRegulationDelivered -0.9032670              -0.53467338           \n",
       "                        downRegulationTwoCoded upRegulationDelivered\n",
       "Capacity                NA                      0.2144434           \n",
       "net                     NA                      0.7755443           \n",
       "upRegulationZeroCoded   NA                      0.7806285           \n",
       "upRegulationZeroCoded   NA                      0.7806285           \n",
       "upRegulationTwoCoded    NA                             NA           \n",
       "downRegulationZeroCoded NA                      0.1031989           \n",
       "downRegulationOneCoded  NA                      0.2803687           \n",
       "downRegulationTwoCoded   1                             NA           \n",
       "upRegulationDelivered   NA                      1.0000000           \n",
       "downRegulationDelivered NA                     -0.2061532           \n",
       "                        downRegulationDelivered\n",
       "Capacity                 0.1604714             \n",
       "net                      0.4578519             \n",
       "upRegulationZeroCoded    0.2285606             \n",
       "upRegulationZeroCoded    0.2285606             \n",
       "upRegulationTwoCoded            NA             \n",
       "downRegulationZeroCoded -0.9032670             \n",
       "downRegulationOneCoded  -0.5346734             \n",
       "downRegulationTwoCoded          NA             \n",
       "upRegulationDelivered   -0.2061532             \n",
       "downRegulationDelivered  1.0000000             "
      ]
     },
     "metadata": {},
     "output_type": "display_data"
    }
   ],
   "source": [
    "correlation <- cor(combined[,list(Capacity,net,upRegulationZeroCoded,upRegulationZeroCoded,upRegulationTwoCoded,downRegulationZeroCoded,downRegulationOneCoded,downRegulationTwoCoded,upRegulationDelivered,downRegulationDelivered)])\n",
    "correlation"
   ]
  },
  {
   "cell_type": "markdown",
   "id": "1bba641e",
   "metadata": {},
   "source": [
    "Since upRegulationZeroCoded and downRegulationTwoCoded have always 0 variable, they are discarded"
   ]
  },
  {
   "cell_type": "code",
   "execution_count": 143,
   "id": "a4615681",
   "metadata": {},
   "outputs": [
    {
     "data": {
      "text/html": [
       "<table class=\"dataframe\">\n",
       "<caption>A matrix: 8 × 8 of type dbl</caption>\n",
       "<thead>\n",
       "\t<tr><th></th><th scope=col>Capacity</th><th scope=col>net</th><th scope=col>upRegulationZeroCoded</th><th scope=col>upRegulationZeroCoded</th><th scope=col>downRegulationZeroCoded</th><th scope=col>downRegulationOneCoded</th><th scope=col>upRegulationDelivered</th><th scope=col>downRegulationDelivered</th></tr>\n",
       "</thead>\n",
       "<tbody>\n",
       "\t<tr><th scope=row>Capacity</th><td> 1.00000000</td><td> 0.29835965</td><td> 0.29659189</td><td> 0.29659189</td><td>-0.1873125</td><td>-0.02852635</td><td> 0.2144434</td><td> 0.1604714</td></tr>\n",
       "\t<tr><th scope=row>net</th><td> 0.29835965</td><td> 1.00000000</td><td> 0.85669164</td><td> 0.85669164</td><td>-0.4889831</td><td>-0.09021785</td><td> 0.7755443</td><td> 0.4578519</td></tr>\n",
       "\t<tr><th scope=row>upRegulationZeroCoded</th><td> 0.29659189</td><td> 0.85669164</td><td> 1.00000000</td><td> 1.00000000</td><td>-0.3159579</td><td> 0.08737429</td><td> 0.7806285</td><td> 0.2285606</td></tr>\n",
       "\t<tr><th scope=row>upRegulationZeroCoded</th><td> 0.29659189</td><td> 0.85669164</td><td> 1.00000000</td><td> 1.00000000</td><td>-0.3159579</td><td> 0.08737429</td><td> 0.7806285</td><td> 0.2285606</td></tr>\n",
       "\t<tr><th scope=row>downRegulationZeroCoded</th><td>-0.18731248</td><td>-0.48898306</td><td>-0.31595787</td><td>-0.31595787</td><td> 1.0000000</td><td> 0.14530119</td><td> 0.1031989</td><td>-0.9032670</td></tr>\n",
       "\t<tr><th scope=row>downRegulationOneCoded</th><td>-0.02852635</td><td>-0.09021785</td><td> 0.08737429</td><td> 0.08737429</td><td> 0.1453012</td><td> 1.00000000</td><td> 0.2803687</td><td>-0.5346734</td></tr>\n",
       "\t<tr><th scope=row>upRegulationDelivered</th><td> 0.21444338</td><td> 0.77554426</td><td> 0.78062845</td><td> 0.78062845</td><td> 0.1031989</td><td> 0.28036866</td><td> 1.0000000</td><td>-0.2061532</td></tr>\n",
       "\t<tr><th scope=row>downRegulationDelivered</th><td> 0.16047144</td><td> 0.45785189</td><td> 0.22856058</td><td> 0.22856058</td><td>-0.9032670</td><td>-0.53467338</td><td>-0.2061532</td><td> 1.0000000</td></tr>\n",
       "</tbody>\n",
       "</table>\n"
      ],
      "text/latex": [
       "A matrix: 8 × 8 of type dbl\n",
       "\\begin{tabular}{r|llllllll}\n",
       "  & Capacity & net & upRegulationZeroCoded & upRegulationZeroCoded & downRegulationZeroCoded & downRegulationOneCoded & upRegulationDelivered & downRegulationDelivered\\\\\n",
       "\\hline\n",
       "\tCapacity &  1.00000000 &  0.29835965 &  0.29659189 &  0.29659189 & -0.1873125 & -0.02852635 &  0.2144434 &  0.1604714\\\\\n",
       "\tnet &  0.29835965 &  1.00000000 &  0.85669164 &  0.85669164 & -0.4889831 & -0.09021785 &  0.7755443 &  0.4578519\\\\\n",
       "\tupRegulationZeroCoded &  0.29659189 &  0.85669164 &  1.00000000 &  1.00000000 & -0.3159579 &  0.08737429 &  0.7806285 &  0.2285606\\\\\n",
       "\tupRegulationZeroCoded &  0.29659189 &  0.85669164 &  1.00000000 &  1.00000000 & -0.3159579 &  0.08737429 &  0.7806285 &  0.2285606\\\\\n",
       "\tdownRegulationZeroCoded & -0.18731248 & -0.48898306 & -0.31595787 & -0.31595787 &  1.0000000 &  0.14530119 &  0.1031989 & -0.9032670\\\\\n",
       "\tdownRegulationOneCoded & -0.02852635 & -0.09021785 &  0.08737429 &  0.08737429 &  0.1453012 &  1.00000000 &  0.2803687 & -0.5346734\\\\\n",
       "\tupRegulationDelivered &  0.21444338 &  0.77554426 &  0.78062845 &  0.78062845 &  0.1031989 &  0.28036866 &  1.0000000 & -0.2061532\\\\\n",
       "\tdownRegulationDelivered &  0.16047144 &  0.45785189 &  0.22856058 &  0.22856058 & -0.9032670 & -0.53467338 & -0.2061532 &  1.0000000\\\\\n",
       "\\end{tabular}\n"
      ],
      "text/markdown": [
       "\n",
       "A matrix: 8 × 8 of type dbl\n",
       "\n",
       "| <!--/--> | Capacity | net | upRegulationZeroCoded | upRegulationZeroCoded | downRegulationZeroCoded | downRegulationOneCoded | upRegulationDelivered | downRegulationDelivered |\n",
       "|---|---|---|---|---|---|---|---|---|\n",
       "| Capacity |  1.00000000 |  0.29835965 |  0.29659189 |  0.29659189 | -0.1873125 | -0.02852635 |  0.2144434 |  0.1604714 |\n",
       "| net |  0.29835965 |  1.00000000 |  0.85669164 |  0.85669164 | -0.4889831 | -0.09021785 |  0.7755443 |  0.4578519 |\n",
       "| upRegulationZeroCoded |  0.29659189 |  0.85669164 |  1.00000000 |  1.00000000 | -0.3159579 |  0.08737429 |  0.7806285 |  0.2285606 |\n",
       "| upRegulationZeroCoded |  0.29659189 |  0.85669164 |  1.00000000 |  1.00000000 | -0.3159579 |  0.08737429 |  0.7806285 |  0.2285606 |\n",
       "| downRegulationZeroCoded | -0.18731248 | -0.48898306 | -0.31595787 | -0.31595787 |  1.0000000 |  0.14530119 |  0.1031989 | -0.9032670 |\n",
       "| downRegulationOneCoded | -0.02852635 | -0.09021785 |  0.08737429 |  0.08737429 |  0.1453012 |  1.00000000 |  0.2803687 | -0.5346734 |\n",
       "| upRegulationDelivered |  0.21444338 |  0.77554426 |  0.78062845 |  0.78062845 |  0.1031989 |  0.28036866 |  1.0000000 | -0.2061532 |\n",
       "| downRegulationDelivered |  0.16047144 |  0.45785189 |  0.22856058 |  0.22856058 | -0.9032670 | -0.53467338 | -0.2061532 |  1.0000000 |\n",
       "\n"
      ],
      "text/plain": [
       "                        Capacity    net         upRegulationZeroCoded\n",
       "Capacity                 1.00000000  0.29835965  0.29659189          \n",
       "net                      0.29835965  1.00000000  0.85669164          \n",
       "upRegulationZeroCoded    0.29659189  0.85669164  1.00000000          \n",
       "upRegulationZeroCoded    0.29659189  0.85669164  1.00000000          \n",
       "downRegulationZeroCoded -0.18731248 -0.48898306 -0.31595787          \n",
       "downRegulationOneCoded  -0.02852635 -0.09021785  0.08737429          \n",
       "upRegulationDelivered    0.21444338  0.77554426  0.78062845          \n",
       "downRegulationDelivered  0.16047144  0.45785189  0.22856058          \n",
       "                        upRegulationZeroCoded downRegulationZeroCoded\n",
       "Capacity                 0.29659189           -0.1873125             \n",
       "net                      0.85669164           -0.4889831             \n",
       "upRegulationZeroCoded    1.00000000           -0.3159579             \n",
       "upRegulationZeroCoded    1.00000000           -0.3159579             \n",
       "downRegulationZeroCoded -0.31595787            1.0000000             \n",
       "downRegulationOneCoded   0.08737429            0.1453012             \n",
       "upRegulationDelivered    0.78062845            0.1031989             \n",
       "downRegulationDelivered  0.22856058           -0.9032670             \n",
       "                        downRegulationOneCoded upRegulationDelivered\n",
       "Capacity                -0.02852635             0.2144434           \n",
       "net                     -0.09021785             0.7755443           \n",
       "upRegulationZeroCoded    0.08737429             0.7806285           \n",
       "upRegulationZeroCoded    0.08737429             0.7806285           \n",
       "downRegulationZeroCoded  0.14530119             0.1031989           \n",
       "downRegulationOneCoded   1.00000000             0.2803687           \n",
       "upRegulationDelivered    0.28036866             1.0000000           \n",
       "downRegulationDelivered -0.53467338            -0.2061532           \n",
       "                        downRegulationDelivered\n",
       "Capacity                 0.1604714             \n",
       "net                      0.4578519             \n",
       "upRegulationZeroCoded    0.2285606             \n",
       "upRegulationZeroCoded    0.2285606             \n",
       "downRegulationZeroCoded -0.9032670             \n",
       "downRegulationOneCoded  -0.5346734             \n",
       "upRegulationDelivered   -0.2061532             \n",
       "downRegulationDelivered  1.0000000             "
      ]
     },
     "metadata": {},
     "output_type": "display_data"
    }
   ],
   "source": [
    "correlation2 <- cor(combined[,list(Capacity,net,upRegulationZeroCoded,upRegulationZeroCoded,downRegulationZeroCoded,downRegulationOneCoded,upRegulationDelivered,downRegulationDelivered)])\n",
    "correlation2"
   ]
  },
  {
   "cell_type": "code",
   "execution_count": 144,
   "id": "3a2c9e1e",
   "metadata": {},
   "outputs": [
    {
     "data": {
      "image/png": "[encoded data removed]",
      "text/plain": [
       "Plot with title \"\""
      ]
     },
     "metadata": {
      "image/png": {
       "height": 420,
       "width": 420
      }
     },
     "output_type": "display_data"
    }
   ],
   "source": [
    "require(corrplot)\n",
    "\n",
    "corrplot(correlation2, type = \"upper\", order = \"hclust\", \n",
    "         tl.col = \"black\", tl.srt = 45)"
   ]
  },
  {
   "cell_type": "markdown",
   "id": "e1d602ba",
   "metadata": {},
   "source": [
    "We can see that there is no significant correlation within bulk_imbalance data."
   ]
  }
 ],
 "metadata": {
  "kernelspec": {
   "display_name": "R",
   "language": "R",
   "name": "ir"
  },
  "language_info": {
   "codemirror_mode": "r",
   "file_extension": ".r",
   "mimetype": "text/x-r-source",
   "name": "R",
   "pygments_lexer": "r",
   "version": "3.6.1"
  }
 },
 "nbformat": 4,
 "nbformat_minor": 5
}
