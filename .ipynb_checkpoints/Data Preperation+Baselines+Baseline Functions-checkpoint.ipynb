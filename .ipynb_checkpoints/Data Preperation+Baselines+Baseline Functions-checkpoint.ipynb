{
 "cells": [
  {
   "cell_type": "code",
   "execution_count": 1,
   "id": "119a79e3",
   "metadata": {},
   "outputs": [
    {
     "name": "stderr",
     "output_type": "stream",
     "text": [
      "Loading required package: data.table\n",
      "\n",
      "Warning message:\n",
      "\"package 'data.table' was built under R version 4.0.5\"\n",
      "Loading required package: tidyverse\n",
      "\n",
      "Warning message:\n",
      "\"package 'tidyverse' was built under R version 4.0.5\"\n",
      "-- \u001b[1mAttaching packages\u001b[22m ------------------------------------------------------------------------------- tidyverse 1.3.1 --\n",
      "\n",
      "\u001b[32mv\u001b[39m \u001b[34mggplot2\u001b[39m 3.3.3     \u001b[32mv\u001b[39m \u001b[34mpurrr  \u001b[39m 0.3.4\n",
      "\u001b[32mv\u001b[39m \u001b[34mtibble \u001b[39m 3.1.2     \u001b[32mv\u001b[39m \u001b[34mdplyr  \u001b[39m 1.0.5\n",
      "\u001b[32mv\u001b[39m \u001b[34mtidyr  \u001b[39m 1.1.3     \u001b[32mv\u001b[39m \u001b[34mstringr\u001b[39m 1.4.0\n",
      "\u001b[32mv\u001b[39m \u001b[34mreadr  \u001b[39m 1.4.0     \u001b[32mv\u001b[39m \u001b[34mforcats\u001b[39m 0.5.1\n",
      "\n",
      "Warning message:\n",
      "\"package 'ggplot2' was built under R version 4.0.5\"\n",
      "Warning message:\n",
      "\"package 'tibble' was built under R version 4.0.5\"\n",
      "Warning message:\n",
      "\"package 'tidyr' was built under R version 4.0.5\"\n",
      "Warning message:\n",
      "\"package 'readr' was built under R version 4.0.5\"\n",
      "Warning message:\n",
      "\"package 'purrr' was built under R version 4.0.5\"\n",
      "Warning message:\n",
      "\"package 'dplyr' was built under R version 4.0.5\"\n",
      "Warning message:\n",
      "\"package 'stringr' was built under R version 4.0.5\"\n",
      "Warning message:\n",
      "\"package 'forcats' was built under R version 4.0.5\"\n",
      "-- \u001b[1mConflicts\u001b[22m ---------------------------------------------------------------------------------- tidyverse_conflicts() --\n",
      "\u001b[31mx\u001b[39m \u001b[34mdplyr\u001b[39m::\u001b[32mbetween()\u001b[39m   masks \u001b[34mdata.table\u001b[39m::between()\n",
      "\u001b[31mx\u001b[39m \u001b[34mdplyr\u001b[39m::\u001b[32mfilter()\u001b[39m    masks \u001b[34mstats\u001b[39m::filter()\n",
      "\u001b[31mx\u001b[39m \u001b[34mdplyr\u001b[39m::\u001b[32mfirst()\u001b[39m     masks \u001b[34mdata.table\u001b[39m::first()\n",
      "\u001b[31mx\u001b[39m \u001b[34mdplyr\u001b[39m::\u001b[32mlag()\u001b[39m       masks \u001b[34mstats\u001b[39m::lag()\n",
      "\u001b[31mx\u001b[39m \u001b[34mdplyr\u001b[39m::\u001b[32mlast()\u001b[39m      masks \u001b[34mdata.table\u001b[39m::last()\n",
      "\u001b[31mx\u001b[39m \u001b[34mpurrr\u001b[39m::\u001b[32mtranspose()\u001b[39m masks \u001b[34mdata.table\u001b[39m::transpose()\n",
      "\n",
      "Loading required package: lubridate\n",
      "\n",
      "Warning message:\n",
      "\"package 'lubridate' was built under R version 4.0.5\"\n",
      "\n",
      "Attaching package: 'lubridate'\n",
      "\n",
      "\n",
      "The following objects are masked from 'package:data.table':\n",
      "\n",
      "    hour, isoweek, mday, minute, month, quarter, second, wday, week,\n",
      "    yday, year\n",
      "\n",
      "\n",
      "The following objects are masked from 'package:base':\n",
      "\n",
      "    date, intersect, setdiff, union\n",
      "\n",
      "\n"
     ]
    }
   ],
   "source": [
    "require(data.table)\n",
    "require(tidyverse)\n",
    "require(lubridate)\n",
    "require(ggplot2)"
   ]
  },
  {
   "cell_type": "code",
   "execution_count": 2,
   "id": "eb0b1b56",
   "metadata": {},
   "outputs": [
    {
     "name": "stderr",
     "output_type": "stream",
     "text": [
      "Warning message in strptime(date, \"%d/%m/%Y\"):\n",
      "\"strptime() usage detected and wrapped with as.POSIXct(). This is to minimize the chance of assigning POSIXlt columns, which use 40+ bytes to store one date (versus 8 for POSIXct). Use as.POSIXct() (which will call strptime() as needed internally) to avoid this warning.\"\n",
      "Warning message in strptime(date, \"%d/%m/%Y\"):\n",
      "\"strptime() usage detected and wrapped with as.POSIXct(). This is to minimize the chance of assigning POSIXlt columns, which use 40+ bytes to store one date (versus 8 for POSIXct). Use as.POSIXct() (which will call strptime() as needed internally) to avoid this warning.\"\n"
     ]
    },
    {
     "data": {
      "text/html": [
       "<table class=\"dataframe\">\n",
       "<caption>A data.table: 6 × 13</caption>\n",
       "<thead>\n",
       "\t<tr><th scope=col>date</th><th scope=col>hour</th><th scope=col>yat_one</th><th scope=col>yat_two</th><th scope=col>yat_three</th><th scope=col>yal_one</th><th scope=col>yal_two</th><th scope=col>yal_three</th><th scope=col>SumYat</th><th scope=col>SumYal</th><th scope=col>Imbalance</th><th scope=col>Label</th><th scope=col>ID</th></tr>\n",
       "\t<tr><th scope=col>&lt;date&gt;</th><th scope=col>&lt;int&gt;</th><th scope=col>&lt;dbl&gt;</th><th scope=col>&lt;dbl&gt;</th><th scope=col>&lt;dbl&gt;</th><th scope=col>&lt;dbl&gt;</th><th scope=col>&lt;dbl&gt;</th><th scope=col>&lt;dbl&gt;</th><th scope=col>&lt;dbl&gt;</th><th scope=col>&lt;dbl&gt;</th><th scope=col>&lt;dbl&gt;</th><th scope=col>&lt;dbl&gt;</th><th scope=col>&lt;int&gt;</th></tr>\n",
       "</thead>\n",
       "<tbody>\n",
       "\t<tr><td>2019-01-01</td><td>0</td><td>2288.57</td><td> 0</td><td>0</td><td>0</td><td>0</td><td>0</td><td>2288.57</td><td>0</td><td>2288.57</td><td>1</td><td>1</td></tr>\n",
       "\t<tr><td>2019-01-01</td><td>1</td><td> 808.08</td><td> 0</td><td>0</td><td>0</td><td>0</td><td>0</td><td> 808.08</td><td>0</td><td> 808.08</td><td>1</td><td>2</td></tr>\n",
       "\t<tr><td>2019-01-01</td><td>2</td><td>1060.75</td><td> 0</td><td>0</td><td>0</td><td>0</td><td>0</td><td>1060.75</td><td>0</td><td>1060.75</td><td>1</td><td>3</td></tr>\n",
       "\t<tr><td>2019-01-01</td><td>3</td><td>1120.48</td><td> 0</td><td>0</td><td>0</td><td>0</td><td>0</td><td>1120.48</td><td>0</td><td>1120.48</td><td>1</td><td>4</td></tr>\n",
       "\t<tr><td>2019-01-01</td><td>4</td><td>1874.63</td><td>56</td><td>0</td><td>0</td><td>0</td><td>0</td><td>1930.63</td><td>0</td><td>1930.63</td><td>1</td><td>5</td></tr>\n",
       "\t<tr><td>2019-01-01</td><td>5</td><td>2125.00</td><td>56</td><td>0</td><td>0</td><td>0</td><td>0</td><td>2181.00</td><td>0</td><td>2181.00</td><td>1</td><td>6</td></tr>\n",
       "</tbody>\n",
       "</table>\n"
      ],
      "text/latex": [
       "A data.table: 6 × 13\n",
       "\\begin{tabular}{lllllllllllll}\n",
       " date & hour & yat\\_one & yat\\_two & yat\\_three & yal\\_one & yal\\_two & yal\\_three & SumYat & SumYal & Imbalance & Label & ID\\\\\n",
       " <date> & <int> & <dbl> & <dbl> & <dbl> & <dbl> & <dbl> & <dbl> & <dbl> & <dbl> & <dbl> & <dbl> & <int>\\\\\n",
       "\\hline\n",
       "\t 2019-01-01 & 0 & 2288.57 &  0 & 0 & 0 & 0 & 0 & 2288.57 & 0 & 2288.57 & 1 & 1\\\\\n",
       "\t 2019-01-01 & 1 &  808.08 &  0 & 0 & 0 & 0 & 0 &  808.08 & 0 &  808.08 & 1 & 2\\\\\n",
       "\t 2019-01-01 & 2 & 1060.75 &  0 & 0 & 0 & 0 & 0 & 1060.75 & 0 & 1060.75 & 1 & 3\\\\\n",
       "\t 2019-01-01 & 3 & 1120.48 &  0 & 0 & 0 & 0 & 0 & 1120.48 & 0 & 1120.48 & 1 & 4\\\\\n",
       "\t 2019-01-01 & 4 & 1874.63 & 56 & 0 & 0 & 0 & 0 & 1930.63 & 0 & 1930.63 & 1 & 5\\\\\n",
       "\t 2019-01-01 & 5 & 2125.00 & 56 & 0 & 0 & 0 & 0 & 2181.00 & 0 & 2181.00 & 1 & 6\\\\\n",
       "\\end{tabular}\n"
      ],
      "text/markdown": [
       "\n",
       "A data.table: 6 × 13\n",
       "\n",
       "| date &lt;date&gt; | hour &lt;int&gt; | yat_one &lt;dbl&gt; | yat_two &lt;dbl&gt; | yat_three &lt;dbl&gt; | yal_one &lt;dbl&gt; | yal_two &lt;dbl&gt; | yal_three &lt;dbl&gt; | SumYat &lt;dbl&gt; | SumYal &lt;dbl&gt; | Imbalance &lt;dbl&gt; | Label &lt;dbl&gt; | ID &lt;int&gt; |\n",
       "|---|---|---|---|---|---|---|---|---|---|---|---|---|\n",
       "| 2019-01-01 | 0 | 2288.57 |  0 | 0 | 0 | 0 | 0 | 2288.57 | 0 | 2288.57 | 1 | 1 |\n",
       "| 2019-01-01 | 1 |  808.08 |  0 | 0 | 0 | 0 | 0 |  808.08 | 0 |  808.08 | 1 | 2 |\n",
       "| 2019-01-01 | 2 | 1060.75 |  0 | 0 | 0 | 0 | 0 | 1060.75 | 0 | 1060.75 | 1 | 3 |\n",
       "| 2019-01-01 | 3 | 1120.48 |  0 | 0 | 0 | 0 | 0 | 1120.48 | 0 | 1120.48 | 1 | 4 |\n",
       "| 2019-01-01 | 4 | 1874.63 | 56 | 0 | 0 | 0 | 0 | 1930.63 | 0 | 1930.63 | 1 | 5 |\n",
       "| 2019-01-01 | 5 | 2125.00 | 56 | 0 | 0 | 0 | 0 | 2181.00 | 0 | 2181.00 | 1 | 6 |\n",
       "\n"
      ],
      "text/plain": [
       "  date       hour yat_one yat_two yat_three yal_one yal_two yal_three SumYat \n",
       "1 2019-01-01 0    2288.57  0      0         0       0       0         2288.57\n",
       "2 2019-01-01 1     808.08  0      0         0       0       0          808.08\n",
       "3 2019-01-01 2    1060.75  0      0         0       0       0         1060.75\n",
       "4 2019-01-01 3    1120.48  0      0         0       0       0         1120.48\n",
       "5 2019-01-01 4    1874.63 56      0         0       0       0         1930.63\n",
       "6 2019-01-01 5    2125.00 56      0         0       0       0         2181.00\n",
       "  SumYal Imbalance Label ID\n",
       "1 0      2288.57   1     1 \n",
       "2 0       808.08   1     2 \n",
       "3 0      1060.75   1     3 \n",
       "4 0      1120.48   1     4 \n",
       "5 0      1930.63   1     5 \n",
       "6 0      2181.00   1     6 "
      ]
     },
     "metadata": {},
     "output_type": "display_data"
    },
    {
     "name": "stdout",
     "output_type": "stream",
     "text": [
      "Classes 'data.table' and 'data.frame':\t25800 obs. of  13 variables:\n",
      " $ date     : Date, format: \"2019-01-01\" \"2019-01-01\" ...\n",
      " $ hour     : int  0 1 2 3 4 5 6 7 8 9 ...\n",
      " $ yat_one  : num  2289 808 1061 1120 1875 ...\n",
      " $ yat_two  : num  0 0 0 0 56 56 0 0 0 0 ...\n",
      " $ yat_three: num  0 0 0 0 0 0 0 0 0 0 ...\n",
      " $ yal_one  : num  0 0 0 0 0 0 0 0 0 0 ...\n",
      " $ yal_two  : num  0 0 0 0 0 0 0 0 0 0 ...\n",
      " $ yal_three: num  0 0 0 0 0 0 0 0 0 0 ...\n",
      " $ SumYat   : num  2289 808 1061 1120 1931 ...\n",
      " $ SumYal   : num  0 0 0 0 0 0 0 0 0 0 ...\n",
      " $ Imbalance: num  2289 808 1061 1120 1931 ...\n",
      " $ Label    : num  1 1 1 1 1 1 1 1 1 1 ...\n",
      " $ ID       : int  1 2 3 4 5 6 7 8 9 10 ...\n",
      " - attr(*, \".internal.selfref\")=<externalptr> \n",
      " - attr(*, \"sorted\")= chr [1:2] \"date\" \"hour\"\n"
     ]
    }
   ],
   "source": [
    "setwd(\"C:/Users/brkmb/Desktop/kitaplar/IE48B/project files\")\n",
    "dat=fread('YAT-01012019-10122021.csv')\n",
    "\n",
    "setnames(dat,names(dat),c('date','hour','yat_one','yat_two','yat_three'))\n",
    "dat[,datex:=strptime(date,'%d/%m/%Y')]\n",
    "\n",
    "dat[,tst:=ymd_hm(paste(datex,hour))]\n",
    "dat[,date:=date(tst)]\n",
    "dat[,hour:=hour(tst)]\n",
    "\n",
    "dat[,yat_one_t:=gsub('\\\\.','',yat_one)]\n",
    "dat[,yat_two_t:=gsub('\\\\.','',yat_two)]\n",
    "dat[,yat_three_t:=gsub('\\\\.','',yat_three)]\n",
    "\n",
    "\n",
    "dat[,yat_one:=as.numeric(gsub(',','.',yat_one_t))]\n",
    "dat[,yat_two:=as.numeric(gsub(',','.',yat_two_t))]\n",
    "dat[,yat_three:=as.numeric(gsub(',','.',yat_three_t))]\n",
    "\n",
    "yat_dat=dat[,list(date,hour,yat_one,yat_two,yat_three)]\n",
    "\n",
    "yat_dat=dat[,list(date,hour,yat_one,yat_two,yat_three)]\n",
    "\n",
    "\n",
    "dat=fread('YAL-01012019-10122021.csv')\n",
    "\n",
    "# naming is temporary here, used the same set of codes\n",
    "setnames(dat,names(dat),c('date','hour','yat_one','yat_two','yat_three'))\n",
    "dat[,datex:=strptime(date,'%d/%m/%Y')]\n",
    "\n",
    "dat[,tst:=ymd_hm(paste(datex,hour))]\n",
    "dat[,date:=date(tst)]\n",
    "dat[,hour:=hour(tst)]\n",
    "\n",
    "dat[,yat_one_t:=gsub('\\\\.','',yat_one)]\n",
    "dat[,yat_two_t:=gsub('\\\\.','',yat_two)]\n",
    "dat[,yat_three_t:=gsub('\\\\.','',yat_three)]\n",
    "\n",
    "\n",
    "dat[,yal_one:=as.numeric(gsub(',','.',yat_one_t))]\n",
    "dat[,yal_two:=as.numeric(gsub(',','.',yat_two_t))]\n",
    "dat[,yal_three:=as.numeric(gsub(',','.',yat_three_t))]\n",
    "\n",
    "\n",
    "yal_dat=dat[,list(date,hour,yal_one,yal_two,yal_three)]\n",
    "\n",
    "data = merge(yat_dat, yal_dat, by = c(\"date\",\"hour\"))\n",
    "\n",
    "data[, SumYat := yat_one + yat_two + yat_three]\n",
    "data[, SumYal := yal_one + yal_two + yal_three]\n",
    "data[, Imbalance := SumYat - SumYal]\n",
    "data[, Label := ifelse(Imbalance <= 50 & Imbalance >= -50, 0, sign(Imbalance))]\n",
    "data = data[order(date, hour)]\n",
    "data[, ID := 1:.N]\n",
    "head(data)\n",
    "str(data)"
   ]
  },
  {
   "cell_type": "code",
   "execution_count": 16,
   "id": "2bd96e74",
   "metadata": {},
   "outputs": [
    {
     "data": {
      "text/html": [
       "<table class=\"dataframe\">\n",
       "<caption>A data.table: 6 × 15</caption>\n",
       "<thead>\n",
       "\t<tr><th scope=col>date</th><th scope=col>hour</th><th scope=col>yat_one</th><th scope=col>yat_two</th><th scope=col>yat_three</th><th scope=col>yal_one</th><th scope=col>yal_two</th><th scope=col>yal_three</th><th scope=col>SumYat</th><th scope=col>SumYal</th><th scope=col>Imbalance</th><th scope=col>Label</th><th scope=col>ID</th><th scope=col>b1_label</th><th scope=col>b2_label</th></tr>\n",
       "\t<tr><th scope=col>&lt;date&gt;</th><th scope=col>&lt;int&gt;</th><th scope=col>&lt;dbl&gt;</th><th scope=col>&lt;dbl&gt;</th><th scope=col>&lt;dbl&gt;</th><th scope=col>&lt;dbl&gt;</th><th scope=col>&lt;dbl&gt;</th><th scope=col>&lt;dbl&gt;</th><th scope=col>&lt;dbl&gt;</th><th scope=col>&lt;dbl&gt;</th><th scope=col>&lt;dbl&gt;</th><th scope=col>&lt;dbl&gt;</th><th scope=col>&lt;int&gt;</th><th scope=col>&lt;dbl&gt;</th><th scope=col>&lt;dbl&gt;</th></tr>\n",
       "</thead>\n",
       "<tbody>\n",
       "\t<tr><td>2019-01-01</td><td>0</td><td>2288.57</td><td> 0</td><td>0</td><td>0</td><td>0</td><td>0</td><td>2288.57</td><td>0</td><td>2288.57</td><td>1</td><td>1</td><td>NA</td><td>NA</td></tr>\n",
       "\t<tr><td>2019-01-01</td><td>1</td><td> 808.08</td><td> 0</td><td>0</td><td>0</td><td>0</td><td>0</td><td> 808.08</td><td>0</td><td> 808.08</td><td>1</td><td>2</td><td>NA</td><td>NA</td></tr>\n",
       "\t<tr><td>2019-01-01</td><td>2</td><td>1060.75</td><td> 0</td><td>0</td><td>0</td><td>0</td><td>0</td><td>1060.75</td><td>0</td><td>1060.75</td><td>1</td><td>3</td><td>NA</td><td>NA</td></tr>\n",
       "\t<tr><td>2019-01-01</td><td>3</td><td>1120.48</td><td> 0</td><td>0</td><td>0</td><td>0</td><td>0</td><td>1120.48</td><td>0</td><td>1120.48</td><td>1</td><td>4</td><td>NA</td><td>NA</td></tr>\n",
       "\t<tr><td>2019-01-01</td><td>4</td><td>1874.63</td><td>56</td><td>0</td><td>0</td><td>0</td><td>0</td><td>1930.63</td><td>0</td><td>1930.63</td><td>1</td><td>5</td><td>NA</td><td>NA</td></tr>\n",
       "\t<tr><td>2019-01-01</td><td>5</td><td>2125.00</td><td>56</td><td>0</td><td>0</td><td>0</td><td>0</td><td>2181.00</td><td>0</td><td>2181.00</td><td>1</td><td>6</td><td>NA</td><td>NA</td></tr>\n",
       "</tbody>\n",
       "</table>\n"
      ],
      "text/latex": [
       "A data.table: 6 × 15\n",
       "\\begin{tabular}{lllllllllllllll}\n",
       " date & hour & yat\\_one & yat\\_two & yat\\_three & yal\\_one & yal\\_two & yal\\_three & SumYat & SumYal & Imbalance & Label & ID & b1\\_label & b2\\_label\\\\\n",
       " <date> & <int> & <dbl> & <dbl> & <dbl> & <dbl> & <dbl> & <dbl> & <dbl> & <dbl> & <dbl> & <dbl> & <int> & <dbl> & <dbl>\\\\\n",
       "\\hline\n",
       "\t 2019-01-01 & 0 & 2288.57 &  0 & 0 & 0 & 0 & 0 & 2288.57 & 0 & 2288.57 & 1 & 1 & NA & NA\\\\\n",
       "\t 2019-01-01 & 1 &  808.08 &  0 & 0 & 0 & 0 & 0 &  808.08 & 0 &  808.08 & 1 & 2 & NA & NA\\\\\n",
       "\t 2019-01-01 & 2 & 1060.75 &  0 & 0 & 0 & 0 & 0 & 1060.75 & 0 & 1060.75 & 1 & 3 & NA & NA\\\\\n",
       "\t 2019-01-01 & 3 & 1120.48 &  0 & 0 & 0 & 0 & 0 & 1120.48 & 0 & 1120.48 & 1 & 4 & NA & NA\\\\\n",
       "\t 2019-01-01 & 4 & 1874.63 & 56 & 0 & 0 & 0 & 0 & 1930.63 & 0 & 1930.63 & 1 & 5 & NA & NA\\\\\n",
       "\t 2019-01-01 & 5 & 2125.00 & 56 & 0 & 0 & 0 & 0 & 2181.00 & 0 & 2181.00 & 1 & 6 & NA & NA\\\\\n",
       "\\end{tabular}\n"
      ],
      "text/markdown": [
       "\n",
       "A data.table: 6 × 15\n",
       "\n",
       "| date &lt;date&gt; | hour &lt;int&gt; | yat_one &lt;dbl&gt; | yat_two &lt;dbl&gt; | yat_three &lt;dbl&gt; | yal_one &lt;dbl&gt; | yal_two &lt;dbl&gt; | yal_three &lt;dbl&gt; | SumYat &lt;dbl&gt; | SumYal &lt;dbl&gt; | Imbalance &lt;dbl&gt; | Label &lt;dbl&gt; | ID &lt;int&gt; | b1_label &lt;dbl&gt; | b2_label &lt;dbl&gt; |\n",
       "|---|---|---|---|---|---|---|---|---|---|---|---|---|---|---|\n",
       "| 2019-01-01 | 0 | 2288.57 |  0 | 0 | 0 | 0 | 0 | 2288.57 | 0 | 2288.57 | 1 | 1 | NA | NA |\n",
       "| 2019-01-01 | 1 |  808.08 |  0 | 0 | 0 | 0 | 0 |  808.08 | 0 |  808.08 | 1 | 2 | NA | NA |\n",
       "| 2019-01-01 | 2 | 1060.75 |  0 | 0 | 0 | 0 | 0 | 1060.75 | 0 | 1060.75 | 1 | 3 | NA | NA |\n",
       "| 2019-01-01 | 3 | 1120.48 |  0 | 0 | 0 | 0 | 0 | 1120.48 | 0 | 1120.48 | 1 | 4 | NA | NA |\n",
       "| 2019-01-01 | 4 | 1874.63 | 56 | 0 | 0 | 0 | 0 | 1930.63 | 0 | 1930.63 | 1 | 5 | NA | NA |\n",
       "| 2019-01-01 | 5 | 2125.00 | 56 | 0 | 0 | 0 | 0 | 2181.00 | 0 | 2181.00 | 1 | 6 | NA | NA |\n",
       "\n"
      ],
      "text/plain": [
       "  date       hour yat_one yat_two yat_three yal_one yal_two yal_three SumYat \n",
       "1 2019-01-01 0    2288.57  0      0         0       0       0         2288.57\n",
       "2 2019-01-01 1     808.08  0      0         0       0       0          808.08\n",
       "3 2019-01-01 2    1060.75  0      0         0       0       0         1060.75\n",
       "4 2019-01-01 3    1120.48  0      0         0       0       0         1120.48\n",
       "5 2019-01-01 4    1874.63 56      0         0       0       0         1930.63\n",
       "6 2019-01-01 5    2125.00 56      0         0       0       0         2181.00\n",
       "  SumYal Imbalance Label ID b1_label b2_label\n",
       "1 0      2288.57   1     1  NA       NA      \n",
       "2 0       808.08   1     2  NA       NA      \n",
       "3 0      1060.75   1     3  NA       NA      \n",
       "4 0      1120.48   1     4  NA       NA      \n",
       "5 0      1930.63   1     5  NA       NA      \n",
       "6 0      2181.00   1     6  NA       NA      "
      ]
     },
     "metadata": {},
     "output_type": "display_data"
    }
   ],
   "source": [
    "head(b1data)"
   ]
  },
  {
   "cell_type": "markdown",
   "id": "63194e93",
   "metadata": {},
   "source": [
    "## Baseline Methods"
   ]
  },
  {
   "cell_type": "markdown",
   "id": "607f30f2",
   "metadata": {},
   "source": [
    "#### Data prep"
   ]
  },
  {
   "cell_type": "code",
   "execution_count": 58,
   "id": "3a33a3e2",
   "metadata": {},
   "outputs": [
    {
     "name": "stderr",
     "output_type": "stream",
     "text": [
      "Warning message in melt.data.table(b1datawide, id.vars = \"date\"):\n",
      "\"'measure.vars' [0, 1, 2, 3, ...] are not all of the same type. By order of hierarchy, the molten data value column will be of type 'character'. All measure variables not of type 'character' will be coerced too. Check DETAILS in ?melt.data.table for more on coercion.\"\n"
     ]
    }
   ],
   "source": [
    "#b1datawide <- dcast(melt(b1datawide, id.vars = \"date\"), variable ~ date)"
   ]
  },
  {
   "cell_type": "code",
   "execution_count": 8,
   "id": "4012ab9f",
   "metadata": {},
   "outputs": [],
   "source": [
    "b1data =  data[,b1_label := lag(Label,24)]"
   ]
  },
  {
   "cell_type": "code",
   "execution_count": 11,
   "id": "ce070ff1",
   "metadata": {},
   "outputs": [],
   "source": [
    "b1data = data[,b2_label := lag(Label,168)]"
   ]
  },
  {
   "cell_type": "markdown",
   "id": "8f43ba39",
   "metadata": {},
   "source": [
    "### Baseline 1"
   ]
  },
  {
   "cell_type": "code",
   "execution_count": 95,
   "id": "b316c2a7",
   "metadata": {},
   "outputs": [],
   "source": [
    "day_baseline <- data$b1_label\n",
    "week_baseline <- data$b2_label\n",
    "\n"
   ]
  },
  {
   "cell_type": "code",
   "execution_count": 96,
   "id": "0fba9502",
   "metadata": {},
   "outputs": [
    {
     "data": {
      "text/plain": [
       "    \n",
       "       -1    0    1\n",
       "  -1 9382 1129 3853\n",
       "  0  1105  284  796\n",
       "  1  3858  772 4597"
      ]
     },
     "metadata": {},
     "output_type": "display_data"
    },
    {
     "data": {
      "text/html": [
       "0.553344196151459"
      ],
      "text/latex": [
       "0.553344196151459"
      ],
      "text/markdown": [
       "0.553344196151459"
      ],
      "text/plain": [
       "[1] 0.5533442"
      ]
     },
     "metadata": {},
     "output_type": "display_data"
    },
    {
     "data": {
      "text/html": [
       "25776"
      ],
      "text/latex": [
       "25776"
      ],
      "text/markdown": [
       "25776"
      ],
      "text/plain": [
       "[1] 25776"
      ]
     },
     "metadata": {},
     "output_type": "display_data"
    }
   ],
   "source": [
    "d <- table(data$Label,data$b1_label)\n",
    "d\n",
    "sum(diag(d))/sum(d)\n",
    "sum(d)"
   ]
  },
  {
   "cell_type": "code",
   "execution_count": 97,
   "id": "fcc90368",
   "metadata": {},
   "outputs": [
    {
     "data": {
      "text/plain": [
       "    \n",
       "       -1    0    1\n",
       "  -1 8603 1121 4605\n",
       "  0  1089  253  836\n",
       "  1  4552  800 3773"
      ]
     },
     "metadata": {},
     "output_type": "display_data"
    },
    {
     "data": {
      "text/html": [
       "0.49270443196005"
      ],
      "text/latex": [
       "0.49270443196005"
      ],
      "text/markdown": [
       "0.49270443196005"
      ],
      "text/plain": [
       "[1] 0.4927044"
      ]
     },
     "metadata": {},
     "output_type": "display_data"
    }
   ],
   "source": [
    "d <- table(data$Label,data$b2_label)\n",
    "d\n",
    "sum(diag(d))/sum(d)"
   ]
  },
  {
   "cell_type": "markdown",
   "id": "ff8777bf",
   "metadata": {},
   "source": [
    "### Baseline Ends"
   ]
  },
  {
   "cell_type": "code",
   "execution_count": 23,
   "id": "36a841b4",
   "metadata": {},
   "outputs": [],
   "source": [
    "LongtoWide <- function(datatable, targetvalue){\n",
    "    new <- data.table()\n",
    "    for(i in seq(1:length(targetvalue))){\n",
    "        temp <- dcast(datatable, date ~ hour, value.var = targetvalue[i])\n",
    "        temp[,Type := targetvalue[i]]\n",
    "        #print(head(new))\n",
    "        new <- rbind(new,temp)\n",
    "    }\n",
    "    return(new)\n",
    "}"
   ]
  },
  {
   "cell_type": "code",
   "execution_count": 33,
   "id": "cd0c8ea6",
   "metadata": {
    "scrolled": true,
    "tags": []
   },
   "outputs": [
    {
     "data": {
      "text/html": [
       "<table class=\"dataframe\">\n",
       "<caption>A data.table: 1075 × 26</caption>\n",
       "<thead>\n",
       "\t<tr><th scope=col>date</th><th scope=col>0</th><th scope=col>1</th><th scope=col>2</th><th scope=col>3</th><th scope=col>4</th><th scope=col>5</th><th scope=col>6</th><th scope=col>7</th><th scope=col>8</th><th scope=col>...</th><th scope=col>15</th><th scope=col>16</th><th scope=col>17</th><th scope=col>18</th><th scope=col>19</th><th scope=col>20</th><th scope=col>21</th><th scope=col>22</th><th scope=col>23</th><th scope=col>Type</th></tr>\n",
       "\t<tr><th scope=col>&lt;date&gt;</th><th scope=col>&lt;dbl&gt;</th><th scope=col>&lt;dbl&gt;</th><th scope=col>&lt;dbl&gt;</th><th scope=col>&lt;dbl&gt;</th><th scope=col>&lt;dbl&gt;</th><th scope=col>&lt;dbl&gt;</th><th scope=col>&lt;dbl&gt;</th><th scope=col>&lt;dbl&gt;</th><th scope=col>&lt;dbl&gt;</th><th scope=col>...</th><th scope=col>&lt;dbl&gt;</th><th scope=col>&lt;dbl&gt;</th><th scope=col>&lt;dbl&gt;</th><th scope=col>&lt;dbl&gt;</th><th scope=col>&lt;dbl&gt;</th><th scope=col>&lt;dbl&gt;</th><th scope=col>&lt;dbl&gt;</th><th scope=col>&lt;dbl&gt;</th><th scope=col>&lt;dbl&gt;</th><th scope=col>&lt;chr&gt;</th></tr>\n",
       "</thead>\n",
       "<tbody>\n",
       "\t<tr><td>2019-01-01</td><td>2288.57</td><td> 808.08</td><td>1060.75</td><td>1120.48</td><td>1930.63</td><td>2181.00</td><td> 2086.00</td><td> 1963.00</td><td> 2509.77</td><td>...</td><td> -227.68</td><td>  485.57</td><td> 1215.90</td><td> 1228.83</td><td> -635.47</td><td>  643.00</td><td> 1120.65</td><td>  531.92</td><td> -376.55</td><td>Imbalance</td></tr>\n",
       "\t<tr><td>2019-01-02</td><td>1420.89</td><td>1852.23</td><td>1796.00</td><td>1667.97</td><td>1756.57</td><td>1988.00</td><td> 2646.78</td><td> 1901.26</td><td>  969.72</td><td>...</td><td>    0.00</td><td>  105.85</td><td>  140.00</td><td>  903.42</td><td> 1280.30</td><td> 1571.00</td><td> 1299.67</td><td> 1102.00</td><td> 1319.62</td><td>Imbalance</td></tr>\n",
       "\t<tr><td>2019-01-03</td><td>2511.90</td><td>1154.61</td><td> 876.40</td><td>1129.00</td><td>1069.62</td><td>1423.00</td><td> 1378.60</td><td> 1325.20</td><td>  706.06</td><td>...</td><td>  526.00</td><td>  764.34</td><td> 2052.93</td><td>  691.75</td><td>  415.00</td><td>  912.90</td><td> 1273.93</td><td>  901.72</td><td>  567.52</td><td>Imbalance</td></tr>\n",
       "\t<tr><td>2019-01-04</td><td>1938.08</td><td>1020.03</td><td>1037.73</td><td>1095.75</td><td>1216.52</td><td> 967.25</td><td> 1199.08</td><td> -571.84</td><td>-1224.60</td><td>...</td><td> 2031.00</td><td> 2070.32</td><td> 1939.13</td><td> 1639.17</td><td> 1966.92</td><td> 1952.65</td><td> 1718.63</td><td> 2009.08</td><td> 2252.33</td><td>Imbalance</td></tr>\n",
       "\t<tr><td>2019-01-05</td><td>2183.42</td><td>1503.84</td><td>1521.00</td><td>1523.00</td><td>1327.00</td><td>1609.00</td><td> 1908.00</td><td> 1846.93</td><td> 1815.51</td><td>...</td><td>  842.00</td><td>  661.50</td><td> 1909.32</td><td> 1268.50</td><td> 1422.33</td><td> 1205.33</td><td> 1290.32</td><td> 1307.83</td><td> 1085.33</td><td>Imbalance</td></tr>\n",
       "\t<tr><td>2019-01-06</td><td> 586.85</td><td>-118.82</td><td> -95.00</td><td> 160.42</td><td>   0.00</td><td>   0.00</td><td>    0.00</td><td>    0.00</td><td>  448.13</td><td>...</td><td>-1886.00</td><td>-2150.53</td><td> -410.52</td><td> -155.70</td><td>-2134.90</td><td>-2210.02</td><td>-1881.87</td><td>-1755.58</td><td>-2122.05</td><td>Imbalance</td></tr>\n",
       "\t<tr><td>2019-01-07</td><td>1305.22</td><td> 573.25</td><td> 428.47</td><td> 685.00</td><td>-702.33</td><td>-800.63</td><td> -952.38</td><td> -791.40</td><td>-2531.72</td><td>...</td><td>-2505.33</td><td>-2795.83</td><td>-2307.00</td><td>-2024.63</td><td>-1587.83</td><td> -179.24</td><td>   35.42</td><td>  727.55</td><td> -251.32</td><td>Imbalance</td></tr>\n",
       "\t<tr><td>2019-01-08</td><td> 761.62</td><td>  13.24</td><td>-257.65</td><td>-352.00</td><td>-352.00</td><td>-212.00</td><td> -212.00</td><td>  -45.00</td><td>-3088.29</td><td>...</td><td>-2208.83</td><td>-2111.23</td><td>-2065.67</td><td>-1533.57</td><td> -858.53</td><td> -525.18</td><td> -386.68</td><td>  300.67</td><td> -374.65</td><td>Imbalance</td></tr>\n",
       "\t<tr><td>2019-01-09</td><td>1623.97</td><td> -88.95</td><td> 124.75</td><td> 340.17</td><td> 143.57</td><td>-463.65</td><td>-2264.40</td><td>-1743.42</td><td>-2695.45</td><td>...</td><td> 1224.00</td><td> 1661.72</td><td> 2201.37</td><td> 2042.45</td><td> 1739.13</td><td> -124.34</td><td> -354.82</td><td>  819.92</td><td>  699.06</td><td>Imbalance</td></tr>\n",
       "\t<tr><td>2019-01-10</td><td>1365.83</td><td>1216.92</td><td>1223.50</td><td>1627.20</td><td>2199.62</td><td>2374.00</td><td> 1633.14</td><td>  287.08</td><td> -196.93</td><td>...</td><td>  164.75</td><td>  996.32</td><td> 1306.00</td><td> 1250.45</td><td>  855.10</td><td>  829.17</td><td>  806.72</td><td> 1198.13</td><td>  865.80</td><td>Imbalance</td></tr>\n",
       "\t<tr><td>2019-01-11</td><td>1783.56</td><td>1378.41</td><td>1715.28</td><td>2193.00</td><td>2169.00</td><td>1811.45</td><td>  690.40</td><td> -323.08</td><td>-1365.92</td><td>...</td><td>  840.00</td><td>  783.27</td><td>  194.70</td><td>  175.67</td><td>  110.45</td><td>  375.33</td><td>  419.00</td><td>  510.87</td><td>  344.00</td><td>Imbalance</td></tr>\n",
       "\t<tr><td>2019-01-12</td><td> 291.90</td><td> 135.29</td><td>-105.00</td><td>   0.00</td><td>   0.00</td><td>   0.00</td><td>  -13.33</td><td>  -32.50</td><td> -445.52</td><td>...</td><td>    0.00</td><td>    0.00</td><td>  366.60</td><td> -580.73</td><td>  285.70</td><td>  438.42</td><td>  383.00</td><td>  433.80</td><td>  815.88</td><td>Imbalance</td></tr>\n",
       "\t<tr><td>2019-01-13</td><td>1067.17</td><td>-172.07</td><td>   0.00</td><td>   0.00</td><td>   0.00</td><td> -33.82</td><td> -450.00</td><td> -602.93</td><td>  461.99</td><td>...</td><td>-1164.00</td><td>-2055.37</td><td>-2760.00</td><td> -508.63</td><td>   33.35</td><td>   91.42</td><td>  180.82</td><td>  334.13</td><td>  433.33</td><td>Imbalance</td></tr>\n",
       "\t<tr><td>2019-01-14</td><td>1334.40</td><td> 953.09</td><td> 954.80</td><td> 911.00</td><td> 838.50</td><td> 835.00</td><td>  976.50</td><td>  926.63</td><td>-1287.45</td><td>...</td><td>-1146.00</td><td> -763.37</td><td>    0.00</td><td>  134.33</td><td>   96.12</td><td>    0.00</td><td>  639.93</td><td> 1005.67</td><td> 1453.90</td><td>Imbalance</td></tr>\n",
       "\t<tr><td>2019-01-15</td><td>1856.10</td><td> 463.32</td><td> 340.23</td><td> 461.67</td><td> 234.00</td><td> 404.52</td><td>    0.00</td><td>-1280.75</td><td>-2884.53</td><td>...</td><td>-2490.83</td><td>-2171.00</td><td>-2107.00</td><td> -952.28</td><td> 1264.25</td><td>  817.94</td><td>  829.85</td><td>  922.65</td><td>  839.00</td><td>Imbalance</td></tr>\n",
       "\t<tr><td>2019-01-16</td><td>1624.12</td><td>1304.50</td><td>1428.97</td><td>1365.00</td><td>1490.83</td><td>1865.00</td><td> 2593.00</td><td> 3699.54</td><td> 1982.70</td><td>...</td><td>  530.33</td><td>  809.13</td><td>  879.63</td><td>  612.67</td><td>  422.84</td><td> -363.63</td><td>-2554.24</td><td> -549.00</td><td>  648.33</td><td>Imbalance</td></tr>\n",
       "\t<tr><td>2019-01-17</td><td>1012.11</td><td> 222.92</td><td> 537.90</td><td> 625.00</td><td> 751.00</td><td> 821.00</td><td>  915.00</td><td>-1062.85</td><td> -763.35</td><td>...</td><td> 2076.50</td><td> 2228.76</td><td> 1551.75</td><td>  528.27</td><td> -226.00</td><td> 1225.32</td><td> 1852.63</td><td> 1202.83</td><td>  258.26</td><td>Imbalance</td></tr>\n",
       "\t<tr><td>2019-01-18</td><td> 357.32</td><td> 139.55</td><td> 270.27</td><td> 193.93</td><td> 392.00</td><td> 390.00</td><td>  138.50</td><td> -776.97</td><td>-1768.19</td><td>...</td><td> 1059.57</td><td> 1604.82</td><td> 1070.17</td><td>  553.00</td><td>  528.50</td><td>  522.00</td><td>  558.33</td><td>  391.67</td><td> 1226.55</td><td>Imbalance</td></tr>\n",
       "\t<tr><td>2019-01-19</td><td> 746.22</td><td>  73.33</td><td>   0.00</td><td>   0.00</td><td>   0.00</td><td>-219.23</td><td>-1968.37</td><td>-1524.17</td><td>-1849.08</td><td>...</td><td>  364.67</td><td>  811.95</td><td> 1327.05</td><td>  108.48</td><td> -158.33</td><td> -695.12</td><td> -880.58</td><td> -824.75</td><td> -249.98</td><td>Imbalance</td></tr>\n",
       "\t<tr><td>2019-01-20</td><td> -48.65</td><td>  52.50</td><td>   0.00</td><td> 331.27</td><td> 252.00</td><td>   0.00</td><td>    0.00</td><td> -126.97</td><td> 1103.03</td><td>...</td><td> 3230.88</td><td> 2242.03</td><td> 1701.28</td><td>  866.85</td><td> 1077.33</td><td>  787.32</td><td> 1093.72</td><td> 1811.00</td><td> 1531.00</td><td>Imbalance</td></tr>\n",
       "\t<tr><td>2019-01-21</td><td>1203.80</td><td>1055.00</td><td>1122.90</td><td> 933.00</td><td> 952.00</td><td>1152.00</td><td> 1728.00</td><td> 2053.53</td><td>  199.58</td><td>...</td><td>-1861.75</td><td>-1418.23</td><td>  115.47</td><td>  583.83</td><td>  881.02</td><td>  712.00</td><td>  719.67</td><td> 1347.62</td><td> 1407.50</td><td>Imbalance</td></tr>\n",
       "\t<tr><td>2019-01-22</td><td>1587.67</td><td>1363.30</td><td>1162.00</td><td>1311.00</td><td>1004.00</td><td>1210.00</td><td> 1624.00</td><td>  436.32</td><td> 1056.04</td><td>...</td><td>  210.00</td><td>  299.00</td><td>  322.00</td><td>  348.32</td><td>  404.52</td><td>  815.95</td><td>  558.48</td><td> 1130.05</td><td> 1674.72</td><td>Imbalance</td></tr>\n",
       "\t<tr><td>2019-01-23</td><td>1461.42</td><td>1228.86</td><td>1287.00</td><td>1115.00</td><td>2403.15</td><td>3315.00</td><td> 3410.38</td><td> 1340.70</td><td> 1741.95</td><td>...</td><td> 1500.00</td><td> 1648.20</td><td>  941.00</td><td>  660.58</td><td> 1235.12</td><td> 1780.15</td><td> 1445.65</td><td>  772.00</td><td>  840.63</td><td>Imbalance</td></tr>\n",
       "\t<tr><td>2019-01-24</td><td>2389.45</td><td>1104.93</td><td> 368.00</td><td> 238.00</td><td> 218.00</td><td> 154.00</td><td>    0.00</td><td>  383.35</td><td>   46.70</td><td>...</td><td>-2684.00</td><td>-2890.83</td><td>-3059.00</td><td>-2533.31</td><td>-2010.25</td><td>-1016.33</td><td> -636.00</td><td> -692.67</td><td> -483.77</td><td>Imbalance</td></tr>\n",
       "\t<tr><td>2019-01-25</td><td> -60.02</td><td>-391.46</td><td>-237.00</td><td>  54.14</td><td> 873.78</td><td> 647.00</td><td>  677.00</td><td>  313.10</td><td>   77.78</td><td>...</td><td>  203.00</td><td>  226.20</td><td> -860.00</td><td> -468.73</td><td>  298.10</td><td> 1237.70</td><td> 1494.50</td><td> 1686.63</td><td> 1896.40</td><td>Imbalance</td></tr>\n",
       "\t<tr><td>2019-01-26</td><td> 957.12</td><td>  86.32</td><td> 350.58</td><td> 469.00</td><td> 756.75</td><td>1739.00</td><td> 1301.75</td><td> 1578.37</td><td> 1459.04</td><td>...</td><td>  528.00</td><td>  552.53</td><td>  633.70</td><td>  363.57</td><td>   -8.33</td><td>  102.30</td><td>  275.17</td><td>  237.00</td><td>  272.00</td><td>Imbalance</td></tr>\n",
       "\t<tr><td>2019-01-27</td><td> 511.10</td><td>-884.67</td><td>-406.33</td><td>   5.25</td><td>   0.00</td><td>   0.00</td><td>    0.00</td><td>    0.00</td><td>  747.33</td><td>...</td><td> -309.97</td><td>  288.95</td><td>  543.33</td><td>   54.00</td><td> -319.97</td><td> -392.50</td><td>   33.83</td><td>  -16.00</td><td>    0.00</td><td>Imbalance</td></tr>\n",
       "\t<tr><td>2019-01-28</td><td> 751.15</td><td>-562.36</td><td>-528.52</td><td>-750.00</td><td>-566.00</td><td>-585.00</td><td>  297.63</td><td>  271.68</td><td> -315.80</td><td>...</td><td> 1731.70</td><td> 2835.50</td><td> 2148.53</td><td> 2191.00</td><td> 1877.20</td><td> 2982.17</td><td> 2525.37</td><td> 1726.53</td><td> 1678.08</td><td>Imbalance</td></tr>\n",
       "\t<tr><td>2019-01-29</td><td>1108.17</td><td> 242.21</td><td> 720.17</td><td>1118.03</td><td>1063.00</td><td>1624.78</td><td> 2045.07</td><td> 1240.00</td><td>  568.15</td><td>...</td><td> 1117.00</td><td> 1456.88</td><td> 1264.33</td><td>  839.72</td><td>  516.67</td><td> 1363.90</td><td> 1111.75</td><td> 1151.00</td><td>  717.00</td><td>Imbalance</td></tr>\n",
       "\t<tr><td>2019-01-30</td><td>1055.58</td><td> 319.41</td><td> 165.22</td><td> 489.33</td><td> 614.00</td><td> 599.33</td><td> 1650.63</td><td> 1572.50</td><td>  -15.78</td><td>...</td><td>-3279.45</td><td>-2255.15</td><td>-2079.00</td><td>-1638.92</td><td>-1643.25</td><td> -778.47</td><td>  -61.19</td><td>  466.00</td><td>  353.67</td><td>Imbalance</td></tr>\n",
       "\t<tr><td>...</td><td>...</td><td>...</td><td>...</td><td>...</td><td>...</td><td>...</td><td>...</td><td>...</td><td>...</td><td></td><td>...</td><td>...</td><td>...</td><td>...</td><td>...</td><td>...</td><td>...</td><td>...</td><td>...</td><td>...</td></tr>\n",
       "\t<tr><td>2021-11-11</td><td> -559.16</td><td>-1014.58</td><td>-1235.50</td><td>-1460.00</td><td>-1434.00</td><td> -953.00</td><td>-1556.00</td><td>-1841.07</td><td>-1472.77</td><td>...</td><td> -883.84</td><td> -997.87</td><td>-1267.00</td><td>-1181.33</td><td>-1134.83</td><td> -924.87</td><td>-1545.13</td><td>-1935.51</td><td>-1265.72</td><td>Imbalance</td></tr>\n",
       "\t<tr><td>2021-11-12</td><td> -900.42</td><td> -586.00</td><td>  229.90</td><td>  197.00</td><td>   72.00</td><td>  242.00</td><td>  100.85</td><td> -288.00</td><td>-2428.50</td><td>...</td><td>  668.00</td><td>   34.86</td><td>-1959.37</td><td>-3205.70</td><td>-1705.37</td><td>-1522.83</td><td> -998.50</td><td>-1020.33</td><td>-1012.37</td><td>Imbalance</td></tr>\n",
       "\t<tr><td>2021-11-13</td><td>-1207.97</td><td>-1561.87</td><td>-1825.40</td><td>-2251.85</td><td>-2169.00</td><td>-1938.50</td><td>-1778.50</td><td>-1684.67</td><td>-2084.20</td><td>...</td><td>-1516.37</td><td> -524.75</td><td>-1359.32</td><td>-2302.00</td><td>-1682.17</td><td>-1488.67</td><td>-1247.76</td><td>-1200.08</td><td>-1924.22</td><td>Imbalance</td></tr>\n",
       "\t<tr><td>2021-11-14</td><td>-1012.80</td><td> -892.37</td><td> -181.00</td><td> -526.00</td><td> -697.47</td><td>-1315.00</td><td> -864.47</td><td>  160.45</td><td>  935.77</td><td>...</td><td> 1323.23</td><td>  996.83</td><td>  196.20</td><td> -802.00</td><td> -472.40</td><td>  -61.40</td><td>  248.67</td><td>  346.20</td><td>  341.75</td><td>Imbalance</td></tr>\n",
       "\t<tr><td>2021-11-15</td><td>  797.00</td><td> -418.50</td><td> -268.37</td><td> -331.20</td><td>    0.00</td><td>    0.00</td><td>  366.00</td><td>  -71.01</td><td>-1311.50</td><td>...</td><td> -299.90</td><td>  -45.41</td><td> -230.00</td><td>  -84.13</td><td>  444.61</td><td>  746.33</td><td>  503.25</td><td>  259.00</td><td>  281.83</td><td>Imbalance</td></tr>\n",
       "\t<tr><td>2021-11-16</td><td>  674.30</td><td>  -14.50</td><td>  274.00</td><td>  318.17</td><td>  711.00</td><td>  550.33</td><td>  728.50</td><td>  983.97</td><td> -552.70</td><td>...</td><td> -531.73</td><td> -550.45</td><td>-1221.50</td><td> -626.33</td><td> -399.58</td><td>  338.00</td><td>  144.10</td><td> -216.00</td><td> -247.75</td><td>Imbalance</td></tr>\n",
       "\t<tr><td>2021-11-17</td><td> -314.83</td><td> -489.08</td><td> -719.00</td><td> -555.31</td><td>  275.00</td><td> -122.22</td><td>    0.00</td><td> -459.90</td><td>-1190.35</td><td>...</td><td> -568.00</td><td>-1057.83</td><td>-2712.33</td><td>-2260.25</td><td>-1350.00</td><td>-1112.50</td><td>-1224.50</td><td> -715.55</td><td> -943.94</td><td>Imbalance</td></tr>\n",
       "\t<tr><td>2021-11-18</td><td>-1227.47</td><td> -612.50</td><td>    0.00</td><td>    0.00</td><td>    0.00</td><td> -408.48</td><td>-1275.00</td><td>-1122.83</td><td>-1485.80</td><td>...</td><td>-2438.00</td><td>-2211.95</td><td>-3025.15</td><td>-3440.00</td><td>-2742.80</td><td>-1857.83</td><td>-1312.17</td><td>-1290.33</td><td>-1682.80</td><td>Imbalance</td></tr>\n",
       "\t<tr><td>2021-11-19</td><td>-1360.01</td><td> -693.08</td><td> -388.08</td><td> -322.00</td><td>  -94.10</td><td> -225.07</td><td> -263.67</td><td> -519.58</td><td>-1186.02</td><td>...</td><td>-1547.85</td><td> -864.47</td><td>-1261.42</td><td>-1317.45</td><td>-1007.67</td><td>-1268.93</td><td>-1430.43</td><td>-1855.45</td><td> -760.80</td><td>Imbalance</td></tr>\n",
       "\t<tr><td>2021-11-20</td><td> -855.57</td><td> -731.18</td><td> -892.62</td><td>-1089.32</td><td> -935.23</td><td> -810.90</td><td> -836.05</td><td> -962.15</td><td>-1152.13</td><td>...</td><td>-2511.00</td><td>-1946.85</td><td>-1269.65</td><td>-1042.00</td><td>-1166.17</td><td> -764.50</td><td>-1278.93</td><td>-1077.03</td><td>-1149.05</td><td>Imbalance</td></tr>\n",
       "\t<tr><td>2021-11-21</td><td>-1744.00</td><td> -845.65</td><td> -286.16</td><td> -573.83</td><td>  475.00</td><td>  511.00</td><td>  522.00</td><td>  894.77</td><td>  316.05</td><td>...</td><td>  122.08</td><td> -334.10</td><td> -585.37</td><td> -532.33</td><td> -847.75</td><td> -482.00</td><td>-1295.87</td><td> -678.78</td><td>   41.50</td><td>Imbalance</td></tr>\n",
       "\t<tr><td>2021-11-22</td><td>  502.27</td><td>  787.48</td><td> 1268.50</td><td> 1282.60</td><td> 1232.00</td><td> 1504.00</td><td> 1239.35</td><td> -229.00</td><td> -879.64</td><td>...</td><td>   90.50</td><td>  791.66</td><td>-1317.88</td><td>-1187.17</td><td>  -60.76</td><td>  247.00</td><td>   11.07</td><td>  152.00</td><td>    0.00</td><td>Imbalance</td></tr>\n",
       "\t<tr><td>2021-11-23</td><td>  -45.00</td><td> -182.41</td><td>    0.00</td><td>    0.00</td><td>    0.00</td><td>-1284.50</td><td> -742.62</td><td> -990.32</td><td>-1220.38</td><td>...</td><td> -362.80</td><td> -495.60</td><td>-1423.92</td><td> -976.32</td><td> -111.38</td><td>  -77.00</td><td>  212.08</td><td> -868.33</td><td> -605.70</td><td>Imbalance</td></tr>\n",
       "\t<tr><td>2021-11-24</td><td> -571.67</td><td>-1231.25</td><td> -610.25</td><td> -706.00</td><td> -936.00</td><td> -867.00</td><td> -730.50</td><td> -848.00</td><td> -637.95</td><td>...</td><td> -955.10</td><td> -866.97</td><td> -755.00</td><td> -732.85</td><td>-1521.00</td><td>-1321.00</td><td> -802.57</td><td>-1302.00</td><td> -855.21</td><td>Imbalance</td></tr>\n",
       "\t<tr><td>2021-11-25</td><td> -787.52</td><td> -670.39</td><td> -123.25</td><td> -654.47</td><td>-1123.00</td><td>-1104.00</td><td>-1187.33</td><td>-2998.22</td><td>-1149.13</td><td>...</td><td>-1097.33</td><td> -722.58</td><td>-1429.00</td><td>-1422.00</td><td> -705.04</td><td> -800.50</td><td> -448.73</td><td>   89.48</td><td>  217.25</td><td>Imbalance</td></tr>\n",
       "\t<tr><td>2021-11-26</td><td> -541.50</td><td>  109.72</td><td>  195.00</td><td>  195.00</td><td>  225.00</td><td>  204.00</td><td>  338.00</td><td>  -68.67</td><td> -915.30</td><td>...</td><td>  724.75</td><td>  795.00</td><td>  317.45</td><td> -111.32</td><td>-1297.32</td><td>-1842.93</td><td>-1947.00</td><td>-2778.67</td><td>-1140.42</td><td>Imbalance</td></tr>\n",
       "\t<tr><td>2021-11-27</td><td>-1309.25</td><td> -975.15</td><td>    0.00</td><td>  -50.00</td><td> -491.77</td><td>-1665.50</td><td>-1488.80</td><td>-1226.00</td><td>-1172.27</td><td>...</td><td>-3326.00</td><td>-3011.33</td><td>-1454.80</td><td>-1562.25</td><td>-1259.55</td><td> -920.98</td><td>  177.21</td><td> -475.57</td><td>-1417.00</td><td>Imbalance</td></tr>\n",
       "\t<tr><td>2021-11-28</td><td> -893.85</td><td> -276.13</td><td> -653.80</td><td> -705.50</td><td> -778.00</td><td> -514.00</td><td> -800.75</td><td>-1017.00</td><td>  673.63</td><td>...</td><td>-1205.00</td><td> -565.97</td><td>-1235.33</td><td> -388.57</td><td>  353.42</td><td>  -60.98</td><td> -150.30</td><td> -864.92</td><td> -480.16</td><td>Imbalance</td></tr>\n",
       "\t<tr><td>2021-11-29</td><td> -310.74</td><td> -112.75</td><td>  336.50</td><td> -174.00</td><td>  -58.83</td><td> -250.57</td><td>-1581.62</td><td>-2234.82</td><td>-2944.75</td><td>...</td><td>-2413.50</td><td>-1487.70</td><td>-1304.17</td><td>-1365.10</td><td>-1879.75</td><td>-2150.67</td><td>-1671.65</td><td> -940.43</td><td>-1389.03</td><td>Imbalance</td></tr>\n",
       "\t<tr><td>2021-11-30</td><td>  414.42</td><td>   31.27</td><td>   81.67</td><td>  -40.33</td><td>   62.90</td><td>  345.08</td><td> -615.77</td><td>-1393.10</td><td> -427.05</td><td>...</td><td> 1652.36</td><td>  836.75</td><td>  458.93</td><td>  506.80</td><td>  277.07</td><td>  260.00</td><td>  484.00</td><td>  463.08</td><td> -786.65</td><td>Imbalance</td></tr>\n",
       "\t<tr><td>2021-12-01</td><td>  420.55</td><td>   19.25</td><td> -112.25</td><td>   -5.00</td><td>  -40.00</td><td> -110.77</td><td> -902.75</td><td>  -82.95</td><td>-1640.90</td><td>...</td><td>  166.63</td><td>-1698.92</td><td>-1664.68</td><td>-1844.97</td><td>-1057.62</td><td> -350.62</td><td>  -88.00</td><td>  -11.53</td><td>    0.00</td><td>Imbalance</td></tr>\n",
       "\t<tr><td>2021-12-02</td><td> -642.75</td><td>-1159.80</td><td>-1038.10</td><td> -470.77</td><td>  267.33</td><td> -205.02</td><td> -469.25</td><td>-1356.82</td><td>-1541.83</td><td>...</td><td>  130.27</td><td>   93.06</td><td>-1842.60</td><td>-1310.62</td><td> -810.25</td><td> -673.18</td><td> -487.00</td><td>-1057.17</td><td>   56.73</td><td>Imbalance</td></tr>\n",
       "\t<tr><td>2021-12-03</td><td>  831.00</td><td>  492.48</td><td>-1392.97</td><td>-2232.33</td><td>-1527.00</td><td>-1246.82</td><td>-1450.33</td><td> -848.30</td><td>-1734.33</td><td>...</td><td> -881.00</td><td>-1305.72</td><td>-2545.18</td><td>-2364.42</td><td>-1708.02</td><td>-1486.33</td><td>-1116.35</td><td>-1723.50</td><td>-1324.35</td><td>Imbalance</td></tr>\n",
       "\t<tr><td>2021-12-04</td><td> -145.75</td><td> -147.52</td><td>    0.00</td><td>    0.00</td><td>  -37.45</td><td> -192.25</td><td> -500.00</td><td> -295.97</td><td> -825.20</td><td>...</td><td> -844.55</td><td>-1524.92</td><td>-2476.28</td><td>-3175.73</td><td>-2403.00</td><td>-1784.83</td><td> -880.50</td><td> -604.00</td><td>   74.00</td><td>Imbalance</td></tr>\n",
       "\t<tr><td>2021-12-05</td><td>  191.28</td><td> -620.75</td><td>-1009.00</td><td> -600.67</td><td> -939.85</td><td>-1588.00</td><td>-1185.00</td><td>-1084.33</td><td> -453.08</td><td>...</td><td>  -68.55</td><td> -284.88</td><td>-2328.82</td><td>-3322.33</td><td>-1193.04</td><td> -121.45</td><td>   63.00</td><td>    0.00</td><td>  535.24</td><td>Imbalance</td></tr>\n",
       "\t<tr><td>2021-12-06</td><td> 1593.93</td><td> 1043.68</td><td> 2354.93</td><td> 1825.67</td><td> 1478.30</td><td>  675.00</td><td> 1100.00</td><td>  560.74</td><td> -448.57</td><td>...</td><td>  155.13</td><td>  211.00</td><td> -736.25</td><td>-1050.46</td><td> -409.02</td><td>  466.63</td><td>  483.08</td><td> 1056.40</td><td> -440.50</td><td>Imbalance</td></tr>\n",
       "\t<tr><td>2021-12-07</td><td> -176.70</td><td> -257.50</td><td> -407.65</td><td> -791.00</td><td> -994.00</td><td> -939.70</td><td>-1363.42</td><td> -916.52</td><td> -957.17</td><td>...</td><td>-2172.17</td><td>-1525.47</td><td>-1625.00</td><td> -804.57</td><td>  484.00</td><td>  152.02</td><td> -213.00</td><td> -425.33</td><td> -265.10</td><td>Imbalance</td></tr>\n",
       "\t<tr><td>2021-12-08</td><td>  168.00</td><td> -139.77</td><td>  123.95</td><td>    0.00</td><td>    0.00</td><td> -125.50</td><td> -407.88</td><td>-1543.02</td><td>-1741.31</td><td>...</td><td>-2179.00</td><td>-2073.00</td><td>-2402.25</td><td>-2262.75</td><td>-1085.33</td><td> -809.00</td><td> -290.83</td><td> -232.78</td><td>  390.99</td><td>Imbalance</td></tr>\n",
       "\t<tr><td>2021-12-09</td><td>  203.17</td><td>  -55.02</td><td>   72.00</td><td>    0.00</td><td>    0.00</td><td>    0.00</td><td>   34.50</td><td>  -35.00</td><td>-1242.00</td><td>...</td><td>  197.93</td><td>  -72.17</td><td> -568.00</td><td> -808.17</td><td> -770.00</td><td> -446.87</td><td> -699.00</td><td>-1764.40</td><td> -620.60</td><td>Imbalance</td></tr>\n",
       "\t<tr><td>2021-12-10</td><td> -188.40</td><td> -753.95</td><td> -432.33</td><td> -392.00</td><td> -405.67</td><td>-1073.17</td><td>-1038.66</td><td> -823.60</td><td>-1978.81</td><td>...</td><td>-1651.45</td><td>-1417.01</td><td>-1472.97</td><td>-1014.15</td><td> -883.20</td><td>-1297.87</td><td>-1726.17</td><td>-1330.85</td><td> -678.52</td><td>Imbalance</td></tr>\n",
       "</tbody>\n",
       "</table>\n"
      ],
      "text/latex": [
       "A data.table: 1075 × 26\n",
       "\\begin{tabular}{lllllllllllllllllllll}\n",
       " date & 0 & 1 & 2 & 3 & 4 & 5 & 6 & 7 & 8 & ... & 15 & 16 & 17 & 18 & 19 & 20 & 21 & 22 & 23 & Type\\\\\n",
       " <date> & <dbl> & <dbl> & <dbl> & <dbl> & <dbl> & <dbl> & <dbl> & <dbl> & <dbl> & ... & <dbl> & <dbl> & <dbl> & <dbl> & <dbl> & <dbl> & <dbl> & <dbl> & <dbl> & <chr>\\\\\n",
       "\\hline\n",
       "\t 2019-01-01 & 2288.57 &  808.08 & 1060.75 & 1120.48 & 1930.63 & 2181.00 &  2086.00 &  1963.00 &  2509.77 & ... &  -227.68 &   485.57 &  1215.90 &  1228.83 &  -635.47 &   643.00 &  1120.65 &   531.92 &  -376.55 & Imbalance\\\\\n",
       "\t 2019-01-02 & 1420.89 & 1852.23 & 1796.00 & 1667.97 & 1756.57 & 1988.00 &  2646.78 &  1901.26 &   969.72 & ... &     0.00 &   105.85 &   140.00 &   903.42 &  1280.30 &  1571.00 &  1299.67 &  1102.00 &  1319.62 & Imbalance\\\\\n",
       "\t 2019-01-03 & 2511.90 & 1154.61 &  876.40 & 1129.00 & 1069.62 & 1423.00 &  1378.60 &  1325.20 &   706.06 & ... &   526.00 &   764.34 &  2052.93 &   691.75 &   415.00 &   912.90 &  1273.93 &   901.72 &   567.52 & Imbalance\\\\\n",
       "\t 2019-01-04 & 1938.08 & 1020.03 & 1037.73 & 1095.75 & 1216.52 &  967.25 &  1199.08 &  -571.84 & -1224.60 & ... &  2031.00 &  2070.32 &  1939.13 &  1639.17 &  1966.92 &  1952.65 &  1718.63 &  2009.08 &  2252.33 & Imbalance\\\\\n",
       "\t 2019-01-05 & 2183.42 & 1503.84 & 1521.00 & 1523.00 & 1327.00 & 1609.00 &  1908.00 &  1846.93 &  1815.51 & ... &   842.00 &   661.50 &  1909.32 &  1268.50 &  1422.33 &  1205.33 &  1290.32 &  1307.83 &  1085.33 & Imbalance\\\\\n",
       "\t 2019-01-06 &  586.85 & -118.82 &  -95.00 &  160.42 &    0.00 &    0.00 &     0.00 &     0.00 &   448.13 & ... & -1886.00 & -2150.53 &  -410.52 &  -155.70 & -2134.90 & -2210.02 & -1881.87 & -1755.58 & -2122.05 & Imbalance\\\\\n",
       "\t 2019-01-07 & 1305.22 &  573.25 &  428.47 &  685.00 & -702.33 & -800.63 &  -952.38 &  -791.40 & -2531.72 & ... & -2505.33 & -2795.83 & -2307.00 & -2024.63 & -1587.83 &  -179.24 &    35.42 &   727.55 &  -251.32 & Imbalance\\\\\n",
       "\t 2019-01-08 &  761.62 &   13.24 & -257.65 & -352.00 & -352.00 & -212.00 &  -212.00 &   -45.00 & -3088.29 & ... & -2208.83 & -2111.23 & -2065.67 & -1533.57 &  -858.53 &  -525.18 &  -386.68 &   300.67 &  -374.65 & Imbalance\\\\\n",
       "\t 2019-01-09 & 1623.97 &  -88.95 &  124.75 &  340.17 &  143.57 & -463.65 & -2264.40 & -1743.42 & -2695.45 & ... &  1224.00 &  1661.72 &  2201.37 &  2042.45 &  1739.13 &  -124.34 &  -354.82 &   819.92 &   699.06 & Imbalance\\\\\n",
       "\t 2019-01-10 & 1365.83 & 1216.92 & 1223.50 & 1627.20 & 2199.62 & 2374.00 &  1633.14 &   287.08 &  -196.93 & ... &   164.75 &   996.32 &  1306.00 &  1250.45 &   855.10 &   829.17 &   806.72 &  1198.13 &   865.80 & Imbalance\\\\\n",
       "\t 2019-01-11 & 1783.56 & 1378.41 & 1715.28 & 2193.00 & 2169.00 & 1811.45 &   690.40 &  -323.08 & -1365.92 & ... &   840.00 &   783.27 &   194.70 &   175.67 &   110.45 &   375.33 &   419.00 &   510.87 &   344.00 & Imbalance\\\\\n",
       "\t 2019-01-12 &  291.90 &  135.29 & -105.00 &    0.00 &    0.00 &    0.00 &   -13.33 &   -32.50 &  -445.52 & ... &     0.00 &     0.00 &   366.60 &  -580.73 &   285.70 &   438.42 &   383.00 &   433.80 &   815.88 & Imbalance\\\\\n",
       "\t 2019-01-13 & 1067.17 & -172.07 &    0.00 &    0.00 &    0.00 &  -33.82 &  -450.00 &  -602.93 &   461.99 & ... & -1164.00 & -2055.37 & -2760.00 &  -508.63 &    33.35 &    91.42 &   180.82 &   334.13 &   433.33 & Imbalance\\\\\n",
       "\t 2019-01-14 & 1334.40 &  953.09 &  954.80 &  911.00 &  838.50 &  835.00 &   976.50 &   926.63 & -1287.45 & ... & -1146.00 &  -763.37 &     0.00 &   134.33 &    96.12 &     0.00 &   639.93 &  1005.67 &  1453.90 & Imbalance\\\\\n",
       "\t 2019-01-15 & 1856.10 &  463.32 &  340.23 &  461.67 &  234.00 &  404.52 &     0.00 & -1280.75 & -2884.53 & ... & -2490.83 & -2171.00 & -2107.00 &  -952.28 &  1264.25 &   817.94 &   829.85 &   922.65 &   839.00 & Imbalance\\\\\n",
       "\t 2019-01-16 & 1624.12 & 1304.50 & 1428.97 & 1365.00 & 1490.83 & 1865.00 &  2593.00 &  3699.54 &  1982.70 & ... &   530.33 &   809.13 &   879.63 &   612.67 &   422.84 &  -363.63 & -2554.24 &  -549.00 &   648.33 & Imbalance\\\\\n",
       "\t 2019-01-17 & 1012.11 &  222.92 &  537.90 &  625.00 &  751.00 &  821.00 &   915.00 & -1062.85 &  -763.35 & ... &  2076.50 &  2228.76 &  1551.75 &   528.27 &  -226.00 &  1225.32 &  1852.63 &  1202.83 &   258.26 & Imbalance\\\\\n",
       "\t 2019-01-18 &  357.32 &  139.55 &  270.27 &  193.93 &  392.00 &  390.00 &   138.50 &  -776.97 & -1768.19 & ... &  1059.57 &  1604.82 &  1070.17 &   553.00 &   528.50 &   522.00 &   558.33 &   391.67 &  1226.55 & Imbalance\\\\\n",
       "\t 2019-01-19 &  746.22 &   73.33 &    0.00 &    0.00 &    0.00 & -219.23 & -1968.37 & -1524.17 & -1849.08 & ... &   364.67 &   811.95 &  1327.05 &   108.48 &  -158.33 &  -695.12 &  -880.58 &  -824.75 &  -249.98 & Imbalance\\\\\n",
       "\t 2019-01-20 &  -48.65 &   52.50 &    0.00 &  331.27 &  252.00 &    0.00 &     0.00 &  -126.97 &  1103.03 & ... &  3230.88 &  2242.03 &  1701.28 &   866.85 &  1077.33 &   787.32 &  1093.72 &  1811.00 &  1531.00 & Imbalance\\\\\n",
       "\t 2019-01-21 & 1203.80 & 1055.00 & 1122.90 &  933.00 &  952.00 & 1152.00 &  1728.00 &  2053.53 &   199.58 & ... & -1861.75 & -1418.23 &   115.47 &   583.83 &   881.02 &   712.00 &   719.67 &  1347.62 &  1407.50 & Imbalance\\\\\n",
       "\t 2019-01-22 & 1587.67 & 1363.30 & 1162.00 & 1311.00 & 1004.00 & 1210.00 &  1624.00 &   436.32 &  1056.04 & ... &   210.00 &   299.00 &   322.00 &   348.32 &   404.52 &   815.95 &   558.48 &  1130.05 &  1674.72 & Imbalance\\\\\n",
       "\t 2019-01-23 & 1461.42 & 1228.86 & 1287.00 & 1115.00 & 2403.15 & 3315.00 &  3410.38 &  1340.70 &  1741.95 & ... &  1500.00 &  1648.20 &   941.00 &   660.58 &  1235.12 &  1780.15 &  1445.65 &   772.00 &   840.63 & Imbalance\\\\\n",
       "\t 2019-01-24 & 2389.45 & 1104.93 &  368.00 &  238.00 &  218.00 &  154.00 &     0.00 &   383.35 &    46.70 & ... & -2684.00 & -2890.83 & -3059.00 & -2533.31 & -2010.25 & -1016.33 &  -636.00 &  -692.67 &  -483.77 & Imbalance\\\\\n",
       "\t 2019-01-25 &  -60.02 & -391.46 & -237.00 &   54.14 &  873.78 &  647.00 &   677.00 &   313.10 &    77.78 & ... &   203.00 &   226.20 &  -860.00 &  -468.73 &   298.10 &  1237.70 &  1494.50 &  1686.63 &  1896.40 & Imbalance\\\\\n",
       "\t 2019-01-26 &  957.12 &   86.32 &  350.58 &  469.00 &  756.75 & 1739.00 &  1301.75 &  1578.37 &  1459.04 & ... &   528.00 &   552.53 &   633.70 &   363.57 &    -8.33 &   102.30 &   275.17 &   237.00 &   272.00 & Imbalance\\\\\n",
       "\t 2019-01-27 &  511.10 & -884.67 & -406.33 &    5.25 &    0.00 &    0.00 &     0.00 &     0.00 &   747.33 & ... &  -309.97 &   288.95 &   543.33 &    54.00 &  -319.97 &  -392.50 &    33.83 &   -16.00 &     0.00 & Imbalance\\\\\n",
       "\t 2019-01-28 &  751.15 & -562.36 & -528.52 & -750.00 & -566.00 & -585.00 &   297.63 &   271.68 &  -315.80 & ... &  1731.70 &  2835.50 &  2148.53 &  2191.00 &  1877.20 &  2982.17 &  2525.37 &  1726.53 &  1678.08 & Imbalance\\\\\n",
       "\t 2019-01-29 & 1108.17 &  242.21 &  720.17 & 1118.03 & 1063.00 & 1624.78 &  2045.07 &  1240.00 &   568.15 & ... &  1117.00 &  1456.88 &  1264.33 &   839.72 &   516.67 &  1363.90 &  1111.75 &  1151.00 &   717.00 & Imbalance\\\\\n",
       "\t 2019-01-30 & 1055.58 &  319.41 &  165.22 &  489.33 &  614.00 &  599.33 &  1650.63 &  1572.50 &   -15.78 & ... & -3279.45 & -2255.15 & -2079.00 & -1638.92 & -1643.25 &  -778.47 &   -61.19 &   466.00 &   353.67 & Imbalance\\\\\n",
       "\t ... & ... & ... & ... & ... & ... & ... & ... & ... & ... &  & ... & ... & ... & ... & ... & ... & ... & ... & ... & ...\\\\\n",
       "\t 2021-11-11 &  -559.16 & -1014.58 & -1235.50 & -1460.00 & -1434.00 &  -953.00 & -1556.00 & -1841.07 & -1472.77 & ... &  -883.84 &  -997.87 & -1267.00 & -1181.33 & -1134.83 &  -924.87 & -1545.13 & -1935.51 & -1265.72 & Imbalance\\\\\n",
       "\t 2021-11-12 &  -900.42 &  -586.00 &   229.90 &   197.00 &    72.00 &   242.00 &   100.85 &  -288.00 & -2428.50 & ... &   668.00 &    34.86 & -1959.37 & -3205.70 & -1705.37 & -1522.83 &  -998.50 & -1020.33 & -1012.37 & Imbalance\\\\\n",
       "\t 2021-11-13 & -1207.97 & -1561.87 & -1825.40 & -2251.85 & -2169.00 & -1938.50 & -1778.50 & -1684.67 & -2084.20 & ... & -1516.37 &  -524.75 & -1359.32 & -2302.00 & -1682.17 & -1488.67 & -1247.76 & -1200.08 & -1924.22 & Imbalance\\\\\n",
       "\t 2021-11-14 & -1012.80 &  -892.37 &  -181.00 &  -526.00 &  -697.47 & -1315.00 &  -864.47 &   160.45 &   935.77 & ... &  1323.23 &   996.83 &   196.20 &  -802.00 &  -472.40 &   -61.40 &   248.67 &   346.20 &   341.75 & Imbalance\\\\\n",
       "\t 2021-11-15 &   797.00 &  -418.50 &  -268.37 &  -331.20 &     0.00 &     0.00 &   366.00 &   -71.01 & -1311.50 & ... &  -299.90 &   -45.41 &  -230.00 &   -84.13 &   444.61 &   746.33 &   503.25 &   259.00 &   281.83 & Imbalance\\\\\n",
       "\t 2021-11-16 &   674.30 &   -14.50 &   274.00 &   318.17 &   711.00 &   550.33 &   728.50 &   983.97 &  -552.70 & ... &  -531.73 &  -550.45 & -1221.50 &  -626.33 &  -399.58 &   338.00 &   144.10 &  -216.00 &  -247.75 & Imbalance\\\\\n",
       "\t 2021-11-17 &  -314.83 &  -489.08 &  -719.00 &  -555.31 &   275.00 &  -122.22 &     0.00 &  -459.90 & -1190.35 & ... &  -568.00 & -1057.83 & -2712.33 & -2260.25 & -1350.00 & -1112.50 & -1224.50 &  -715.55 &  -943.94 & Imbalance\\\\\n",
       "\t 2021-11-18 & -1227.47 &  -612.50 &     0.00 &     0.00 &     0.00 &  -408.48 & -1275.00 & -1122.83 & -1485.80 & ... & -2438.00 & -2211.95 & -3025.15 & -3440.00 & -2742.80 & -1857.83 & -1312.17 & -1290.33 & -1682.80 & Imbalance\\\\\n",
       "\t 2021-11-19 & -1360.01 &  -693.08 &  -388.08 &  -322.00 &   -94.10 &  -225.07 &  -263.67 &  -519.58 & -1186.02 & ... & -1547.85 &  -864.47 & -1261.42 & -1317.45 & -1007.67 & -1268.93 & -1430.43 & -1855.45 &  -760.80 & Imbalance\\\\\n",
       "\t 2021-11-20 &  -855.57 &  -731.18 &  -892.62 & -1089.32 &  -935.23 &  -810.90 &  -836.05 &  -962.15 & -1152.13 & ... & -2511.00 & -1946.85 & -1269.65 & -1042.00 & -1166.17 &  -764.50 & -1278.93 & -1077.03 & -1149.05 & Imbalance\\\\\n",
       "\t 2021-11-21 & -1744.00 &  -845.65 &  -286.16 &  -573.83 &   475.00 &   511.00 &   522.00 &   894.77 &   316.05 & ... &   122.08 &  -334.10 &  -585.37 &  -532.33 &  -847.75 &  -482.00 & -1295.87 &  -678.78 &    41.50 & Imbalance\\\\\n",
       "\t 2021-11-22 &   502.27 &   787.48 &  1268.50 &  1282.60 &  1232.00 &  1504.00 &  1239.35 &  -229.00 &  -879.64 & ... &    90.50 &   791.66 & -1317.88 & -1187.17 &   -60.76 &   247.00 &    11.07 &   152.00 &     0.00 & Imbalance\\\\\n",
       "\t 2021-11-23 &   -45.00 &  -182.41 &     0.00 &     0.00 &     0.00 & -1284.50 &  -742.62 &  -990.32 & -1220.38 & ... &  -362.80 &  -495.60 & -1423.92 &  -976.32 &  -111.38 &   -77.00 &   212.08 &  -868.33 &  -605.70 & Imbalance\\\\\n",
       "\t 2021-11-24 &  -571.67 & -1231.25 &  -610.25 &  -706.00 &  -936.00 &  -867.00 &  -730.50 &  -848.00 &  -637.95 & ... &  -955.10 &  -866.97 &  -755.00 &  -732.85 & -1521.00 & -1321.00 &  -802.57 & -1302.00 &  -855.21 & Imbalance\\\\\n",
       "\t 2021-11-25 &  -787.52 &  -670.39 &  -123.25 &  -654.47 & -1123.00 & -1104.00 & -1187.33 & -2998.22 & -1149.13 & ... & -1097.33 &  -722.58 & -1429.00 & -1422.00 &  -705.04 &  -800.50 &  -448.73 &    89.48 &   217.25 & Imbalance\\\\\n",
       "\t 2021-11-26 &  -541.50 &   109.72 &   195.00 &   195.00 &   225.00 &   204.00 &   338.00 &   -68.67 &  -915.30 & ... &   724.75 &   795.00 &   317.45 &  -111.32 & -1297.32 & -1842.93 & -1947.00 & -2778.67 & -1140.42 & Imbalance\\\\\n",
       "\t 2021-11-27 & -1309.25 &  -975.15 &     0.00 &   -50.00 &  -491.77 & -1665.50 & -1488.80 & -1226.00 & -1172.27 & ... & -3326.00 & -3011.33 & -1454.80 & -1562.25 & -1259.55 &  -920.98 &   177.21 &  -475.57 & -1417.00 & Imbalance\\\\\n",
       "\t 2021-11-28 &  -893.85 &  -276.13 &  -653.80 &  -705.50 &  -778.00 &  -514.00 &  -800.75 & -1017.00 &   673.63 & ... & -1205.00 &  -565.97 & -1235.33 &  -388.57 &   353.42 &   -60.98 &  -150.30 &  -864.92 &  -480.16 & Imbalance\\\\\n",
       "\t 2021-11-29 &  -310.74 &  -112.75 &   336.50 &  -174.00 &   -58.83 &  -250.57 & -1581.62 & -2234.82 & -2944.75 & ... & -2413.50 & -1487.70 & -1304.17 & -1365.10 & -1879.75 & -2150.67 & -1671.65 &  -940.43 & -1389.03 & Imbalance\\\\\n",
       "\t 2021-11-30 &   414.42 &    31.27 &    81.67 &   -40.33 &    62.90 &   345.08 &  -615.77 & -1393.10 &  -427.05 & ... &  1652.36 &   836.75 &   458.93 &   506.80 &   277.07 &   260.00 &   484.00 &   463.08 &  -786.65 & Imbalance\\\\\n",
       "\t 2021-12-01 &   420.55 &    19.25 &  -112.25 &    -5.00 &   -40.00 &  -110.77 &  -902.75 &   -82.95 & -1640.90 & ... &   166.63 & -1698.92 & -1664.68 & -1844.97 & -1057.62 &  -350.62 &   -88.00 &   -11.53 &     0.00 & Imbalance\\\\\n",
       "\t 2021-12-02 &  -642.75 & -1159.80 & -1038.10 &  -470.77 &   267.33 &  -205.02 &  -469.25 & -1356.82 & -1541.83 & ... &   130.27 &    93.06 & -1842.60 & -1310.62 &  -810.25 &  -673.18 &  -487.00 & -1057.17 &    56.73 & Imbalance\\\\\n",
       "\t 2021-12-03 &   831.00 &   492.48 & -1392.97 & -2232.33 & -1527.00 & -1246.82 & -1450.33 &  -848.30 & -1734.33 & ... &  -881.00 & -1305.72 & -2545.18 & -2364.42 & -1708.02 & -1486.33 & -1116.35 & -1723.50 & -1324.35 & Imbalance\\\\\n",
       "\t 2021-12-04 &  -145.75 &  -147.52 &     0.00 &     0.00 &   -37.45 &  -192.25 &  -500.00 &  -295.97 &  -825.20 & ... &  -844.55 & -1524.92 & -2476.28 & -3175.73 & -2403.00 & -1784.83 &  -880.50 &  -604.00 &    74.00 & Imbalance\\\\\n",
       "\t 2021-12-05 &   191.28 &  -620.75 & -1009.00 &  -600.67 &  -939.85 & -1588.00 & -1185.00 & -1084.33 &  -453.08 & ... &   -68.55 &  -284.88 & -2328.82 & -3322.33 & -1193.04 &  -121.45 &    63.00 &     0.00 &   535.24 & Imbalance\\\\\n",
       "\t 2021-12-06 &  1593.93 &  1043.68 &  2354.93 &  1825.67 &  1478.30 &   675.00 &  1100.00 &   560.74 &  -448.57 & ... &   155.13 &   211.00 &  -736.25 & -1050.46 &  -409.02 &   466.63 &   483.08 &  1056.40 &  -440.50 & Imbalance\\\\\n",
       "\t 2021-12-07 &  -176.70 &  -257.50 &  -407.65 &  -791.00 &  -994.00 &  -939.70 & -1363.42 &  -916.52 &  -957.17 & ... & -2172.17 & -1525.47 & -1625.00 &  -804.57 &   484.00 &   152.02 &  -213.00 &  -425.33 &  -265.10 & Imbalance\\\\\n",
       "\t 2021-12-08 &   168.00 &  -139.77 &   123.95 &     0.00 &     0.00 &  -125.50 &  -407.88 & -1543.02 & -1741.31 & ... & -2179.00 & -2073.00 & -2402.25 & -2262.75 & -1085.33 &  -809.00 &  -290.83 &  -232.78 &   390.99 & Imbalance\\\\\n",
       "\t 2021-12-09 &   203.17 &   -55.02 &    72.00 &     0.00 &     0.00 &     0.00 &    34.50 &   -35.00 & -1242.00 & ... &   197.93 &   -72.17 &  -568.00 &  -808.17 &  -770.00 &  -446.87 &  -699.00 & -1764.40 &  -620.60 & Imbalance\\\\\n",
       "\t 2021-12-10 &  -188.40 &  -753.95 &  -432.33 &  -392.00 &  -405.67 & -1073.17 & -1038.66 &  -823.60 & -1978.81 & ... & -1651.45 & -1417.01 & -1472.97 & -1014.15 &  -883.20 & -1297.87 & -1726.17 & -1330.85 &  -678.52 & Imbalance\\\\\n",
       "\\end{tabular}\n"
      ],
      "text/markdown": [
       "\n",
       "A data.table: 1075 × 26\n",
       "\n",
       "| date &lt;date&gt; | 0 &lt;dbl&gt; | 1 &lt;dbl&gt; | 2 &lt;dbl&gt; | 3 &lt;dbl&gt; | 4 &lt;dbl&gt; | 5 &lt;dbl&gt; | 6 &lt;dbl&gt; | 7 &lt;dbl&gt; | 8 &lt;dbl&gt; | ... ... | 15 &lt;dbl&gt; | 16 &lt;dbl&gt; | 17 &lt;dbl&gt; | 18 &lt;dbl&gt; | 19 &lt;dbl&gt; | 20 &lt;dbl&gt; | 21 &lt;dbl&gt; | 22 &lt;dbl&gt; | 23 &lt;dbl&gt; | Type &lt;chr&gt; |\n",
       "|---|---|---|---|---|---|---|---|---|---|---|---|---|---|---|---|---|---|---|---|---|\n",
       "| 2019-01-01 | 2288.57 |  808.08 | 1060.75 | 1120.48 | 1930.63 | 2181.00 |  2086.00 |  1963.00 |  2509.77 | ... |  -227.68 |   485.57 |  1215.90 |  1228.83 |  -635.47 |   643.00 |  1120.65 |   531.92 |  -376.55 | Imbalance |\n",
       "| 2019-01-02 | 1420.89 | 1852.23 | 1796.00 | 1667.97 | 1756.57 | 1988.00 |  2646.78 |  1901.26 |   969.72 | ... |     0.00 |   105.85 |   140.00 |   903.42 |  1280.30 |  1571.00 |  1299.67 |  1102.00 |  1319.62 | Imbalance |\n",
       "| 2019-01-03 | 2511.90 | 1154.61 |  876.40 | 1129.00 | 1069.62 | 1423.00 |  1378.60 |  1325.20 |   706.06 | ... |   526.00 |   764.34 |  2052.93 |   691.75 |   415.00 |   912.90 |  1273.93 |   901.72 |   567.52 | Imbalance |\n",
       "| 2019-01-04 | 1938.08 | 1020.03 | 1037.73 | 1095.75 | 1216.52 |  967.25 |  1199.08 |  -571.84 | -1224.60 | ... |  2031.00 |  2070.32 |  1939.13 |  1639.17 |  1966.92 |  1952.65 |  1718.63 |  2009.08 |  2252.33 | Imbalance |\n",
       "| 2019-01-05 | 2183.42 | 1503.84 | 1521.00 | 1523.00 | 1327.00 | 1609.00 |  1908.00 |  1846.93 |  1815.51 | ... |   842.00 |   661.50 |  1909.32 |  1268.50 |  1422.33 |  1205.33 |  1290.32 |  1307.83 |  1085.33 | Imbalance |\n",
       "| 2019-01-06 |  586.85 | -118.82 |  -95.00 |  160.42 |    0.00 |    0.00 |     0.00 |     0.00 |   448.13 | ... | -1886.00 | -2150.53 |  -410.52 |  -155.70 | -2134.90 | -2210.02 | -1881.87 | -1755.58 | -2122.05 | Imbalance |\n",
       "| 2019-01-07 | 1305.22 |  573.25 |  428.47 |  685.00 | -702.33 | -800.63 |  -952.38 |  -791.40 | -2531.72 | ... | -2505.33 | -2795.83 | -2307.00 | -2024.63 | -1587.83 |  -179.24 |    35.42 |   727.55 |  -251.32 | Imbalance |\n",
       "| 2019-01-08 |  761.62 |   13.24 | -257.65 | -352.00 | -352.00 | -212.00 |  -212.00 |   -45.00 | -3088.29 | ... | -2208.83 | -2111.23 | -2065.67 | -1533.57 |  -858.53 |  -525.18 |  -386.68 |   300.67 |  -374.65 | Imbalance |\n",
       "| 2019-01-09 | 1623.97 |  -88.95 |  124.75 |  340.17 |  143.57 | -463.65 | -2264.40 | -1743.42 | -2695.45 | ... |  1224.00 |  1661.72 |  2201.37 |  2042.45 |  1739.13 |  -124.34 |  -354.82 |   819.92 |   699.06 | Imbalance |\n",
       "| 2019-01-10 | 1365.83 | 1216.92 | 1223.50 | 1627.20 | 2199.62 | 2374.00 |  1633.14 |   287.08 |  -196.93 | ... |   164.75 |   996.32 |  1306.00 |  1250.45 |   855.10 |   829.17 |   806.72 |  1198.13 |   865.80 | Imbalance |\n",
       "| 2019-01-11 | 1783.56 | 1378.41 | 1715.28 | 2193.00 | 2169.00 | 1811.45 |   690.40 |  -323.08 | -1365.92 | ... |   840.00 |   783.27 |   194.70 |   175.67 |   110.45 |   375.33 |   419.00 |   510.87 |   344.00 | Imbalance |\n",
       "| 2019-01-12 |  291.90 |  135.29 | -105.00 |    0.00 |    0.00 |    0.00 |   -13.33 |   -32.50 |  -445.52 | ... |     0.00 |     0.00 |   366.60 |  -580.73 |   285.70 |   438.42 |   383.00 |   433.80 |   815.88 | Imbalance |\n",
       "| 2019-01-13 | 1067.17 | -172.07 |    0.00 |    0.00 |    0.00 |  -33.82 |  -450.00 |  -602.93 |   461.99 | ... | -1164.00 | -2055.37 | -2760.00 |  -508.63 |    33.35 |    91.42 |   180.82 |   334.13 |   433.33 | Imbalance |\n",
       "| 2019-01-14 | 1334.40 |  953.09 |  954.80 |  911.00 |  838.50 |  835.00 |   976.50 |   926.63 | -1287.45 | ... | -1146.00 |  -763.37 |     0.00 |   134.33 |    96.12 |     0.00 |   639.93 |  1005.67 |  1453.90 | Imbalance |\n",
       "| 2019-01-15 | 1856.10 |  463.32 |  340.23 |  461.67 |  234.00 |  404.52 |     0.00 | -1280.75 | -2884.53 | ... | -2490.83 | -2171.00 | -2107.00 |  -952.28 |  1264.25 |   817.94 |   829.85 |   922.65 |   839.00 | Imbalance |\n",
       "| 2019-01-16 | 1624.12 | 1304.50 | 1428.97 | 1365.00 | 1490.83 | 1865.00 |  2593.00 |  3699.54 |  1982.70 | ... |   530.33 |   809.13 |   879.63 |   612.67 |   422.84 |  -363.63 | -2554.24 |  -549.00 |   648.33 | Imbalance |\n",
       "| 2019-01-17 | 1012.11 |  222.92 |  537.90 |  625.00 |  751.00 |  821.00 |   915.00 | -1062.85 |  -763.35 | ... |  2076.50 |  2228.76 |  1551.75 |   528.27 |  -226.00 |  1225.32 |  1852.63 |  1202.83 |   258.26 | Imbalance |\n",
       "| 2019-01-18 |  357.32 |  139.55 |  270.27 |  193.93 |  392.00 |  390.00 |   138.50 |  -776.97 | -1768.19 | ... |  1059.57 |  1604.82 |  1070.17 |   553.00 |   528.50 |   522.00 |   558.33 |   391.67 |  1226.55 | Imbalance |\n",
       "| 2019-01-19 |  746.22 |   73.33 |    0.00 |    0.00 |    0.00 | -219.23 | -1968.37 | -1524.17 | -1849.08 | ... |   364.67 |   811.95 |  1327.05 |   108.48 |  -158.33 |  -695.12 |  -880.58 |  -824.75 |  -249.98 | Imbalance |\n",
       "| 2019-01-20 |  -48.65 |   52.50 |    0.00 |  331.27 |  252.00 |    0.00 |     0.00 |  -126.97 |  1103.03 | ... |  3230.88 |  2242.03 |  1701.28 |   866.85 |  1077.33 |   787.32 |  1093.72 |  1811.00 |  1531.00 | Imbalance |\n",
       "| 2019-01-21 | 1203.80 | 1055.00 | 1122.90 |  933.00 |  952.00 | 1152.00 |  1728.00 |  2053.53 |   199.58 | ... | -1861.75 | -1418.23 |   115.47 |   583.83 |   881.02 |   712.00 |   719.67 |  1347.62 |  1407.50 | Imbalance |\n",
       "| 2019-01-22 | 1587.67 | 1363.30 | 1162.00 | 1311.00 | 1004.00 | 1210.00 |  1624.00 |   436.32 |  1056.04 | ... |   210.00 |   299.00 |   322.00 |   348.32 |   404.52 |   815.95 |   558.48 |  1130.05 |  1674.72 | Imbalance |\n",
       "| 2019-01-23 | 1461.42 | 1228.86 | 1287.00 | 1115.00 | 2403.15 | 3315.00 |  3410.38 |  1340.70 |  1741.95 | ... |  1500.00 |  1648.20 |   941.00 |   660.58 |  1235.12 |  1780.15 |  1445.65 |   772.00 |   840.63 | Imbalance |\n",
       "| 2019-01-24 | 2389.45 | 1104.93 |  368.00 |  238.00 |  218.00 |  154.00 |     0.00 |   383.35 |    46.70 | ... | -2684.00 | -2890.83 | -3059.00 | -2533.31 | -2010.25 | -1016.33 |  -636.00 |  -692.67 |  -483.77 | Imbalance |\n",
       "| 2019-01-25 |  -60.02 | -391.46 | -237.00 |   54.14 |  873.78 |  647.00 |   677.00 |   313.10 |    77.78 | ... |   203.00 |   226.20 |  -860.00 |  -468.73 |   298.10 |  1237.70 |  1494.50 |  1686.63 |  1896.40 | Imbalance |\n",
       "| 2019-01-26 |  957.12 |   86.32 |  350.58 |  469.00 |  756.75 | 1739.00 |  1301.75 |  1578.37 |  1459.04 | ... |   528.00 |   552.53 |   633.70 |   363.57 |    -8.33 |   102.30 |   275.17 |   237.00 |   272.00 | Imbalance |\n",
       "| 2019-01-27 |  511.10 | -884.67 | -406.33 |    5.25 |    0.00 |    0.00 |     0.00 |     0.00 |   747.33 | ... |  -309.97 |   288.95 |   543.33 |    54.00 |  -319.97 |  -392.50 |    33.83 |   -16.00 |     0.00 | Imbalance |\n",
       "| 2019-01-28 |  751.15 | -562.36 | -528.52 | -750.00 | -566.00 | -585.00 |   297.63 |   271.68 |  -315.80 | ... |  1731.70 |  2835.50 |  2148.53 |  2191.00 |  1877.20 |  2982.17 |  2525.37 |  1726.53 |  1678.08 | Imbalance |\n",
       "| 2019-01-29 | 1108.17 |  242.21 |  720.17 | 1118.03 | 1063.00 | 1624.78 |  2045.07 |  1240.00 |   568.15 | ... |  1117.00 |  1456.88 |  1264.33 |   839.72 |   516.67 |  1363.90 |  1111.75 |  1151.00 |   717.00 | Imbalance |\n",
       "| 2019-01-30 | 1055.58 |  319.41 |  165.22 |  489.33 |  614.00 |  599.33 |  1650.63 |  1572.50 |   -15.78 | ... | -3279.45 | -2255.15 | -2079.00 | -1638.92 | -1643.25 |  -778.47 |   -61.19 |   466.00 |   353.67 | Imbalance |\n",
       "| ... | ... | ... | ... | ... | ... | ... | ... | ... | ... | <!----> | ... | ... | ... | ... | ... | ... | ... | ... | ... | ... |\n",
       "| 2021-11-11 |  -559.16 | -1014.58 | -1235.50 | -1460.00 | -1434.00 |  -953.00 | -1556.00 | -1841.07 | -1472.77 | ... |  -883.84 |  -997.87 | -1267.00 | -1181.33 | -1134.83 |  -924.87 | -1545.13 | -1935.51 | -1265.72 | Imbalance |\n",
       "| 2021-11-12 |  -900.42 |  -586.00 |   229.90 |   197.00 |    72.00 |   242.00 |   100.85 |  -288.00 | -2428.50 | ... |   668.00 |    34.86 | -1959.37 | -3205.70 | -1705.37 | -1522.83 |  -998.50 | -1020.33 | -1012.37 | Imbalance |\n",
       "| 2021-11-13 | -1207.97 | -1561.87 | -1825.40 | -2251.85 | -2169.00 | -1938.50 | -1778.50 | -1684.67 | -2084.20 | ... | -1516.37 |  -524.75 | -1359.32 | -2302.00 | -1682.17 | -1488.67 | -1247.76 | -1200.08 | -1924.22 | Imbalance |\n",
       "| 2021-11-14 | -1012.80 |  -892.37 |  -181.00 |  -526.00 |  -697.47 | -1315.00 |  -864.47 |   160.45 |   935.77 | ... |  1323.23 |   996.83 |   196.20 |  -802.00 |  -472.40 |   -61.40 |   248.67 |   346.20 |   341.75 | Imbalance |\n",
       "| 2021-11-15 |   797.00 |  -418.50 |  -268.37 |  -331.20 |     0.00 |     0.00 |   366.00 |   -71.01 | -1311.50 | ... |  -299.90 |   -45.41 |  -230.00 |   -84.13 |   444.61 |   746.33 |   503.25 |   259.00 |   281.83 | Imbalance |\n",
       "| 2021-11-16 |   674.30 |   -14.50 |   274.00 |   318.17 |   711.00 |   550.33 |   728.50 |   983.97 |  -552.70 | ... |  -531.73 |  -550.45 | -1221.50 |  -626.33 |  -399.58 |   338.00 |   144.10 |  -216.00 |  -247.75 | Imbalance |\n",
       "| 2021-11-17 |  -314.83 |  -489.08 |  -719.00 |  -555.31 |   275.00 |  -122.22 |     0.00 |  -459.90 | -1190.35 | ... |  -568.00 | -1057.83 | -2712.33 | -2260.25 | -1350.00 | -1112.50 | -1224.50 |  -715.55 |  -943.94 | Imbalance |\n",
       "| 2021-11-18 | -1227.47 |  -612.50 |     0.00 |     0.00 |     0.00 |  -408.48 | -1275.00 | -1122.83 | -1485.80 | ... | -2438.00 | -2211.95 | -3025.15 | -3440.00 | -2742.80 | -1857.83 | -1312.17 | -1290.33 | -1682.80 | Imbalance |\n",
       "| 2021-11-19 | -1360.01 |  -693.08 |  -388.08 |  -322.00 |   -94.10 |  -225.07 |  -263.67 |  -519.58 | -1186.02 | ... | -1547.85 |  -864.47 | -1261.42 | -1317.45 | -1007.67 | -1268.93 | -1430.43 | -1855.45 |  -760.80 | Imbalance |\n",
       "| 2021-11-20 |  -855.57 |  -731.18 |  -892.62 | -1089.32 |  -935.23 |  -810.90 |  -836.05 |  -962.15 | -1152.13 | ... | -2511.00 | -1946.85 | -1269.65 | -1042.00 | -1166.17 |  -764.50 | -1278.93 | -1077.03 | -1149.05 | Imbalance |\n",
       "| 2021-11-21 | -1744.00 |  -845.65 |  -286.16 |  -573.83 |   475.00 |   511.00 |   522.00 |   894.77 |   316.05 | ... |   122.08 |  -334.10 |  -585.37 |  -532.33 |  -847.75 |  -482.00 | -1295.87 |  -678.78 |    41.50 | Imbalance |\n",
       "| 2021-11-22 |   502.27 |   787.48 |  1268.50 |  1282.60 |  1232.00 |  1504.00 |  1239.35 |  -229.00 |  -879.64 | ... |    90.50 |   791.66 | -1317.88 | -1187.17 |   -60.76 |   247.00 |    11.07 |   152.00 |     0.00 | Imbalance |\n",
       "| 2021-11-23 |   -45.00 |  -182.41 |     0.00 |     0.00 |     0.00 | -1284.50 |  -742.62 |  -990.32 | -1220.38 | ... |  -362.80 |  -495.60 | -1423.92 |  -976.32 |  -111.38 |   -77.00 |   212.08 |  -868.33 |  -605.70 | Imbalance |\n",
       "| 2021-11-24 |  -571.67 | -1231.25 |  -610.25 |  -706.00 |  -936.00 |  -867.00 |  -730.50 |  -848.00 |  -637.95 | ... |  -955.10 |  -866.97 |  -755.00 |  -732.85 | -1521.00 | -1321.00 |  -802.57 | -1302.00 |  -855.21 | Imbalance |\n",
       "| 2021-11-25 |  -787.52 |  -670.39 |  -123.25 |  -654.47 | -1123.00 | -1104.00 | -1187.33 | -2998.22 | -1149.13 | ... | -1097.33 |  -722.58 | -1429.00 | -1422.00 |  -705.04 |  -800.50 |  -448.73 |    89.48 |   217.25 | Imbalance |\n",
       "| 2021-11-26 |  -541.50 |   109.72 |   195.00 |   195.00 |   225.00 |   204.00 |   338.00 |   -68.67 |  -915.30 | ... |   724.75 |   795.00 |   317.45 |  -111.32 | -1297.32 | -1842.93 | -1947.00 | -2778.67 | -1140.42 | Imbalance |\n",
       "| 2021-11-27 | -1309.25 |  -975.15 |     0.00 |   -50.00 |  -491.77 | -1665.50 | -1488.80 | -1226.00 | -1172.27 | ... | -3326.00 | -3011.33 | -1454.80 | -1562.25 | -1259.55 |  -920.98 |   177.21 |  -475.57 | -1417.00 | Imbalance |\n",
       "| 2021-11-28 |  -893.85 |  -276.13 |  -653.80 |  -705.50 |  -778.00 |  -514.00 |  -800.75 | -1017.00 |   673.63 | ... | -1205.00 |  -565.97 | -1235.33 |  -388.57 |   353.42 |   -60.98 |  -150.30 |  -864.92 |  -480.16 | Imbalance |\n",
       "| 2021-11-29 |  -310.74 |  -112.75 |   336.50 |  -174.00 |   -58.83 |  -250.57 | -1581.62 | -2234.82 | -2944.75 | ... | -2413.50 | -1487.70 | -1304.17 | -1365.10 | -1879.75 | -2150.67 | -1671.65 |  -940.43 | -1389.03 | Imbalance |\n",
       "| 2021-11-30 |   414.42 |    31.27 |    81.67 |   -40.33 |    62.90 |   345.08 |  -615.77 | -1393.10 |  -427.05 | ... |  1652.36 |   836.75 |   458.93 |   506.80 |   277.07 |   260.00 |   484.00 |   463.08 |  -786.65 | Imbalance |\n",
       "| 2021-12-01 |   420.55 |    19.25 |  -112.25 |    -5.00 |   -40.00 |  -110.77 |  -902.75 |   -82.95 | -1640.90 | ... |   166.63 | -1698.92 | -1664.68 | -1844.97 | -1057.62 |  -350.62 |   -88.00 |   -11.53 |     0.00 | Imbalance |\n",
       "| 2021-12-02 |  -642.75 | -1159.80 | -1038.10 |  -470.77 |   267.33 |  -205.02 |  -469.25 | -1356.82 | -1541.83 | ... |   130.27 |    93.06 | -1842.60 | -1310.62 |  -810.25 |  -673.18 |  -487.00 | -1057.17 |    56.73 | Imbalance |\n",
       "| 2021-12-03 |   831.00 |   492.48 | -1392.97 | -2232.33 | -1527.00 | -1246.82 | -1450.33 |  -848.30 | -1734.33 | ... |  -881.00 | -1305.72 | -2545.18 | -2364.42 | -1708.02 | -1486.33 | -1116.35 | -1723.50 | -1324.35 | Imbalance |\n",
       "| 2021-12-04 |  -145.75 |  -147.52 |     0.00 |     0.00 |   -37.45 |  -192.25 |  -500.00 |  -295.97 |  -825.20 | ... |  -844.55 | -1524.92 | -2476.28 | -3175.73 | -2403.00 | -1784.83 |  -880.50 |  -604.00 |    74.00 | Imbalance |\n",
       "| 2021-12-05 |   191.28 |  -620.75 | -1009.00 |  -600.67 |  -939.85 | -1588.00 | -1185.00 | -1084.33 |  -453.08 | ... |   -68.55 |  -284.88 | -2328.82 | -3322.33 | -1193.04 |  -121.45 |    63.00 |     0.00 |   535.24 | Imbalance |\n",
       "| 2021-12-06 |  1593.93 |  1043.68 |  2354.93 |  1825.67 |  1478.30 |   675.00 |  1100.00 |   560.74 |  -448.57 | ... |   155.13 |   211.00 |  -736.25 | -1050.46 |  -409.02 |   466.63 |   483.08 |  1056.40 |  -440.50 | Imbalance |\n",
       "| 2021-12-07 |  -176.70 |  -257.50 |  -407.65 |  -791.00 |  -994.00 |  -939.70 | -1363.42 |  -916.52 |  -957.17 | ... | -2172.17 | -1525.47 | -1625.00 |  -804.57 |   484.00 |   152.02 |  -213.00 |  -425.33 |  -265.10 | Imbalance |\n",
       "| 2021-12-08 |   168.00 |  -139.77 |   123.95 |     0.00 |     0.00 |  -125.50 |  -407.88 | -1543.02 | -1741.31 | ... | -2179.00 | -2073.00 | -2402.25 | -2262.75 | -1085.33 |  -809.00 |  -290.83 |  -232.78 |   390.99 | Imbalance |\n",
       "| 2021-12-09 |   203.17 |   -55.02 |    72.00 |     0.00 |     0.00 |     0.00 |    34.50 |   -35.00 | -1242.00 | ... |   197.93 |   -72.17 |  -568.00 |  -808.17 |  -770.00 |  -446.87 |  -699.00 | -1764.40 |  -620.60 | Imbalance |\n",
       "| 2021-12-10 |  -188.40 |  -753.95 |  -432.33 |  -392.00 |  -405.67 | -1073.17 | -1038.66 |  -823.60 | -1978.81 | ... | -1651.45 | -1417.01 | -1472.97 | -1014.15 |  -883.20 | -1297.87 | -1726.17 | -1330.85 |  -678.52 | Imbalance |\n",
       "\n"
      ],
      "text/plain": [
       "     date       0        1        2        3        4        5        6       \n",
       "1    2019-01-01 2288.57   808.08  1060.75  1120.48  1930.63  2181.00   2086.00\n",
       "2    2019-01-02 1420.89  1852.23  1796.00  1667.97  1756.57  1988.00   2646.78\n",
       "3    2019-01-03 2511.90  1154.61   876.40  1129.00  1069.62  1423.00   1378.60\n",
       "4    2019-01-04 1938.08  1020.03  1037.73  1095.75  1216.52   967.25   1199.08\n",
       "5    2019-01-05 2183.42  1503.84  1521.00  1523.00  1327.00  1609.00   1908.00\n",
       "6    2019-01-06  586.85  -118.82   -95.00   160.42     0.00     0.00      0.00\n",
       "7    2019-01-07 1305.22   573.25   428.47   685.00  -702.33  -800.63   -952.38\n",
       "8    2019-01-08  761.62    13.24  -257.65  -352.00  -352.00  -212.00   -212.00\n",
       "9    2019-01-09 1623.97   -88.95   124.75   340.17   143.57  -463.65  -2264.40\n",
       "10   2019-01-10 1365.83  1216.92  1223.50  1627.20  2199.62  2374.00   1633.14\n",
       "11   2019-01-11 1783.56  1378.41  1715.28  2193.00  2169.00  1811.45    690.40\n",
       "12   2019-01-12  291.90   135.29  -105.00     0.00     0.00     0.00    -13.33\n",
       "13   2019-01-13 1067.17  -172.07     0.00     0.00     0.00   -33.82   -450.00\n",
       "14   2019-01-14 1334.40   953.09   954.80   911.00   838.50   835.00    976.50\n",
       "15   2019-01-15 1856.10   463.32   340.23   461.67   234.00   404.52      0.00\n",
       "16   2019-01-16 1624.12  1304.50  1428.97  1365.00  1490.83  1865.00   2593.00\n",
       "17   2019-01-17 1012.11   222.92   537.90   625.00   751.00   821.00    915.00\n",
       "18   2019-01-18  357.32   139.55   270.27   193.93   392.00   390.00    138.50\n",
       "19   2019-01-19  746.22    73.33     0.00     0.00     0.00  -219.23  -1968.37\n",
       "20   2019-01-20  -48.65    52.50     0.00   331.27   252.00     0.00      0.00\n",
       "21   2019-01-21 1203.80  1055.00  1122.90   933.00   952.00  1152.00   1728.00\n",
       "22   2019-01-22 1587.67  1363.30  1162.00  1311.00  1004.00  1210.00   1624.00\n",
       "23   2019-01-23 1461.42  1228.86  1287.00  1115.00  2403.15  3315.00   3410.38\n",
       "24   2019-01-24 2389.45  1104.93   368.00   238.00   218.00   154.00      0.00\n",
       "25   2019-01-25  -60.02  -391.46  -237.00    54.14   873.78   647.00    677.00\n",
       "26   2019-01-26  957.12    86.32   350.58   469.00   756.75  1739.00   1301.75\n",
       "27   2019-01-27  511.10  -884.67  -406.33     5.25     0.00     0.00      0.00\n",
       "28   2019-01-28  751.15  -562.36  -528.52  -750.00  -566.00  -585.00    297.63\n",
       "29   2019-01-29 1108.17   242.21   720.17  1118.03  1063.00  1624.78   2045.07\n",
       "30   2019-01-30 1055.58   319.41   165.22   489.33   614.00   599.33   1650.63\n",
       "...  ...        ...      ...      ...      ...      ...      ...      ...     \n",
       "1046 2021-11-11  -559.16 -1014.58 -1235.50 -1460.00 -1434.00  -953.00 -1556.00\n",
       "1047 2021-11-12  -900.42  -586.00   229.90   197.00    72.00   242.00   100.85\n",
       "1048 2021-11-13 -1207.97 -1561.87 -1825.40 -2251.85 -2169.00 -1938.50 -1778.50\n",
       "1049 2021-11-14 -1012.80  -892.37  -181.00  -526.00  -697.47 -1315.00  -864.47\n",
       "1050 2021-11-15   797.00  -418.50  -268.37  -331.20     0.00     0.00   366.00\n",
       "1051 2021-11-16   674.30   -14.50   274.00   318.17   711.00   550.33   728.50\n",
       "1052 2021-11-17  -314.83  -489.08  -719.00  -555.31   275.00  -122.22     0.00\n",
       "1053 2021-11-18 -1227.47  -612.50     0.00     0.00     0.00  -408.48 -1275.00\n",
       "1054 2021-11-19 -1360.01  -693.08  -388.08  -322.00   -94.10  -225.07  -263.67\n",
       "1055 2021-11-20  -855.57  -731.18  -892.62 -1089.32  -935.23  -810.90  -836.05\n",
       "1056 2021-11-21 -1744.00  -845.65  -286.16  -573.83   475.00   511.00   522.00\n",
       "1057 2021-11-22   502.27   787.48  1268.50  1282.60  1232.00  1504.00  1239.35\n",
       "1058 2021-11-23   -45.00  -182.41     0.00     0.00     0.00 -1284.50  -742.62\n",
       "1059 2021-11-24  -571.67 -1231.25  -610.25  -706.00  -936.00  -867.00  -730.50\n",
       "1060 2021-11-25  -787.52  -670.39  -123.25  -654.47 -1123.00 -1104.00 -1187.33\n",
       "1061 2021-11-26  -541.50   109.72   195.00   195.00   225.00   204.00   338.00\n",
       "1062 2021-11-27 -1309.25  -975.15     0.00   -50.00  -491.77 -1665.50 -1488.80\n",
       "1063 2021-11-28  -893.85  -276.13  -653.80  -705.50  -778.00  -514.00  -800.75\n",
       "1064 2021-11-29  -310.74  -112.75   336.50  -174.00   -58.83  -250.57 -1581.62\n",
       "1065 2021-11-30   414.42    31.27    81.67   -40.33    62.90   345.08  -615.77\n",
       "1066 2021-12-01   420.55    19.25  -112.25    -5.00   -40.00  -110.77  -902.75\n",
       "1067 2021-12-02  -642.75 -1159.80 -1038.10  -470.77   267.33  -205.02  -469.25\n",
       "1068 2021-12-03   831.00   492.48 -1392.97 -2232.33 -1527.00 -1246.82 -1450.33\n",
       "1069 2021-12-04  -145.75  -147.52     0.00     0.00   -37.45  -192.25  -500.00\n",
       "1070 2021-12-05   191.28  -620.75 -1009.00  -600.67  -939.85 -1588.00 -1185.00\n",
       "1071 2021-12-06  1593.93  1043.68  2354.93  1825.67  1478.30   675.00  1100.00\n",
       "1072 2021-12-07  -176.70  -257.50  -407.65  -791.00  -994.00  -939.70 -1363.42\n",
       "1073 2021-12-08   168.00  -139.77   123.95     0.00     0.00  -125.50  -407.88\n",
       "1074 2021-12-09   203.17   -55.02    72.00     0.00     0.00     0.00    34.50\n",
       "1075 2021-12-10  -188.40  -753.95  -432.33  -392.00  -405.67 -1073.17 -1038.66\n",
       "     7        8        ... 15       16       17       18       19      \n",
       "1     1963.00  2509.77 ...  -227.68   485.57  1215.90  1228.83  -635.47\n",
       "2     1901.26   969.72 ...     0.00   105.85   140.00   903.42  1280.30\n",
       "3     1325.20   706.06 ...   526.00   764.34  2052.93   691.75   415.00\n",
       "4     -571.84 -1224.60 ...  2031.00  2070.32  1939.13  1639.17  1966.92\n",
       "5     1846.93  1815.51 ...   842.00   661.50  1909.32  1268.50  1422.33\n",
       "6        0.00   448.13 ... -1886.00 -2150.53  -410.52  -155.70 -2134.90\n",
       "7     -791.40 -2531.72 ... -2505.33 -2795.83 -2307.00 -2024.63 -1587.83\n",
       "8      -45.00 -3088.29 ... -2208.83 -2111.23 -2065.67 -1533.57  -858.53\n",
       "9    -1743.42 -2695.45 ...  1224.00  1661.72  2201.37  2042.45  1739.13\n",
       "10     287.08  -196.93 ...   164.75   996.32  1306.00  1250.45   855.10\n",
       "11    -323.08 -1365.92 ...   840.00   783.27   194.70   175.67   110.45\n",
       "12     -32.50  -445.52 ...     0.00     0.00   366.60  -580.73   285.70\n",
       "13    -602.93   461.99 ... -1164.00 -2055.37 -2760.00  -508.63    33.35\n",
       "14     926.63 -1287.45 ... -1146.00  -763.37     0.00   134.33    96.12\n",
       "15   -1280.75 -2884.53 ... -2490.83 -2171.00 -2107.00  -952.28  1264.25\n",
       "16    3699.54  1982.70 ...   530.33   809.13   879.63   612.67   422.84\n",
       "17   -1062.85  -763.35 ...  2076.50  2228.76  1551.75   528.27  -226.00\n",
       "18    -776.97 -1768.19 ...  1059.57  1604.82  1070.17   553.00   528.50\n",
       "19   -1524.17 -1849.08 ...   364.67   811.95  1327.05   108.48  -158.33\n",
       "20    -126.97  1103.03 ...  3230.88  2242.03  1701.28   866.85  1077.33\n",
       "21    2053.53   199.58 ... -1861.75 -1418.23   115.47   583.83   881.02\n",
       "22     436.32  1056.04 ...   210.00   299.00   322.00   348.32   404.52\n",
       "23    1340.70  1741.95 ...  1500.00  1648.20   941.00   660.58  1235.12\n",
       "24     383.35    46.70 ... -2684.00 -2890.83 -3059.00 -2533.31 -2010.25\n",
       "25     313.10    77.78 ...   203.00   226.20  -860.00  -468.73   298.10\n",
       "26    1578.37  1459.04 ...   528.00   552.53   633.70   363.57    -8.33\n",
       "27       0.00   747.33 ...  -309.97   288.95   543.33    54.00  -319.97\n",
       "28     271.68  -315.80 ...  1731.70  2835.50  2148.53  2191.00  1877.20\n",
       "29    1240.00   568.15 ...  1117.00  1456.88  1264.33   839.72   516.67\n",
       "30    1572.50   -15.78 ... -3279.45 -2255.15 -2079.00 -1638.92 -1643.25\n",
       "...  ...      ...          ...      ...      ...      ...      ...     \n",
       "1046 -1841.07 -1472.77 ...  -883.84  -997.87 -1267.00 -1181.33 -1134.83\n",
       "1047  -288.00 -2428.50 ...   668.00    34.86 -1959.37 -3205.70 -1705.37\n",
       "1048 -1684.67 -2084.20 ... -1516.37  -524.75 -1359.32 -2302.00 -1682.17\n",
       "1049   160.45   935.77 ...  1323.23   996.83   196.20  -802.00  -472.40\n",
       "1050   -71.01 -1311.50 ...  -299.90   -45.41  -230.00   -84.13   444.61\n",
       "1051   983.97  -552.70 ...  -531.73  -550.45 -1221.50  -626.33  -399.58\n",
       "1052  -459.90 -1190.35 ...  -568.00 -1057.83 -2712.33 -2260.25 -1350.00\n",
       "1053 -1122.83 -1485.80 ... -2438.00 -2211.95 -3025.15 -3440.00 -2742.80\n",
       "1054  -519.58 -1186.02 ... -1547.85  -864.47 -1261.42 -1317.45 -1007.67\n",
       "1055  -962.15 -1152.13 ... -2511.00 -1946.85 -1269.65 -1042.00 -1166.17\n",
       "1056   894.77   316.05 ...   122.08  -334.10  -585.37  -532.33  -847.75\n",
       "1057  -229.00  -879.64 ...    90.50   791.66 -1317.88 -1187.17   -60.76\n",
       "1058  -990.32 -1220.38 ...  -362.80  -495.60 -1423.92  -976.32  -111.38\n",
       "1059  -848.00  -637.95 ...  -955.10  -866.97  -755.00  -732.85 -1521.00\n",
       "1060 -2998.22 -1149.13 ... -1097.33  -722.58 -1429.00 -1422.00  -705.04\n",
       "1061   -68.67  -915.30 ...   724.75   795.00   317.45  -111.32 -1297.32\n",
       "1062 -1226.00 -1172.27 ... -3326.00 -3011.33 -1454.80 -1562.25 -1259.55\n",
       "1063 -1017.00   673.63 ... -1205.00  -565.97 -1235.33  -388.57   353.42\n",
       "1064 -2234.82 -2944.75 ... -2413.50 -1487.70 -1304.17 -1365.10 -1879.75\n",
       "1065 -1393.10  -427.05 ...  1652.36   836.75   458.93   506.80   277.07\n",
       "1066   -82.95 -1640.90 ...   166.63 -1698.92 -1664.68 -1844.97 -1057.62\n",
       "1067 -1356.82 -1541.83 ...   130.27    93.06 -1842.60 -1310.62  -810.25\n",
       "1068  -848.30 -1734.33 ...  -881.00 -1305.72 -2545.18 -2364.42 -1708.02\n",
       "1069  -295.97  -825.20 ...  -844.55 -1524.92 -2476.28 -3175.73 -2403.00\n",
       "1070 -1084.33  -453.08 ...   -68.55  -284.88 -2328.82 -3322.33 -1193.04\n",
       "1071   560.74  -448.57 ...   155.13   211.00  -736.25 -1050.46  -409.02\n",
       "1072  -916.52  -957.17 ... -2172.17 -1525.47 -1625.00  -804.57   484.00\n",
       "1073 -1543.02 -1741.31 ... -2179.00 -2073.00 -2402.25 -2262.75 -1085.33\n",
       "1074   -35.00 -1242.00 ...   197.93   -72.17  -568.00  -808.17  -770.00\n",
       "1075  -823.60 -1978.81 ... -1651.45 -1417.01 -1472.97 -1014.15  -883.20\n",
       "     20       21       22       23       Type     \n",
       "1      643.00  1120.65   531.92  -376.55 Imbalance\n",
       "2     1571.00  1299.67  1102.00  1319.62 Imbalance\n",
       "3      912.90  1273.93   901.72   567.52 Imbalance\n",
       "4     1952.65  1718.63  2009.08  2252.33 Imbalance\n",
       "5     1205.33  1290.32  1307.83  1085.33 Imbalance\n",
       "6    -2210.02 -1881.87 -1755.58 -2122.05 Imbalance\n",
       "7     -179.24    35.42   727.55  -251.32 Imbalance\n",
       "8     -525.18  -386.68   300.67  -374.65 Imbalance\n",
       "9     -124.34  -354.82   819.92   699.06 Imbalance\n",
       "10     829.17   806.72  1198.13   865.80 Imbalance\n",
       "11     375.33   419.00   510.87   344.00 Imbalance\n",
       "12     438.42   383.00   433.80   815.88 Imbalance\n",
       "13      91.42   180.82   334.13   433.33 Imbalance\n",
       "14       0.00   639.93  1005.67  1453.90 Imbalance\n",
       "15     817.94   829.85   922.65   839.00 Imbalance\n",
       "16    -363.63 -2554.24  -549.00   648.33 Imbalance\n",
       "17    1225.32  1852.63  1202.83   258.26 Imbalance\n",
       "18     522.00   558.33   391.67  1226.55 Imbalance\n",
       "19    -695.12  -880.58  -824.75  -249.98 Imbalance\n",
       "20     787.32  1093.72  1811.00  1531.00 Imbalance\n",
       "21     712.00   719.67  1347.62  1407.50 Imbalance\n",
       "22     815.95   558.48  1130.05  1674.72 Imbalance\n",
       "23    1780.15  1445.65   772.00   840.63 Imbalance\n",
       "24   -1016.33  -636.00  -692.67  -483.77 Imbalance\n",
       "25    1237.70  1494.50  1686.63  1896.40 Imbalance\n",
       "26     102.30   275.17   237.00   272.00 Imbalance\n",
       "27    -392.50    33.83   -16.00     0.00 Imbalance\n",
       "28    2982.17  2525.37  1726.53  1678.08 Imbalance\n",
       "29    1363.90  1111.75  1151.00   717.00 Imbalance\n",
       "30    -778.47   -61.19   466.00   353.67 Imbalance\n",
       "...  ...      ...      ...      ...      ...      \n",
       "1046  -924.87 -1545.13 -1935.51 -1265.72 Imbalance\n",
       "1047 -1522.83  -998.50 -1020.33 -1012.37 Imbalance\n",
       "1048 -1488.67 -1247.76 -1200.08 -1924.22 Imbalance\n",
       "1049   -61.40   248.67   346.20   341.75 Imbalance\n",
       "1050   746.33   503.25   259.00   281.83 Imbalance\n",
       "1051   338.00   144.10  -216.00  -247.75 Imbalance\n",
       "1052 -1112.50 -1224.50  -715.55  -943.94 Imbalance\n",
       "1053 -1857.83 -1312.17 -1290.33 -1682.80 Imbalance\n",
       "1054 -1268.93 -1430.43 -1855.45  -760.80 Imbalance\n",
       "1055  -764.50 -1278.93 -1077.03 -1149.05 Imbalance\n",
       "1056  -482.00 -1295.87  -678.78    41.50 Imbalance\n",
       "1057   247.00    11.07   152.00     0.00 Imbalance\n",
       "1058   -77.00   212.08  -868.33  -605.70 Imbalance\n",
       "1059 -1321.00  -802.57 -1302.00  -855.21 Imbalance\n",
       "1060  -800.50  -448.73    89.48   217.25 Imbalance\n",
       "1061 -1842.93 -1947.00 -2778.67 -1140.42 Imbalance\n",
       "1062  -920.98   177.21  -475.57 -1417.00 Imbalance\n",
       "1063   -60.98  -150.30  -864.92  -480.16 Imbalance\n",
       "1064 -2150.67 -1671.65  -940.43 -1389.03 Imbalance\n",
       "1065   260.00   484.00   463.08  -786.65 Imbalance\n",
       "1066  -350.62   -88.00   -11.53     0.00 Imbalance\n",
       "1067  -673.18  -487.00 -1057.17    56.73 Imbalance\n",
       "1068 -1486.33 -1116.35 -1723.50 -1324.35 Imbalance\n",
       "1069 -1784.83  -880.50  -604.00    74.00 Imbalance\n",
       "1070  -121.45    63.00     0.00   535.24 Imbalance\n",
       "1071   466.63   483.08  1056.40  -440.50 Imbalance\n",
       "1072   152.02  -213.00  -425.33  -265.10 Imbalance\n",
       "1073  -809.00  -290.83  -232.78   390.99 Imbalance\n",
       "1074  -446.87  -699.00 -1764.40  -620.60 Imbalance\n",
       "1075 -1297.87 -1726.17 -1330.85  -678.52 Imbalance"
      ]
     },
     "metadata": {},
     "output_type": "display_data"
    },
    {
     "data": {
      "text/html": [
       "TRUE"
      ],
      "text/latex": [
       "TRUE"
      ],
      "text/markdown": [
       "TRUE"
      ],
      "text/plain": [
       "[1] TRUE"
      ]
     },
     "metadata": {},
     "output_type": "display_data"
    }
   ],
   "source": [
    "deneme <- LongtoWide(data, c(\"Imbalance\",\"Label\"))\n",
    "deneme[Type == \"Imbalance\"]\n",
    "is.data.table(deneme)"
   ]
  },
  {
   "cell_type": "code",
   "execution_count": 182,
   "id": "bae633e0",
   "metadata": {},
   "outputs": [
    {
     "data": {
      "text/html": [
       "0"
      ],
      "text/latex": [
       "0"
      ],
      "text/markdown": [
       "0"
      ],
      "text/plain": [
       "[1] 0"
      ]
     },
     "metadata": {},
     "output_type": "display_data"
    },
    {
     "data": {
      "text/html": [
       "<time datetime=\"2019-01-03\">2019-01-03</time>"
      ],
      "text/latex": [
       "2019-01-03"
      ],
      "text/markdown": [
       "2019-01-03"
      ],
      "text/plain": [
       "[1] \"2019-01-03\""
      ]
     },
     "metadata": {},
     "output_type": "display_data"
    }
   ],
   "source": [
    "hour <- 0\n",
    "hour \n",
    "\n",
    "datex = '2019-01-02'\n",
    "datex = ymd('2019-01-02') + days(1)\n",
    "datex\n"
   ]
  },
  {
   "cell_type": "code",
   "execution_count": 183,
   "id": "5e1d55b9",
   "metadata": {},
   "outputs": [
    {
     "data": {
      "text/html": [
       "<table class=\"dataframe\">\n",
       "<caption>A data.table: 2 × 1</caption>\n",
       "<thead>\n",
       "\t<tr><th scope=col>0</th></tr>\n",
       "\t<tr><th scope=col>&lt;dbl&gt;</th></tr>\n",
       "</thead>\n",
       "<tbody>\n",
       "\t<tr><td>1</td></tr>\n",
       "\t<tr><td>1</td></tr>\n",
       "</tbody>\n",
       "</table>\n"
      ],
      "text/latex": [
       "A data.table: 2 × 1\n",
       "\\begin{tabular}{l}\n",
       " 0\\\\\n",
       " <dbl>\\\\\n",
       "\\hline\n",
       "\t 1\\\\\n",
       "\t 1\\\\\n",
       "\\end{tabular}\n"
      ],
      "text/markdown": [
       "\n",
       "A data.table: 2 × 1\n",
       "\n",
       "| 0 &lt;dbl&gt; |\n",
       "|---|\n",
       "| 1 |\n",
       "| 1 |\n",
       "\n"
      ],
      "text/plain": [
       "  0\n",
       "1 1\n",
       "2 1"
      ]
     },
     "metadata": {},
     "output_type": "display_data"
    }
   ],
   "source": [
    "date_index <- '2019-01-02'\n",
    "\n",
    "sign <- LongtoWide(data, c(\"Label\"))\n",
    "    sign <- sign [date <= date_index,]\n",
    "    sign <- sign [, hour+2, with=FALSE]\n",
    "sign"
   ]
  },
  {
   "cell_type": "code",
   "execution_count": 184,
   "id": "1e6793d1",
   "metadata": {},
   "outputs": [],
   "source": [
    "PreviousSigns <- function(date_index,hour){\n",
    "    sign <- LongtoWide(data, c(\"Label\"))\n",
    "    sign <- sign [date <= date_index,]\n",
    "    sign <- sign [, hour+2, with=FALSE]\n",
    "    \n",
    "    value <- LongtoWide(data, c(\"Imbalance\"))\n",
    "    value <- value [date <= date_index,]\n",
    "    value <- value [, hour+2, with=FALSE]\n",
    "    \n",
    "    date_inf <- LongtoWide(data, c(\"Label\"))\n",
    "    date_inf <- date_inf[date<=date_index]\n",
    "    date_inf <- date_inf[,1]\n",
    "    date_inf\n",
    "    \n",
    "    result <- cbind(date_inf,sign, value)\n",
    "\n",
    "    setnames(result,c('date','Label','Imbalance'))\n",
    "    result[,Hour := hour]\n",
    "    #counts <- table(result[,2])\n",
    "    #print(paste0(\"The number of \",\"Negative Balance(-1): \",counts[1],\", Positive Balance(1): \",counts[2]))\n",
    "    print(result)\n",
    "    \n",
    "    return(result)\n",
    "    }"
   ]
  },
  {
   "cell_type": "code",
   "execution_count": 185,
   "id": "87f626fd",
   "metadata": {},
   "outputs": [
    {
     "name": "stdout",
     "output_type": "stream",
     "text": [
      "         date Label Imbalance Hour\n",
      "1: 2019-01-01     1   1930.63    4\n",
      "2: 2019-01-02     1   1756.57    4\n",
      "3: 2019-01-03     1   1069.62    4\n",
      "4: 2019-01-04     1   1216.52    4\n",
      "5: 2019-01-05     1   1327.00    4\n"
     ]
    }
   ],
   "source": [
    "deneme1 <- PreviousSigns(\"2019-01-5\", 4)\n",
    "\n"
   ]
  },
  {
   "cell_type": "code",
   "execution_count": 109,
   "id": "b2c1a329",
   "metadata": {},
   "outputs": [],
   "source": [
    "\n",
    "\n",
    "Baselineday<- function(day, hour){ #Shows 1 day before \n",
    "    \n",
    "    day = ymd(day) - days(1) \n",
    "    \n",
    "    sign <- LongtoWide(data, c(\"Label\"))\n",
    "    sign <- sign[date == day,]\n",
    "    sign <- sign[,hour+2, with=FALSE]\n",
    "    \n",
    "    value <- LongtoWide(data, c(\"Imbalance\"))\n",
    "    value <- value [date == day,]\n",
    "    value <- value [, hour+2, with=FALSE]\n",
    "    \n",
    "    date_inf <- LongtoWide(data, c(\"Label\"))\n",
    "    date_inf <- date_inf[date==day]\n",
    "    date_inf <- date_inf[,1]\n",
    "    date_inf\n",
    "    \n",
    "    result <- cbind(date_inf,sign, value)\n",
    "\n",
    "    setnames(result,c('date','Label','Imbalance'))\n",
    "    result[,Hour := hour]\n",
    "    #print(result)\n",
    "    return(result)\n",
    "    \n",
    "    }\n",
    "Baselineweek <- function(day, hour){#Shows 1 week before\n",
    "      day = ymd(day) - days(7) \n",
    "    \n",
    "    sign <- LongtoWide(data, c(\"Label\"))\n",
    "    sign <- sign[date == day,]\n",
    "    sign <- sign[,hour+2, with=FALSE]\n",
    "    \n",
    "    value <- LongtoWide(data, c(\"Imbalance\"))\n",
    "    value <- value [date == day,]\n",
    "    value <- value [, hour+2, with=FALSE]\n",
    "    \n",
    "    date_inf <- LongtoWide(data, c(\"Label\"))\n",
    "    date_inf <- date_inf[date==day]\n",
    "    date_inf <- date_inf[,1]\n",
    "    date_inf\n",
    "    \n",
    "    result <- cbind(date_inf,sign, value)\n",
    "\n",
    "    setnames(result,c('date','Label','Imbalance'))\n",
    "    result[,Hour := hour]\n",
    "    print(result)\n",
    "    return(result)\n",
    "    \n",
    "}"
   ]
  },
  {
   "cell_type": "code",
   "execution_count": 43,
   "id": "b850017f",
   "metadata": {},
   "outputs": [
    {
     "name": "stdout",
     "output_type": "stream",
     "text": [
      "         date Label Imbalance Hour\n",
      "1: 2019-01-09     1    143.57    4\n",
      "         date Label Imbalance Hour\n",
      "1: 2019-01-03     1   1069.62    4\n"
     ]
    }
   ],
   "source": [
    "deneme2 <- Baselineday('2019-01-10', 4)\n",
    "deneme3 <- Baselineweek(20190110, 4)"
   ]
  },
  {
   "cell_type": "code",
   "execution_count": 50,
   "id": "67b86c2e",
   "metadata": {},
   "outputs": [
    {
     "data": {
      "text/html": [
       "23"
      ],
      "text/latex": [
       "23"
      ],
      "text/markdown": [
       "23"
      ],
      "text/plain": [
       "[1] 23"
      ]
     },
     "metadata": {},
     "output_type": "display_data"
    },
    {
     "data": {
      "text/html": [
       "<time datetime=\"2019-01-01\">2019-01-01</time>"
      ],
      "text/latex": [
       "2019-01-01"
      ],
      "text/markdown": [
       "2019-01-01"
      ],
      "text/plain": [
       "[1] \"2019-01-01\""
      ]
     },
     "metadata": {},
     "output_type": "display_data"
    }
   ],
   "source": [
    "h\n",
    "dates[1]"
   ]
  },
  {
   "cell_type": "code",
   "execution_count": 58,
   "id": "6a40d733",
   "metadata": {},
   "outputs": [
    {
     "name": "stdout",
     "output_type": "stream",
     "text": [
      "         date Label Imbalance Hour\n",
      "1: 2019-01-01    -1   -376.55   23\n"
     ]
    },
    {
     "data": {
      "text/html": [
       "<table class=\"dataframe\">\n",
       "<caption>A data.table: 1 × 4</caption>\n",
       "<thead>\n",
       "\t<tr><th scope=col>date</th><th scope=col>Label</th><th scope=col>Imbalance</th><th scope=col>Hour</th></tr>\n",
       "\t<tr><th scope=col>&lt;date&gt;</th><th scope=col>&lt;dbl&gt;</th><th scope=col>&lt;dbl&gt;</th><th scope=col>&lt;int&gt;</th></tr>\n",
       "</thead>\n",
       "<tbody>\n",
       "\t<tr><td>2019-01-01</td><td>-1</td><td>-376.55</td><td>23</td></tr>\n",
       "</tbody>\n",
       "</table>\n"
      ],
      "text/latex": [
       "A data.table: 1 × 4\n",
       "\\begin{tabular}{llll}\n",
       " date & Label & Imbalance & Hour\\\\\n",
       " <date> & <dbl> & <dbl> & <int>\\\\\n",
       "\\hline\n",
       "\t 2019-01-01 & -1 & -376.55 & 23\\\\\n",
       "\\end{tabular}\n"
      ],
      "text/markdown": [
       "\n",
       "A data.table: 1 × 4\n",
       "\n",
       "| date &lt;date&gt; | Label &lt;dbl&gt; | Imbalance &lt;dbl&gt; | Hour &lt;int&gt; |\n",
       "|---|---|---|---|\n",
       "| 2019-01-01 | -1 | -376.55 | 23 |\n",
       "\n"
      ],
      "text/plain": [
       "  date       Label Imbalance Hour\n",
       "1 2019-01-01 -1    -376.55   23  "
      ]
     },
     "metadata": {},
     "output_type": "display_data"
    }
   ],
   "source": [
    "Baselineday(dates[2],h)\n"
   ]
  },
  {
   "cell_type": "code",
   "execution_count": 102,
   "id": "c61f7f2b",
   "metadata": {},
   "outputs": [],
   "source": [
    "CreateWindows <- function(dataset, col_names, t, p) {\n",
    "    t = t-3\n",
    "    time_indices = seq(t - p + 1,t)\n",
    "    time_indices = time_indices + (time_indices<0)*(24)\n",
    "    \n",
    "    t = t-3\n",
    "    time_indices = seq(t - p + 1,t)\n",
    "    neg_time_indices = which(time_indices<0)\n",
    "    pos_time_indices = which(time_indices>=0)\n",
    "    time_indices = time_indices + (time_indices<0)*(24)\n",
    "\n",
    "    data_wide <- LongtoWide(dataset[hour %in%  time_indices[pos_time_indices]], col_names)\n",
    "    \n",
    "    if(length(neg_time_indices) > 0){\n",
    "        prev_dat <- LongtoWide(dataset[hour %in% time_indices[neg_time_indices],], col_names)\n",
    "        #dcast(dataset[hour %in% time_indices[neg_time_indices],], date ~ (hour-24), value.var = col_names)\n",
    "        prev_dat[,date := date + days(1)]\n",
    "\n",
    "        Result <- merge(prev_dat, data_wide, by.x = c(\"date\",\"Type\"), by.y =  c(\"date\",\"Type\"))\n",
    "                        ##by.y = c(\"date\",\"Type\"))\n",
    "        return(Result)\n",
    "    } else{\n",
    "        Result <- data_wide\n",
    "        return(Result)}\n",
    "}"
   ]
  },
  {
   "cell_type": "code",
   "execution_count": 106,
   "id": "cc932eb7",
   "metadata": {},
   "outputs": [
    {
     "name": "stdout",
     "output_type": "stream",
     "text": [
      "[1] \"Imbalance\" \"Label\"    \n",
      "[1] \"Imbalance\" \"Label\"    \n",
      "[1] \"Imbalance\" \"Label\"    \n"
     ]
    },
    {
     "data": {
      "text/html": [
       "<table class=\"dataframe\">\n",
       "<caption>A data.table: 6 × 17</caption>\n",
       "<thead>\n",
       "\t<tr><th scope=col>date</th><th scope=col>Type</th><th scope=col>16</th><th scope=col>17</th><th scope=col>18</th><th scope=col>19</th><th scope=col>20</th><th scope=col>21</th><th scope=col>22</th><th scope=col>23</th><th scope=col>0</th><th scope=col>1</th><th scope=col>2</th><th scope=col>3</th><th scope=col>4</th><th scope=col>5</th><th scope=col>6</th></tr>\n",
       "\t<tr><th scope=col>&lt;date&gt;</th><th scope=col>&lt;chr&gt;</th><th scope=col>&lt;dbl&gt;</th><th scope=col>&lt;dbl&gt;</th><th scope=col>&lt;dbl&gt;</th><th scope=col>&lt;dbl&gt;</th><th scope=col>&lt;dbl&gt;</th><th scope=col>&lt;dbl&gt;</th><th scope=col>&lt;dbl&gt;</th><th scope=col>&lt;dbl&gt;</th><th scope=col>&lt;dbl&gt;</th><th scope=col>&lt;dbl&gt;</th><th scope=col>&lt;dbl&gt;</th><th scope=col>&lt;dbl&gt;</th><th scope=col>&lt;dbl&gt;</th><th scope=col>&lt;dbl&gt;</th><th scope=col>&lt;dbl&gt;</th></tr>\n",
       "</thead>\n",
       "<tbody>\n",
       "\t<tr><td>2019-01-02</td><td>Imbalance</td><td>485.57</td><td>1215.90</td><td>1228.83</td><td>-635.47</td><td> 643.0</td><td>1120.65</td><td> 531.92</td><td>-376.55</td><td>1420.89</td><td>1852.23</td><td>1796.00</td><td>1667.97</td><td>1756.57</td><td>1988.00</td><td>2646.78</td></tr>\n",
       "\t<tr><td>2019-01-02</td><td>Label    </td><td>  1.00</td><td>   1.00</td><td>   1.00</td><td>  -1.00</td><td>   1.0</td><td>   1.00</td><td>   1.00</td><td>  -1.00</td><td>   1.00</td><td>   1.00</td><td>   1.00</td><td>   1.00</td><td>   1.00</td><td>   1.00</td><td>   1.00</td></tr>\n",
       "\t<tr><td>2019-01-03</td><td>Imbalance</td><td>105.85</td><td> 140.00</td><td> 903.42</td><td>1280.30</td><td>1571.0</td><td>1299.67</td><td>1102.00</td><td>1319.62</td><td>2511.90</td><td>1154.61</td><td> 876.40</td><td>1129.00</td><td>1069.62</td><td>1423.00</td><td>1378.60</td></tr>\n",
       "\t<tr><td>2019-01-03</td><td>Label    </td><td>  1.00</td><td>   1.00</td><td>   1.00</td><td>   1.00</td><td>   1.0</td><td>   1.00</td><td>   1.00</td><td>   1.00</td><td>   1.00</td><td>   1.00</td><td>   1.00</td><td>   1.00</td><td>   1.00</td><td>   1.00</td><td>   1.00</td></tr>\n",
       "\t<tr><td>2019-01-04</td><td>Imbalance</td><td>764.34</td><td>2052.93</td><td> 691.75</td><td> 415.00</td><td> 912.9</td><td>1273.93</td><td> 901.72</td><td> 567.52</td><td>1938.08</td><td>1020.03</td><td>1037.73</td><td>1095.75</td><td>1216.52</td><td> 967.25</td><td>1199.08</td></tr>\n",
       "\t<tr><td>2019-01-04</td><td>Label    </td><td>  1.00</td><td>   1.00</td><td>   1.00</td><td>   1.00</td><td>   1.0</td><td>   1.00</td><td>   1.00</td><td>   1.00</td><td>   1.00</td><td>   1.00</td><td>   1.00</td><td>   1.00</td><td>   1.00</td><td>   1.00</td><td>   1.00</td></tr>\n",
       "</tbody>\n",
       "</table>\n"
      ],
      "text/latex": [
       "A data.table: 6 × 17\n",
       "\\begin{tabular}{lllllllllllllllll}\n",
       " date & Type & 16 & 17 & 18 & 19 & 20 & 21 & 22 & 23 & 0 & 1 & 2 & 3 & 4 & 5 & 6\\\\\n",
       " <date> & <chr> & <dbl> & <dbl> & <dbl> & <dbl> & <dbl> & <dbl> & <dbl> & <dbl> & <dbl> & <dbl> & <dbl> & <dbl> & <dbl> & <dbl> & <dbl>\\\\\n",
       "\\hline\n",
       "\t 2019-01-02 & Imbalance & 485.57 & 1215.90 & 1228.83 & -635.47 &  643.0 & 1120.65 &  531.92 & -376.55 & 1420.89 & 1852.23 & 1796.00 & 1667.97 & 1756.57 & 1988.00 & 2646.78\\\\\n",
       "\t 2019-01-02 & Label     &   1.00 &    1.00 &    1.00 &   -1.00 &    1.0 &    1.00 &    1.00 &   -1.00 &    1.00 &    1.00 &    1.00 &    1.00 &    1.00 &    1.00 &    1.00\\\\\n",
       "\t 2019-01-03 & Imbalance & 105.85 &  140.00 &  903.42 & 1280.30 & 1571.0 & 1299.67 & 1102.00 & 1319.62 & 2511.90 & 1154.61 &  876.40 & 1129.00 & 1069.62 & 1423.00 & 1378.60\\\\\n",
       "\t 2019-01-03 & Label     &   1.00 &    1.00 &    1.00 &    1.00 &    1.0 &    1.00 &    1.00 &    1.00 &    1.00 &    1.00 &    1.00 &    1.00 &    1.00 &    1.00 &    1.00\\\\\n",
       "\t 2019-01-04 & Imbalance & 764.34 & 2052.93 &  691.75 &  415.00 &  912.9 & 1273.93 &  901.72 &  567.52 & 1938.08 & 1020.03 & 1037.73 & 1095.75 & 1216.52 &  967.25 & 1199.08\\\\\n",
       "\t 2019-01-04 & Label     &   1.00 &    1.00 &    1.00 &    1.00 &    1.0 &    1.00 &    1.00 &    1.00 &    1.00 &    1.00 &    1.00 &    1.00 &    1.00 &    1.00 &    1.00\\\\\n",
       "\\end{tabular}\n"
      ],
      "text/markdown": [
       "\n",
       "A data.table: 6 × 17\n",
       "\n",
       "| date &lt;date&gt; | Type &lt;chr&gt; | 16 &lt;dbl&gt; | 17 &lt;dbl&gt; | 18 &lt;dbl&gt; | 19 &lt;dbl&gt; | 20 &lt;dbl&gt; | 21 &lt;dbl&gt; | 22 &lt;dbl&gt; | 23 &lt;dbl&gt; | 0 &lt;dbl&gt; | 1 &lt;dbl&gt; | 2 &lt;dbl&gt; | 3 &lt;dbl&gt; | 4 &lt;dbl&gt; | 5 &lt;dbl&gt; | 6 &lt;dbl&gt; |\n",
       "|---|---|---|---|---|---|---|---|---|---|---|---|---|---|---|---|---|\n",
       "| 2019-01-02 | Imbalance | 485.57 | 1215.90 | 1228.83 | -635.47 |  643.0 | 1120.65 |  531.92 | -376.55 | 1420.89 | 1852.23 | 1796.00 | 1667.97 | 1756.57 | 1988.00 | 2646.78 |\n",
       "| 2019-01-02 | Label     |   1.00 |    1.00 |    1.00 |   -1.00 |    1.0 |    1.00 |    1.00 |   -1.00 |    1.00 |    1.00 |    1.00 |    1.00 |    1.00 |    1.00 |    1.00 |\n",
       "| 2019-01-03 | Imbalance | 105.85 |  140.00 |  903.42 | 1280.30 | 1571.0 | 1299.67 | 1102.00 | 1319.62 | 2511.90 | 1154.61 |  876.40 | 1129.00 | 1069.62 | 1423.00 | 1378.60 |\n",
       "| 2019-01-03 | Label     |   1.00 |    1.00 |    1.00 |    1.00 |    1.0 |    1.00 |    1.00 |    1.00 |    1.00 |    1.00 |    1.00 |    1.00 |    1.00 |    1.00 |    1.00 |\n",
       "| 2019-01-04 | Imbalance | 764.34 | 2052.93 |  691.75 |  415.00 |  912.9 | 1273.93 |  901.72 |  567.52 | 1938.08 | 1020.03 | 1037.73 | 1095.75 | 1216.52 |  967.25 | 1199.08 |\n",
       "| 2019-01-04 | Label     |   1.00 |    1.00 |    1.00 |    1.00 |    1.0 |    1.00 |    1.00 |    1.00 |    1.00 |    1.00 |    1.00 |    1.00 |    1.00 |    1.00 |    1.00 |\n",
       "\n"
      ],
      "text/plain": [
       "  date       Type      16     17      18      19      20     21      22     \n",
       "1 2019-01-02 Imbalance 485.57 1215.90 1228.83 -635.47  643.0 1120.65  531.92\n",
       "2 2019-01-02 Label       1.00    1.00    1.00   -1.00    1.0    1.00    1.00\n",
       "3 2019-01-03 Imbalance 105.85  140.00  903.42 1280.30 1571.0 1299.67 1102.00\n",
       "4 2019-01-03 Label       1.00    1.00    1.00    1.00    1.0    1.00    1.00\n",
       "5 2019-01-04 Imbalance 764.34 2052.93  691.75  415.00  912.9 1273.93  901.72\n",
       "6 2019-01-04 Label       1.00    1.00    1.00    1.00    1.0    1.00    1.00\n",
       "  23      0       1       2       3       4       5       6      \n",
       "1 -376.55 1420.89 1852.23 1796.00 1667.97 1756.57 1988.00 2646.78\n",
       "2   -1.00    1.00    1.00    1.00    1.00    1.00    1.00    1.00\n",
       "3 1319.62 2511.90 1154.61  876.40 1129.00 1069.62 1423.00 1378.60\n",
       "4    1.00    1.00    1.00    1.00    1.00    1.00    1.00    1.00\n",
       "5  567.52 1938.08 1020.03 1037.73 1095.75 1216.52  967.25 1199.08\n",
       "6    1.00    1.00    1.00    1.00    1.00    1.00    1.00    1.00"
      ]
     },
     "metadata": {},
     "output_type": "display_data"
    }
   ],
   "source": [
    "deneme <- CreateWindows(data,c(\"Imbalance\", \"Label\"),12,15)\n",
    "head(deneme)"
   ]
  },
  {
   "cell_type": "markdown",
   "id": "dc948b8c",
   "metadata": {},
   "source": [
    "t = 12\n",
    "p = 15\n",
    "\n",
    "\n",
    "\n",
    "t = t-3\n",
    "time_indices = seq(t - p + 1,t)\n",
    "neg_time_indices = which(time_indices<0)\n",
    "pos_time_indices = which(time_indices>=0)\n",
    "time_indices = time_indices + (time_indices<0)*(24)\n",
    "\n",
    "data_wide <- LongtoWide(data[hour %in%  time_indices[pos_time_indices]], \"Imbalance\")\n",
    "\n",
    "if(length(neg_time_indices) > 0){\n",
    "    prev_dat <- dcast(data[hour %in% time_indices[neg_time_indices],], date ~ (hour-24), value.var = \"Imbalance\")\n",
    "    prev_dat[,date := date + days(1)]\n",
    "    head(prev_dat)\n",
    "    \n",
    "    Result <- merge(prev_dat, data_wide, by.x = \"date\", by.y = \"date\")\n",
    "} else{\n",
    "    Result <- data_wide\n",
    "}\n",
    "\n",
    "head(Result)\n",
    "\n",
    "\n",
    "\n"
   ]
  },
  {
   "cell_type": "markdown",
   "id": "8f6caca4",
   "metadata": {},
   "source": [
    "Window Size = p  \n",
    "Column Names = Column_Names --> Vector of columns to be converted  \n",
    "Target Hour = t  \n",
    "DataSet"
   ]
  },
  {
   "cell_type": "markdown",
   "id": "7d842dcc",
   "metadata": {},
   "source": [
    "train_wide <- dcast(train,date ~ hour, value.var = \"NetImbSign\")\n",
    "prev_dat <- dcast(train, date ~ (hour-24), value.var = \"NetImbSign\")\n",
    "prev_dat[,date := date + days(1)]\n",
    "Imbalance_Sign <- merge(prev_dat, train_wide, by.x = \"date\", by.y = \"date\")\n",
    "\n",
    "--Sign of the net imbalances\n",
    "train_wide_2 <- dcast(train,date ~ hour, value.var = \"net_imb\")\n",
    "prev_dat_2 <- dcast(train, date ~ (hour-24), value.var = \"net_imb\")\n",
    "prev_dat_2[,date := date + days(1)]\n",
    "Imbalance <- merge(prev_dat_2, train_wide_2, by.x = \"date\", by.y = \"date\")"
   ]
  }
 ],
 "metadata": {
  "kernelspec": {
   "display_name": "R",
   "language": "R",
   "name": "ir"
  },
  "language_info": {
   "codemirror_mode": "r",
   "file_extension": ".r",
   "mimetype": "text/x-r-source",
   "name": "R",
   "pygments_lexer": "r",
   "version": "3.6.1"
  }
 },
 "nbformat": 4,
 "nbformat_minor": 5
}
